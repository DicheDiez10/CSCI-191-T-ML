{
  "nbformat": 4,
  "nbformat_minor": 0,
  "metadata": {
    "colab": {
      "name": "KaggleTitanic.ipynb",
      "provenance": [],
      "collapsed_sections": [],
      "toc_visible": true,
      "include_colab_link": true
    },
    "kernelspec": {
      "name": "python3",
      "display_name": "Python 3"
    },
    "language_info": {
      "name": "python"
    }
  },
  "cells": [
    {
      "cell_type": "markdown",
      "metadata": {
        "id": "view-in-github",
        "colab_type": "text"
      },
      "source": [
        "<a href=\"https://colab.research.google.com/github/DicheDiez10/CSCI-191-T-ML/blob/main/KaggleTitanic/KaggleTitanic.ipynb\" target=\"_parent\"><img src=\"https://colab.research.google.com/assets/colab-badge.svg\" alt=\"Open In Colab\"/></a>"
      ]
    },
    {
      "cell_type": "markdown",
      "metadata": {
        "id": "aQZpNqEEMPUO"
      },
      "source": [
        "###Importing"
      ]
    },
    {
      "cell_type": "markdown",
      "metadata": {
        "id": "CXFJn2bgGQUy"
      },
      "source": [
        "####Importing the libraries we will use"
      ]
    },
    {
      "cell_type": "code",
      "metadata": {
        "id": "-DJsGA5Nwh2E"
      },
      "source": [
        "import numpy as np \n",
        "import pandas as pd \n",
        "import seaborn as sns\n",
        "import matplotlib.pyplot as plt \n",
        "\n",
        "from sklearn.linear_model import LogisticRegression, Perceptron\n",
        "from sklearn.neighbors import KNeighborsClassifier\n",
        "from sklearn.neural_network import MLPClassifier\n",
        "from sklearn.svm import SVC, LinearSVC\n",
        "\n",
        "#Hyperparameter tuning\n",
        "from sklearn.model_selection import GridSearchCV\n",
        "\n",
        "from sklearn.metrics import accuracy_score\n",
        "\n",
        "from collections import Counter\n",
        "\n",
        "import warnings\n",
        "warnings.filterwarnings('ignore')"
      ],
      "execution_count": 1,
      "outputs": []
    },
    {
      "cell_type": "markdown",
      "metadata": {
        "id": "dbdZgvIUGCAz"
      },
      "source": [
        "####Import the 3 data sets that are given via https://www.kaggle.com/c/titanic/data"
      ]
    },
    {
      "cell_type": "code",
      "metadata": {
        "id": "ufZYLMcnFqQL"
      },
      "source": [
        "#Reading the files given:\n",
        "train_df             = pd.read_csv(\"https://github.com/DicheDiez10/CSCI-191-T-ML/raw/main/KaggleTitanic/TitanicTrain.csv\")\n",
        "test_df              = pd.read_csv(\"https://github.com/DicheDiez10/CSCI-191-T-ML/raw/main/KaggleTitanic/TitanicTest.csv\")\n",
        "sample_submission_df = pd.read_csv(\"https://github.com/DicheDiez10/CSCI-191-T-ML/raw/main/KaggleTitanic/TitanicSampleSubmission.csv\")"
      ],
      "execution_count": 2,
      "outputs": []
    },
    {
      "cell_type": "code",
      "metadata": {
        "colab": {
          "base_uri": "https://localhost:8080/",
          "height": 363
        },
        "id": "QoBIYFyEGf3s",
        "outputId": "cfbf70c4-f499-41f8-da8f-657f14dfa323"
      },
      "source": [
        "#Output verification of datasets imported and read\n",
        "train_df.head(10)"
      ],
      "execution_count": 3,
      "outputs": [
        {
          "output_type": "execute_result",
          "data": {
            "text/html": [
              "<div>\n",
              "<style scoped>\n",
              "    .dataframe tbody tr th:only-of-type {\n",
              "        vertical-align: middle;\n",
              "    }\n",
              "\n",
              "    .dataframe tbody tr th {\n",
              "        vertical-align: top;\n",
              "    }\n",
              "\n",
              "    .dataframe thead th {\n",
              "        text-align: right;\n",
              "    }\n",
              "</style>\n",
              "<table border=\"1\" class=\"dataframe\">\n",
              "  <thead>\n",
              "    <tr style=\"text-align: right;\">\n",
              "      <th></th>\n",
              "      <th>PassengerId</th>\n",
              "      <th>Survived</th>\n",
              "      <th>Pclass</th>\n",
              "      <th>Name</th>\n",
              "      <th>Sex</th>\n",
              "      <th>Age</th>\n",
              "      <th>SibSp</th>\n",
              "      <th>Parch</th>\n",
              "      <th>Ticket</th>\n",
              "      <th>Fare</th>\n",
              "      <th>Cabin</th>\n",
              "      <th>Embarked</th>\n",
              "    </tr>\n",
              "  </thead>\n",
              "  <tbody>\n",
              "    <tr>\n",
              "      <th>0</th>\n",
              "      <td>1</td>\n",
              "      <td>0</td>\n",
              "      <td>3</td>\n",
              "      <td>Braund, Mr. Owen Harris</td>\n",
              "      <td>male</td>\n",
              "      <td>22.0</td>\n",
              "      <td>1</td>\n",
              "      <td>0</td>\n",
              "      <td>A/5 21171</td>\n",
              "      <td>7.2500</td>\n",
              "      <td>NaN</td>\n",
              "      <td>S</td>\n",
              "    </tr>\n",
              "    <tr>\n",
              "      <th>1</th>\n",
              "      <td>2</td>\n",
              "      <td>1</td>\n",
              "      <td>1</td>\n",
              "      <td>Cumings, Mrs. John Bradley (Florence Briggs Th...</td>\n",
              "      <td>female</td>\n",
              "      <td>38.0</td>\n",
              "      <td>1</td>\n",
              "      <td>0</td>\n",
              "      <td>PC 17599</td>\n",
              "      <td>71.2833</td>\n",
              "      <td>C85</td>\n",
              "      <td>C</td>\n",
              "    </tr>\n",
              "    <tr>\n",
              "      <th>2</th>\n",
              "      <td>3</td>\n",
              "      <td>1</td>\n",
              "      <td>3</td>\n",
              "      <td>Heikkinen, Miss. Laina</td>\n",
              "      <td>female</td>\n",
              "      <td>26.0</td>\n",
              "      <td>0</td>\n",
              "      <td>0</td>\n",
              "      <td>STON/O2. 3101282</td>\n",
              "      <td>7.9250</td>\n",
              "      <td>NaN</td>\n",
              "      <td>S</td>\n",
              "    </tr>\n",
              "    <tr>\n",
              "      <th>3</th>\n",
              "      <td>4</td>\n",
              "      <td>1</td>\n",
              "      <td>1</td>\n",
              "      <td>Futrelle, Mrs. Jacques Heath (Lily May Peel)</td>\n",
              "      <td>female</td>\n",
              "      <td>35.0</td>\n",
              "      <td>1</td>\n",
              "      <td>0</td>\n",
              "      <td>113803</td>\n",
              "      <td>53.1000</td>\n",
              "      <td>C123</td>\n",
              "      <td>S</td>\n",
              "    </tr>\n",
              "    <tr>\n",
              "      <th>4</th>\n",
              "      <td>5</td>\n",
              "      <td>0</td>\n",
              "      <td>3</td>\n",
              "      <td>Allen, Mr. William Henry</td>\n",
              "      <td>male</td>\n",
              "      <td>35.0</td>\n",
              "      <td>0</td>\n",
              "      <td>0</td>\n",
              "      <td>373450</td>\n",
              "      <td>8.0500</td>\n",
              "      <td>NaN</td>\n",
              "      <td>S</td>\n",
              "    </tr>\n",
              "    <tr>\n",
              "      <th>5</th>\n",
              "      <td>6</td>\n",
              "      <td>0</td>\n",
              "      <td>3</td>\n",
              "      <td>Moran, Mr. James</td>\n",
              "      <td>male</td>\n",
              "      <td>NaN</td>\n",
              "      <td>0</td>\n",
              "      <td>0</td>\n",
              "      <td>330877</td>\n",
              "      <td>8.4583</td>\n",
              "      <td>NaN</td>\n",
              "      <td>Q</td>\n",
              "    </tr>\n",
              "    <tr>\n",
              "      <th>6</th>\n",
              "      <td>7</td>\n",
              "      <td>0</td>\n",
              "      <td>1</td>\n",
              "      <td>McCarthy, Mr. Timothy J</td>\n",
              "      <td>male</td>\n",
              "      <td>54.0</td>\n",
              "      <td>0</td>\n",
              "      <td>0</td>\n",
              "      <td>17463</td>\n",
              "      <td>51.8625</td>\n",
              "      <td>E46</td>\n",
              "      <td>S</td>\n",
              "    </tr>\n",
              "    <tr>\n",
              "      <th>7</th>\n",
              "      <td>8</td>\n",
              "      <td>0</td>\n",
              "      <td>3</td>\n",
              "      <td>Palsson, Master. Gosta Leonard</td>\n",
              "      <td>male</td>\n",
              "      <td>2.0</td>\n",
              "      <td>3</td>\n",
              "      <td>1</td>\n",
              "      <td>349909</td>\n",
              "      <td>21.0750</td>\n",
              "      <td>NaN</td>\n",
              "      <td>S</td>\n",
              "    </tr>\n",
              "    <tr>\n",
              "      <th>8</th>\n",
              "      <td>9</td>\n",
              "      <td>1</td>\n",
              "      <td>3</td>\n",
              "      <td>Johnson, Mrs. Oscar W (Elisabeth Vilhelmina Berg)</td>\n",
              "      <td>female</td>\n",
              "      <td>27.0</td>\n",
              "      <td>0</td>\n",
              "      <td>2</td>\n",
              "      <td>347742</td>\n",
              "      <td>11.1333</td>\n",
              "      <td>NaN</td>\n",
              "      <td>S</td>\n",
              "    </tr>\n",
              "    <tr>\n",
              "      <th>9</th>\n",
              "      <td>10</td>\n",
              "      <td>1</td>\n",
              "      <td>2</td>\n",
              "      <td>Nasser, Mrs. Nicholas (Adele Achem)</td>\n",
              "      <td>female</td>\n",
              "      <td>14.0</td>\n",
              "      <td>1</td>\n",
              "      <td>0</td>\n",
              "      <td>237736</td>\n",
              "      <td>30.0708</td>\n",
              "      <td>NaN</td>\n",
              "      <td>C</td>\n",
              "    </tr>\n",
              "  </tbody>\n",
              "</table>\n",
              "</div>"
            ],
            "text/plain": [
              "   PassengerId  Survived  Pclass  ...     Fare Cabin  Embarked\n",
              "0            1         0       3  ...   7.2500   NaN         S\n",
              "1            2         1       1  ...  71.2833   C85         C\n",
              "2            3         1       3  ...   7.9250   NaN         S\n",
              "3            4         1       1  ...  53.1000  C123         S\n",
              "4            5         0       3  ...   8.0500   NaN         S\n",
              "5            6         0       3  ...   8.4583   NaN         Q\n",
              "6            7         0       1  ...  51.8625   E46         S\n",
              "7            8         0       3  ...  21.0750   NaN         S\n",
              "8            9         1       3  ...  11.1333   NaN         S\n",
              "9           10         1       2  ...  30.0708   NaN         C\n",
              "\n",
              "[10 rows x 12 columns]"
            ]
          },
          "metadata": {},
          "execution_count": 3
        }
      ]
    },
    {
      "cell_type": "markdown",
      "metadata": {
        "id": "EUNGq52KHbZ6"
      },
      "source": [
        "Note that the 'Test' set is missing the 'Survived' Column as it is the target/response variable that is in question."
      ]
    },
    {
      "cell_type": "code",
      "metadata": {
        "colab": {
          "base_uri": "https://localhost:8080/",
          "height": 363
        },
        "id": "UA-WjC92HGVE",
        "outputId": "1f48a810-ab71-4d9e-e8c8-2b696309ae4f"
      },
      "source": [
        "test_df.head(10)"
      ],
      "execution_count": 4,
      "outputs": [
        {
          "output_type": "execute_result",
          "data": {
            "text/html": [
              "<div>\n",
              "<style scoped>\n",
              "    .dataframe tbody tr th:only-of-type {\n",
              "        vertical-align: middle;\n",
              "    }\n",
              "\n",
              "    .dataframe tbody tr th {\n",
              "        vertical-align: top;\n",
              "    }\n",
              "\n",
              "    .dataframe thead th {\n",
              "        text-align: right;\n",
              "    }\n",
              "</style>\n",
              "<table border=\"1\" class=\"dataframe\">\n",
              "  <thead>\n",
              "    <tr style=\"text-align: right;\">\n",
              "      <th></th>\n",
              "      <th>PassengerId</th>\n",
              "      <th>Pclass</th>\n",
              "      <th>Name</th>\n",
              "      <th>Sex</th>\n",
              "      <th>Age</th>\n",
              "      <th>SibSp</th>\n",
              "      <th>Parch</th>\n",
              "      <th>Ticket</th>\n",
              "      <th>Fare</th>\n",
              "      <th>Cabin</th>\n",
              "      <th>Embarked</th>\n",
              "    </tr>\n",
              "  </thead>\n",
              "  <tbody>\n",
              "    <tr>\n",
              "      <th>0</th>\n",
              "      <td>892</td>\n",
              "      <td>3</td>\n",
              "      <td>Kelly, Mr. James</td>\n",
              "      <td>male</td>\n",
              "      <td>34.5</td>\n",
              "      <td>0</td>\n",
              "      <td>0</td>\n",
              "      <td>330911</td>\n",
              "      <td>7.8292</td>\n",
              "      <td>NaN</td>\n",
              "      <td>Q</td>\n",
              "    </tr>\n",
              "    <tr>\n",
              "      <th>1</th>\n",
              "      <td>893</td>\n",
              "      <td>3</td>\n",
              "      <td>Wilkes, Mrs. James (Ellen Needs)</td>\n",
              "      <td>female</td>\n",
              "      <td>47.0</td>\n",
              "      <td>1</td>\n",
              "      <td>0</td>\n",
              "      <td>363272</td>\n",
              "      <td>7.0000</td>\n",
              "      <td>NaN</td>\n",
              "      <td>S</td>\n",
              "    </tr>\n",
              "    <tr>\n",
              "      <th>2</th>\n",
              "      <td>894</td>\n",
              "      <td>2</td>\n",
              "      <td>Myles, Mr. Thomas Francis</td>\n",
              "      <td>male</td>\n",
              "      <td>62.0</td>\n",
              "      <td>0</td>\n",
              "      <td>0</td>\n",
              "      <td>240276</td>\n",
              "      <td>9.6875</td>\n",
              "      <td>NaN</td>\n",
              "      <td>Q</td>\n",
              "    </tr>\n",
              "    <tr>\n",
              "      <th>3</th>\n",
              "      <td>895</td>\n",
              "      <td>3</td>\n",
              "      <td>Wirz, Mr. Albert</td>\n",
              "      <td>male</td>\n",
              "      <td>27.0</td>\n",
              "      <td>0</td>\n",
              "      <td>0</td>\n",
              "      <td>315154</td>\n",
              "      <td>8.6625</td>\n",
              "      <td>NaN</td>\n",
              "      <td>S</td>\n",
              "    </tr>\n",
              "    <tr>\n",
              "      <th>4</th>\n",
              "      <td>896</td>\n",
              "      <td>3</td>\n",
              "      <td>Hirvonen, Mrs. Alexander (Helga E Lindqvist)</td>\n",
              "      <td>female</td>\n",
              "      <td>22.0</td>\n",
              "      <td>1</td>\n",
              "      <td>1</td>\n",
              "      <td>3101298</td>\n",
              "      <td>12.2875</td>\n",
              "      <td>NaN</td>\n",
              "      <td>S</td>\n",
              "    </tr>\n",
              "    <tr>\n",
              "      <th>5</th>\n",
              "      <td>897</td>\n",
              "      <td>3</td>\n",
              "      <td>Svensson, Mr. Johan Cervin</td>\n",
              "      <td>male</td>\n",
              "      <td>14.0</td>\n",
              "      <td>0</td>\n",
              "      <td>0</td>\n",
              "      <td>7538</td>\n",
              "      <td>9.2250</td>\n",
              "      <td>NaN</td>\n",
              "      <td>S</td>\n",
              "    </tr>\n",
              "    <tr>\n",
              "      <th>6</th>\n",
              "      <td>898</td>\n",
              "      <td>3</td>\n",
              "      <td>Connolly, Miss. Kate</td>\n",
              "      <td>female</td>\n",
              "      <td>30.0</td>\n",
              "      <td>0</td>\n",
              "      <td>0</td>\n",
              "      <td>330972</td>\n",
              "      <td>7.6292</td>\n",
              "      <td>NaN</td>\n",
              "      <td>Q</td>\n",
              "    </tr>\n",
              "    <tr>\n",
              "      <th>7</th>\n",
              "      <td>899</td>\n",
              "      <td>2</td>\n",
              "      <td>Caldwell, Mr. Albert Francis</td>\n",
              "      <td>male</td>\n",
              "      <td>26.0</td>\n",
              "      <td>1</td>\n",
              "      <td>1</td>\n",
              "      <td>248738</td>\n",
              "      <td>29.0000</td>\n",
              "      <td>NaN</td>\n",
              "      <td>S</td>\n",
              "    </tr>\n",
              "    <tr>\n",
              "      <th>8</th>\n",
              "      <td>900</td>\n",
              "      <td>3</td>\n",
              "      <td>Abrahim, Mrs. Joseph (Sophie Halaut Easu)</td>\n",
              "      <td>female</td>\n",
              "      <td>18.0</td>\n",
              "      <td>0</td>\n",
              "      <td>0</td>\n",
              "      <td>2657</td>\n",
              "      <td>7.2292</td>\n",
              "      <td>NaN</td>\n",
              "      <td>C</td>\n",
              "    </tr>\n",
              "    <tr>\n",
              "      <th>9</th>\n",
              "      <td>901</td>\n",
              "      <td>3</td>\n",
              "      <td>Davies, Mr. John Samuel</td>\n",
              "      <td>male</td>\n",
              "      <td>21.0</td>\n",
              "      <td>2</td>\n",
              "      <td>0</td>\n",
              "      <td>A/4 48871</td>\n",
              "      <td>24.1500</td>\n",
              "      <td>NaN</td>\n",
              "      <td>S</td>\n",
              "    </tr>\n",
              "  </tbody>\n",
              "</table>\n",
              "</div>"
            ],
            "text/plain": [
              "   PassengerId  Pclass  ... Cabin Embarked\n",
              "0          892       3  ...   NaN        Q\n",
              "1          893       3  ...   NaN        S\n",
              "2          894       2  ...   NaN        Q\n",
              "3          895       3  ...   NaN        S\n",
              "4          896       3  ...   NaN        S\n",
              "5          897       3  ...   NaN        S\n",
              "6          898       3  ...   NaN        Q\n",
              "7          899       2  ...   NaN        S\n",
              "8          900       3  ...   NaN        C\n",
              "9          901       3  ...   NaN        S\n",
              "\n",
              "[10 rows x 11 columns]"
            ]
          },
          "metadata": {},
          "execution_count": 4
        }
      ]
    },
    {
      "cell_type": "code",
      "metadata": {
        "colab": {
          "base_uri": "https://localhost:8080/",
          "height": 363
        },
        "id": "MND5kPExHGbE",
        "outputId": "66c8bc6c-4355-4e9e-c0ee-74a1abe0653e"
      },
      "source": [
        "#Shows the output form: 2 columns = PassengerId and Survived column, with test_df amount of rows.\n",
        "#The shape that is desired.\n",
        "sample_submission_df.head(10)"
      ],
      "execution_count": 5,
      "outputs": [
        {
          "output_type": "execute_result",
          "data": {
            "text/html": [
              "<div>\n",
              "<style scoped>\n",
              "    .dataframe tbody tr th:only-of-type {\n",
              "        vertical-align: middle;\n",
              "    }\n",
              "\n",
              "    .dataframe tbody tr th {\n",
              "        vertical-align: top;\n",
              "    }\n",
              "\n",
              "    .dataframe thead th {\n",
              "        text-align: right;\n",
              "    }\n",
              "</style>\n",
              "<table border=\"1\" class=\"dataframe\">\n",
              "  <thead>\n",
              "    <tr style=\"text-align: right;\">\n",
              "      <th></th>\n",
              "      <th>PassengerId</th>\n",
              "      <th>Survived</th>\n",
              "    </tr>\n",
              "  </thead>\n",
              "  <tbody>\n",
              "    <tr>\n",
              "      <th>0</th>\n",
              "      <td>892</td>\n",
              "      <td>0</td>\n",
              "    </tr>\n",
              "    <tr>\n",
              "      <th>1</th>\n",
              "      <td>893</td>\n",
              "      <td>1</td>\n",
              "    </tr>\n",
              "    <tr>\n",
              "      <th>2</th>\n",
              "      <td>894</td>\n",
              "      <td>0</td>\n",
              "    </tr>\n",
              "    <tr>\n",
              "      <th>3</th>\n",
              "      <td>895</td>\n",
              "      <td>0</td>\n",
              "    </tr>\n",
              "    <tr>\n",
              "      <th>4</th>\n",
              "      <td>896</td>\n",
              "      <td>1</td>\n",
              "    </tr>\n",
              "    <tr>\n",
              "      <th>5</th>\n",
              "      <td>897</td>\n",
              "      <td>0</td>\n",
              "    </tr>\n",
              "    <tr>\n",
              "      <th>6</th>\n",
              "      <td>898</td>\n",
              "      <td>1</td>\n",
              "    </tr>\n",
              "    <tr>\n",
              "      <th>7</th>\n",
              "      <td>899</td>\n",
              "      <td>0</td>\n",
              "    </tr>\n",
              "    <tr>\n",
              "      <th>8</th>\n",
              "      <td>900</td>\n",
              "      <td>1</td>\n",
              "    </tr>\n",
              "    <tr>\n",
              "      <th>9</th>\n",
              "      <td>901</td>\n",
              "      <td>0</td>\n",
              "    </tr>\n",
              "  </tbody>\n",
              "</table>\n",
              "</div>"
            ],
            "text/plain": [
              "   PassengerId  Survived\n",
              "0          892         0\n",
              "1          893         1\n",
              "2          894         0\n",
              "3          895         0\n",
              "4          896         1\n",
              "5          897         0\n",
              "6          898         1\n",
              "7          899         0\n",
              "8          900         1\n",
              "9          901         0"
            ]
          },
          "metadata": {},
          "execution_count": 5
        }
      ]
    },
    {
      "cell_type": "markdown",
      "metadata": {
        "id": "lGdfZmsYK7ES"
      },
      "source": [
        "### Determine information about the data we are using"
      ]
    },
    {
      "cell_type": "markdown",
      "metadata": {
        "id": "78t-cbewMaZZ"
      },
      "source": [
        "####Kaggle data dictionary"
      ]
    },
    {
      "cell_type": "markdown",
      "metadata": {
        "id": "sQ4QLNaGITLI"
      },
      "source": [
        "\n",
        "\n",
        "---\n",
        "*Data Description found on* https://www.kaggle.com/c/titanic/data\n",
        "\n",
        "![Data Description.PNG](data:image/png;base64,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)\n",
        "\n",
        "---"
      ]
    },
    {
      "cell_type": "markdown",
      "metadata": {
        "id": "OoKuF9inMeR0"
      },
      "source": [
        "####Training Data Information"
      ]
    },
    {
      "cell_type": "code",
      "metadata": {
        "colab": {
          "base_uri": "https://localhost:8080/",
          "height": 1000
        },
        "id": "MiBKmRvwxIJx",
        "outputId": "711f983e-6c50-42aa-f5fa-dcb14c0b1e67"
      },
      "source": [
        "# train_df information/description:\n",
        "train_df.info()\n",
        "\n",
        "# check missing values in training data\n",
        "print(\"\\n\\nMissing Values: \")\n",
        "print(train_df.isnull().sum())\n",
        "\n",
        "# describe the inforamtion\n",
        "print(\"\\n\\n\")\n",
        "train_df.describe()"
      ],
      "execution_count": 6,
      "outputs": [
        {
          "output_type": "stream",
          "name": "stdout",
          "text": [
            "<class 'pandas.core.frame.DataFrame'>\n",
            "RangeIndex: 891 entries, 0 to 890\n",
            "Data columns (total 12 columns):\n",
            " #   Column       Non-Null Count  Dtype  \n",
            "---  ------       --------------  -----  \n",
            " 0   PassengerId  891 non-null    int64  \n",
            " 1   Survived     891 non-null    int64  \n",
            " 2   Pclass       891 non-null    int64  \n",
            " 3   Name         891 non-null    object \n",
            " 4   Sex          891 non-null    object \n",
            " 5   Age          714 non-null    float64\n",
            " 6   SibSp        891 non-null    int64  \n",
            " 7   Parch        891 non-null    int64  \n",
            " 8   Ticket       891 non-null    object \n",
            " 9   Fare         891 non-null    float64\n",
            " 10  Cabin        204 non-null    object \n",
            " 11  Embarked     889 non-null    object \n",
            "dtypes: float64(2), int64(5), object(5)\n",
            "memory usage: 83.7+ KB\n",
            "\n",
            "\n",
            "Missing Values: \n",
            "PassengerId      0\n",
            "Survived         0\n",
            "Pclass           0\n",
            "Name             0\n",
            "Sex              0\n",
            "Age            177\n",
            "SibSp            0\n",
            "Parch            0\n",
            "Ticket           0\n",
            "Fare             0\n",
            "Cabin          687\n",
            "Embarked         2\n",
            "dtype: int64\n",
            "\n",
            "\n",
            "\n"
          ]
        },
        {
          "output_type": "execute_result",
          "data": {
            "text/html": [
              "<div>\n",
              "<style scoped>\n",
              "    .dataframe tbody tr th:only-of-type {\n",
              "        vertical-align: middle;\n",
              "    }\n",
              "\n",
              "    .dataframe tbody tr th {\n",
              "        vertical-align: top;\n",
              "    }\n",
              "\n",
              "    .dataframe thead th {\n",
              "        text-align: right;\n",
              "    }\n",
              "</style>\n",
              "<table border=\"1\" class=\"dataframe\">\n",
              "  <thead>\n",
              "    <tr style=\"text-align: right;\">\n",
              "      <th></th>\n",
              "      <th>PassengerId</th>\n",
              "      <th>Survived</th>\n",
              "      <th>Pclass</th>\n",
              "      <th>Age</th>\n",
              "      <th>SibSp</th>\n",
              "      <th>Parch</th>\n",
              "      <th>Fare</th>\n",
              "    </tr>\n",
              "  </thead>\n",
              "  <tbody>\n",
              "    <tr>\n",
              "      <th>count</th>\n",
              "      <td>891.000000</td>\n",
              "      <td>891.000000</td>\n",
              "      <td>891.000000</td>\n",
              "      <td>714.000000</td>\n",
              "      <td>891.000000</td>\n",
              "      <td>891.000000</td>\n",
              "      <td>891.000000</td>\n",
              "    </tr>\n",
              "    <tr>\n",
              "      <th>mean</th>\n",
              "      <td>446.000000</td>\n",
              "      <td>0.383838</td>\n",
              "      <td>2.308642</td>\n",
              "      <td>29.699118</td>\n",
              "      <td>0.523008</td>\n",
              "      <td>0.381594</td>\n",
              "      <td>32.204208</td>\n",
              "    </tr>\n",
              "    <tr>\n",
              "      <th>std</th>\n",
              "      <td>257.353842</td>\n",
              "      <td>0.486592</td>\n",
              "      <td>0.836071</td>\n",
              "      <td>14.526497</td>\n",
              "      <td>1.102743</td>\n",
              "      <td>0.806057</td>\n",
              "      <td>49.693429</td>\n",
              "    </tr>\n",
              "    <tr>\n",
              "      <th>min</th>\n",
              "      <td>1.000000</td>\n",
              "      <td>0.000000</td>\n",
              "      <td>1.000000</td>\n",
              "      <td>0.420000</td>\n",
              "      <td>0.000000</td>\n",
              "      <td>0.000000</td>\n",
              "      <td>0.000000</td>\n",
              "    </tr>\n",
              "    <tr>\n",
              "      <th>25%</th>\n",
              "      <td>223.500000</td>\n",
              "      <td>0.000000</td>\n",
              "      <td>2.000000</td>\n",
              "      <td>20.125000</td>\n",
              "      <td>0.000000</td>\n",
              "      <td>0.000000</td>\n",
              "      <td>7.910400</td>\n",
              "    </tr>\n",
              "    <tr>\n",
              "      <th>50%</th>\n",
              "      <td>446.000000</td>\n",
              "      <td>0.000000</td>\n",
              "      <td>3.000000</td>\n",
              "      <td>28.000000</td>\n",
              "      <td>0.000000</td>\n",
              "      <td>0.000000</td>\n",
              "      <td>14.454200</td>\n",
              "    </tr>\n",
              "    <tr>\n",
              "      <th>75%</th>\n",
              "      <td>668.500000</td>\n",
              "      <td>1.000000</td>\n",
              "      <td>3.000000</td>\n",
              "      <td>38.000000</td>\n",
              "      <td>1.000000</td>\n",
              "      <td>0.000000</td>\n",
              "      <td>31.000000</td>\n",
              "    </tr>\n",
              "    <tr>\n",
              "      <th>max</th>\n",
              "      <td>891.000000</td>\n",
              "      <td>1.000000</td>\n",
              "      <td>3.000000</td>\n",
              "      <td>80.000000</td>\n",
              "      <td>8.000000</td>\n",
              "      <td>6.000000</td>\n",
              "      <td>512.329200</td>\n",
              "    </tr>\n",
              "  </tbody>\n",
              "</table>\n",
              "</div>"
            ],
            "text/plain": [
              "       PassengerId    Survived      Pclass  ...       SibSp       Parch        Fare\n",
              "count   891.000000  891.000000  891.000000  ...  891.000000  891.000000  891.000000\n",
              "mean    446.000000    0.383838    2.308642  ...    0.523008    0.381594   32.204208\n",
              "std     257.353842    0.486592    0.836071  ...    1.102743    0.806057   49.693429\n",
              "min       1.000000    0.000000    1.000000  ...    0.000000    0.000000    0.000000\n",
              "25%     223.500000    0.000000    2.000000  ...    0.000000    0.000000    7.910400\n",
              "50%     446.000000    0.000000    3.000000  ...    0.000000    0.000000   14.454200\n",
              "75%     668.500000    1.000000    3.000000  ...    1.000000    0.000000   31.000000\n",
              "max     891.000000    1.000000    3.000000  ...    8.000000    6.000000  512.329200\n",
              "\n",
              "[8 rows x 7 columns]"
            ]
          },
          "metadata": {},
          "execution_count": 6
        }
      ]
    },
    {
      "cell_type": "markdown",
      "metadata": {
        "id": "337drpawh6BY"
      },
      "source": [
        "<font color='gray'>Here we can see that Age , Cabin, and Emabrked are the only columns with NULL/empty data. </font>\n",
        "\n",
        "\n",
        "---\n",
        "\n"
      ]
    },
    {
      "cell_type": "markdown",
      "metadata": {
        "id": "JxX2cSQiMjPa"
      },
      "source": [
        "####Testing Data Information"
      ]
    },
    {
      "cell_type": "code",
      "metadata": {
        "colab": {
          "base_uri": "https://localhost:8080/",
          "height": 964
        },
        "id": "T6dNyVtiPPYr",
        "outputId": "30b44068-d159-4f45-c912-c62223310f3c"
      },
      "source": [
        "# test_df information/description:\n",
        "test_df.info()\n",
        "\n",
        "# check missing values in training data\n",
        "print(\"\\n\\nMissing Values: \")\n",
        "print(test_df.isnull().sum())\n",
        "\n",
        "# describe the inforamtion\n",
        "print(\"\\n\\n\")\n",
        "test_df.describe()"
      ],
      "execution_count": 7,
      "outputs": [
        {
          "output_type": "stream",
          "name": "stdout",
          "text": [
            "<class 'pandas.core.frame.DataFrame'>\n",
            "RangeIndex: 418 entries, 0 to 417\n",
            "Data columns (total 11 columns):\n",
            " #   Column       Non-Null Count  Dtype  \n",
            "---  ------       --------------  -----  \n",
            " 0   PassengerId  418 non-null    int64  \n",
            " 1   Pclass       418 non-null    int64  \n",
            " 2   Name         418 non-null    object \n",
            " 3   Sex          418 non-null    object \n",
            " 4   Age          332 non-null    float64\n",
            " 5   SibSp        418 non-null    int64  \n",
            " 6   Parch        418 non-null    int64  \n",
            " 7   Ticket       418 non-null    object \n",
            " 8   Fare         417 non-null    float64\n",
            " 9   Cabin        91 non-null     object \n",
            " 10  Embarked     418 non-null    object \n",
            "dtypes: float64(2), int64(4), object(5)\n",
            "memory usage: 36.0+ KB\n",
            "\n",
            "\n",
            "Missing Values: \n",
            "PassengerId      0\n",
            "Pclass           0\n",
            "Name             0\n",
            "Sex              0\n",
            "Age             86\n",
            "SibSp            0\n",
            "Parch            0\n",
            "Ticket           0\n",
            "Fare             1\n",
            "Cabin          327\n",
            "Embarked         0\n",
            "dtype: int64\n",
            "\n",
            "\n",
            "\n"
          ]
        },
        {
          "output_type": "execute_result",
          "data": {
            "text/html": [
              "<div>\n",
              "<style scoped>\n",
              "    .dataframe tbody tr th:only-of-type {\n",
              "        vertical-align: middle;\n",
              "    }\n",
              "\n",
              "    .dataframe tbody tr th {\n",
              "        vertical-align: top;\n",
              "    }\n",
              "\n",
              "    .dataframe thead th {\n",
              "        text-align: right;\n",
              "    }\n",
              "</style>\n",
              "<table border=\"1\" class=\"dataframe\">\n",
              "  <thead>\n",
              "    <tr style=\"text-align: right;\">\n",
              "      <th></th>\n",
              "      <th>PassengerId</th>\n",
              "      <th>Pclass</th>\n",
              "      <th>Age</th>\n",
              "      <th>SibSp</th>\n",
              "      <th>Parch</th>\n",
              "      <th>Fare</th>\n",
              "    </tr>\n",
              "  </thead>\n",
              "  <tbody>\n",
              "    <tr>\n",
              "      <th>count</th>\n",
              "      <td>418.000000</td>\n",
              "      <td>418.000000</td>\n",
              "      <td>332.000000</td>\n",
              "      <td>418.000000</td>\n",
              "      <td>418.000000</td>\n",
              "      <td>417.000000</td>\n",
              "    </tr>\n",
              "    <tr>\n",
              "      <th>mean</th>\n",
              "      <td>1100.500000</td>\n",
              "      <td>2.265550</td>\n",
              "      <td>30.272590</td>\n",
              "      <td>0.447368</td>\n",
              "      <td>0.392344</td>\n",
              "      <td>35.627188</td>\n",
              "    </tr>\n",
              "    <tr>\n",
              "      <th>std</th>\n",
              "      <td>120.810458</td>\n",
              "      <td>0.841838</td>\n",
              "      <td>14.181209</td>\n",
              "      <td>0.896760</td>\n",
              "      <td>0.981429</td>\n",
              "      <td>55.907576</td>\n",
              "    </tr>\n",
              "    <tr>\n",
              "      <th>min</th>\n",
              "      <td>892.000000</td>\n",
              "      <td>1.000000</td>\n",
              "      <td>0.170000</td>\n",
              "      <td>0.000000</td>\n",
              "      <td>0.000000</td>\n",
              "      <td>0.000000</td>\n",
              "    </tr>\n",
              "    <tr>\n",
              "      <th>25%</th>\n",
              "      <td>996.250000</td>\n",
              "      <td>1.000000</td>\n",
              "      <td>21.000000</td>\n",
              "      <td>0.000000</td>\n",
              "      <td>0.000000</td>\n",
              "      <td>7.895800</td>\n",
              "    </tr>\n",
              "    <tr>\n",
              "      <th>50%</th>\n",
              "      <td>1100.500000</td>\n",
              "      <td>3.000000</td>\n",
              "      <td>27.000000</td>\n",
              "      <td>0.000000</td>\n",
              "      <td>0.000000</td>\n",
              "      <td>14.454200</td>\n",
              "    </tr>\n",
              "    <tr>\n",
              "      <th>75%</th>\n",
              "      <td>1204.750000</td>\n",
              "      <td>3.000000</td>\n",
              "      <td>39.000000</td>\n",
              "      <td>1.000000</td>\n",
              "      <td>0.000000</td>\n",
              "      <td>31.500000</td>\n",
              "    </tr>\n",
              "    <tr>\n",
              "      <th>max</th>\n",
              "      <td>1309.000000</td>\n",
              "      <td>3.000000</td>\n",
              "      <td>76.000000</td>\n",
              "      <td>8.000000</td>\n",
              "      <td>9.000000</td>\n",
              "      <td>512.329200</td>\n",
              "    </tr>\n",
              "  </tbody>\n",
              "</table>\n",
              "</div>"
            ],
            "text/plain": [
              "       PassengerId      Pclass         Age       SibSp       Parch        Fare\n",
              "count   418.000000  418.000000  332.000000  418.000000  418.000000  417.000000\n",
              "mean   1100.500000    2.265550   30.272590    0.447368    0.392344   35.627188\n",
              "std     120.810458    0.841838   14.181209    0.896760    0.981429   55.907576\n",
              "min     892.000000    1.000000    0.170000    0.000000    0.000000    0.000000\n",
              "25%     996.250000    1.000000   21.000000    0.000000    0.000000    7.895800\n",
              "50%    1100.500000    3.000000   27.000000    0.000000    0.000000   14.454200\n",
              "75%    1204.750000    3.000000   39.000000    1.000000    0.000000   31.500000\n",
              "max    1309.000000    3.000000   76.000000    8.000000    9.000000  512.329200"
            ]
          },
          "metadata": {},
          "execution_count": 7
        }
      ]
    },
    {
      "cell_type": "markdown",
      "metadata": {
        "id": "tnRLorfbPYyQ"
      },
      "source": [
        "<font color='gray'>Here we can see that Age , Cabin, and Fare are the only columns with NULL/empty data. </font>\n",
        "\n",
        "\n",
        "\n",
        "---\n",
        "\n",
        "\n"
      ]
    },
    {
      "cell_type": "markdown",
      "metadata": {
        "id": "Wp0yjDOZMrSz"
      },
      "source": [
        "###Categorical And Numerical Sets (Initial)"
      ]
    },
    {
      "cell_type": "markdown",
      "metadata": {
        "id": "a5mRSGNTMyXV"
      },
      "source": [
        "####Sets Created"
      ]
    },
    {
      "cell_type": "code",
      "metadata": {
        "colab": {
          "base_uri": "https://localhost:8080/"
        },
        "id": "ZWTCvyRPd_7m",
        "outputId": "22f28044-e2da-414f-ea33-87e6ebfaa512"
      },
      "source": [
        "#Numerical and Categorical Values Separated Accordingly\n",
        "numericals_df = train_df[['Age', 'SibSp', 'Parch', 'Fare']] #PassengerId not needed #histograms\n",
        "categoricals_df = train_df[['Survived', 'Pclass', 'Sex', 'Ticket', 'Cabin', 'Embarked']] #value counts\n",
        "\n",
        "print(\"Numericals:\\n\" , numericals_df)\n",
        "print(\"\\nCategoricals: \\n\" , categoricals_df)"
      ],
      "execution_count": 8,
      "outputs": [
        {
          "output_type": "stream",
          "name": "stdout",
          "text": [
            "Numericals:\n",
            "       Age  SibSp  Parch     Fare\n",
            "0    22.0      1      0   7.2500\n",
            "1    38.0      1      0  71.2833\n",
            "2    26.0      0      0   7.9250\n",
            "3    35.0      1      0  53.1000\n",
            "4    35.0      0      0   8.0500\n",
            "..    ...    ...    ...      ...\n",
            "886  27.0      0      0  13.0000\n",
            "887  19.0      0      0  30.0000\n",
            "888   NaN      1      2  23.4500\n",
            "889  26.0      0      0  30.0000\n",
            "890  32.0      0      0   7.7500\n",
            "\n",
            "[891 rows x 4 columns]\n",
            "\n",
            "Categoricals: \n",
            "      Survived  Pclass     Sex            Ticket Cabin Embarked\n",
            "0           0       3    male         A/5 21171   NaN        S\n",
            "1           1       1  female          PC 17599   C85        C\n",
            "2           1       3  female  STON/O2. 3101282   NaN        S\n",
            "3           1       1  female            113803  C123        S\n",
            "4           0       3    male            373450   NaN        S\n",
            "..        ...     ...     ...               ...   ...      ...\n",
            "886         0       2    male            211536   NaN        S\n",
            "887         1       1  female            112053   B42        S\n",
            "888         0       3  female        W./C. 6607   NaN        S\n",
            "889         1       1    male            111369  C148        C\n",
            "890         0       3    male            370376   NaN        Q\n",
            "\n",
            "[891 rows x 6 columns]\n"
          ]
        }
      ]
    },
    {
      "cell_type": "markdown",
      "metadata": {
        "id": "EOzxWhKbM1tu"
      },
      "source": [
        "#### Numerical Histograms with Density Curves"
      ]
    },
    {
      "cell_type": "code",
      "metadata": {
        "colab": {
          "base_uri": "https://localhost:8080/",
          "height": 1000
        },
        "id": "CK4KQoibyRJz",
        "outputId": "260ed742-05ad-472a-b9be-5c1c7bd31871"
      },
      "source": [
        "#Histogram showing distribution of all INITIAL '[Numerical Column Name]' with the density curve plotted against it\n",
        "for col in numericals_df.columns:\n",
        "  print( col, \"Distribution w/ Density Curve (Red):\")\n",
        "  print( col, \"Min: \", train_df[col].min())\n",
        "  print( col, \"Max: \", train_df[col].max())\n",
        "  ax = train_df[col].hist(bins=13, density=True, alpha=0.3) # Histogram\n",
        "  train_df[col].plot(kind='density', color='red') #Density curve\n",
        "  ax.set(xlabel= col) #X-Axis label\n",
        "  plt.xlim(train_df[col].min(),train_df[col].max()) # Limits of values for the X - Axis\n",
        "  plt.show()    "
      ],
      "execution_count": 9,
      "outputs": [
        {
          "output_type": "stream",
          "name": "stdout",
          "text": [
            "Age Distribution w/ Density Curve (Red):\n",
            "Age Min:  0.42\n",
            "Age Max:  80.0\n"
          ]
        },
        {
          "output_type": "display_data",
          "data": {
            "image/png": "[encoded data removed]",
            "text/plain": [
              "<Figure size 432x288 with 1 Axes>"
            ]
          },
          "metadata": {
            "needs_background": "light"
          }
        },
        {
          "output_type": "stream",
          "name": "stdout",
          "text": [
            "SibSp Distribution w/ Density Curve (Red):\n",
            "SibSp Min:  0\n",
            "SibSp Max:  8\n"
          ]
        },
        {
          "output_type": "display_data",
          "data": {
            "image/png": "[encoded data removed]",
            "text/plain": [
              "<Figure size 432x288 with 1 Axes>"
            ]
          },
          "metadata": {
            "needs_background": "light"
          }
        },
        {
          "output_type": "stream",
          "name": "stdout",
          "text": [
            "Parch Distribution w/ Density Curve (Red):\n",
            "Parch Min:  0\n",
            "Parch Max:  6\n"
          ]
        },
        {
          "output_type": "display_data",
          "data": {
            "image/png": "[encoded data removed]",
            "text/plain": [
              "<Figure size 432x288 with 1 Axes>"
            ]
          },
          "metadata": {
            "needs_background": "light"
          }
        },
        {
          "output_type": "stream",
          "name": "stdout",
          "text": [
            "Fare Distribution w/ Density Curve (Red):\n",
            "Fare Min:  0.0\n",
            "Fare Max:  512.3292\n"
          ]
        },
        {
          "output_type": "display_data",
          "data": {
            "image/png": "[encoded data removed]",
            "text/plain": [
              "<Figure size 432x288 with 1 Axes>"
            ]
          },
          "metadata": {
            "needs_background": "light"
          }
        }
      ]
    },
    {
      "cell_type": "markdown",
      "metadata": {
        "id": "9zYUcEdRM8Vw"
      },
      "source": [
        "####Categorical Bar Graphs"
      ]
    },
    {
      "cell_type": "code",
      "metadata": {
        "colab": {
          "base_uri": "https://localhost:8080/",
          "height": 1000
        },
        "id": "chx8kurItZPR",
        "outputId": "edde2a9a-d19d-4a50-ac4e-5c74ac3c1be9"
      },
      "source": [
        "#Categoricals shown\n",
        "for col in categoricals_df.columns:\n",
        "  print( col, \"Bar Chart:\")\n",
        "  #barplot(column name info, column name counts)\n",
        "  sns.barplot(categoricals_df[col].value_counts().index , categoricals_df[col].value_counts())\n",
        "  plt.show()"
      ],
      "execution_count": 10,
      "outputs": [
        {
          "output_type": "stream",
          "name": "stdout",
          "text": [
            "Survived Bar Chart:\n"
          ]
        },
        {
          "output_type": "display_data",
          "data": {
            "image/png": "[encoded data removed]",
            "text/plain": [
              "<Figure size 432x288 with 1 Axes>"
            ]
          },
          "metadata": {
            "needs_background": "light"
          }
        },
        {
          "output_type": "stream",
          "name": "stdout",
          "text": [
            "Pclass Bar Chart:\n"
          ]
        },
        {
          "output_type": "display_data",
          "data": {
            "image/png": "[encoded data removed]",
            "text/plain": [
              "<Figure size 432x288 with 1 Axes>"
            ]
          },
          "metadata": {
            "needs_background": "light"
          }
        },
        {
          "output_type": "stream",
          "name": "stdout",
          "text": [
            "Sex Bar Chart:\n"
          ]
        },
        {
          "output_type": "display_data",
          "data": {
            "image/png": "[encoded data removed]",
            "text/plain": [
              "<Figure size 432x288 with 1 Axes>"
            ]
          },
          "metadata": {
            "needs_background": "light"
          }
        },
        {
          "output_type": "stream",
          "name": "stdout",
          "text": [
            "Ticket Bar Chart:\n"
          ]
        },
        {
          "output_type": "display_data",
          "data": {
            "image/png": "[encoded data removed]",
            "text/plain": [
              "<Figure size 432x288 with 1 Axes>"
            ]
          },
          "metadata": {
            "needs_background": "light"
          }
        },
        {
          "output_type": "stream",
          "name": "stdout",
          "text": [
            "Cabin Bar Chart:\n"
          ]
        },
        {
          "output_type": "display_data",
          "data": {
            "image/png": "[encoded data removed]",
            "text/plain": [
              "<Figure size 432x288 with 1 Axes>"
            ]
          },
          "metadata": {
            "needs_background": "light"
          }
        },
        {
          "output_type": "stream",
          "name": "stdout",
          "text": [
            "Embarked Bar Chart:\n"
          ]
        },
        {
          "output_type": "display_data",
          "data": {
            "image/png": "[encoded data removed]",
            "text/plain": [
              "<Figure size 432x288 with 1 Axes>"
            ]
          },
          "metadata": {
            "needs_background": "light"
          }
        }
      ]
    },
    {
      "cell_type": "markdown",
      "metadata": {
        "id": "e0nrX5kETyFa"
      },
      "source": [
        "---"
      ]
    },
    {
      "cell_type": "markdown",
      "metadata": {
        "id": "CtANw9y4NElH"
      },
      "source": [
        "###Questions Answered (Initial)"
      ]
    },
    {
      "cell_type": "markdown",
      "metadata": {
        "id": "3uDsQKpWNJrz"
      },
      "source": [
        "####Probability of Survival by Sex"
      ]
    },
    {
      "cell_type": "code",
      "metadata": {
        "colab": {
          "base_uri": "https://localhost:8080/",
          "height": 424
        },
        "id": "S8k6wPpaTiB-",
        "outputId": "6a8d2905-3780-44c0-d3db-64a1387a3b9c"
      },
      "source": [
        "print(\"Probability of Survival by Sex:\\n\", train_df[['Sex', 'Survived']].groupby('Sex', as_index = False).mean(), \"\\n\\n\")\n",
        "sns.barplot(x = 'Sex' , y = 'Survived', data = train_df)\n",
        "plt.ylabel('Probability of Survival (0-1)')\n",
        "plt.title(\"Probability of Survival by Sex\")"
      ],
      "execution_count": 11,
      "outputs": [
        {
          "output_type": "stream",
          "name": "stdout",
          "text": [
            "Probability of Survival by Sex:\n",
            "       Sex  Survived\n",
            "0  female  0.742038\n",
            "1    male  0.188908 \n",
            "\n",
            "\n"
          ]
        },
        {
          "output_type": "execute_result",
          "data": {
            "text/plain": [
              "Text(0.5, 1.0, 'Probability of Survival by Sex')"
            ]
          },
          "metadata": {},
          "execution_count": 11
        },
        {
          "output_type": "display_data",
          "data": {
            "image/png": "[encoded data removed]",
            "text/plain": [
              "<Figure size 432x288 with 1 Axes>"
            ]
          },
          "metadata": {
            "needs_background": "light"
          }
        }
      ]
    },
    {
      "cell_type": "markdown",
      "metadata": {
        "id": "--qj4mXWNM7m"
      },
      "source": [
        "####Probability of Survival by Class"
      ]
    },
    {
      "cell_type": "code",
      "metadata": {
        "colab": {
          "base_uri": "https://localhost:8080/",
          "height": 442
        },
        "id": "hQZKs34OTj3Z",
        "outputId": "ed182a87-a3d2-461d-b6c6-e5692fbbf721"
      },
      "source": [
        "print(\"Probability of Survival by Class:\\n\", train_df[['Pclass', 'Survived']].groupby('Pclass', as_index = False).mean(), \"\\n\\n\")\n",
        "sns.barplot(x = 'Pclass' , y = 'Survived', data = train_df)\n",
        "plt.ylabel('Probability of Survival (0-1)')\n",
        "plt.xlabel('Passenger Class')\n",
        "plt.title(\"Probability of Survival by Class\")"
      ],
      "execution_count": 12,
      "outputs": [
        {
          "output_type": "stream",
          "name": "stdout",
          "text": [
            "Probability of Survival by Class:\n",
            "    Pclass  Survived\n",
            "0       1  0.629630\n",
            "1       2  0.472826\n",
            "2       3  0.242363 \n",
            "\n",
            "\n"
          ]
        },
        {
          "output_type": "execute_result",
          "data": {
            "text/plain": [
              "Text(0.5, 1.0, 'Probability of Survival by Class')"
            ]
          },
          "metadata": {},
          "execution_count": 12
        },
        {
          "output_type": "display_data",
          "data": {
            "image/png": "[encoded data removed]",
            "text/plain": [
              "<Figure size 432x288 with 1 Axes>"
            ]
          },
          "metadata": {
            "needs_background": "light"
          }
        }
      ]
    },
    {
      "cell_type": "markdown",
      "metadata": {
        "id": "05VOmpxtNQFJ"
      },
      "source": [
        "####Probability of Survival by Embarked Location"
      ]
    },
    {
      "cell_type": "code",
      "metadata": {
        "colab": {
          "base_uri": "https://localhost:8080/",
          "height": 442
        },
        "id": "cz8MxggXQwwA",
        "outputId": "42457d82-659e-468d-b583-23a355b78237"
      },
      "source": [
        "#Mean of survival  by categoricals\n",
        "print(\"Probability of Survival by Embarked:\\n\", train_df[['Embarked', 'Survived']].groupby('Embarked', as_index = False).mean(), \"\\n\\n\")\n",
        "sns.barplot(x = 'Embarked' , y = 'Survived', data = train_df)\n",
        "plt.ylabel('Probability of Survival (0-1)')\n",
        "plt.title(\"Probability of Survival by Embarked\")"
      ],
      "execution_count": 13,
      "outputs": [
        {
          "output_type": "stream",
          "name": "stdout",
          "text": [
            "Probability of Survival by Embarked:\n",
            "   Embarked  Survived\n",
            "0        C  0.553571\n",
            "1        Q  0.389610\n",
            "2        S  0.336957 \n",
            "\n",
            "\n"
          ]
        },
        {
          "output_type": "execute_result",
          "data": {
            "text/plain": [
              "Text(0.5, 1.0, 'Probability of Survival by Embarked')"
            ]
          },
          "metadata": {},
          "execution_count": 13
        },
        {
          "output_type": "display_data",
          "data": {
            "image/png": "[encoded data removed]",
            "text/plain": [
              "<Figure size 432x288 with 1 Axes>"
            ]
          },
          "metadata": {
            "needs_background": "light"
          }
        }
      ]
    },
    {
      "cell_type": "markdown",
      "metadata": {
        "id": "BIw0NElgTsIY"
      },
      "source": [
        "---"
      ]
    },
    {
      "cell_type": "markdown",
      "metadata": {
        "id": "JYYNWGHENpEM"
      },
      "source": [
        "####Did Class Affect The Survival Percentage By Sex?"
      ]
    },
    {
      "cell_type": "code",
      "metadata": {
        "colab": {
          "base_uri": "https://localhost:8080/",
          "height": 1000
        },
        "id": "QAaC8JcQwflH",
        "outputId": "9e049e2f-f827-4a97-8ff1-737f5101c22c"
      },
      "source": [
        "#Did class affect the survival percentage by sex?\n",
        "\n",
        "#Count\n",
        "print(\"Count Amount of Sex-By-Class:\")\n",
        "print(pd.pivot_table(train_df, values = \"Ticket\", index = \"Sex\", columns = \"Pclass\", aggfunc= \"count\"), \"\\n\\n\")\n",
        "print(\"-------------------------------------------------------------\")\n",
        "\n",
        "#Same table as below with the X-Axis and Hue switched\n",
        "print(\"\\n\\n\\nPivot Table Representing the Percentage Survived by Sex by Class:\")\n",
        "table = pd.pivot_table(train_df, values = \"Survived\", index = [\"Sex\", \"Pclass\"])\n",
        "print(table, \"\\n\")\n",
        "\n",
        "ClassBySex = sns.factorplot(x = 'Sex', y = 'Survived', hue = 'Pclass', data = train_df, kind = 'bar')\n",
        "ClassBySex.despine(left = True)\n",
        "plt.ylabel('Probability of Survival (0-1)')\n",
        "plt.title(\"Percentage (Survival Rate) of Sex by Class Association:\")\n",
        "plt.show()\n",
        "\n",
        "\n",
        "print(\"-------------------------------------------------------------\")\n",
        "\n",
        "\n",
        "#Same table as above with the X-Axis and Hue switched\n",
        "print(\"\\n\\n\\nPivot Table Representing the Percentage Survived by Sex by Class:\")\n",
        "table = pd.pivot_table(train_df, values = \"Survived\", index = [\"Pclass\", 'Sex'])\n",
        "print(table, \"\\n\")\n",
        "\n",
        "SexByClass = sns.factorplot(x = 'Pclass', y = 'Survived', hue = 'Sex', data = train_df, kind = 'bar')\n",
        "SexByClass.despine(left = True)\n",
        "plt.ylabel('Probability of Survival (0-1)')\n",
        "plt.xlabel('Passenger Class')\n",
        "plt.title(\"Percentage (Survival Rate) of Sex by Class Association:\")\n",
        "plt.show()\n"
      ],
      "execution_count": 14,
      "outputs": [
        {
          "output_type": "stream",
          "name": "stdout",
          "text": [
            "Count Amount of Sex-By-Class:\n",
            "Pclass    1    2    3\n",
            "Sex                  \n",
            "female   94   76  144\n",
            "male    122  108  347 \n",
            "\n",
            "\n",
            "-------------------------------------------------------------\n",
            "\n",
            "\n",
            "\n",
            "Pivot Table Representing the Percentage Survived by Sex by Class:\n",
            "               Survived\n",
            "Sex    Pclass          \n",
            "female 1       0.968085\n",
            "       2       0.921053\n",
            "       3       0.500000\n",
            "male   1       0.368852\n",
            "       2       0.157407\n",
            "       3       0.135447 \n",
            "\n"
          ]
        },
        {
          "output_type": "display_data",
          "data": {
            "image/png": "[encoded data removed]",
            "text/plain": [
              "<Figure size 402.375x360 with 1 Axes>"
            ]
          },
          "metadata": {
            "needs_background": "light"
          }
        },
        {
          "output_type": "stream",
          "name": "stdout",
          "text": [
            "-------------------------------------------------------------\n",
            "\n",
            "\n",
            "\n",
            "Pivot Table Representing the Percentage Survived by Sex by Class:\n",
            "               Survived\n",
            "Pclass Sex             \n",
            "1      female  0.968085\n",
            "       male    0.368852\n",
            "2      female  0.921053\n",
            "       male    0.157407\n",
            "3      female  0.500000\n",
            "       male    0.135447 \n",
            "\n"
          ]
        },
        {
          "output_type": "display_data",
          "data": {
            "image/png": "[encoded data removed]",
            "text/plain": [
              "<Figure size 430.5x360 with 1 Axes>"
            ]
          },
          "metadata": {
            "needs_background": "light"
          }
        }
      ]
    },
    {
      "cell_type": "markdown",
      "metadata": {
        "id": "50-d_FLhNtJj"
      },
      "source": [
        "####Did Embarked Location Affect The Survival Percentage By Sex?"
      ]
    },
    {
      "cell_type": "code",
      "metadata": {
        "colab": {
          "base_uri": "https://localhost:8080/",
          "height": 1000
        },
        "id": "z1PTHPWLG814",
        "outputId": "ff203f9b-31bb-4d71-eeb9-3277e25b487f"
      },
      "source": [
        "#Did embarking-from location affect the survival percentage by sex?\n",
        "\n",
        "print(\"Count Amount of Sex-By-Embarked:\")\n",
        "print(pd.pivot_table(train_df, values = \"Ticket\", index = \"Sex\", columns = \"Embarked\", aggfunc= \"count\"), \"\\n\\n\")\n",
        "print(\"-------------------------------------------------------------\")\n",
        "\n",
        "\n",
        "#Same table as below with the X-Axis and Hue switched\n",
        "print(\"\\n\\n\\nPivot Table Representing the Percentage Survived by Sex by Embarked:\")\n",
        "table = pd.pivot_table(train_df, values = \"Survived\", index = [\"Sex\", \"Embarked\"])\n",
        "print(table, \"\\n\")\n",
        "\n",
        "ClassBySex = sns.factorplot(x = 'Sex', y = 'Survived', hue = 'Embarked', data = train_df, kind = 'bar')\n",
        "ClassBySex.despine(left = True)\n",
        "plt.ylabel('Probability of Survival (0-1)')\n",
        "plt.title(\"Percentage (Survival Rate) of Sex by Embarked Association:\")\n",
        "plt.show()\n",
        "\n",
        "\n",
        "print(\"-------------------------------------------------------------\")\n",
        "\n",
        "\n",
        "#Same table as above with the X-Axis and Hue switched\n",
        "print(\"\\n\\n\\nPivot Table Representing the Percentage Survived by Sex by Embarked:\")\n",
        "table = pd.pivot_table(train_df, values = \"Survived\", index = [\"Embarked\", 'Sex'])\n",
        "print(table, \"\\n\")\n",
        "\n",
        "SexByClass = sns.factorplot(x = 'Embarked', y = 'Survived', hue = 'Sex', data = train_df, kind = 'bar')\n",
        "SexByClass.despine(left = True)\n",
        "plt.ylabel('Probability of Survival (0-1)')\n",
        "plt.xlabel('Embarked Location')\n",
        "plt.title(\"Percentage (Survival Rate) of Sex by Embarked Association:\")\n",
        "plt.show()\n"
      ],
      "execution_count": 15,
      "outputs": [
        {
          "output_type": "stream",
          "name": "stdout",
          "text": [
            "Count Amount of Sex-By-Embarked:\n",
            "Embarked   C   Q    S\n",
            "Sex                  \n",
            "female    73  36  203\n",
            "male      95  41  441 \n",
            "\n",
            "\n",
            "-------------------------------------------------------------\n",
            "\n",
            "\n",
            "\n",
            "Pivot Table Representing the Percentage Survived by Sex by Embarked:\n",
            "                 Survived\n",
            "Sex    Embarked          \n",
            "female C         0.876712\n",
            "       Q         0.750000\n",
            "       S         0.689655\n",
            "male   C         0.305263\n",
            "       Q         0.073171\n",
            "       S         0.174603 \n",
            "\n"
          ]
        },
        {
          "output_type": "display_data",
          "data": {
            "image/png": "[encoded data removed]",
            "text/plain": [
              "<Figure size 418.25x360 with 1 Axes>"
            ]
          },
          "metadata": {
            "needs_background": "light"
          }
        },
        {
          "output_type": "stream",
          "name": "stdout",
          "text": [
            "-------------------------------------------------------------\n",
            "\n",
            "\n",
            "\n",
            "Pivot Table Representing the Percentage Survived by Sex by Embarked:\n",
            "                 Survived\n",
            "Embarked Sex             \n",
            "C        female  0.876712\n",
            "         male    0.305263\n",
            "Q        female  0.750000\n",
            "         male    0.073171\n",
            "S        female  0.689655\n",
            "         male    0.174603 \n",
            "\n"
          ]
        },
        {
          "output_type": "display_data",
          "data": {
            "image/png": "[encoded data removed]",
            "text/plain": [
              "<Figure size 430.5x360 with 1 Axes>"
            ]
          },
          "metadata": {
            "needs_background": "light"
          }
        }
      ]
    },
    {
      "cell_type": "markdown",
      "metadata": {
        "id": "w1gWu8xjNzlz"
      },
      "source": [
        "####Did Certain Embarking Locations Have Higher Survival Rated Based On The Class Associations?"
      ]
    },
    {
      "cell_type": "code",
      "metadata": {
        "colab": {
          "base_uri": "https://localhost:8080/",
          "height": 1000
        },
        "id": "ZNLdTzVJbaA9",
        "outputId": "f6cb1d7f-9ada-4cf8-97c9-f687fdc7249a"
      },
      "source": [
        "#Did certain Embarking locations have higher survival rates based on the class association?\n",
        "\n",
        "print(\"Count Amount of Class-By-Embarked:\")\n",
        "print(pd.pivot_table(train_df, values = \"Ticket\", index = \"Pclass\", columns = \"Embarked\", aggfunc= \"count\"), \"\\n\\n\")\n",
        "print(\"-------------------------------------------------------------\")\n",
        "\n",
        "\n",
        "#Same table as below with the X-Axis and Hue switched\n",
        "print(\"\\n\\n\\nPivot Table Representing the Percentage Survived by Class by Embarked:\")\n",
        "table = pd.pivot_table(train_df, values = \"Survived\", index = [\"Pclass\", \"Embarked\"])\n",
        "print(table, \"\\n\")\n",
        "\n",
        "ClassBySex = sns.factorplot(x = 'Pclass', y = 'Survived', hue = 'Embarked', data = train_df, kind = 'bar')\n",
        "ClassBySex.despine(left = True)\n",
        "plt.ylabel('Probability of Survival (0-1)')\n",
        "plt.title(\"Percentage (Survival Rate) of Passenger Class by Embarked Association:\")\n",
        "plt.show()\n",
        "\n",
        "\n",
        "print(\"-------------------------------------------------------------\")\n",
        "\n",
        "\n",
        "#Same table as above with the X-Axis and Hue switched\n",
        "print(\"\\n\\n\\nPivot Table Representing the Percentage Survived by Class by Embarked:\")\n",
        "table = pd.pivot_table(train_df, values = \"Survived\", index = [\"Embarked\", 'Pclass'])\n",
        "print(table, \"\\n\")\n",
        "\n",
        "SexByClass = sns.factorplot(x = 'Embarked', y = 'Survived', hue = 'Pclass', data = train_df, kind = 'bar')\n",
        "SexByClass.despine(left = True)\n",
        "plt.ylabel('Probability of Survival (0-1)')\n",
        "plt.xlabel('Embarked Location')\n",
        "plt.title(\"Percentage (Survival Rate) of Passenger Class by Embarked Association:\")\n",
        "plt.show()\n",
        "\n"
      ],
      "execution_count": 16,
      "outputs": [
        {
          "output_type": "stream",
          "name": "stdout",
          "text": [
            "Count Amount of Class-By-Embarked:\n",
            "Embarked   C   Q    S\n",
            "Pclass               \n",
            "1         85   2  127\n",
            "2         17   3  164\n",
            "3         66  72  353 \n",
            "\n",
            "\n",
            "-------------------------------------------------------------\n",
            "\n",
            "\n",
            "\n",
            "Pivot Table Representing the Percentage Survived by Class by Embarked:\n",
            "                 Survived\n",
            "Pclass Embarked          \n",
            "1      C         0.694118\n",
            "       Q         0.500000\n",
            "       S         0.582677\n",
            "2      C         0.529412\n",
            "       Q         0.666667\n",
            "       S         0.463415\n",
            "3      C         0.378788\n",
            "       Q         0.375000\n",
            "       S         0.189802 \n",
            "\n"
          ]
        },
        {
          "output_type": "display_data",
          "data": {
            "image/png": "[encoded data removed]",
            "text/plain": [
              "<Figure size 418.25x360 with 1 Axes>"
            ]
          },
          "metadata": {
            "needs_background": "light"
          }
        },
        {
          "output_type": "stream",
          "name": "stdout",
          "text": [
            "-------------------------------------------------------------\n",
            "\n",
            "\n",
            "\n",
            "Pivot Table Representing the Percentage Survived by Class by Embarked:\n",
            "                 Survived\n",
            "Embarked Pclass          \n",
            "C        1       0.694118\n",
            "         2       0.529412\n",
            "         3       0.378788\n",
            "Q        1       0.500000\n",
            "         2       0.666667\n",
            "         3       0.375000\n",
            "S        1       0.582677\n",
            "         2       0.463415\n",
            "         3       0.189802 \n",
            "\n"
          ]
        },
        {
          "output_type": "display_data",
          "data": {
            "image/png": "[encoded data removed]",
            "text/plain": [
              "<Figure size 402.375x360 with 1 Axes>"
            ]
          },
          "metadata": {
            "needs_background": "light"
          }
        }
      ]
    },
    {
      "cell_type": "markdown",
      "metadata": {
        "id": "nZVb_kowN7dj"
      },
      "source": [
        "####Overall Survival Percentage by Sex by Class by Embarked Location"
      ]
    },
    {
      "cell_type": "code",
      "metadata": {
        "colab": {
          "base_uri": "https://localhost:8080/",
          "height": 675
        },
        "id": "OTON2P0Ej1Yu",
        "outputId": "0c2c3cc7-e745-4461-e678-1436df7314ab"
      },
      "source": [
        "#Overall Survival Percentage by Sex (color) by Class (X-Axis) by Embarked (Graph#)\n",
        "grid = sns.FacetGrid(train_df, row = 'Embarked', size = 3.0, aspect = 3.0)\n",
        "grid.map(sns.pointplot, 'Pclass', 'Survived', 'Sex', palette = 'Set1')\n",
        "grid.add_legend()"
      ],
      "execution_count": 17,
      "outputs": [
        {
          "output_type": "execute_result",
          "data": {
            "text/plain": [
              "<seaborn.axisgrid.FacetGrid at 0x7f8474a5cd90>"
            ]
          },
          "metadata": {},
          "execution_count": 17
        },
        {
          "output_type": "display_data",
          "data": {
            "image/png": "[encoded data removed]",
            "text/plain": [
              "<Figure size 718.5x648 with 3 Axes>"
            ]
          },
          "metadata": {
            "needs_background": "light"
          }
        }
      ]
    },
    {
      "cell_type": "markdown",
      "metadata": {
        "id": "kPcavDTrOF7e"
      },
      "source": [
        "###Removing Outliers"
      ]
    },
    {
      "cell_type": "code",
      "metadata": {
        "colab": {
          "base_uri": "https://localhost:8080/",
          "height": 381
        },
        "id": "HDHwWYF_tdOr",
        "outputId": "1c6bfd87-11d5-4e9c-9803-0c50d5f7e265"
      },
      "source": [
        "#Removing Outliers function\n",
        "\n",
        "#Found this while looking at other notebooks and felt it was very useful\n",
        "\n",
        "def detect_outliers(df, n, features):\n",
        "    \"\"\"\"\n",
        "    This function will loop through a list of features and detect outliers in each one of those features. In each\n",
        "    loop, a data point is deemed an outlier if it is less than the first quartile minus the outlier step or exceeds\n",
        "    third quartile plus the outlier step. The outlier step is defined as 1.5 times the interquartile range. Once the \n",
        "    outliers have been determined for one feature, their indices will be stored in a list before proceeding to the next\n",
        "    feature and the process repeats until the very last feature is completed. Finally, using the list with outlier \n",
        "    indices, we will count the frequencies of the index numbers and return them if their frequency exceeds n times.    \n",
        "    \"\"\"\n",
        "    outlier_indices = [] \n",
        "    for col in features: \n",
        "        Q1 = np.percentile(df[col], 25)\n",
        "        Q3 = np.percentile(df[col], 75)\n",
        "        IQR = Q3 - Q1\n",
        "        outlier_step = 1.5 * IQR \n",
        "        outlier_list_col = df[(df[col] < Q1 - outlier_step) | (df[col] > Q3 + outlier_step)].index\n",
        "        outlier_indices.extend(outlier_list_col) \n",
        "    outlier_indices = Counter(outlier_indices)\n",
        "    multiple_outliers = list(key for key, value in outlier_indices.items() if value > n) \n",
        "    return multiple_outliers\n",
        "\n",
        "outliers_to_drop = detect_outliers(train_df, 2, ['Age', 'SibSp', 'Parch', 'Fare'])\n",
        "print(\"We will drop these {} indices: \".format(len(outliers_to_drop)), outliers_to_drop)\n",
        "train_df.loc[outliers_to_drop, :]"
      ],
      "execution_count": 18,
      "outputs": [
        {
          "output_type": "stream",
          "name": "stdout",
          "text": [
            "We will drop these 10 indices:  [27, 88, 159, 180, 201, 324, 341, 792, 846, 863]\n"
          ]
        },
        {
          "output_type": "execute_result",
          "data": {
            "text/html": [
              "<div>\n",
              "<style scoped>\n",
              "    .dataframe tbody tr th:only-of-type {\n",
              "        vertical-align: middle;\n",
              "    }\n",
              "\n",
              "    .dataframe tbody tr th {\n",
              "        vertical-align: top;\n",
              "    }\n",
              "\n",
              "    .dataframe thead th {\n",
              "        text-align: right;\n",
              "    }\n",
              "</style>\n",
              "<table border=\"1\" class=\"dataframe\">\n",
              "  <thead>\n",
              "    <tr style=\"text-align: right;\">\n",
              "      <th></th>\n",
              "      <th>PassengerId</th>\n",
              "      <th>Survived</th>\n",
              "      <th>Pclass</th>\n",
              "      <th>Name</th>\n",
              "      <th>Sex</th>\n",
              "      <th>Age</th>\n",
              "      <th>SibSp</th>\n",
              "      <th>Parch</th>\n",
              "      <th>Ticket</th>\n",
              "      <th>Fare</th>\n",
              "      <th>Cabin</th>\n",
              "      <th>Embarked</th>\n",
              "    </tr>\n",
              "  </thead>\n",
              "  <tbody>\n",
              "    <tr>\n",
              "      <th>27</th>\n",
              "      <td>28</td>\n",
              "      <td>0</td>\n",
              "      <td>1</td>\n",
              "      <td>Fortune, Mr. Charles Alexander</td>\n",
              "      <td>male</td>\n",
              "      <td>19.0</td>\n",
              "      <td>3</td>\n",
              "      <td>2</td>\n",
              "      <td>19950</td>\n",
              "      <td>263.00</td>\n",
              "      <td>C23 C25 C27</td>\n",
              "      <td>S</td>\n",
              "    </tr>\n",
              "    <tr>\n",
              "      <th>88</th>\n",
              "      <td>89</td>\n",
              "      <td>1</td>\n",
              "      <td>1</td>\n",
              "      <td>Fortune, Miss. Mabel Helen</td>\n",
              "      <td>female</td>\n",
              "      <td>23.0</td>\n",
              "      <td>3</td>\n",
              "      <td>2</td>\n",
              "      <td>19950</td>\n",
              "      <td>263.00</td>\n",
              "      <td>C23 C25 C27</td>\n",
              "      <td>S</td>\n",
              "    </tr>\n",
              "    <tr>\n",
              "      <th>159</th>\n",
              "      <td>160</td>\n",
              "      <td>0</td>\n",
              "      <td>3</td>\n",
              "      <td>Sage, Master. Thomas Henry</td>\n",
              "      <td>male</td>\n",
              "      <td>NaN</td>\n",
              "      <td>8</td>\n",
              "      <td>2</td>\n",
              "      <td>CA. 2343</td>\n",
              "      <td>69.55</td>\n",
              "      <td>NaN</td>\n",
              "      <td>S</td>\n",
              "    </tr>\n",
              "    <tr>\n",
              "      <th>180</th>\n",
              "      <td>181</td>\n",
              "      <td>0</td>\n",
              "      <td>3</td>\n",
              "      <td>Sage, Miss. Constance Gladys</td>\n",
              "      <td>female</td>\n",
              "      <td>NaN</td>\n",
              "      <td>8</td>\n",
              "      <td>2</td>\n",
              "      <td>CA. 2343</td>\n",
              "      <td>69.55</td>\n",
              "      <td>NaN</td>\n",
              "      <td>S</td>\n",
              "    </tr>\n",
              "    <tr>\n",
              "      <th>201</th>\n",
              "      <td>202</td>\n",
              "      <td>0</td>\n",
              "      <td>3</td>\n",
              "      <td>Sage, Mr. Frederick</td>\n",
              "      <td>male</td>\n",
              "      <td>NaN</td>\n",
              "      <td>8</td>\n",
              "      <td>2</td>\n",
              "      <td>CA. 2343</td>\n",
              "      <td>69.55</td>\n",
              "      <td>NaN</td>\n",
              "      <td>S</td>\n",
              "    </tr>\n",
              "    <tr>\n",
              "      <th>324</th>\n",
              "      <td>325</td>\n",
              "      <td>0</td>\n",
              "      <td>3</td>\n",
              "      <td>Sage, Mr. George John Jr</td>\n",
              "      <td>male</td>\n",
              "      <td>NaN</td>\n",
              "      <td>8</td>\n",
              "      <td>2</td>\n",
              "      <td>CA. 2343</td>\n",
              "      <td>69.55</td>\n",
              "      <td>NaN</td>\n",
              "      <td>S</td>\n",
              "    </tr>\n",
              "    <tr>\n",
              "      <th>341</th>\n",
              "      <td>342</td>\n",
              "      <td>1</td>\n",
              "      <td>1</td>\n",
              "      <td>Fortune, Miss. Alice Elizabeth</td>\n",
              "      <td>female</td>\n",
              "      <td>24.0</td>\n",
              "      <td>3</td>\n",
              "      <td>2</td>\n",
              "      <td>19950</td>\n",
              "      <td>263.00</td>\n",
              "      <td>C23 C25 C27</td>\n",
              "      <td>S</td>\n",
              "    </tr>\n",
              "    <tr>\n",
              "      <th>792</th>\n",
              "      <td>793</td>\n",
              "      <td>0</td>\n",
              "      <td>3</td>\n",
              "      <td>Sage, Miss. Stella Anna</td>\n",
              "      <td>female</td>\n",
              "      <td>NaN</td>\n",
              "      <td>8</td>\n",
              "      <td>2</td>\n",
              "      <td>CA. 2343</td>\n",
              "      <td>69.55</td>\n",
              "      <td>NaN</td>\n",
              "      <td>S</td>\n",
              "    </tr>\n",
              "    <tr>\n",
              "      <th>846</th>\n",
              "      <td>847</td>\n",
              "      <td>0</td>\n",
              "      <td>3</td>\n",
              "      <td>Sage, Mr. Douglas Bullen</td>\n",
              "      <td>male</td>\n",
              "      <td>NaN</td>\n",
              "      <td>8</td>\n",
              "      <td>2</td>\n",
              "      <td>CA. 2343</td>\n",
              "      <td>69.55</td>\n",
              "      <td>NaN</td>\n",
              "      <td>S</td>\n",
              "    </tr>\n",
              "    <tr>\n",
              "      <th>863</th>\n",
              "      <td>864</td>\n",
              "      <td>0</td>\n",
              "      <td>3</td>\n",
              "      <td>Sage, Miss. Dorothy Edith \"Dolly\"</td>\n",
              "      <td>female</td>\n",
              "      <td>NaN</td>\n",
              "      <td>8</td>\n",
              "      <td>2</td>\n",
              "      <td>CA. 2343</td>\n",
              "      <td>69.55</td>\n",
              "      <td>NaN</td>\n",
              "      <td>S</td>\n",
              "    </tr>\n",
              "  </tbody>\n",
              "</table>\n",
              "</div>"
            ],
            "text/plain": [
              "     PassengerId  Survived  Pclass  ...    Fare        Cabin  Embarked\n",
              "27            28         0       1  ...  263.00  C23 C25 C27         S\n",
              "88            89         1       1  ...  263.00  C23 C25 C27         S\n",
              "159          160         0       3  ...   69.55          NaN         S\n",
              "180          181         0       3  ...   69.55          NaN         S\n",
              "201          202         0       3  ...   69.55          NaN         S\n",
              "324          325         0       3  ...   69.55          NaN         S\n",
              "341          342         1       1  ...  263.00  C23 C25 C27         S\n",
              "792          793         0       3  ...   69.55          NaN         S\n",
              "846          847         0       3  ...   69.55          NaN         S\n",
              "863          864         0       3  ...   69.55          NaN         S\n",
              "\n",
              "[10 rows x 12 columns]"
            ]
          },
          "metadata": {},
          "execution_count": 18
        }
      ]
    },
    {
      "cell_type": "code",
      "metadata": {
        "colab": {
          "base_uri": "https://localhost:8080/"
        },
        "id": "fSxMzjVKuIuX",
        "outputId": "deeffc10-2f6a-4fbf-cbc2-db39c1019ce4"
      },
      "source": [
        "#Drop outliers so we can analyze the numericals better\n",
        "\n",
        "print(\"Before: {} rows\".format(len(train_df)))\n",
        "\n",
        "train_df = train_df.drop(outliers_to_drop, axis = 0).reset_index(drop = True)\n",
        "\n",
        "print(\"After: {} rows\".format(len(train_df)), \"\\n\\n\")\n",
        "\n",
        "train_df.info()"
      ],
      "execution_count": 19,
      "outputs": [
        {
          "output_type": "stream",
          "name": "stdout",
          "text": [
            "Before: 891 rows\n",
            "After: 881 rows \n",
            "\n",
            "\n",
            "<class 'pandas.core.frame.DataFrame'>\n",
            "RangeIndex: 881 entries, 0 to 880\n",
            "Data columns (total 12 columns):\n",
            " #   Column       Non-Null Count  Dtype  \n",
            "---  ------       --------------  -----  \n",
            " 0   PassengerId  881 non-null    int64  \n",
            " 1   Survived     881 non-null    int64  \n",
            " 2   Pclass       881 non-null    int64  \n",
            " 3   Name         881 non-null    object \n",
            " 4   Sex          881 non-null    object \n",
            " 5   Age          711 non-null    float64\n",
            " 6   SibSp        881 non-null    int64  \n",
            " 7   Parch        881 non-null    int64  \n",
            " 8   Ticket       881 non-null    object \n",
            " 9   Fare         881 non-null    float64\n",
            " 10  Cabin        201 non-null    object \n",
            " 11  Embarked     879 non-null    object \n",
            "dtypes: float64(2), int64(5), object(5)\n",
            "memory usage: 82.7+ KB\n"
          ]
        }
      ]
    },
    {
      "cell_type": "markdown",
      "metadata": {
        "id": "6jq8I0pGP0Hd"
      },
      "source": [
        "\n",
        "\n",
        "---\n",
        "\n",
        "\n",
        "\n",
        "---\n",
        "\n"
      ]
    },
    {
      "cell_type": "markdown",
      "metadata": {
        "id": "DMACHEM0Pm_7"
      },
      "source": [
        "###Numericals Visualizations"
      ]
    },
    {
      "cell_type": "markdown",
      "metadata": {
        "id": "0EbHoYdRPtIc"
      },
      "source": [
        "####Histograms with Curves for Age"
      ]
    },
    {
      "cell_type": "code",
      "metadata": {
        "colab": {
          "base_uri": "https://localhost:8080/",
          "height": 1000
        },
        "id": "6R7ChxMlxNMM",
        "outputId": "a0e71707-1b20-4a24-a8b7-053c3ad480fe"
      },
      "source": [
        "#Numericals : Age , SibSp , Parch , Fare\n",
        "#1 Age\n",
        "sns.distplot(train_df['Age'], label = 'Density: %.3f'%(train_df['Age'].skew()))\n",
        "plt.legend(loc = 'best')\n",
        "plt.title('Age Histogram of Passengers:')\n",
        "plt.show()\n",
        "\n",
        "#Age density by Survived/Deceased\n",
        "print('Age histograms by Deceased (0) and Survived (1):')\n",
        "Age_Survived_Graphs = sns.FacetGrid(train_df, col = 'Survived')\n",
        "Age_Survived_Graphs.map(sns.distplot, 'Age')\n",
        "plt.show()\n",
        "\n",
        "#Age density by Passenger Class\n",
        "print('Age histograms by Passenger Class:')\n",
        "Age_Survived_Graphs = sns.FacetGrid(train_df, col = 'Pclass')\n",
        "Age_Survived_Graphs.map(sns.distplot, 'Age')\n",
        "plt.show()\n",
        "\n",
        "#Age density by Embarked location\n",
        "print('Age histograms by Embarked Location:')\n",
        "Age_Survived_Graphs = sns.FacetGrid(train_df, col = 'Embarked')\n",
        "Age_Survived_Graphs.map(sns.distplot, 'Age')\n",
        "plt.show()\n",
        "\n",
        "#Line graph showing the density curves for ages of those who survived vs those who died\n",
        "print(\"\\n\\n\")\n",
        "print('Line graph showing the density curves for ages of those who survived vs those who died')\n",
        "sns.kdeplot(train_df['Age'][train_df['Survived'] == 0], label = 'Deceased')\n",
        "sns.kdeplot(train_df['Age'][train_df['Survived'] == 1], label = 'Survived')\n",
        "plt.xlabel('Age')\n",
        "plt.ylabel('Density')\n",
        "plt.title('Passenger Age Distribution by Survival')\n",
        "plt.legend()\n",
        "plt.show()"
      ],
      "execution_count": 20,
      "outputs": [
        {
          "output_type": "display_data",
          "data": {
            "image/png": "[encoded data removed]",
            "text/plain": [
              "<Figure size 432x288 with 1 Axes>"
            ]
          },
          "metadata": {
            "needs_background": "light"
          }
        },
        {
          "output_type": "stream",
          "name": "stdout",
          "text": [
            "Age histograms by Deceased (0) and Survived (1):\n"
          ]
        },
        {
          "output_type": "display_data",
          "data": {
            "image/png": "[encoded data removed]",
            "text/plain": [
              "<Figure size 432x216 with 2 Axes>"
            ]
          },
          "metadata": {
            "needs_background": "light"
          }
        },
        {
          "output_type": "stream",
          "name": "stdout",
          "text": [
            "Age histograms by Passenger Class:\n"
          ]
        },
        {
          "output_type": "display_data",
          "data": {
            "image/png": "[encoded data removed]",
            "text/plain": [
              "<Figure size 648x216 with 3 Axes>"
            ]
          },
          "metadata": {
            "needs_background": "light"
          }
        },
        {
          "output_type": "stream",
          "name": "stdout",
          "text": [
            "Age histograms by Embarked Location:\n"
          ]
        },
        {
          "output_type": "display_data",
          "data": {
            "image/png": "[encoded data removed]",
            "text/plain": [
              "<Figure size 648x216 with 3 Axes>"
            ]
          },
          "metadata": {
            "needs_background": "light"
          }
        },
        {
          "output_type": "stream",
          "name": "stdout",
          "text": [
            "\n",
            "\n",
            "\n",
            "Line graph showing the density curves for ages of those who survived vs those who died\n"
          ]
        },
        {
          "output_type": "display_data",
          "data": {
            "image/png": "[encoded data removed]",
            "text/plain": [
              "<Figure size 432x288 with 1 Axes>"
            ]
          },
          "metadata": {
            "needs_background": "light"
          }
        }
      ]
    },
    {
      "cell_type": "markdown",
      "metadata": {
        "id": "YH6cMfi_Pvpc"
      },
      "source": [
        "####Probability of Survival by SibSp\n"
      ]
    },
    {
      "cell_type": "code",
      "metadata": {
        "colab": {
          "base_uri": "https://localhost:8080/",
          "height": 480
        },
        "id": "4YgVdTDetEb4",
        "outputId": "36500a09-f7d5-4985-e536-8a0c346f1c66"
      },
      "source": [
        "#SibSp\n",
        "print(\"Probability of survival by combined siblings + spouse:\")\n",
        "print(train_df[['SibSp', 'Survived']].groupby('SibSp', as_index = False).mean(),\"\\n\\n\")\n",
        "\n",
        "sns.barplot(x = 'SibSp', y ='Survived', data = train_df)\n",
        "plt.ylabel('Survival Probability')\n",
        "plt.title('Survival Probability by SibSp')\n",
        "plt.show()"
      ],
      "execution_count": 21,
      "outputs": [
        {
          "output_type": "stream",
          "name": "stdout",
          "text": [
            "Probability of survival by combined siblings + spouse:\n",
            "   SibSp  Survived\n",
            "0      0  0.345395\n",
            "1      1  0.535885\n",
            "2      2  0.464286\n",
            "3      3  0.153846\n",
            "4      4  0.166667\n",
            "5      5  0.000000 \n",
            "\n",
            "\n"
          ]
        },
        {
          "output_type": "display_data",
          "data": {
            "image/png": "[encoded data removed]",
            "text/plain": [
              "<Figure size 432x288 with 1 Axes>"
            ]
          },
          "metadata": {
            "needs_background": "light"
          }
        }
      ]
    },
    {
      "cell_type": "markdown",
      "metadata": {
        "id": "zfO3pxa9QCkM"
      },
      "source": [
        "####Probability of Survival by Parch"
      ]
    },
    {
      "cell_type": "code",
      "metadata": {
        "colab": {
          "base_uri": "https://localhost:8080/",
          "height": 497
        },
        "id": "WD58NXlLtndT",
        "outputId": "ca1ada47-14f3-4e73-8c5c-f0c82a3763bb"
      },
      "source": [
        "#Parch\n",
        "print(\"Probability of survival by combined parents + children:\")\n",
        "print(train_df[['Parch', 'Survived']].groupby('Parch', as_index = False).mean(),\"\\n\\n\")\n",
        "\n",
        "sns.barplot(x = 'Parch', y ='Survived', data = train_df)\n",
        "plt.ylabel('Survival Probability')\n",
        "plt.title('Survival Probability by Parch')\n",
        "plt.show()"
      ],
      "execution_count": 22,
      "outputs": [
        {
          "output_type": "stream",
          "name": "stdout",
          "text": [
            "Probability of survival by combined parents + children:\n",
            "   Parch  Survived\n",
            "0      0  0.343658\n",
            "1      1  0.550847\n",
            "2      2  0.542857\n",
            "3      3  0.600000\n",
            "4      4  0.000000\n",
            "5      5  0.200000\n",
            "6      6  0.000000 \n",
            "\n",
            "\n"
          ]
        },
        {
          "output_type": "display_data",
          "data": {
            "image/png": "[encoded data removed]",
            "text/plain": [
              "<Figure size 432x288 with 1 Axes>"
            ]
          },
          "metadata": {
            "needs_background": "light"
          }
        }
      ]
    },
    {
      "cell_type": "markdown",
      "metadata": {
        "id": "YC-_BdcvTVPj"
      },
      "source": [
        "####Displaying Discrepancy in Fare"
      ]
    },
    {
      "cell_type": "code",
      "metadata": {
        "colab": {
          "base_uri": "https://localhost:8080/",
          "height": 313
        },
        "id": "u2kk4GLmt4Pg",
        "outputId": "cb339d24-bdbe-4f23-94ac-ef768400828a"
      },
      "source": [
        "#Fare\n",
        "#check the amount of nulls as there were nulls before\n",
        "print(\"The number of null values in the 'Fare' column is: \", train_df['Fare'].isnull().sum())\n",
        "\n",
        "sns.distplot(train_df['Fare'], label = 'Skewness: %.2f'%(train_df['Fare'].skew()))\n",
        "plt.legend(loc = 'best')\n",
        "plt.ylabel('Passenger Fare Density')\n",
        "plt.title('Passenger Fare Density Graph')\n",
        "plt.show()"
      ],
      "execution_count": 23,
      "outputs": [
        {
          "output_type": "stream",
          "name": "stdout",
          "text": [
            "The number of null values in the 'Fare' column is:  0\n"
          ]
        },
        {
          "output_type": "display_data",
          "data": {
            "image/png": "[encoded data removed]",
            "text/plain": [
              "<Figure size 432x288 with 1 Axes>"
            ]
          },
          "metadata": {
            "needs_background": "light"
          }
        }
      ]
    },
    {
      "cell_type": "markdown",
      "metadata": {
        "id": "eg7_YpTrkD0J"
      },
      "source": [
        "###Data Preprocessing\n"
      ]
    },
    {
      "cell_type": "markdown",
      "metadata": {
        "id": "ZV2TBkC70GHl"
      },
      "source": [
        "####Original Missing Data"
      ]
    },
    {
      "cell_type": "code",
      "metadata": {
        "colab": {
          "base_uri": "https://localhost:8080/"
        },
        "id": "NnICt2a1ncFH",
        "outputId": "404fd2ad-4c18-4530-e3fa-b580c7246d1f"
      },
      "source": [
        "#Again printing out the values that are missing in the data\n",
        "print(\"Missing Values: \")\n",
        "print(train_df.isnull().sum())"
      ],
      "execution_count": 24,
      "outputs": [
        {
          "output_type": "stream",
          "name": "stdout",
          "text": [
            "Missing Values: \n",
            "PassengerId      0\n",
            "Survived         0\n",
            "Pclass           0\n",
            "Name             0\n",
            "Sex              0\n",
            "Age            170\n",
            "SibSp            0\n",
            "Parch            0\n",
            "Ticket           0\n",
            "Fare             0\n",
            "Cabin          680\n",
            "Embarked         2\n",
            "dtype: int64\n"
          ]
        }
      ]
    },
    {
      "cell_type": "markdown",
      "metadata": {
        "id": "rMb0ZcHX0JA4"
      },
      "source": [
        "####Removing Worst Categorical Columns (See Categorical Bar Graphs)"
      ]
    },
    {
      "cell_type": "code",
      "metadata": {
        "colab": {
          "base_uri": "https://localhost:8080/"
        },
        "id": "D0FYS5SIio7Q",
        "outputId": "b21c57e1-a138-4e73-c010-45a4c75013a2"
      },
      "source": [
        "#droping the two categories that provided less than stellar desires (see categorical graph counts)\n",
        "training_df = train_df.drop(['Ticket', 'Cabin'], axis = 1)\n",
        "testing_df = test_df.drop(['Ticket', 'Cabin'], axis = 1)\n",
        "\n",
        "training_df.info()\n",
        "testing_df.info()\n",
        "\n",
        "print(\"\\n\\nMissing Values Training: \")\n",
        "print(training_df.isnull().sum())\n",
        "print(\"\\n\\nMissing Values Testing: \")\n",
        "print(testing_df.isnull().sum())"
      ],
      "execution_count": 25,
      "outputs": [
        {
          "output_type": "stream",
          "name": "stdout",
          "text": [
            "<class 'pandas.core.frame.DataFrame'>\n",
            "RangeIndex: 881 entries, 0 to 880\n",
            "Data columns (total 10 columns):\n",
            " #   Column       Non-Null Count  Dtype  \n",
            "---  ------       --------------  -----  \n",
            " 0   PassengerId  881 non-null    int64  \n",
            " 1   Survived     881 non-null    int64  \n",
            " 2   Pclass       881 non-null    int64  \n",
            " 3   Name         881 non-null    object \n",
            " 4   Sex          881 non-null    object \n",
            " 5   Age          711 non-null    float64\n",
            " 6   SibSp        881 non-null    int64  \n",
            " 7   Parch        881 non-null    int64  \n",
            " 8   Fare         881 non-null    float64\n",
            " 9   Embarked     879 non-null    object \n",
            "dtypes: float64(2), int64(5), object(3)\n",
            "memory usage: 69.0+ KB\n",
            "<class 'pandas.core.frame.DataFrame'>\n",
            "RangeIndex: 418 entries, 0 to 417\n",
            "Data columns (total 9 columns):\n",
            " #   Column       Non-Null Count  Dtype  \n",
            "---  ------       --------------  -----  \n",
            " 0   PassengerId  418 non-null    int64  \n",
            " 1   Pclass       418 non-null    int64  \n",
            " 2   Name         418 non-null    object \n",
            " 3   Sex          418 non-null    object \n",
            " 4   Age          332 non-null    float64\n",
            " 5   SibSp        418 non-null    int64  \n",
            " 6   Parch        418 non-null    int64  \n",
            " 7   Fare         417 non-null    float64\n",
            " 8   Embarked     418 non-null    object \n",
            "dtypes: float64(2), int64(4), object(3)\n",
            "memory usage: 29.5+ KB\n",
            "\n",
            "\n",
            "Missing Values Training: \n",
            "PassengerId      0\n",
            "Survived         0\n",
            "Pclass           0\n",
            "Name             0\n",
            "Sex              0\n",
            "Age            170\n",
            "SibSp            0\n",
            "Parch            0\n",
            "Fare             0\n",
            "Embarked         2\n",
            "dtype: int64\n",
            "\n",
            "\n",
            "Missing Values Testing: \n",
            "PassengerId     0\n",
            "Pclass          0\n",
            "Name            0\n",
            "Sex             0\n",
            "Age            86\n",
            "SibSp           0\n",
            "Parch           0\n",
            "Fare            1\n",
            "Embarked        0\n",
            "dtype: int64\n"
          ]
        }
      ]
    },
    {
      "cell_type": "markdown",
      "metadata": {
        "id": "LEsH8aNq0Vvy"
      },
      "source": [
        "####Removing Embarked Nulls in Training Set"
      ]
    },
    {
      "cell_type": "code",
      "metadata": {
        "colab": {
          "base_uri": "https://localhost:8080/"
        },
        "id": "pIYa0XRjiuyG",
        "outputId": "8bddf74b-1ac8-4901-fc0c-3096e5d22826"
      },
      "source": [
        "#First we will fill in the Embarked Nulls with the mode of the rest of the data for that column so we are left with the age\n",
        "#1. Determine the mode\n",
        "mode_embarked = training_df['Embarked'].dropna().mode()[0]\n",
        "print(\"Mode of the training embarked locations: \", mode_embarked, \"\\n\")\n",
        "\n",
        "#2. Fill in the Nulls with the 'Determined Mode'\n",
        "training_df['Embarked'].fillna(mode_embarked, inplace = True)\n",
        "\n",
        "#3. Show the output of null values remaining:\n",
        "print(\"Missing Values Training: \")\n",
        "print(training_df.isnull().sum())"
      ],
      "execution_count": 26,
      "outputs": [
        {
          "output_type": "stream",
          "name": "stdout",
          "text": [
            "Mode of the training embarked locations:  S \n",
            "\n",
            "Missing Values Training: \n",
            "PassengerId      0\n",
            "Survived         0\n",
            "Pclass           0\n",
            "Name             0\n",
            "Sex              0\n",
            "Age            170\n",
            "SibSp            0\n",
            "Parch            0\n",
            "Fare             0\n",
            "Embarked         0\n",
            "dtype: int64\n"
          ]
        }
      ]
    },
    {
      "cell_type": "markdown",
      "metadata": {
        "id": "ZhL1pP_f0a3K"
      },
      "source": [
        "####Removing Fare Nulls in the Testing Set"
      ]
    },
    {
      "cell_type": "code",
      "metadata": {
        "colab": {
          "base_uri": "https://localhost:8080/"
        },
        "id": "cTgif4PipYu1",
        "outputId": "4ad439f9-7e42-4692-a586-67a5a5b2a289"
      },
      "source": [
        "#Next we will fill in the Fare Nulls with the median of the rest of the data for that column so we are left with the age\n",
        "#1. Determine the median\n",
        "median_fare = testing_df['Fare'].dropna().median()\n",
        "print(\"Median of the testing fare: \", median_fare, \"\\n\")\n",
        "\n",
        "#2. Fill in the Nulls with the 'Determined Mode'\n",
        "testing_df['Fare'].fillna(median_fare, inplace = True)\n",
        "\n",
        "#3. Show the output of null values remaining:\n",
        "print(\"Missing Values Testing: \")\n",
        "print(testing_df.isnull().sum(),\"\\n\\n\")"
      ],
      "execution_count": 27,
      "outputs": [
        {
          "output_type": "stream",
          "name": "stdout",
          "text": [
            "Median of the testing fare:  14.4542 \n",
            "\n",
            "Missing Values Testing: \n",
            "PassengerId     0\n",
            "Pclass          0\n",
            "Name            0\n",
            "Sex             0\n",
            "Age            86\n",
            "SibSp           0\n",
            "Parch           0\n",
            "Fare            0\n",
            "Embarked        0\n",
            "dtype: int64 \n",
            "\n",
            "\n"
          ]
        }
      ]
    },
    {
      "cell_type": "markdown",
      "metadata": {
        "id": "6FY-poDZ0f6e"
      },
      "source": [
        "####Combined Training and Testing"
      ]
    },
    {
      "cell_type": "code",
      "metadata": {
        "colab": {
          "base_uri": "https://localhost:8080/",
          "height": 363
        },
        "id": "SKw54UbfqAdM",
        "outputId": "94bfd838-9ef8-4478-93a8-b365e607d658"
      },
      "source": [
        "#Now we can combine the training and testing data because we have age as the only null column similar between the two\n",
        "combine_df = pd.concat([training_df, testing_df], axis = 0).reset_index(drop = True)\n",
        "combine_df.head(10)"
      ],
      "execution_count": 28,
      "outputs": [
        {
          "output_type": "execute_result",
          "data": {
            "text/html": [
              "<div>\n",
              "<style scoped>\n",
              "    .dataframe tbody tr th:only-of-type {\n",
              "        vertical-align: middle;\n",
              "    }\n",
              "\n",
              "    .dataframe tbody tr th {\n",
              "        vertical-align: top;\n",
              "    }\n",
              "\n",
              "    .dataframe thead th {\n",
              "        text-align: right;\n",
              "    }\n",
              "</style>\n",
              "<table border=\"1\" class=\"dataframe\">\n",
              "  <thead>\n",
              "    <tr style=\"text-align: right;\">\n",
              "      <th></th>\n",
              "      <th>PassengerId</th>\n",
              "      <th>Survived</th>\n",
              "      <th>Pclass</th>\n",
              "      <th>Name</th>\n",
              "      <th>Sex</th>\n",
              "      <th>Age</th>\n",
              "      <th>SibSp</th>\n",
              "      <th>Parch</th>\n",
              "      <th>Fare</th>\n",
              "      <th>Embarked</th>\n",
              "    </tr>\n",
              "  </thead>\n",
              "  <tbody>\n",
              "    <tr>\n",
              "      <th>0</th>\n",
              "      <td>1</td>\n",
              "      <td>0.0</td>\n",
              "      <td>3</td>\n",
              "      <td>Braund, Mr. Owen Harris</td>\n",
              "      <td>male</td>\n",
              "      <td>22.0</td>\n",
              "      <td>1</td>\n",
              "      <td>0</td>\n",
              "      <td>7.2500</td>\n",
              "      <td>S</td>\n",
              "    </tr>\n",
              "    <tr>\n",
              "      <th>1</th>\n",
              "      <td>2</td>\n",
              "      <td>1.0</td>\n",
              "      <td>1</td>\n",
              "      <td>Cumings, Mrs. John Bradley (Florence Briggs Th...</td>\n",
              "      <td>female</td>\n",
              "      <td>38.0</td>\n",
              "      <td>1</td>\n",
              "      <td>0</td>\n",
              "      <td>71.2833</td>\n",
              "      <td>C</td>\n",
              "    </tr>\n",
              "    <tr>\n",
              "      <th>2</th>\n",
              "      <td>3</td>\n",
              "      <td>1.0</td>\n",
              "      <td>3</td>\n",
              "      <td>Heikkinen, Miss. Laina</td>\n",
              "      <td>female</td>\n",
              "      <td>26.0</td>\n",
              "      <td>0</td>\n",
              "      <td>0</td>\n",
              "      <td>7.9250</td>\n",
              "      <td>S</td>\n",
              "    </tr>\n",
              "    <tr>\n",
              "      <th>3</th>\n",
              "      <td>4</td>\n",
              "      <td>1.0</td>\n",
              "      <td>1</td>\n",
              "      <td>Futrelle, Mrs. Jacques Heath (Lily May Peel)</td>\n",
              "      <td>female</td>\n",
              "      <td>35.0</td>\n",
              "      <td>1</td>\n",
              "      <td>0</td>\n",
              "      <td>53.1000</td>\n",
              "      <td>S</td>\n",
              "    </tr>\n",
              "    <tr>\n",
              "      <th>4</th>\n",
              "      <td>5</td>\n",
              "      <td>0.0</td>\n",
              "      <td>3</td>\n",
              "      <td>Allen, Mr. William Henry</td>\n",
              "      <td>male</td>\n",
              "      <td>35.0</td>\n",
              "      <td>0</td>\n",
              "      <td>0</td>\n",
              "      <td>8.0500</td>\n",
              "      <td>S</td>\n",
              "    </tr>\n",
              "    <tr>\n",
              "      <th>5</th>\n",
              "      <td>6</td>\n",
              "      <td>0.0</td>\n",
              "      <td>3</td>\n",
              "      <td>Moran, Mr. James</td>\n",
              "      <td>male</td>\n",
              "      <td>NaN</td>\n",
              "      <td>0</td>\n",
              "      <td>0</td>\n",
              "      <td>8.4583</td>\n",
              "      <td>Q</td>\n",
              "    </tr>\n",
              "    <tr>\n",
              "      <th>6</th>\n",
              "      <td>7</td>\n",
              "      <td>0.0</td>\n",
              "      <td>1</td>\n",
              "      <td>McCarthy, Mr. Timothy J</td>\n",
              "      <td>male</td>\n",
              "      <td>54.0</td>\n",
              "      <td>0</td>\n",
              "      <td>0</td>\n",
              "      <td>51.8625</td>\n",
              "      <td>S</td>\n",
              "    </tr>\n",
              "    <tr>\n",
              "      <th>7</th>\n",
              "      <td>8</td>\n",
              "      <td>0.0</td>\n",
              "      <td>3</td>\n",
              "      <td>Palsson, Master. Gosta Leonard</td>\n",
              "      <td>male</td>\n",
              "      <td>2.0</td>\n",
              "      <td>3</td>\n",
              "      <td>1</td>\n",
              "      <td>21.0750</td>\n",
              "      <td>S</td>\n",
              "    </tr>\n",
              "    <tr>\n",
              "      <th>8</th>\n",
              "      <td>9</td>\n",
              "      <td>1.0</td>\n",
              "      <td>3</td>\n",
              "      <td>Johnson, Mrs. Oscar W (Elisabeth Vilhelmina Berg)</td>\n",
              "      <td>female</td>\n",
              "      <td>27.0</td>\n",
              "      <td>0</td>\n",
              "      <td>2</td>\n",
              "      <td>11.1333</td>\n",
              "      <td>S</td>\n",
              "    </tr>\n",
              "    <tr>\n",
              "      <th>9</th>\n",
              "      <td>10</td>\n",
              "      <td>1.0</td>\n",
              "      <td>2</td>\n",
              "      <td>Nasser, Mrs. Nicholas (Adele Achem)</td>\n",
              "      <td>female</td>\n",
              "      <td>14.0</td>\n",
              "      <td>1</td>\n",
              "      <td>0</td>\n",
              "      <td>30.0708</td>\n",
              "      <td>C</td>\n",
              "    </tr>\n",
              "  </tbody>\n",
              "</table>\n",
              "</div>"
            ],
            "text/plain": [
              "   PassengerId  Survived  Pclass  ... Parch     Fare  Embarked\n",
              "0            1       0.0       3  ...     0   7.2500         S\n",
              "1            2       1.0       1  ...     0  71.2833         C\n",
              "2            3       1.0       3  ...     0   7.9250         S\n",
              "3            4       1.0       1  ...     0  53.1000         S\n",
              "4            5       0.0       3  ...     0   8.0500         S\n",
              "5            6       0.0       3  ...     0   8.4583         Q\n",
              "6            7       0.0       1  ...     0  51.8625         S\n",
              "7            8       0.0       3  ...     1  21.0750         S\n",
              "8            9       1.0       3  ...     2  11.1333         S\n",
              "9           10       1.0       2  ...     0  30.0708         C\n",
              "\n",
              "[10 rows x 10 columns]"
            ]
          },
          "metadata": {},
          "execution_count": 28
        }
      ]
    },
    {
      "cell_type": "markdown",
      "metadata": {
        "id": "lOhcU6_10jtq"
      },
      "source": [
        "#####Combined Set Info"
      ]
    },
    {
      "cell_type": "code",
      "metadata": {
        "colab": {
          "base_uri": "https://localhost:8080/"
        },
        "id": "JOiw-7o4qTTY",
        "outputId": "4c33efc8-c989-4d07-a698-975eacaf02ea"
      },
      "source": [
        "#Now see the infomation of null values in the combine_df\n",
        "print(\"Missing Values Combined: \")\n",
        "print(combine_df.isnull().sum())\n",
        "\n",
        "#Dont worry about the Survived that are unknown because we are to determine those values (comes from test set)\n",
        "#Before we can fill the age we need to figure out what corresponds to certain ages? (Sex, etc?)\n",
        "#Found this next part via a notebook online that does a good job at showing how they determined how to fill\n",
        "#in the age column nulls and why"
      ],
      "execution_count": 29,
      "outputs": [
        {
          "output_type": "stream",
          "name": "stdout",
          "text": [
            "Missing Values Combined: \n",
            "PassengerId      0\n",
            "Survived       418\n",
            "Pclass           0\n",
            "Name             0\n",
            "Sex              0\n",
            "Age            256\n",
            "SibSp            0\n",
            "Parch            0\n",
            "Fare             0\n",
            "Embarked         0\n",
            "dtype: int64\n"
          ]
        }
      ]
    },
    {
      "cell_type": "markdown",
      "metadata": {
        "id": "_36wjBYd0pIi"
      },
      "source": [
        "#####Creating Sex Value Column (Male:0,Female:1)"
      ]
    },
    {
      "cell_type": "code",
      "metadata": {
        "colab": {
          "base_uri": "https://localhost:8080/",
          "height": 363
        },
        "id": "lonn88M9rX6a",
        "outputId": "ae592483-4993-4697-bfd1-844d2231dd18"
      },
      "source": [
        "#Changing Sex to 0 and 1 for numerical purposes instead of categoriacal \n",
        "combine_df['Sex Value'] = combine_df['Sex'].map({'male': 0, 'female': 1})\n",
        "\n",
        "#Display the changes\n",
        "combine_df.head(10)"
      ],
      "execution_count": 30,
      "outputs": [
        {
          "output_type": "execute_result",
          "data": {
            "text/html": [
              "<div>\n",
              "<style scoped>\n",
              "    .dataframe tbody tr th:only-of-type {\n",
              "        vertical-align: middle;\n",
              "    }\n",
              "\n",
              "    .dataframe tbody tr th {\n",
              "        vertical-align: top;\n",
              "    }\n",
              "\n",
              "    .dataframe thead th {\n",
              "        text-align: right;\n",
              "    }\n",
              "</style>\n",
              "<table border=\"1\" class=\"dataframe\">\n",
              "  <thead>\n",
              "    <tr style=\"text-align: right;\">\n",
              "      <th></th>\n",
              "      <th>PassengerId</th>\n",
              "      <th>Survived</th>\n",
              "      <th>Pclass</th>\n",
              "      <th>Name</th>\n",
              "      <th>Sex</th>\n",
              "      <th>Age</th>\n",
              "      <th>SibSp</th>\n",
              "      <th>Parch</th>\n",
              "      <th>Fare</th>\n",
              "      <th>Embarked</th>\n",
              "      <th>Sex Value</th>\n",
              "    </tr>\n",
              "  </thead>\n",
              "  <tbody>\n",
              "    <tr>\n",
              "      <th>0</th>\n",
              "      <td>1</td>\n",
              "      <td>0.0</td>\n",
              "      <td>3</td>\n",
              "      <td>Braund, Mr. Owen Harris</td>\n",
              "      <td>male</td>\n",
              "      <td>22.0</td>\n",
              "      <td>1</td>\n",
              "      <td>0</td>\n",
              "      <td>7.2500</td>\n",
              "      <td>S</td>\n",
              "      <td>0</td>\n",
              "    </tr>\n",
              "    <tr>\n",
              "      <th>1</th>\n",
              "      <td>2</td>\n",
              "      <td>1.0</td>\n",
              "      <td>1</td>\n",
              "      <td>Cumings, Mrs. John Bradley (Florence Briggs Th...</td>\n",
              "      <td>female</td>\n",
              "      <td>38.0</td>\n",
              "      <td>1</td>\n",
              "      <td>0</td>\n",
              "      <td>71.2833</td>\n",
              "      <td>C</td>\n",
              "      <td>1</td>\n",
              "    </tr>\n",
              "    <tr>\n",
              "      <th>2</th>\n",
              "      <td>3</td>\n",
              "      <td>1.0</td>\n",
              "      <td>3</td>\n",
              "      <td>Heikkinen, Miss. Laina</td>\n",
              "      <td>female</td>\n",
              "      <td>26.0</td>\n",
              "      <td>0</td>\n",
              "      <td>0</td>\n",
              "      <td>7.9250</td>\n",
              "      <td>S</td>\n",
              "      <td>1</td>\n",
              "    </tr>\n",
              "    <tr>\n",
              "      <th>3</th>\n",
              "      <td>4</td>\n",
              "      <td>1.0</td>\n",
              "      <td>1</td>\n",
              "      <td>Futrelle, Mrs. Jacques Heath (Lily May Peel)</td>\n",
              "      <td>female</td>\n",
              "      <td>35.0</td>\n",
              "      <td>1</td>\n",
              "      <td>0</td>\n",
              "      <td>53.1000</td>\n",
              "      <td>S</td>\n",
              "      <td>1</td>\n",
              "    </tr>\n",
              "    <tr>\n",
              "      <th>4</th>\n",
              "      <td>5</td>\n",
              "      <td>0.0</td>\n",
              "      <td>3</td>\n",
              "      <td>Allen, Mr. William Henry</td>\n",
              "      <td>male</td>\n",
              "      <td>35.0</td>\n",
              "      <td>0</td>\n",
              "      <td>0</td>\n",
              "      <td>8.0500</td>\n",
              "      <td>S</td>\n",
              "      <td>0</td>\n",
              "    </tr>\n",
              "    <tr>\n",
              "      <th>5</th>\n",
              "      <td>6</td>\n",
              "      <td>0.0</td>\n",
              "      <td>3</td>\n",
              "      <td>Moran, Mr. James</td>\n",
              "      <td>male</td>\n",
              "      <td>NaN</td>\n",
              "      <td>0</td>\n",
              "      <td>0</td>\n",
              "      <td>8.4583</td>\n",
              "      <td>Q</td>\n",
              "      <td>0</td>\n",
              "    </tr>\n",
              "    <tr>\n",
              "      <th>6</th>\n",
              "      <td>7</td>\n",
              "      <td>0.0</td>\n",
              "      <td>1</td>\n",
              "      <td>McCarthy, Mr. Timothy J</td>\n",
              "      <td>male</td>\n",
              "      <td>54.0</td>\n",
              "      <td>0</td>\n",
              "      <td>0</td>\n",
              "      <td>51.8625</td>\n",
              "      <td>S</td>\n",
              "      <td>0</td>\n",
              "    </tr>\n",
              "    <tr>\n",
              "      <th>7</th>\n",
              "      <td>8</td>\n",
              "      <td>0.0</td>\n",
              "      <td>3</td>\n",
              "      <td>Palsson, Master. Gosta Leonard</td>\n",
              "      <td>male</td>\n",
              "      <td>2.0</td>\n",
              "      <td>3</td>\n",
              "      <td>1</td>\n",
              "      <td>21.0750</td>\n",
              "      <td>S</td>\n",
              "      <td>0</td>\n",
              "    </tr>\n",
              "    <tr>\n",
              "      <th>8</th>\n",
              "      <td>9</td>\n",
              "      <td>1.0</td>\n",
              "      <td>3</td>\n",
              "      <td>Johnson, Mrs. Oscar W (Elisabeth Vilhelmina Berg)</td>\n",
              "      <td>female</td>\n",
              "      <td>27.0</td>\n",
              "      <td>0</td>\n",
              "      <td>2</td>\n",
              "      <td>11.1333</td>\n",
              "      <td>S</td>\n",
              "      <td>1</td>\n",
              "    </tr>\n",
              "    <tr>\n",
              "      <th>9</th>\n",
              "      <td>10</td>\n",
              "      <td>1.0</td>\n",
              "      <td>2</td>\n",
              "      <td>Nasser, Mrs. Nicholas (Adele Achem)</td>\n",
              "      <td>female</td>\n",
              "      <td>14.0</td>\n",
              "      <td>1</td>\n",
              "      <td>0</td>\n",
              "      <td>30.0708</td>\n",
              "      <td>C</td>\n",
              "      <td>1</td>\n",
              "    </tr>\n",
              "  </tbody>\n",
              "</table>\n",
              "</div>"
            ],
            "text/plain": [
              "   PassengerId  Survived  Pclass  ...     Fare Embarked  Sex Value\n",
              "0            1       0.0       3  ...   7.2500        S          0\n",
              "1            2       1.0       1  ...  71.2833        C          1\n",
              "2            3       1.0       3  ...   7.9250        S          1\n",
              "3            4       1.0       1  ...  53.1000        S          1\n",
              "4            5       0.0       3  ...   8.0500        S          0\n",
              "5            6       0.0       3  ...   8.4583        Q          0\n",
              "6            7       0.0       1  ...  51.8625        S          0\n",
              "7            8       0.0       3  ...  21.0750        S          0\n",
              "8            9       1.0       3  ...  11.1333        S          1\n",
              "9           10       1.0       2  ...  30.0708        C          1\n",
              "\n",
              "[10 rows x 11 columns]"
            ]
          },
          "metadata": {},
          "execution_count": 30
        }
      ]
    },
    {
      "cell_type": "markdown",
      "metadata": {
        "id": "GTWxyFmv021y"
      },
      "source": [
        "#####Numericals Heat Map for Correlation"
      ]
    },
    {
      "cell_type": "code",
      "metadata": {
        "colab": {
          "base_uri": "https://localhost:8080/",
          "height": 287
        },
        "id": "O5ZsdHXFtD6M",
        "outputId": "632261cc-8eba-4e7f-e034-6824a1da475c"
      },
      "source": [
        "# Now numerical columns are: Sex Value, Pclass, Age, SibSp, and Parch\n",
        "# We want to see the correlation between all numericals and then determine\n",
        "# which have the strongest correlation, if any, to make a prediction about AGE\n",
        "\n",
        "sns.heatmap(combine_df.drop(['Survived', 'Sex', 'Name', 'PassengerId', 'Fare'], axis = 1).corr(), annot = True, cmap = 'YlGnBu')"
      ],
      "execution_count": 31,
      "outputs": [
        {
          "output_type": "execute_result",
          "data": {
            "text/plain": [
              "<matplotlib.axes._subplots.AxesSubplot at 0x7f84739dedd0>"
            ]
          },
          "metadata": {},
          "execution_count": 31
        },
        {
          "output_type": "display_data",
          "data": {
            "image/png": "[encoded data removed]",
            "text/plain": [
              "<Figure size 432x288 with 2 Axes>"
            ]
          },
          "metadata": {
            "needs_background": "light"
          }
        }
      ]
    },
    {
      "cell_type": "markdown",
      "metadata": {
        "id": "Etw-CPs-tfEV"
      },
      "source": [
        "From the heatmap from above we can see there is a negative correlation with SibSp, Parch and Pclass, and no real correlation with Sex."
      ]
    },
    {
      "cell_type": "markdown",
      "metadata": {
        "id": "htXy5Npw1A8q"
      },
      "source": [
        "#####Filling in Null Age Cells"
      ]
    },
    {
      "cell_type": "code",
      "metadata": {
        "colab": {
          "base_uri": "https://localhost:8080/"
        },
        "id": "ZNzDZfuGyLOc",
        "outputId": "325ba521-3d8c-4ff2-b382-cc76feeb9ed3"
      },
      "source": [
        "#Determine the number of Null Age cells:\n",
        "Null_Age_Indices = list(combine_df[combine_df['Age'].isnull()].index)\n",
        "print(\"The number of initial null Age cells is: \", len(Null_Age_Indices))\n",
        "\n",
        "#Determine the Null Age cells then insert an age value into them.\n",
        "#The age value that will be inserted is found by locating the rows \n",
        "#that have the same SibSp, Parch and PClass values and filling the\n",
        "#missing age with the median of those rows, however if the rows are\n",
        "#not found, the age will be filled in with the median of the Age column.\n",
        "\n",
        "# Loop through list and impute missing ages\n",
        "for index in Null_Age_Indices:\n",
        "    median_age = combine_df['Age'].median()\n",
        "    predict_age = combine_df['Age'][(combine_df['SibSp'] == combine_df.iloc[index]['SibSp']) \n",
        "                                 & (combine_df['Parch'] == combine_df.iloc[index]['Parch'])\n",
        "                                 & (combine_df['Pclass'] == combine_df.iloc[index][\"Pclass\"])].median()\n",
        "    if np.isnan(predict_age):\n",
        "        combine_df['Age'].iloc[index] = median_age\n",
        "    else:\n",
        "        combine_df['Age'].iloc[index] = predict_age\n",
        "\n",
        "#Outputting the resulting number of null age cells\n",
        "print(\"The number of final null Age cells is: \",combine_df['Age'].isnull().sum())"
      ],
      "execution_count": 32,
      "outputs": [
        {
          "output_type": "stream",
          "name": "stdout",
          "text": [
            "The number of initial null Age cells is:  256\n",
            "The number of final null Age cells is:  0\n"
          ]
        }
      ]
    },
    {
      "cell_type": "markdown",
      "metadata": {
        "id": "_5033NaN1HPs"
      },
      "source": [
        "#####Combined Final Info (Null Checking)"
      ]
    },
    {
      "cell_type": "code",
      "metadata": {
        "colab": {
          "base_uri": "https://localhost:8080/"
        },
        "id": "VuD-KvSAzklZ",
        "outputId": "23d3cfab-a8cc-47c9-a8d8-f4eb7dab4828"
      },
      "source": [
        "#Now see the infomation of null values in the combine_df\n",
        "print(\"Missing Values Combined: \")\n",
        "print(combine_df.isnull().sum())\n",
        "\n",
        "#Only the Survived column is with null values because that is what we are trying to find out."
      ],
      "execution_count": 33,
      "outputs": [
        {
          "output_type": "stream",
          "name": "stdout",
          "text": [
            "Missing Values Combined: \n",
            "PassengerId      0\n",
            "Survived       418\n",
            "Pclass           0\n",
            "Name             0\n",
            "Sex              0\n",
            "Age              0\n",
            "SibSp            0\n",
            "Parch            0\n",
            "Fare             0\n",
            "Embarked         0\n",
            "Sex Value        0\n",
            "dtype: int64\n"
          ]
        }
      ]
    },
    {
      "cell_type": "markdown",
      "metadata": {
        "id": "LzMT8Om61S0o"
      },
      "source": [
        "###Transforming Data"
      ]
    },
    {
      "cell_type": "markdown",
      "metadata": {
        "id": "KENwoGHt1V6K"
      },
      "source": [
        "####Adjusting Fare Distribution to Reduce Skewness"
      ]
    },
    {
      "cell_type": "code",
      "metadata": {
        "colab": {
          "base_uri": "https://localhost:8080/",
          "height": 294
        },
        "id": "_a8uiyTuzkqw",
        "outputId": "847c32e3-f302-4fa2-b083-1f4d8d7d9667"
      },
      "source": [
        "#Apply log transformation to Fare column to reduce skewness from before\n",
        "combine_df['Fare'] = combine_df['Fare'].map(lambda x: np.log(x) if x > 0 else 0)\n",
        "sns.distplot(combine_df['Fare'], label = 'Skewness: %.2f'%(combine_df['Fare'].skew()))\n",
        "plt.legend(loc = 'best')\n",
        "plt.title('Passenger Fare Distribution After Log Transformation')\n",
        "plt.show()"
      ],
      "execution_count": 34,
      "outputs": [
        {
          "output_type": "display_data",
          "data": {
            "image/png": "[encoded data removed]",
            "text/plain": [
              "<Figure size 432x288 with 1 Axes>"
            ]
          },
          "metadata": {
            "needs_background": "light"
          }
        }
      ]
    },
    {
      "cell_type": "markdown",
      "metadata": {
        "id": "RmcKlP7t1dWl"
      },
      "source": [
        "###Adding Features"
      ]
    },
    {
      "cell_type": "markdown",
      "metadata": {
        "id": "3Xaulzxp1j5w"
      },
      "source": [
        "####Title Feature "
      ]
    },
    {
      "cell_type": "code",
      "metadata": {
        "colab": {
          "base_uri": "https://localhost:8080/"
        },
        "id": "RhgJ7TGXzkvR",
        "outputId": "94428a9b-1f62-4113-bcf1-34f4bb3a62d1"
      },
      "source": [
        "#adding title to our data set\n",
        "combine_df['Title'] = [name.split(',')[1].split('.')[0].strip() for name in combine_df['Name']]\n",
        "#outputting titles we have\n",
        "combine_df['Title'].value_counts()"
      ],
      "execution_count": 35,
      "outputs": [
        {
          "output_type": "execute_result",
          "data": {
            "text/plain": [
              "Mr              753\n",
              "Miss            255\n",
              "Mrs             197\n",
              "Master           60\n",
              "Dr                8\n",
              "Rev               8\n",
              "Col               4\n",
              "Major             2\n",
              "Mlle              2\n",
              "Ms                2\n",
              "Dona              1\n",
              "Capt              1\n",
              "the Countess      1\n",
              "Don               1\n",
              "Sir               1\n",
              "Lady              1\n",
              "Jonkheer          1\n",
              "Mme               1\n",
              "Name: Title, dtype: int64"
            ]
          },
          "metadata": {},
          "execution_count": 35
        }
      ]
    },
    {
      "cell_type": "markdown",
      "metadata": {
        "id": "STWpQaTj1mYc"
      },
      "source": [
        "####Title Simplified Feature"
      ]
    },
    {
      "cell_type": "code",
      "metadata": {
        "colab": {
          "base_uri": "https://localhost:8080/"
        },
        "id": "6b98Bxyqzkzz",
        "outputId": "b9556bf1-033e-409b-fe70-6ecb9d371021"
      },
      "source": [
        "# Simplifying titles\n",
        "combine_df['Title Simplified'] = combine_df['Title']\n",
        "\n",
        "combine_df['Title Simplified'] = combine_df['Title Simplified'].replace(['Dr', 'Rev', 'Col', 'Major', 'Lady', 'Jonkheer', 'Don', 'Capt', 'the Countess','Sir', 'Dona'], 'Rare')\n",
        "combine_df['Title Simplified'] = combine_df['Title Simplified'].replace(['Mlle', 'Ms'], 'Miss')\n",
        "combine_df['Title Simplified'] = combine_df['Title Simplified'].replace('Mme', 'Mrs')\n",
        "\n",
        "#outputting titles we have\n",
        "combine_df['Title Simplified'].value_counts()"
      ],
      "execution_count": 36,
      "outputs": [
        {
          "output_type": "execute_result",
          "data": {
            "text/plain": [
              "Mr        753\n",
              "Miss      259\n",
              "Mrs       198\n",
              "Master     60\n",
              "Rare       29\n",
              "Name: Title Simplified, dtype: int64"
            ]
          },
          "metadata": {},
          "execution_count": 36
        }
      ]
    },
    {
      "cell_type": "markdown",
      "metadata": {
        "id": "WojZzUdb1pAE"
      },
      "source": [
        "####Probability of Survival Based on Title|Title Simplified"
      ]
    },
    {
      "cell_type": "code",
      "metadata": {
        "colab": {
          "base_uri": "https://localhost:8080/",
          "height": 1000
        },
        "id": "OqWtKG-_-ISi",
        "outputId": "389949c9-5d21-4faf-935e-5c5c07b2ec11"
      },
      "source": [
        "#showing all titles vs combined titles\n",
        "sns.countplot(combine_df['Title'])\n",
        "plt.title('Title')\n",
        "plt.show()\n",
        "\n",
        "sns.countplot(combine_df['Title Simplified'])\n",
        "plt.title('Title Simplified')\n",
        "plt.show()\n",
        "\n",
        "print(combine_df[['Name', 'Title']].head(20), \"\\n\\n\")\n",
        "print(combine_df[['Name', 'Title Simplified']].head(20), \"\\n\\n\")\n",
        "\n",
        "#Show the survivabily now by title\n",
        "sns.factorplot(x = 'Title Simplified', y = 'Survived', data = combine_df, kind = 'bar', palette = 'mako')\n",
        "plt.ylabel('Survival Probability')\n",
        "plt.title('Survival Probability by Title')\n",
        "plt.show()\n",
        "\n",
        "#Now we can drop the name cause\n",
        "combine_df = combine_df.drop('Name', axis = 1)"
      ],
      "execution_count": 37,
      "outputs": [
        {
          "output_type": "display_data",
          "data": {
            "image/png": "[encoded data removed]",
            "text/plain": [
              "<Figure size 432x288 with 1 Axes>"
            ]
          },
          "metadata": {
            "needs_background": "light"
          }
        },
        {
          "output_type": "display_data",
          "data": {
            "image/png": "[encoded data removed]",
            "text/plain": [
              "<Figure size 432x288 with 1 Axes>"
            ]
          },
          "metadata": {
            "needs_background": "light"
          }
        },
        {
          "output_type": "stream",
          "name": "stdout",
          "text": [
            "                                                 Name   Title\n",
            "0                             Braund, Mr. Owen Harris      Mr\n",
            "1   Cumings, Mrs. John Bradley (Florence Briggs Th...     Mrs\n",
            "2                              Heikkinen, Miss. Laina    Miss\n",
            "3        Futrelle, Mrs. Jacques Heath (Lily May Peel)     Mrs\n",
            "4                            Allen, Mr. William Henry      Mr\n",
            "5                                    Moran, Mr. James      Mr\n",
            "6                             McCarthy, Mr. Timothy J      Mr\n",
            "7                      Palsson, Master. Gosta Leonard  Master\n",
            "8   Johnson, Mrs. Oscar W (Elisabeth Vilhelmina Berg)     Mrs\n",
            "9                 Nasser, Mrs. Nicholas (Adele Achem)     Mrs\n",
            "10                    Sandstrom, Miss. Marguerite Rut    Miss\n",
            "11                           Bonnell, Miss. Elizabeth    Miss\n",
            "12                     Saundercock, Mr. William Henry      Mr\n",
            "13                        Andersson, Mr. Anders Johan      Mr\n",
            "14               Vestrom, Miss. Hulda Amanda Adolfina    Miss\n",
            "15                   Hewlett, Mrs. (Mary D Kingcome)      Mrs\n",
            "16                               Rice, Master. Eugene  Master\n",
            "17                       Williams, Mr. Charles Eugene      Mr\n",
            "18  Vander Planke, Mrs. Julius (Emelia Maria Vande...     Mrs\n",
            "19                            Masselmani, Mrs. Fatima     Mrs \n",
            "\n",
            "\n",
            "                                                 Name Title Simplified\n",
            "0                             Braund, Mr. Owen Harris               Mr\n",
            "1   Cumings, Mrs. John Bradley (Florence Briggs Th...              Mrs\n",
            "2                              Heikkinen, Miss. Laina             Miss\n",
            "3        Futrelle, Mrs. Jacques Heath (Lily May Peel)              Mrs\n",
            "4                            Allen, Mr. William Henry               Mr\n",
            "5                                    Moran, Mr. James               Mr\n",
            "6                             McCarthy, Mr. Timothy J               Mr\n",
            "7                      Palsson, Master. Gosta Leonard           Master\n",
            "8   Johnson, Mrs. Oscar W (Elisabeth Vilhelmina Berg)              Mrs\n",
            "9                 Nasser, Mrs. Nicholas (Adele Achem)              Mrs\n",
            "10                    Sandstrom, Miss. Marguerite Rut             Miss\n",
            "11                           Bonnell, Miss. Elizabeth             Miss\n",
            "12                     Saundercock, Mr. William Henry               Mr\n",
            "13                        Andersson, Mr. Anders Johan               Mr\n",
            "14               Vestrom, Miss. Hulda Amanda Adolfina             Miss\n",
            "15                   Hewlett, Mrs. (Mary D Kingcome)               Mrs\n",
            "16                               Rice, Master. Eugene           Master\n",
            "17                       Williams, Mr. Charles Eugene               Mr\n",
            "18  Vander Planke, Mrs. Julius (Emelia Maria Vande...              Mrs\n",
            "19                            Masselmani, Mrs. Fatima              Mrs \n",
            "\n",
            "\n"
          ]
        },
        {
          "output_type": "display_data",
          "data": {
            "image/png": "[encoded data removed]",
            "text/plain": [
              "<Figure size 360x360 with 1 Axes>"
            ]
          },
          "metadata": {
            "needs_background": "light"
          }
        }
      ]
    },
    {
      "cell_type": "markdown",
      "metadata": {
        "id": "iSxjlgij1vPC"
      },
      "source": [
        "####Family Size Feature"
      ]
    },
    {
      "cell_type": "markdown",
      "metadata": {
        "id": "rf-gg83C17ih"
      },
      "source": [
        "####Probability of Survival Based on Family Size"
      ]
    },
    {
      "cell_type": "code",
      "metadata": {
        "colab": {
          "base_uri": "https://localhost:8080/",
          "height": 864
        },
        "id": "NKpdL-2kEkbH",
        "outputId": "a889b1b4-5c7b-4a6e-a431-bdc142b3e688"
      },
      "source": [
        "#Family size is the SibSp + Parch + themselves summed so lets add that\n",
        "\n",
        "combine_df['Family Size'] = combine_df['SibSp'] + combine_df['Parch'] + 1\n",
        "\n",
        "#now we can see the information gathered by family size\n",
        "print(\"Counts of Family Size:\")\n",
        "print(combine_df['Family Size'].value_counts(), \"\\n\\n\")\n",
        "\n",
        "#can see the survivability based on family size\n",
        "print(\"Survival Probability by Family Size:\")\n",
        "print(combine_df[['Family Size', 'Survived']].groupby('Family Size', as_index = False).mean(), \"\\n\\n\")\n",
        "\n",
        "#plotting bar graph showing probability of survival by family size\n",
        "sns.factorplot(x = 'Family Size', y = 'Survived', data = combine_df, kind = 'bar', palette = 'mako')\n",
        "plt.ylabel('Survival Probability')\n",
        "plt.title('Survival Probability by Family Size')\n",
        "plt.show()"
      ],
      "execution_count": 38,
      "outputs": [
        {
          "output_type": "stream",
          "name": "stdout",
          "text": [
            "Counts of Family Size:\n",
            "1     790\n",
            "2     235\n",
            "3     159\n",
            "4      43\n",
            "6      22\n",
            "5      22\n",
            "7      16\n",
            "8       8\n",
            "11      4\n",
            "Name: Family Size, dtype: int64 \n",
            "\n",
            "\n",
            "Survival Probability by Family Size:\n",
            "   Family Size  Survived\n",
            "0            1  0.303538\n",
            "1            2  0.552795\n",
            "2            3  0.578431\n",
            "3            4  0.724138\n",
            "4            5  0.200000\n",
            "5            6  0.052632\n",
            "6            7  0.333333\n",
            "7            8  0.000000\n",
            "8           11       NaN \n",
            "\n",
            "\n"
          ]
        },
        {
          "output_type": "display_data",
          "data": {
            "image/png": "[encoded data removed]",
            "text/plain": [
              "<Figure size 360x360 with 1 Axes>"
            ]
          },
          "metadata": {
            "needs_background": "light"
          }
        }
      ]
    },
    {
      "cell_type": "markdown",
      "metadata": {
        "id": "FCLi384-2C8n"
      },
      "source": [
        "####IsAlone Feature"
      ]
    },
    {
      "cell_type": "markdown",
      "metadata": {
        "id": "RomMAeHA2KCN"
      },
      "source": [
        "####Percentage of Suvival Based on Sex by Status of Alone or Not Alone"
      ]
    },
    {
      "cell_type": "code",
      "metadata": {
        "colab": {
          "base_uri": "https://localhost:8080/",
          "height": 691
        },
        "id": "9mwMsZBNNpFy",
        "outputId": "ecbafcd6-389f-4b7d-86be-d4a022952489"
      },
      "source": [
        "#by knowing family size of 1 means there was only an individual by themselves, we can create a column to track their survival rate vs those who were with others\n",
        "combine_df['IsAlone'] = 0\n",
        "combine_df.loc[combine_df['Family Size'] == 1, 'IsAlone'] = 1\n",
        "\n",
        "#output the probability of them being alone vs with others\n",
        "#if they are alone they are labeled as 1 and came with others is labeled as 0\n",
        "print(combine_df[['IsAlone', 'Survived']].groupby('IsAlone', as_index = False).mean())\n",
        "\n",
        "\n",
        "#pivot table showing the chart below\n",
        "print(\"\\n\\n\\nPivot Table Representing the Percentage Survived by Sex by IsAlone:\\n\")\n",
        "table = pd.pivot_table(combine_df, values = \"Survived\", index = ['Sex', 'IsAlone'])\n",
        "print(table, \"\\n\\n\")\n",
        "\n",
        "\n",
        "AloneVsNotSurvival = sns.factorplot(x = 'IsAlone', y = 'Survived', hue = 'Sex', data = combine_df, kind = 'bar')\n",
        "AloneVsNotSurvival.despine(left = True)\n",
        "plt.ylabel('Probability of Survival (0-1)')\n",
        "plt.xlabel('Traveled w/ Others(0) or Alone(1)')\n",
        "plt.title(\"Percentage Survival Rate by status of Alone(1) or not(0):\\n\")\n",
        "plt.show()"
      ],
      "execution_count": 39,
      "outputs": [
        {
          "output_type": "stream",
          "name": "stdout",
          "text": [
            "   IsAlone  Survived\n",
            "0        0  0.514535\n",
            "1        1  0.303538\n",
            "\n",
            "\n",
            "\n",
            "Pivot Table Representing the Percentage Survived by Sex by IsAlone:\n",
            "\n",
            "                Survived\n",
            "Sex    IsAlone          \n",
            "female 0        0.721311\n",
            "       1        0.785714\n",
            "male   0        0.279503\n",
            "       1        0.155718 \n",
            "\n",
            "\n"
          ]
        },
        {
          "output_type": "display_data",
          "data": {
            "image/png": "[encoded data removed]",
            "text/plain": [
              "<Figure size 430.5x360 with 1 Axes>"
            ]
          },
          "metadata": {
            "needs_background": "light"
          }
        }
      ]
    },
    {
      "cell_type": "markdown",
      "metadata": {
        "id": "3SG-KOHK5820"
      },
      "source": [
        "####Combined Datafram Info at This point"
      ]
    },
    {
      "cell_type": "code",
      "metadata": {
        "colab": {
          "base_uri": "https://localhost:8080/",
          "height": 363
        },
        "id": "iKfAO00-WGqh",
        "outputId": "9c1e4b67-3856-4e32-ef06-84edea58c66b"
      },
      "source": [
        "#dataframe information\n",
        "combine_df.head(10)"
      ],
      "execution_count": 40,
      "outputs": [
        {
          "output_type": "execute_result",
          "data": {
            "text/html": [
              "<div>\n",
              "<style scoped>\n",
              "    .dataframe tbody tr th:only-of-type {\n",
              "        vertical-align: middle;\n",
              "    }\n",
              "\n",
              "    .dataframe tbody tr th {\n",
              "        vertical-align: top;\n",
              "    }\n",
              "\n",
              "    .dataframe thead th {\n",
              "        text-align: right;\n",
              "    }\n",
              "</style>\n",
              "<table border=\"1\" class=\"dataframe\">\n",
              "  <thead>\n",
              "    <tr style=\"text-align: right;\">\n",
              "      <th></th>\n",
              "      <th>PassengerId</th>\n",
              "      <th>Survived</th>\n",
              "      <th>Pclass</th>\n",
              "      <th>Sex</th>\n",
              "      <th>Age</th>\n",
              "      <th>SibSp</th>\n",
              "      <th>Parch</th>\n",
              "      <th>Fare</th>\n",
              "      <th>Embarked</th>\n",
              "      <th>Sex Value</th>\n",
              "      <th>Title</th>\n",
              "      <th>Title Simplified</th>\n",
              "      <th>Family Size</th>\n",
              "      <th>IsAlone</th>\n",
              "    </tr>\n",
              "  </thead>\n",
              "  <tbody>\n",
              "    <tr>\n",
              "      <th>0</th>\n",
              "      <td>1</td>\n",
              "      <td>0.0</td>\n",
              "      <td>3</td>\n",
              "      <td>male</td>\n",
              "      <td>22.0</td>\n",
              "      <td>1</td>\n",
              "      <td>0</td>\n",
              "      <td>1.981001</td>\n",
              "      <td>S</td>\n",
              "      <td>0</td>\n",
              "      <td>Mr</td>\n",
              "      <td>Mr</td>\n",
              "      <td>2</td>\n",
              "      <td>0</td>\n",
              "    </tr>\n",
              "    <tr>\n",
              "      <th>1</th>\n",
              "      <td>2</td>\n",
              "      <td>1.0</td>\n",
              "      <td>1</td>\n",
              "      <td>female</td>\n",
              "      <td>38.0</td>\n",
              "      <td>1</td>\n",
              "      <td>0</td>\n",
              "      <td>4.266662</td>\n",
              "      <td>C</td>\n",
              "      <td>1</td>\n",
              "      <td>Mrs</td>\n",
              "      <td>Mrs</td>\n",
              "      <td>2</td>\n",
              "      <td>0</td>\n",
              "    </tr>\n",
              "    <tr>\n",
              "      <th>2</th>\n",
              "      <td>3</td>\n",
              "      <td>1.0</td>\n",
              "      <td>3</td>\n",
              "      <td>female</td>\n",
              "      <td>26.0</td>\n",
              "      <td>0</td>\n",
              "      <td>0</td>\n",
              "      <td>2.070022</td>\n",
              "      <td>S</td>\n",
              "      <td>1</td>\n",
              "      <td>Miss</td>\n",
              "      <td>Miss</td>\n",
              "      <td>1</td>\n",
              "      <td>1</td>\n",
              "    </tr>\n",
              "    <tr>\n",
              "      <th>3</th>\n",
              "      <td>4</td>\n",
              "      <td>1.0</td>\n",
              "      <td>1</td>\n",
              "      <td>female</td>\n",
              "      <td>35.0</td>\n",
              "      <td>1</td>\n",
              "      <td>0</td>\n",
              "      <td>3.972177</td>\n",
              "      <td>S</td>\n",
              "      <td>1</td>\n",
              "      <td>Mrs</td>\n",
              "      <td>Mrs</td>\n",
              "      <td>2</td>\n",
              "      <td>0</td>\n",
              "    </tr>\n",
              "    <tr>\n",
              "      <th>4</th>\n",
              "      <td>5</td>\n",
              "      <td>0.0</td>\n",
              "      <td>3</td>\n",
              "      <td>male</td>\n",
              "      <td>35.0</td>\n",
              "      <td>0</td>\n",
              "      <td>0</td>\n",
              "      <td>2.085672</td>\n",
              "      <td>S</td>\n",
              "      <td>0</td>\n",
              "      <td>Mr</td>\n",
              "      <td>Mr</td>\n",
              "      <td>1</td>\n",
              "      <td>1</td>\n",
              "    </tr>\n",
              "    <tr>\n",
              "      <th>5</th>\n",
              "      <td>6</td>\n",
              "      <td>0.0</td>\n",
              "      <td>3</td>\n",
              "      <td>male</td>\n",
              "      <td>25.0</td>\n",
              "      <td>0</td>\n",
              "      <td>0</td>\n",
              "      <td>2.135148</td>\n",
              "      <td>Q</td>\n",
              "      <td>0</td>\n",
              "      <td>Mr</td>\n",
              "      <td>Mr</td>\n",
              "      <td>1</td>\n",
              "      <td>1</td>\n",
              "    </tr>\n",
              "    <tr>\n",
              "      <th>6</th>\n",
              "      <td>7</td>\n",
              "      <td>0.0</td>\n",
              "      <td>1</td>\n",
              "      <td>male</td>\n",
              "      <td>54.0</td>\n",
              "      <td>0</td>\n",
              "      <td>0</td>\n",
              "      <td>3.948596</td>\n",
              "      <td>S</td>\n",
              "      <td>0</td>\n",
              "      <td>Mr</td>\n",
              "      <td>Mr</td>\n",
              "      <td>1</td>\n",
              "      <td>1</td>\n",
              "    </tr>\n",
              "    <tr>\n",
              "      <th>7</th>\n",
              "      <td>8</td>\n",
              "      <td>0.0</td>\n",
              "      <td>3</td>\n",
              "      <td>male</td>\n",
              "      <td>2.0</td>\n",
              "      <td>3</td>\n",
              "      <td>1</td>\n",
              "      <td>3.048088</td>\n",
              "      <td>S</td>\n",
              "      <td>0</td>\n",
              "      <td>Master</td>\n",
              "      <td>Master</td>\n",
              "      <td>5</td>\n",
              "      <td>0</td>\n",
              "    </tr>\n",
              "    <tr>\n",
              "      <th>8</th>\n",
              "      <td>9</td>\n",
              "      <td>1.0</td>\n",
              "      <td>3</td>\n",
              "      <td>female</td>\n",
              "      <td>27.0</td>\n",
              "      <td>0</td>\n",
              "      <td>2</td>\n",
              "      <td>2.409941</td>\n",
              "      <td>S</td>\n",
              "      <td>1</td>\n",
              "      <td>Mrs</td>\n",
              "      <td>Mrs</td>\n",
              "      <td>3</td>\n",
              "      <td>0</td>\n",
              "    </tr>\n",
              "    <tr>\n",
              "      <th>9</th>\n",
              "      <td>10</td>\n",
              "      <td>1.0</td>\n",
              "      <td>2</td>\n",
              "      <td>female</td>\n",
              "      <td>14.0</td>\n",
              "      <td>1</td>\n",
              "      <td>0</td>\n",
              "      <td>3.403555</td>\n",
              "      <td>C</td>\n",
              "      <td>1</td>\n",
              "      <td>Mrs</td>\n",
              "      <td>Mrs</td>\n",
              "      <td>2</td>\n",
              "      <td>0</td>\n",
              "    </tr>\n",
              "  </tbody>\n",
              "</table>\n",
              "</div>"
            ],
            "text/plain": [
              "   PassengerId  Survived  Pclass  ... Title Simplified  Family Size  IsAlone\n",
              "0            1       0.0       3  ...               Mr            2        0\n",
              "1            2       1.0       1  ...              Mrs            2        0\n",
              "2            3       1.0       3  ...             Miss            1        1\n",
              "3            4       1.0       1  ...              Mrs            2        0\n",
              "4            5       0.0       3  ...               Mr            1        1\n",
              "5            6       0.0       3  ...               Mr            1        1\n",
              "6            7       0.0       1  ...               Mr            1        1\n",
              "7            8       0.0       3  ...           Master            5        0\n",
              "8            9       1.0       3  ...              Mrs            3        0\n",
              "9           10       1.0       2  ...              Mrs            2        0\n",
              "\n",
              "[10 rows x 14 columns]"
            ]
          },
          "metadata": {},
          "execution_count": 40
        }
      ]
    },
    {
      "cell_type": "markdown",
      "metadata": {
        "id": "K9zPaOd56E45"
      },
      "source": [
        "####Age Group Feature & Age Group Number Feature"
      ]
    },
    {
      "cell_type": "code",
      "metadata": {
        "colab": {
          "base_uri": "https://localhost:8080/",
          "height": 786
        },
        "id": "jKD20UFDdwce",
        "outputId": "c5d1a082-a544-44b6-9d31-ec96fc0f9046"
      },
      "source": [
        "# Create age groups and compute mean of survival by age group\n",
        "combine_df['Age Group'] = pd.cut(combine_df['Age'], 5)\n",
        "print(combine_df[['Age Group', 'Survived']].groupby('Age Group', as_index=False).mean())\n",
        "\n",
        "#New column\n",
        "combine_df['Age Group Number']  = combine_df['Age']\n",
        "\n",
        "#Separates into age group number\n",
        "combine_df.loc[combine_df['Age'] <= 16.136, 'Age Group Number'] = 0\n",
        "combine_df.loc[(combine_df['Age'] > 16.136) & (combine_df['Age'] <= 32.102), 'Age Group Number'] = 1\n",
        "combine_df.loc[(combine_df['Age'] > 32.102) & (combine_df['Age'] <= 48.068), 'Age Group Number'] = 2\n",
        "combine_df.loc[(combine_df['Age'] > 48.068) & (combine_df['Age'] <= 64.034), 'Age Group Number'] = 3\n",
        "combine_df.loc[combine_df['Age'] > 64.034 , 'Age Group Number'] = 4\n",
        "combine_df.head(20)\n",
        "\n",
        "#drops Age group ranges\n",
        "#combine_df = combine_df.drop('Age Group', axis = 1)\n",
        "\n",
        "#output new table\n",
        "#combine_df.head(10)\n"
      ],
      "execution_count": 41,
      "outputs": [
        {
          "output_type": "stream",
          "name": "stdout",
          "text": [
            "          Age Group  Survived\n",
            "0  (0.0902, 16.136]  0.532110\n",
            "1  (16.136, 32.102]  0.339662\n",
            "2  (32.102, 48.068]  0.412844\n",
            "3  (48.068, 64.034]  0.434783\n",
            "4    (64.034, 80.0]  0.090909\n"
          ]
        },
        {
          "output_type": "execute_result",
          "data": {
            "text/html": [
              "<div>\n",
              "<style scoped>\n",
              "    .dataframe tbody tr th:only-of-type {\n",
              "        vertical-align: middle;\n",
              "    }\n",
              "\n",
              "    .dataframe tbody tr th {\n",
              "        vertical-align: top;\n",
              "    }\n",
              "\n",
              "    .dataframe thead th {\n",
              "        text-align: right;\n",
              "    }\n",
              "</style>\n",
              "<table border=\"1\" class=\"dataframe\">\n",
              "  <thead>\n",
              "    <tr style=\"text-align: right;\">\n",
              "      <th></th>\n",
              "      <th>PassengerId</th>\n",
              "      <th>Survived</th>\n",
              "      <th>Pclass</th>\n",
              "      <th>Sex</th>\n",
              "      <th>Age</th>\n",
              "      <th>SibSp</th>\n",
              "      <th>Parch</th>\n",
              "      <th>Fare</th>\n",
              "      <th>Embarked</th>\n",
              "      <th>Sex Value</th>\n",
              "      <th>Title</th>\n",
              "      <th>Title Simplified</th>\n",
              "      <th>Family Size</th>\n",
              "      <th>IsAlone</th>\n",
              "      <th>Age Group</th>\n",
              "      <th>Age Group Number</th>\n",
              "    </tr>\n",
              "  </thead>\n",
              "  <tbody>\n",
              "    <tr>\n",
              "      <th>0</th>\n",
              "      <td>1</td>\n",
              "      <td>0.0</td>\n",
              "      <td>3</td>\n",
              "      <td>male</td>\n",
              "      <td>22.0</td>\n",
              "      <td>1</td>\n",
              "      <td>0</td>\n",
              "      <td>1.981001</td>\n",
              "      <td>S</td>\n",
              "      <td>0</td>\n",
              "      <td>Mr</td>\n",
              "      <td>Mr</td>\n",
              "      <td>2</td>\n",
              "      <td>0</td>\n",
              "      <td>(16.136, 32.102]</td>\n",
              "      <td>1.0</td>\n",
              "    </tr>\n",
              "    <tr>\n",
              "      <th>1</th>\n",
              "      <td>2</td>\n",
              "      <td>1.0</td>\n",
              "      <td>1</td>\n",
              "      <td>female</td>\n",
              "      <td>38.0</td>\n",
              "      <td>1</td>\n",
              "      <td>0</td>\n",
              "      <td>4.266662</td>\n",
              "      <td>C</td>\n",
              "      <td>1</td>\n",
              "      <td>Mrs</td>\n",
              "      <td>Mrs</td>\n",
              "      <td>2</td>\n",
              "      <td>0</td>\n",
              "      <td>(32.102, 48.068]</td>\n",
              "      <td>2.0</td>\n",
              "    </tr>\n",
              "    <tr>\n",
              "      <th>2</th>\n",
              "      <td>3</td>\n",
              "      <td>1.0</td>\n",
              "      <td>3</td>\n",
              "      <td>female</td>\n",
              "      <td>26.0</td>\n",
              "      <td>0</td>\n",
              "      <td>0</td>\n",
              "      <td>2.070022</td>\n",
              "      <td>S</td>\n",
              "      <td>1</td>\n",
              "      <td>Miss</td>\n",
              "      <td>Miss</td>\n",
              "      <td>1</td>\n",
              "      <td>1</td>\n",
              "      <td>(16.136, 32.102]</td>\n",
              "      <td>1.0</td>\n",
              "    </tr>\n",
              "    <tr>\n",
              "      <th>3</th>\n",
              "      <td>4</td>\n",
              "      <td>1.0</td>\n",
              "      <td>1</td>\n",
              "      <td>female</td>\n",
              "      <td>35.0</td>\n",
              "      <td>1</td>\n",
              "      <td>0</td>\n",
              "      <td>3.972177</td>\n",
              "      <td>S</td>\n",
              "      <td>1</td>\n",
              "      <td>Mrs</td>\n",
              "      <td>Mrs</td>\n",
              "      <td>2</td>\n",
              "      <td>0</td>\n",
              "      <td>(32.102, 48.068]</td>\n",
              "      <td>2.0</td>\n",
              "    </tr>\n",
              "    <tr>\n",
              "      <th>4</th>\n",
              "      <td>5</td>\n",
              "      <td>0.0</td>\n",
              "      <td>3</td>\n",
              "      <td>male</td>\n",
              "      <td>35.0</td>\n",
              "      <td>0</td>\n",
              "      <td>0</td>\n",
              "      <td>2.085672</td>\n",
              "      <td>S</td>\n",
              "      <td>0</td>\n",
              "      <td>Mr</td>\n",
              "      <td>Mr</td>\n",
              "      <td>1</td>\n",
              "      <td>1</td>\n",
              "      <td>(32.102, 48.068]</td>\n",
              "      <td>2.0</td>\n",
              "    </tr>\n",
              "    <tr>\n",
              "      <th>5</th>\n",
              "      <td>6</td>\n",
              "      <td>0.0</td>\n",
              "      <td>3</td>\n",
              "      <td>male</td>\n",
              "      <td>25.0</td>\n",
              "      <td>0</td>\n",
              "      <td>0</td>\n",
              "      <td>2.135148</td>\n",
              "      <td>Q</td>\n",
              "      <td>0</td>\n",
              "      <td>Mr</td>\n",
              "      <td>Mr</td>\n",
              "      <td>1</td>\n",
              "      <td>1</td>\n",
              "      <td>(16.136, 32.102]</td>\n",
              "      <td>1.0</td>\n",
              "    </tr>\n",
              "    <tr>\n",
              "      <th>6</th>\n",
              "      <td>7</td>\n",
              "      <td>0.0</td>\n",
              "      <td>1</td>\n",
              "      <td>male</td>\n",
              "      <td>54.0</td>\n",
              "      <td>0</td>\n",
              "      <td>0</td>\n",
              "      <td>3.948596</td>\n",
              "      <td>S</td>\n",
              "      <td>0</td>\n",
              "      <td>Mr</td>\n",
              "      <td>Mr</td>\n",
              "      <td>1</td>\n",
              "      <td>1</td>\n",
              "      <td>(48.068, 64.034]</td>\n",
              "      <td>3.0</td>\n",
              "    </tr>\n",
              "    <tr>\n",
              "      <th>7</th>\n",
              "      <td>8</td>\n",
              "      <td>0.0</td>\n",
              "      <td>3</td>\n",
              "      <td>male</td>\n",
              "      <td>2.0</td>\n",
              "      <td>3</td>\n",
              "      <td>1</td>\n",
              "      <td>3.048088</td>\n",
              "      <td>S</td>\n",
              "      <td>0</td>\n",
              "      <td>Master</td>\n",
              "      <td>Master</td>\n",
              "      <td>5</td>\n",
              "      <td>0</td>\n",
              "      <td>(0.0902, 16.136]</td>\n",
              "      <td>0.0</td>\n",
              "    </tr>\n",
              "    <tr>\n",
              "      <th>8</th>\n",
              "      <td>9</td>\n",
              "      <td>1.0</td>\n",
              "      <td>3</td>\n",
              "      <td>female</td>\n",
              "      <td>27.0</td>\n",
              "      <td>0</td>\n",
              "      <td>2</td>\n",
              "      <td>2.409941</td>\n",
              "      <td>S</td>\n",
              "      <td>1</td>\n",
              "      <td>Mrs</td>\n",
              "      <td>Mrs</td>\n",
              "      <td>3</td>\n",
              "      <td>0</td>\n",
              "      <td>(16.136, 32.102]</td>\n",
              "      <td>1.0</td>\n",
              "    </tr>\n",
              "    <tr>\n",
              "      <th>9</th>\n",
              "      <td>10</td>\n",
              "      <td>1.0</td>\n",
              "      <td>2</td>\n",
              "      <td>female</td>\n",
              "      <td>14.0</td>\n",
              "      <td>1</td>\n",
              "      <td>0</td>\n",
              "      <td>3.403555</td>\n",
              "      <td>C</td>\n",
              "      <td>1</td>\n",
              "      <td>Mrs</td>\n",
              "      <td>Mrs</td>\n",
              "      <td>2</td>\n",
              "      <td>0</td>\n",
              "      <td>(0.0902, 16.136]</td>\n",
              "      <td>0.0</td>\n",
              "    </tr>\n",
              "    <tr>\n",
              "      <th>10</th>\n",
              "      <td>11</td>\n",
              "      <td>1.0</td>\n",
              "      <td>3</td>\n",
              "      <td>female</td>\n",
              "      <td>4.0</td>\n",
              "      <td>1</td>\n",
              "      <td>1</td>\n",
              "      <td>2.815409</td>\n",
              "      <td>S</td>\n",
              "      <td>1</td>\n",
              "      <td>Miss</td>\n",
              "      <td>Miss</td>\n",
              "      <td>3</td>\n",
              "      <td>0</td>\n",
              "      <td>(0.0902, 16.136]</td>\n",
              "      <td>0.0</td>\n",
              "    </tr>\n",
              "    <tr>\n",
              "      <th>11</th>\n",
              "      <td>12</td>\n",
              "      <td>1.0</td>\n",
              "      <td>1</td>\n",
              "      <td>female</td>\n",
              "      <td>58.0</td>\n",
              "      <td>0</td>\n",
              "      <td>0</td>\n",
              "      <td>3.279030</td>\n",
              "      <td>S</td>\n",
              "      <td>1</td>\n",
              "      <td>Miss</td>\n",
              "      <td>Miss</td>\n",
              "      <td>1</td>\n",
              "      <td>1</td>\n",
              "      <td>(48.068, 64.034]</td>\n",
              "      <td>3.0</td>\n",
              "    </tr>\n",
              "    <tr>\n",
              "      <th>12</th>\n",
              "      <td>13</td>\n",
              "      <td>0.0</td>\n",
              "      <td>3</td>\n",
              "      <td>male</td>\n",
              "      <td>20.0</td>\n",
              "      <td>0</td>\n",
              "      <td>0</td>\n",
              "      <td>2.085672</td>\n",
              "      <td>S</td>\n",
              "      <td>0</td>\n",
              "      <td>Mr</td>\n",
              "      <td>Mr</td>\n",
              "      <td>1</td>\n",
              "      <td>1</td>\n",
              "      <td>(16.136, 32.102]</td>\n",
              "      <td>1.0</td>\n",
              "    </tr>\n",
              "    <tr>\n",
              "      <th>13</th>\n",
              "      <td>14</td>\n",
              "      <td>0.0</td>\n",
              "      <td>3</td>\n",
              "      <td>male</td>\n",
              "      <td>39.0</td>\n",
              "      <td>1</td>\n",
              "      <td>5</td>\n",
              "      <td>3.442819</td>\n",
              "      <td>S</td>\n",
              "      <td>0</td>\n",
              "      <td>Mr</td>\n",
              "      <td>Mr</td>\n",
              "      <td>7</td>\n",
              "      <td>0</td>\n",
              "      <td>(32.102, 48.068]</td>\n",
              "      <td>2.0</td>\n",
              "    </tr>\n",
              "    <tr>\n",
              "      <th>14</th>\n",
              "      <td>15</td>\n",
              "      <td>0.0</td>\n",
              "      <td>3</td>\n",
              "      <td>female</td>\n",
              "      <td>14.0</td>\n",
              "      <td>0</td>\n",
              "      <td>0</td>\n",
              "      <td>2.061048</td>\n",
              "      <td>S</td>\n",
              "      <td>1</td>\n",
              "      <td>Miss</td>\n",
              "      <td>Miss</td>\n",
              "      <td>1</td>\n",
              "      <td>1</td>\n",
              "      <td>(0.0902, 16.136]</td>\n",
              "      <td>0.0</td>\n",
              "    </tr>\n",
              "    <tr>\n",
              "      <th>15</th>\n",
              "      <td>16</td>\n",
              "      <td>1.0</td>\n",
              "      <td>2</td>\n",
              "      <td>female</td>\n",
              "      <td>55.0</td>\n",
              "      <td>0</td>\n",
              "      <td>0</td>\n",
              "      <td>2.772589</td>\n",
              "      <td>S</td>\n",
              "      <td>1</td>\n",
              "      <td>Mrs</td>\n",
              "      <td>Mrs</td>\n",
              "      <td>1</td>\n",
              "      <td>1</td>\n",
              "      <td>(48.068, 64.034]</td>\n",
              "      <td>3.0</td>\n",
              "    </tr>\n",
              "    <tr>\n",
              "      <th>16</th>\n",
              "      <td>17</td>\n",
              "      <td>0.0</td>\n",
              "      <td>3</td>\n",
              "      <td>male</td>\n",
              "      <td>2.0</td>\n",
              "      <td>4</td>\n",
              "      <td>1</td>\n",
              "      <td>3.371597</td>\n",
              "      <td>Q</td>\n",
              "      <td>0</td>\n",
              "      <td>Master</td>\n",
              "      <td>Master</td>\n",
              "      <td>6</td>\n",
              "      <td>0</td>\n",
              "      <td>(0.0902, 16.136]</td>\n",
              "      <td>0.0</td>\n",
              "    </tr>\n",
              "    <tr>\n",
              "      <th>17</th>\n",
              "      <td>18</td>\n",
              "      <td>1.0</td>\n",
              "      <td>2</td>\n",
              "      <td>male</td>\n",
              "      <td>30.0</td>\n",
              "      <td>0</td>\n",
              "      <td>0</td>\n",
              "      <td>2.564949</td>\n",
              "      <td>S</td>\n",
              "      <td>0</td>\n",
              "      <td>Mr</td>\n",
              "      <td>Mr</td>\n",
              "      <td>1</td>\n",
              "      <td>1</td>\n",
              "      <td>(16.136, 32.102]</td>\n",
              "      <td>1.0</td>\n",
              "    </tr>\n",
              "    <tr>\n",
              "      <th>18</th>\n",
              "      <td>19</td>\n",
              "      <td>0.0</td>\n",
              "      <td>3</td>\n",
              "      <td>female</td>\n",
              "      <td>31.0</td>\n",
              "      <td>1</td>\n",
              "      <td>0</td>\n",
              "      <td>2.890372</td>\n",
              "      <td>S</td>\n",
              "      <td>1</td>\n",
              "      <td>Mrs</td>\n",
              "      <td>Mrs</td>\n",
              "      <td>2</td>\n",
              "      <td>0</td>\n",
              "      <td>(16.136, 32.102]</td>\n",
              "      <td>1.0</td>\n",
              "    </tr>\n",
              "    <tr>\n",
              "      <th>19</th>\n",
              "      <td>20</td>\n",
              "      <td>1.0</td>\n",
              "      <td>3</td>\n",
              "      <td>female</td>\n",
              "      <td>25.0</td>\n",
              "      <td>0</td>\n",
              "      <td>0</td>\n",
              "      <td>1.977547</td>\n",
              "      <td>C</td>\n",
              "      <td>1</td>\n",
              "      <td>Mrs</td>\n",
              "      <td>Mrs</td>\n",
              "      <td>1</td>\n",
              "      <td>1</td>\n",
              "      <td>(16.136, 32.102]</td>\n",
              "      <td>1.0</td>\n",
              "    </tr>\n",
              "  </tbody>\n",
              "</table>\n",
              "</div>"
            ],
            "text/plain": [
              "    PassengerId  Survived  Pclass  ... IsAlone         Age Group  Age Group Number\n",
              "0             1       0.0       3  ...       0  (16.136, 32.102]               1.0\n",
              "1             2       1.0       1  ...       0  (32.102, 48.068]               2.0\n",
              "2             3       1.0       3  ...       1  (16.136, 32.102]               1.0\n",
              "3             4       1.0       1  ...       0  (32.102, 48.068]               2.0\n",
              "4             5       0.0       3  ...       1  (32.102, 48.068]               2.0\n",
              "5             6       0.0       3  ...       1  (16.136, 32.102]               1.0\n",
              "6             7       0.0       1  ...       1  (48.068, 64.034]               3.0\n",
              "7             8       0.0       3  ...       0  (0.0902, 16.136]               0.0\n",
              "8             9       1.0       3  ...       0  (16.136, 32.102]               1.0\n",
              "9            10       1.0       2  ...       0  (0.0902, 16.136]               0.0\n",
              "10           11       1.0       3  ...       0  (0.0902, 16.136]               0.0\n",
              "11           12       1.0       1  ...       1  (48.068, 64.034]               3.0\n",
              "12           13       0.0       3  ...       1  (16.136, 32.102]               1.0\n",
              "13           14       0.0       3  ...       0  (32.102, 48.068]               2.0\n",
              "14           15       0.0       3  ...       1  (0.0902, 16.136]               0.0\n",
              "15           16       1.0       2  ...       1  (48.068, 64.034]               3.0\n",
              "16           17       0.0       3  ...       0  (0.0902, 16.136]               0.0\n",
              "17           18       1.0       2  ...       1  (16.136, 32.102]               1.0\n",
              "18           19       0.0       3  ...       0  (16.136, 32.102]               1.0\n",
              "19           20       1.0       3  ...       1  (16.136, 32.102]               1.0\n",
              "\n",
              "[20 rows x 16 columns]"
            ]
          },
          "metadata": {},
          "execution_count": 41
        }
      ]
    },
    {
      "cell_type": "markdown",
      "metadata": {
        "id": "QHrnRjoV6NJr"
      },
      "source": [
        "####Fare Group Feature & Fare Group Number Feature"
      ]
    },
    {
      "cell_type": "code",
      "metadata": {
        "colab": {
          "base_uri": "https://localhost:8080/",
          "height": 768
        },
        "id": "VNHea-rT7XpG",
        "outputId": "7233f95d-f9e7-4b35-b966-5bafb2ebc8c1"
      },
      "source": [
        "#Looking at the data above, it looks like we can also create a 'Fare Group' as the fares are varying amounts and separating them into groups will allow for us to better limit the amount of distinct variables that can occur\n",
        "combine_df['Fare Group'] = pd.cut(combine_df['Fare'], 4)\n",
        "print(combine_df[['Fare Group', 'Survived']].groupby(['Fare Group'], as_index=False).mean())\n",
        "\n",
        "combine_df['Fare Group Number']  = combine_df['Fare']\n",
        "\n",
        "# Assign ordinal to each fare group\n",
        "combine_df.loc[combine_df['Fare'] <= 1.56, 'Fare Group Number'] = 0\n",
        "combine_df.loc[(combine_df['Fare'] > 1.56) & (combine_df['Fare'] <= 3.119), 'Fare Group Number'] = 1\n",
        "combine_df.loc[(combine_df['Fare'] > 3.119) & (combine_df['Fare'] <= 4.679), 'Fare Group Number'] = 2\n",
        "combine_df.loc[combine_df['Fare'] > 4.679, 'Fare Group Number'] = 3\n",
        "combine_df.head(20)"
      ],
      "execution_count": 42,
      "outputs": [
        {
          "output_type": "stream",
          "name": "stdout",
          "text": [
            "         Fare Group  Survived\n",
            "0  (-0.00624, 1.56]  0.062500\n",
            "1     (1.56, 3.119]  0.288719\n",
            "2    (3.119, 4.679]  0.517007\n",
            "3    (4.679, 6.239]  0.750000\n"
          ]
        },
        {
          "output_type": "execute_result",
          "data": {
            "text/html": [
              "<div>\n",
              "<style scoped>\n",
              "    .dataframe tbody tr th:only-of-type {\n",
              "        vertical-align: middle;\n",
              "    }\n",
              "\n",
              "    .dataframe tbody tr th {\n",
              "        vertical-align: top;\n",
              "    }\n",
              "\n",
              "    .dataframe thead th {\n",
              "        text-align: right;\n",
              "    }\n",
              "</style>\n",
              "<table border=\"1\" class=\"dataframe\">\n",
              "  <thead>\n",
              "    <tr style=\"text-align: right;\">\n",
              "      <th></th>\n",
              "      <th>PassengerId</th>\n",
              "      <th>Survived</th>\n",
              "      <th>Pclass</th>\n",
              "      <th>Sex</th>\n",
              "      <th>Age</th>\n",
              "      <th>SibSp</th>\n",
              "      <th>Parch</th>\n",
              "      <th>Fare</th>\n",
              "      <th>Embarked</th>\n",
              "      <th>Sex Value</th>\n",
              "      <th>Title</th>\n",
              "      <th>Title Simplified</th>\n",
              "      <th>Family Size</th>\n",
              "      <th>IsAlone</th>\n",
              "      <th>Age Group</th>\n",
              "      <th>Age Group Number</th>\n",
              "      <th>Fare Group</th>\n",
              "      <th>Fare Group Number</th>\n",
              "    </tr>\n",
              "  </thead>\n",
              "  <tbody>\n",
              "    <tr>\n",
              "      <th>0</th>\n",
              "      <td>1</td>\n",
              "      <td>0.0</td>\n",
              "      <td>3</td>\n",
              "      <td>male</td>\n",
              "      <td>22.0</td>\n",
              "      <td>1</td>\n",
              "      <td>0</td>\n",
              "      <td>1.981001</td>\n",
              "      <td>S</td>\n",
              "      <td>0</td>\n",
              "      <td>Mr</td>\n",
              "      <td>Mr</td>\n",
              "      <td>2</td>\n",
              "      <td>0</td>\n",
              "      <td>(16.136, 32.102]</td>\n",
              "      <td>1.0</td>\n",
              "      <td>(1.56, 3.119]</td>\n",
              "      <td>1.0</td>\n",
              "    </tr>\n",
              "    <tr>\n",
              "      <th>1</th>\n",
              "      <td>2</td>\n",
              "      <td>1.0</td>\n",
              "      <td>1</td>\n",
              "      <td>female</td>\n",
              "      <td>38.0</td>\n",
              "      <td>1</td>\n",
              "      <td>0</td>\n",
              "      <td>4.266662</td>\n",
              "      <td>C</td>\n",
              "      <td>1</td>\n",
              "      <td>Mrs</td>\n",
              "      <td>Mrs</td>\n",
              "      <td>2</td>\n",
              "      <td>0</td>\n",
              "      <td>(32.102, 48.068]</td>\n",
              "      <td>2.0</td>\n",
              "      <td>(3.119, 4.679]</td>\n",
              "      <td>2.0</td>\n",
              "    </tr>\n",
              "    <tr>\n",
              "      <th>2</th>\n",
              "      <td>3</td>\n",
              "      <td>1.0</td>\n",
              "      <td>3</td>\n",
              "      <td>female</td>\n",
              "      <td>26.0</td>\n",
              "      <td>0</td>\n",
              "      <td>0</td>\n",
              "      <td>2.070022</td>\n",
              "      <td>S</td>\n",
              "      <td>1</td>\n",
              "      <td>Miss</td>\n",
              "      <td>Miss</td>\n",
              "      <td>1</td>\n",
              "      <td>1</td>\n",
              "      <td>(16.136, 32.102]</td>\n",
              "      <td>1.0</td>\n",
              "      <td>(1.56, 3.119]</td>\n",
              "      <td>1.0</td>\n",
              "    </tr>\n",
              "    <tr>\n",
              "      <th>3</th>\n",
              "      <td>4</td>\n",
              "      <td>1.0</td>\n",
              "      <td>1</td>\n",
              "      <td>female</td>\n",
              "      <td>35.0</td>\n",
              "      <td>1</td>\n",
              "      <td>0</td>\n",
              "      <td>3.972177</td>\n",
              "      <td>S</td>\n",
              "      <td>1</td>\n",
              "      <td>Mrs</td>\n",
              "      <td>Mrs</td>\n",
              "      <td>2</td>\n",
              "      <td>0</td>\n",
              "      <td>(32.102, 48.068]</td>\n",
              "      <td>2.0</td>\n",
              "      <td>(3.119, 4.679]</td>\n",
              "      <td>2.0</td>\n",
              "    </tr>\n",
              "    <tr>\n",
              "      <th>4</th>\n",
              "      <td>5</td>\n",
              "      <td>0.0</td>\n",
              "      <td>3</td>\n",
              "      <td>male</td>\n",
              "      <td>35.0</td>\n",
              "      <td>0</td>\n",
              "      <td>0</td>\n",
              "      <td>2.085672</td>\n",
              "      <td>S</td>\n",
              "      <td>0</td>\n",
              "      <td>Mr</td>\n",
              "      <td>Mr</td>\n",
              "      <td>1</td>\n",
              "      <td>1</td>\n",
              "      <td>(32.102, 48.068]</td>\n",
              "      <td>2.0</td>\n",
              "      <td>(1.56, 3.119]</td>\n",
              "      <td>1.0</td>\n",
              "    </tr>\n",
              "    <tr>\n",
              "      <th>5</th>\n",
              "      <td>6</td>\n",
              "      <td>0.0</td>\n",
              "      <td>3</td>\n",
              "      <td>male</td>\n",
              "      <td>25.0</td>\n",
              "      <td>0</td>\n",
              "      <td>0</td>\n",
              "      <td>2.135148</td>\n",
              "      <td>Q</td>\n",
              "      <td>0</td>\n",
              "      <td>Mr</td>\n",
              "      <td>Mr</td>\n",
              "      <td>1</td>\n",
              "      <td>1</td>\n",
              "      <td>(16.136, 32.102]</td>\n",
              "      <td>1.0</td>\n",
              "      <td>(1.56, 3.119]</td>\n",
              "      <td>1.0</td>\n",
              "    </tr>\n",
              "    <tr>\n",
              "      <th>6</th>\n",
              "      <td>7</td>\n",
              "      <td>0.0</td>\n",
              "      <td>1</td>\n",
              "      <td>male</td>\n",
              "      <td>54.0</td>\n",
              "      <td>0</td>\n",
              "      <td>0</td>\n",
              "      <td>3.948596</td>\n",
              "      <td>S</td>\n",
              "      <td>0</td>\n",
              "      <td>Mr</td>\n",
              "      <td>Mr</td>\n",
              "      <td>1</td>\n",
              "      <td>1</td>\n",
              "      <td>(48.068, 64.034]</td>\n",
              "      <td>3.0</td>\n",
              "      <td>(3.119, 4.679]</td>\n",
              "      <td>2.0</td>\n",
              "    </tr>\n",
              "    <tr>\n",
              "      <th>7</th>\n",
              "      <td>8</td>\n",
              "      <td>0.0</td>\n",
              "      <td>3</td>\n",
              "      <td>male</td>\n",
              "      <td>2.0</td>\n",
              "      <td>3</td>\n",
              "      <td>1</td>\n",
              "      <td>3.048088</td>\n",
              "      <td>S</td>\n",
              "      <td>0</td>\n",
              "      <td>Master</td>\n",
              "      <td>Master</td>\n",
              "      <td>5</td>\n",
              "      <td>0</td>\n",
              "      <td>(0.0902, 16.136]</td>\n",
              "      <td>0.0</td>\n",
              "      <td>(1.56, 3.119]</td>\n",
              "      <td>1.0</td>\n",
              "    </tr>\n",
              "    <tr>\n",
              "      <th>8</th>\n",
              "      <td>9</td>\n",
              "      <td>1.0</td>\n",
              "      <td>3</td>\n",
              "      <td>female</td>\n",
              "      <td>27.0</td>\n",
              "      <td>0</td>\n",
              "      <td>2</td>\n",
              "      <td>2.409941</td>\n",
              "      <td>S</td>\n",
              "      <td>1</td>\n",
              "      <td>Mrs</td>\n",
              "      <td>Mrs</td>\n",
              "      <td>3</td>\n",
              "      <td>0</td>\n",
              "      <td>(16.136, 32.102]</td>\n",
              "      <td>1.0</td>\n",
              "      <td>(1.56, 3.119]</td>\n",
              "      <td>1.0</td>\n",
              "    </tr>\n",
              "    <tr>\n",
              "      <th>9</th>\n",
              "      <td>10</td>\n",
              "      <td>1.0</td>\n",
              "      <td>2</td>\n",
              "      <td>female</td>\n",
              "      <td>14.0</td>\n",
              "      <td>1</td>\n",
              "      <td>0</td>\n",
              "      <td>3.403555</td>\n",
              "      <td>C</td>\n",
              "      <td>1</td>\n",
              "      <td>Mrs</td>\n",
              "      <td>Mrs</td>\n",
              "      <td>2</td>\n",
              "      <td>0</td>\n",
              "      <td>(0.0902, 16.136]</td>\n",
              "      <td>0.0</td>\n",
              "      <td>(3.119, 4.679]</td>\n",
              "      <td>2.0</td>\n",
              "    </tr>\n",
              "    <tr>\n",
              "      <th>10</th>\n",
              "      <td>11</td>\n",
              "      <td>1.0</td>\n",
              "      <td>3</td>\n",
              "      <td>female</td>\n",
              "      <td>4.0</td>\n",
              "      <td>1</td>\n",
              "      <td>1</td>\n",
              "      <td>2.815409</td>\n",
              "      <td>S</td>\n",
              "      <td>1</td>\n",
              "      <td>Miss</td>\n",
              "      <td>Miss</td>\n",
              "      <td>3</td>\n",
              "      <td>0</td>\n",
              "      <td>(0.0902, 16.136]</td>\n",
              "      <td>0.0</td>\n",
              "      <td>(1.56, 3.119]</td>\n",
              "      <td>1.0</td>\n",
              "    </tr>\n",
              "    <tr>\n",
              "      <th>11</th>\n",
              "      <td>12</td>\n",
              "      <td>1.0</td>\n",
              "      <td>1</td>\n",
              "      <td>female</td>\n",
              "      <td>58.0</td>\n",
              "      <td>0</td>\n",
              "      <td>0</td>\n",
              "      <td>3.279030</td>\n",
              "      <td>S</td>\n",
              "      <td>1</td>\n",
              "      <td>Miss</td>\n",
              "      <td>Miss</td>\n",
              "      <td>1</td>\n",
              "      <td>1</td>\n",
              "      <td>(48.068, 64.034]</td>\n",
              "      <td>3.0</td>\n",
              "      <td>(3.119, 4.679]</td>\n",
              "      <td>2.0</td>\n",
              "    </tr>\n",
              "    <tr>\n",
              "      <th>12</th>\n",
              "      <td>13</td>\n",
              "      <td>0.0</td>\n",
              "      <td>3</td>\n",
              "      <td>male</td>\n",
              "      <td>20.0</td>\n",
              "      <td>0</td>\n",
              "      <td>0</td>\n",
              "      <td>2.085672</td>\n",
              "      <td>S</td>\n",
              "      <td>0</td>\n",
              "      <td>Mr</td>\n",
              "      <td>Mr</td>\n",
              "      <td>1</td>\n",
              "      <td>1</td>\n",
              "      <td>(16.136, 32.102]</td>\n",
              "      <td>1.0</td>\n",
              "      <td>(1.56, 3.119]</td>\n",
              "      <td>1.0</td>\n",
              "    </tr>\n",
              "    <tr>\n",
              "      <th>13</th>\n",
              "      <td>14</td>\n",
              "      <td>0.0</td>\n",
              "      <td>3</td>\n",
              "      <td>male</td>\n",
              "      <td>39.0</td>\n",
              "      <td>1</td>\n",
              "      <td>5</td>\n",
              "      <td>3.442819</td>\n",
              "      <td>S</td>\n",
              "      <td>0</td>\n",
              "      <td>Mr</td>\n",
              "      <td>Mr</td>\n",
              "      <td>7</td>\n",
              "      <td>0</td>\n",
              "      <td>(32.102, 48.068]</td>\n",
              "      <td>2.0</td>\n",
              "      <td>(3.119, 4.679]</td>\n",
              "      <td>2.0</td>\n",
              "    </tr>\n",
              "    <tr>\n",
              "      <th>14</th>\n",
              "      <td>15</td>\n",
              "      <td>0.0</td>\n",
              "      <td>3</td>\n",
              "      <td>female</td>\n",
              "      <td>14.0</td>\n",
              "      <td>0</td>\n",
              "      <td>0</td>\n",
              "      <td>2.061048</td>\n",
              "      <td>S</td>\n",
              "      <td>1</td>\n",
              "      <td>Miss</td>\n",
              "      <td>Miss</td>\n",
              "      <td>1</td>\n",
              "      <td>1</td>\n",
              "      <td>(0.0902, 16.136]</td>\n",
              "      <td>0.0</td>\n",
              "      <td>(1.56, 3.119]</td>\n",
              "      <td>1.0</td>\n",
              "    </tr>\n",
              "    <tr>\n",
              "      <th>15</th>\n",
              "      <td>16</td>\n",
              "      <td>1.0</td>\n",
              "      <td>2</td>\n",
              "      <td>female</td>\n",
              "      <td>55.0</td>\n",
              "      <td>0</td>\n",
              "      <td>0</td>\n",
              "      <td>2.772589</td>\n",
              "      <td>S</td>\n",
              "      <td>1</td>\n",
              "      <td>Mrs</td>\n",
              "      <td>Mrs</td>\n",
              "      <td>1</td>\n",
              "      <td>1</td>\n",
              "      <td>(48.068, 64.034]</td>\n",
              "      <td>3.0</td>\n",
              "      <td>(1.56, 3.119]</td>\n",
              "      <td>1.0</td>\n",
              "    </tr>\n",
              "    <tr>\n",
              "      <th>16</th>\n",
              "      <td>17</td>\n",
              "      <td>0.0</td>\n",
              "      <td>3</td>\n",
              "      <td>male</td>\n",
              "      <td>2.0</td>\n",
              "      <td>4</td>\n",
              "      <td>1</td>\n",
              "      <td>3.371597</td>\n",
              "      <td>Q</td>\n",
              "      <td>0</td>\n",
              "      <td>Master</td>\n",
              "      <td>Master</td>\n",
              "      <td>6</td>\n",
              "      <td>0</td>\n",
              "      <td>(0.0902, 16.136]</td>\n",
              "      <td>0.0</td>\n",
              "      <td>(3.119, 4.679]</td>\n",
              "      <td>2.0</td>\n",
              "    </tr>\n",
              "    <tr>\n",
              "      <th>17</th>\n",
              "      <td>18</td>\n",
              "      <td>1.0</td>\n",
              "      <td>2</td>\n",
              "      <td>male</td>\n",
              "      <td>30.0</td>\n",
              "      <td>0</td>\n",
              "      <td>0</td>\n",
              "      <td>2.564949</td>\n",
              "      <td>S</td>\n",
              "      <td>0</td>\n",
              "      <td>Mr</td>\n",
              "      <td>Mr</td>\n",
              "      <td>1</td>\n",
              "      <td>1</td>\n",
              "      <td>(16.136, 32.102]</td>\n",
              "      <td>1.0</td>\n",
              "      <td>(1.56, 3.119]</td>\n",
              "      <td>1.0</td>\n",
              "    </tr>\n",
              "    <tr>\n",
              "      <th>18</th>\n",
              "      <td>19</td>\n",
              "      <td>0.0</td>\n",
              "      <td>3</td>\n",
              "      <td>female</td>\n",
              "      <td>31.0</td>\n",
              "      <td>1</td>\n",
              "      <td>0</td>\n",
              "      <td>2.890372</td>\n",
              "      <td>S</td>\n",
              "      <td>1</td>\n",
              "      <td>Mrs</td>\n",
              "      <td>Mrs</td>\n",
              "      <td>2</td>\n",
              "      <td>0</td>\n",
              "      <td>(16.136, 32.102]</td>\n",
              "      <td>1.0</td>\n",
              "      <td>(1.56, 3.119]</td>\n",
              "      <td>1.0</td>\n",
              "    </tr>\n",
              "    <tr>\n",
              "      <th>19</th>\n",
              "      <td>20</td>\n",
              "      <td>1.0</td>\n",
              "      <td>3</td>\n",
              "      <td>female</td>\n",
              "      <td>25.0</td>\n",
              "      <td>0</td>\n",
              "      <td>0</td>\n",
              "      <td>1.977547</td>\n",
              "      <td>C</td>\n",
              "      <td>1</td>\n",
              "      <td>Mrs</td>\n",
              "      <td>Mrs</td>\n",
              "      <td>1</td>\n",
              "      <td>1</td>\n",
              "      <td>(16.136, 32.102]</td>\n",
              "      <td>1.0</td>\n",
              "      <td>(1.56, 3.119]</td>\n",
              "      <td>1.0</td>\n",
              "    </tr>\n",
              "  </tbody>\n",
              "</table>\n",
              "</div>"
            ],
            "text/plain": [
              "    PassengerId  Survived  ...      Fare Group Fare Group Number\n",
              "0             1       0.0  ...   (1.56, 3.119]               1.0\n",
              "1             2       1.0  ...  (3.119, 4.679]               2.0\n",
              "2             3       1.0  ...   (1.56, 3.119]               1.0\n",
              "3             4       1.0  ...  (3.119, 4.679]               2.0\n",
              "4             5       0.0  ...   (1.56, 3.119]               1.0\n",
              "5             6       0.0  ...   (1.56, 3.119]               1.0\n",
              "6             7       0.0  ...  (3.119, 4.679]               2.0\n",
              "7             8       0.0  ...   (1.56, 3.119]               1.0\n",
              "8             9       1.0  ...   (1.56, 3.119]               1.0\n",
              "9            10       1.0  ...  (3.119, 4.679]               2.0\n",
              "10           11       1.0  ...   (1.56, 3.119]               1.0\n",
              "11           12       1.0  ...  (3.119, 4.679]               2.0\n",
              "12           13       0.0  ...   (1.56, 3.119]               1.0\n",
              "13           14       0.0  ...  (3.119, 4.679]               2.0\n",
              "14           15       0.0  ...   (1.56, 3.119]               1.0\n",
              "15           16       1.0  ...   (1.56, 3.119]               1.0\n",
              "16           17       0.0  ...  (3.119, 4.679]               2.0\n",
              "17           18       1.0  ...   (1.56, 3.119]               1.0\n",
              "18           19       0.0  ...   (1.56, 3.119]               1.0\n",
              "19           20       1.0  ...   (1.56, 3.119]               1.0\n",
              "\n",
              "[20 rows x 18 columns]"
            ]
          },
          "metadata": {},
          "execution_count": 42
        }
      ]
    },
    {
      "cell_type": "markdown",
      "metadata": {
        "id": "--yh3nN-6gun"
      },
      "source": [
        "###Encoding Features"
      ]
    },
    {
      "cell_type": "markdown",
      "metadata": {
        "id": "FUWbByfu6Tsf"
      },
      "source": [
        "####Combined Dataframe Copied (Adding Features Finished)"
      ]
    },
    {
      "cell_type": "code",
      "metadata": {
        "colab": {
          "base_uri": "https://localhost:8080/",
          "height": 423
        },
        "id": "a_Yy7hS889lT",
        "outputId": "31d6b002-7321-414a-dcb5-3a2d366ed51b"
      },
      "source": [
        "#Encoding new features\n",
        "combine_with_features_df = combine_df.copy()\n",
        "combine_with_features_df"
      ],
      "execution_count": 43,
      "outputs": [
        {
          "output_type": "execute_result",
          "data": {
            "text/html": [
              "<div>\n",
              "<style scoped>\n",
              "    .dataframe tbody tr th:only-of-type {\n",
              "        vertical-align: middle;\n",
              "    }\n",
              "\n",
              "    .dataframe tbody tr th {\n",
              "        vertical-align: top;\n",
              "    }\n",
              "\n",
              "    .dataframe thead th {\n",
              "        text-align: right;\n",
              "    }\n",
              "</style>\n",
              "<table border=\"1\" class=\"dataframe\">\n",
              "  <thead>\n",
              "    <tr style=\"text-align: right;\">\n",
              "      <th></th>\n",
              "      <th>PassengerId</th>\n",
              "      <th>Survived</th>\n",
              "      <th>Pclass</th>\n",
              "      <th>Sex</th>\n",
              "      <th>Age</th>\n",
              "      <th>SibSp</th>\n",
              "      <th>Parch</th>\n",
              "      <th>Fare</th>\n",
              "      <th>Embarked</th>\n",
              "      <th>Sex Value</th>\n",
              "      <th>Title</th>\n",
              "      <th>Title Simplified</th>\n",
              "      <th>Family Size</th>\n",
              "      <th>IsAlone</th>\n",
              "      <th>Age Group</th>\n",
              "      <th>Age Group Number</th>\n",
              "      <th>Fare Group</th>\n",
              "      <th>Fare Group Number</th>\n",
              "    </tr>\n",
              "  </thead>\n",
              "  <tbody>\n",
              "    <tr>\n",
              "      <th>0</th>\n",
              "      <td>1</td>\n",
              "      <td>0.0</td>\n",
              "      <td>3</td>\n",
              "      <td>male</td>\n",
              "      <td>22.0</td>\n",
              "      <td>1</td>\n",
              "      <td>0</td>\n",
              "      <td>1.981001</td>\n",
              "      <td>S</td>\n",
              "      <td>0</td>\n",
              "      <td>Mr</td>\n",
              "      <td>Mr</td>\n",
              "      <td>2</td>\n",
              "      <td>0</td>\n",
              "      <td>(16.136, 32.102]</td>\n",
              "      <td>1.0</td>\n",
              "      <td>(1.56, 3.119]</td>\n",
              "      <td>1.0</td>\n",
              "    </tr>\n",
              "    <tr>\n",
              "      <th>1</th>\n",
              "      <td>2</td>\n",
              "      <td>1.0</td>\n",
              "      <td>1</td>\n",
              "      <td>female</td>\n",
              "      <td>38.0</td>\n",
              "      <td>1</td>\n",
              "      <td>0</td>\n",
              "      <td>4.266662</td>\n",
              "      <td>C</td>\n",
              "      <td>1</td>\n",
              "      <td>Mrs</td>\n",
              "      <td>Mrs</td>\n",
              "      <td>2</td>\n",
              "      <td>0</td>\n",
              "      <td>(32.102, 48.068]</td>\n",
              "      <td>2.0</td>\n",
              "      <td>(3.119, 4.679]</td>\n",
              "      <td>2.0</td>\n",
              "    </tr>\n",
              "    <tr>\n",
              "      <th>2</th>\n",
              "      <td>3</td>\n",
              "      <td>1.0</td>\n",
              "      <td>3</td>\n",
              "      <td>female</td>\n",
              "      <td>26.0</td>\n",
              "      <td>0</td>\n",
              "      <td>0</td>\n",
              "      <td>2.070022</td>\n",
              "      <td>S</td>\n",
              "      <td>1</td>\n",
              "      <td>Miss</td>\n",
              "      <td>Miss</td>\n",
              "      <td>1</td>\n",
              "      <td>1</td>\n",
              "      <td>(16.136, 32.102]</td>\n",
              "      <td>1.0</td>\n",
              "      <td>(1.56, 3.119]</td>\n",
              "      <td>1.0</td>\n",
              "    </tr>\n",
              "    <tr>\n",
              "      <th>3</th>\n",
              "      <td>4</td>\n",
              "      <td>1.0</td>\n",
              "      <td>1</td>\n",
              "      <td>female</td>\n",
              "      <td>35.0</td>\n",
              "      <td>1</td>\n",
              "      <td>0</td>\n",
              "      <td>3.972177</td>\n",
              "      <td>S</td>\n",
              "      <td>1</td>\n",
              "      <td>Mrs</td>\n",
              "      <td>Mrs</td>\n",
              "      <td>2</td>\n",
              "      <td>0</td>\n",
              "      <td>(32.102, 48.068]</td>\n",
              "      <td>2.0</td>\n",
              "      <td>(3.119, 4.679]</td>\n",
              "      <td>2.0</td>\n",
              "    </tr>\n",
              "    <tr>\n",
              "      <th>4</th>\n",
              "      <td>5</td>\n",
              "      <td>0.0</td>\n",
              "      <td>3</td>\n",
              "      <td>male</td>\n",
              "      <td>35.0</td>\n",
              "      <td>0</td>\n",
              "      <td>0</td>\n",
              "      <td>2.085672</td>\n",
              "      <td>S</td>\n",
              "      <td>0</td>\n",
              "      <td>Mr</td>\n",
              "      <td>Mr</td>\n",
              "      <td>1</td>\n",
              "      <td>1</td>\n",
              "      <td>(32.102, 48.068]</td>\n",
              "      <td>2.0</td>\n",
              "      <td>(1.56, 3.119]</td>\n",
              "      <td>1.0</td>\n",
              "    </tr>\n",
              "    <tr>\n",
              "      <th>...</th>\n",
              "      <td>...</td>\n",
              "      <td>...</td>\n",
              "      <td>...</td>\n",
              "      <td>...</td>\n",
              "      <td>...</td>\n",
              "      <td>...</td>\n",
              "      <td>...</td>\n",
              "      <td>...</td>\n",
              "      <td>...</td>\n",
              "      <td>...</td>\n",
              "      <td>...</td>\n",
              "      <td>...</td>\n",
              "      <td>...</td>\n",
              "      <td>...</td>\n",
              "      <td>...</td>\n",
              "      <td>...</td>\n",
              "      <td>...</td>\n",
              "      <td>...</td>\n",
              "    </tr>\n",
              "    <tr>\n",
              "      <th>1294</th>\n",
              "      <td>1305</td>\n",
              "      <td>NaN</td>\n",
              "      <td>3</td>\n",
              "      <td>male</td>\n",
              "      <td>25.0</td>\n",
              "      <td>0</td>\n",
              "      <td>0</td>\n",
              "      <td>2.085672</td>\n",
              "      <td>S</td>\n",
              "      <td>0</td>\n",
              "      <td>Mr</td>\n",
              "      <td>Mr</td>\n",
              "      <td>1</td>\n",
              "      <td>1</td>\n",
              "      <td>(16.136, 32.102]</td>\n",
              "      <td>1.0</td>\n",
              "      <td>(1.56, 3.119]</td>\n",
              "      <td>1.0</td>\n",
              "    </tr>\n",
              "    <tr>\n",
              "      <th>1295</th>\n",
              "      <td>1306</td>\n",
              "      <td>NaN</td>\n",
              "      <td>1</td>\n",
              "      <td>female</td>\n",
              "      <td>39.0</td>\n",
              "      <td>0</td>\n",
              "      <td>0</td>\n",
              "      <td>4.690430</td>\n",
              "      <td>C</td>\n",
              "      <td>1</td>\n",
              "      <td>Dona</td>\n",
              "      <td>Rare</td>\n",
              "      <td>1</td>\n",
              "      <td>1</td>\n",
              "      <td>(32.102, 48.068]</td>\n",
              "      <td>2.0</td>\n",
              "      <td>(4.679, 6.239]</td>\n",
              "      <td>3.0</td>\n",
              "    </tr>\n",
              "    <tr>\n",
              "      <th>1296</th>\n",
              "      <td>1307</td>\n",
              "      <td>NaN</td>\n",
              "      <td>3</td>\n",
              "      <td>male</td>\n",
              "      <td>38.5</td>\n",
              "      <td>0</td>\n",
              "      <td>0</td>\n",
              "      <td>1.981001</td>\n",
              "      <td>S</td>\n",
              "      <td>0</td>\n",
              "      <td>Mr</td>\n",
              "      <td>Mr</td>\n",
              "      <td>1</td>\n",
              "      <td>1</td>\n",
              "      <td>(32.102, 48.068]</td>\n",
              "      <td>2.0</td>\n",
              "      <td>(1.56, 3.119]</td>\n",
              "      <td>1.0</td>\n",
              "    </tr>\n",
              "    <tr>\n",
              "      <th>1297</th>\n",
              "      <td>1308</td>\n",
              "      <td>NaN</td>\n",
              "      <td>3</td>\n",
              "      <td>male</td>\n",
              "      <td>25.0</td>\n",
              "      <td>0</td>\n",
              "      <td>0</td>\n",
              "      <td>2.085672</td>\n",
              "      <td>S</td>\n",
              "      <td>0</td>\n",
              "      <td>Mr</td>\n",
              "      <td>Mr</td>\n",
              "      <td>1</td>\n",
              "      <td>1</td>\n",
              "      <td>(16.136, 32.102]</td>\n",
              "      <td>1.0</td>\n",
              "      <td>(1.56, 3.119]</td>\n",
              "      <td>1.0</td>\n",
              "    </tr>\n",
              "    <tr>\n",
              "      <th>1298</th>\n",
              "      <td>1309</td>\n",
              "      <td>NaN</td>\n",
              "      <td>3</td>\n",
              "      <td>male</td>\n",
              "      <td>16.0</td>\n",
              "      <td>1</td>\n",
              "      <td>1</td>\n",
              "      <td>3.107198</td>\n",
              "      <td>C</td>\n",
              "      <td>0</td>\n",
              "      <td>Master</td>\n",
              "      <td>Master</td>\n",
              "      <td>3</td>\n",
              "      <td>0</td>\n",
              "      <td>(0.0902, 16.136]</td>\n",
              "      <td>0.0</td>\n",
              "      <td>(1.56, 3.119]</td>\n",
              "      <td>1.0</td>\n",
              "    </tr>\n",
              "  </tbody>\n",
              "</table>\n",
              "<p>1299 rows × 18 columns</p>\n",
              "</div>"
            ],
            "text/plain": [
              "      PassengerId  Survived  ...      Fare Group Fare Group Number\n",
              "0               1       0.0  ...   (1.56, 3.119]               1.0\n",
              "1               2       1.0  ...  (3.119, 4.679]               2.0\n",
              "2               3       1.0  ...   (1.56, 3.119]               1.0\n",
              "3               4       1.0  ...  (3.119, 4.679]               2.0\n",
              "4               5       0.0  ...   (1.56, 3.119]               1.0\n",
              "...           ...       ...  ...             ...               ...\n",
              "1294         1305       NaN  ...   (1.56, 3.119]               1.0\n",
              "1295         1306       NaN  ...  (4.679, 6.239]               3.0\n",
              "1296         1307       NaN  ...   (1.56, 3.119]               1.0\n",
              "1297         1308       NaN  ...   (1.56, 3.119]               1.0\n",
              "1298         1309       NaN  ...   (1.56, 3.119]               1.0\n",
              "\n",
              "[1299 rows x 18 columns]"
            ]
          },
          "metadata": {},
          "execution_count": 43
        }
      ]
    },
    {
      "cell_type": "markdown",
      "metadata": {
        "id": "_Ue4Rvvz6luq"
      },
      "source": [
        "####Drop Title, Sex Value, Age Group, Fare Group"
      ]
    },
    {
      "cell_type": "markdown",
      "metadata": {
        "id": "P1T6HLqm6smx"
      },
      "source": [
        "####Add One Hot Encoding for Embarked, Title Simplified, Sex, and Pclass"
      ]
    },
    {
      "cell_type": "code",
      "metadata": {
        "colab": {
          "base_uri": "https://localhost:8080/",
          "height": 397
        },
        "id": "ENWflOj642Gr",
        "outputId": "1e83b5fb-ecb9-4e46-9faf-f8df7ddb5a1d"
      },
      "source": [
        "#Encoding new features\n",
        "#combine_with_features_df = combine_df.copy()\n",
        "\n",
        "combine_with_features_df.drop(columns=['Title', 'Sex Value', 'Age Group', 'Fare Group'], axis=1, inplace=True)\n",
        "combine_with_features_df = pd.get_dummies(combine_with_features_df, columns=[\"Embarked\", \"Title Simplified\" , \"Sex\", \"Pclass\"])\n",
        "\n",
        "combine_with_features_df.head(10)"
      ],
      "execution_count": 44,
      "outputs": [
        {
          "output_type": "execute_result",
          "data": {
            "text/html": [
              "<div>\n",
              "<style scoped>\n",
              "    .dataframe tbody tr th:only-of-type {\n",
              "        vertical-align: middle;\n",
              "    }\n",
              "\n",
              "    .dataframe tbody tr th {\n",
              "        vertical-align: top;\n",
              "    }\n",
              "\n",
              "    .dataframe thead th {\n",
              "        text-align: right;\n",
              "    }\n",
              "</style>\n",
              "<table border=\"1\" class=\"dataframe\">\n",
              "  <thead>\n",
              "    <tr style=\"text-align: right;\">\n",
              "      <th></th>\n",
              "      <th>PassengerId</th>\n",
              "      <th>Survived</th>\n",
              "      <th>Age</th>\n",
              "      <th>SibSp</th>\n",
              "      <th>Parch</th>\n",
              "      <th>Fare</th>\n",
              "      <th>Family Size</th>\n",
              "      <th>IsAlone</th>\n",
              "      <th>Age Group Number</th>\n",
              "      <th>Fare Group Number</th>\n",
              "      <th>Embarked_C</th>\n",
              "      <th>Embarked_Q</th>\n",
              "      <th>Embarked_S</th>\n",
              "      <th>Title Simplified_Master</th>\n",
              "      <th>Title Simplified_Miss</th>\n",
              "      <th>Title Simplified_Mr</th>\n",
              "      <th>Title Simplified_Mrs</th>\n",
              "      <th>Title Simplified_Rare</th>\n",
              "      <th>Sex_female</th>\n",
              "      <th>Sex_male</th>\n",
              "      <th>Pclass_1</th>\n",
              "      <th>Pclass_2</th>\n",
              "      <th>Pclass_3</th>\n",
              "    </tr>\n",
              "  </thead>\n",
              "  <tbody>\n",
              "    <tr>\n",
              "      <th>0</th>\n",
              "      <td>1</td>\n",
              "      <td>0.0</td>\n",
              "      <td>22.0</td>\n",
              "      <td>1</td>\n",
              "      <td>0</td>\n",
              "      <td>1.981001</td>\n",
              "      <td>2</td>\n",
              "      <td>0</td>\n",
              "      <td>1.0</td>\n",
              "      <td>1.0</td>\n",
              "      <td>0</td>\n",
              "      <td>0</td>\n",
              "      <td>1</td>\n",
              "      <td>0</td>\n",
              "      <td>0</td>\n",
              "      <td>1</td>\n",
              "      <td>0</td>\n",
              "      <td>0</td>\n",
              "      <td>0</td>\n",
              "      <td>1</td>\n",
              "      <td>0</td>\n",
              "      <td>0</td>\n",
              "      <td>1</td>\n",
              "    </tr>\n",
              "    <tr>\n",
              "      <th>1</th>\n",
              "      <td>2</td>\n",
              "      <td>1.0</td>\n",
              "      <td>38.0</td>\n",
              "      <td>1</td>\n",
              "      <td>0</td>\n",
              "      <td>4.266662</td>\n",
              "      <td>2</td>\n",
              "      <td>0</td>\n",
              "      <td>2.0</td>\n",
              "      <td>2.0</td>\n",
              "      <td>1</td>\n",
              "      <td>0</td>\n",
              "      <td>0</td>\n",
              "      <td>0</td>\n",
              "      <td>0</td>\n",
              "      <td>0</td>\n",
              "      <td>1</td>\n",
              "      <td>0</td>\n",
              "      <td>1</td>\n",
              "      <td>0</td>\n",
              "      <td>1</td>\n",
              "      <td>0</td>\n",
              "      <td>0</td>\n",
              "    </tr>\n",
              "    <tr>\n",
              "      <th>2</th>\n",
              "      <td>3</td>\n",
              "      <td>1.0</td>\n",
              "      <td>26.0</td>\n",
              "      <td>0</td>\n",
              "      <td>0</td>\n",
              "      <td>2.070022</td>\n",
              "      <td>1</td>\n",
              "      <td>1</td>\n",
              "      <td>1.0</td>\n",
              "      <td>1.0</td>\n",
              "      <td>0</td>\n",
              "      <td>0</td>\n",
              "      <td>1</td>\n",
              "      <td>0</td>\n",
              "      <td>1</td>\n",
              "      <td>0</td>\n",
              "      <td>0</td>\n",
              "      <td>0</td>\n",
              "      <td>1</td>\n",
              "      <td>0</td>\n",
              "      <td>0</td>\n",
              "      <td>0</td>\n",
              "      <td>1</td>\n",
              "    </tr>\n",
              "    <tr>\n",
              "      <th>3</th>\n",
              "      <td>4</td>\n",
              "      <td>1.0</td>\n",
              "      <td>35.0</td>\n",
              "      <td>1</td>\n",
              "      <td>0</td>\n",
              "      <td>3.972177</td>\n",
              "      <td>2</td>\n",
              "      <td>0</td>\n",
              "      <td>2.0</td>\n",
              "      <td>2.0</td>\n",
              "      <td>0</td>\n",
              "      <td>0</td>\n",
              "      <td>1</td>\n",
              "      <td>0</td>\n",
              "      <td>0</td>\n",
              "      <td>0</td>\n",
              "      <td>1</td>\n",
              "      <td>0</td>\n",
              "      <td>1</td>\n",
              "      <td>0</td>\n",
              "      <td>1</td>\n",
              "      <td>0</td>\n",
              "      <td>0</td>\n",
              "    </tr>\n",
              "    <tr>\n",
              "      <th>4</th>\n",
              "      <td>5</td>\n",
              "      <td>0.0</td>\n",
              "      <td>35.0</td>\n",
              "      <td>0</td>\n",
              "      <td>0</td>\n",
              "      <td>2.085672</td>\n",
              "      <td>1</td>\n",
              "      <td>1</td>\n",
              "      <td>2.0</td>\n",
              "      <td>1.0</td>\n",
              "      <td>0</td>\n",
              "      <td>0</td>\n",
              "      <td>1</td>\n",
              "      <td>0</td>\n",
              "      <td>0</td>\n",
              "      <td>1</td>\n",
              "      <td>0</td>\n",
              "      <td>0</td>\n",
              "      <td>0</td>\n",
              "      <td>1</td>\n",
              "      <td>0</td>\n",
              "      <td>0</td>\n",
              "      <td>1</td>\n",
              "    </tr>\n",
              "    <tr>\n",
              "      <th>5</th>\n",
              "      <td>6</td>\n",
              "      <td>0.0</td>\n",
              "      <td>25.0</td>\n",
              "      <td>0</td>\n",
              "      <td>0</td>\n",
              "      <td>2.135148</td>\n",
              "      <td>1</td>\n",
              "      <td>1</td>\n",
              "      <td>1.0</td>\n",
              "      <td>1.0</td>\n",
              "      <td>0</td>\n",
              "      <td>1</td>\n",
              "      <td>0</td>\n",
              "      <td>0</td>\n",
              "      <td>0</td>\n",
              "      <td>1</td>\n",
              "      <td>0</td>\n",
              "      <td>0</td>\n",
              "      <td>0</td>\n",
              "      <td>1</td>\n",
              "      <td>0</td>\n",
              "      <td>0</td>\n",
              "      <td>1</td>\n",
              "    </tr>\n",
              "    <tr>\n",
              "      <th>6</th>\n",
              "      <td>7</td>\n",
              "      <td>0.0</td>\n",
              "      <td>54.0</td>\n",
              "      <td>0</td>\n",
              "      <td>0</td>\n",
              "      <td>3.948596</td>\n",
              "      <td>1</td>\n",
              "      <td>1</td>\n",
              "      <td>3.0</td>\n",
              "      <td>2.0</td>\n",
              "      <td>0</td>\n",
              "      <td>0</td>\n",
              "      <td>1</td>\n",
              "      <td>0</td>\n",
              "      <td>0</td>\n",
              "      <td>1</td>\n",
              "      <td>0</td>\n",
              "      <td>0</td>\n",
              "      <td>0</td>\n",
              "      <td>1</td>\n",
              "      <td>1</td>\n",
              "      <td>0</td>\n",
              "      <td>0</td>\n",
              "    </tr>\n",
              "    <tr>\n",
              "      <th>7</th>\n",
              "      <td>8</td>\n",
              "      <td>0.0</td>\n",
              "      <td>2.0</td>\n",
              "      <td>3</td>\n",
              "      <td>1</td>\n",
              "      <td>3.048088</td>\n",
              "      <td>5</td>\n",
              "      <td>0</td>\n",
              "      <td>0.0</td>\n",
              "      <td>1.0</td>\n",
              "      <td>0</td>\n",
              "      <td>0</td>\n",
              "      <td>1</td>\n",
              "      <td>1</td>\n",
              "      <td>0</td>\n",
              "      <td>0</td>\n",
              "      <td>0</td>\n",
              "      <td>0</td>\n",
              "      <td>0</td>\n",
              "      <td>1</td>\n",
              "      <td>0</td>\n",
              "      <td>0</td>\n",
              "      <td>1</td>\n",
              "    </tr>\n",
              "    <tr>\n",
              "      <th>8</th>\n",
              "      <td>9</td>\n",
              "      <td>1.0</td>\n",
              "      <td>27.0</td>\n",
              "      <td>0</td>\n",
              "      <td>2</td>\n",
              "      <td>2.409941</td>\n",
              "      <td>3</td>\n",
              "      <td>0</td>\n",
              "      <td>1.0</td>\n",
              "      <td>1.0</td>\n",
              "      <td>0</td>\n",
              "      <td>0</td>\n",
              "      <td>1</td>\n",
              "      <td>0</td>\n",
              "      <td>0</td>\n",
              "      <td>0</td>\n",
              "      <td>1</td>\n",
              "      <td>0</td>\n",
              "      <td>1</td>\n",
              "      <td>0</td>\n",
              "      <td>0</td>\n",
              "      <td>0</td>\n",
              "      <td>1</td>\n",
              "    </tr>\n",
              "    <tr>\n",
              "      <th>9</th>\n",
              "      <td>10</td>\n",
              "      <td>1.0</td>\n",
              "      <td>14.0</td>\n",
              "      <td>1</td>\n",
              "      <td>0</td>\n",
              "      <td>3.403555</td>\n",
              "      <td>2</td>\n",
              "      <td>0</td>\n",
              "      <td>0.0</td>\n",
              "      <td>2.0</td>\n",
              "      <td>1</td>\n",
              "      <td>0</td>\n",
              "      <td>0</td>\n",
              "      <td>0</td>\n",
              "      <td>0</td>\n",
              "      <td>0</td>\n",
              "      <td>1</td>\n",
              "      <td>0</td>\n",
              "      <td>1</td>\n",
              "      <td>0</td>\n",
              "      <td>0</td>\n",
              "      <td>1</td>\n",
              "      <td>0</td>\n",
              "    </tr>\n",
              "  </tbody>\n",
              "</table>\n",
              "</div>"
            ],
            "text/plain": [
              "   PassengerId  Survived   Age  SibSp  ...  Sex_male  Pclass_1  Pclass_2  Pclass_3\n",
              "0            1       0.0  22.0      1  ...         1         0         0         1\n",
              "1            2       1.0  38.0      1  ...         0         1         0         0\n",
              "2            3       1.0  26.0      0  ...         0         0         0         1\n",
              "3            4       1.0  35.0      1  ...         0         1         0         0\n",
              "4            5       0.0  35.0      0  ...         1         0         0         1\n",
              "5            6       0.0  25.0      0  ...         1         0         0         1\n",
              "6            7       0.0  54.0      0  ...         1         1         0         0\n",
              "7            8       0.0   2.0      3  ...         1         0         0         1\n",
              "8            9       1.0  27.0      0  ...         0         0         0         1\n",
              "9           10       1.0  14.0      1  ...         0         0         1         0\n",
              "\n",
              "[10 rows x 23 columns]"
            ]
          },
          "metadata": {},
          "execution_count": 44
        }
      ]
    },
    {
      "cell_type": "markdown",
      "metadata": {
        "id": "XEWabAYm61ZU"
      },
      "source": [
        "####Drop Age and Fare"
      ]
    },
    {
      "cell_type": "markdown",
      "metadata": {
        "id": "9wsG9Pb98dZt"
      },
      "source": [
        "####Change Age Group Number and Fare Group Number From Float to Int"
      ]
    },
    {
      "cell_type": "code",
      "metadata": {
        "colab": {
          "base_uri": "https://localhost:8080/",
          "height": 380
        },
        "id": "r-z74ivbpbpG",
        "outputId": "c245824e-87a7-42e7-a66b-ec8ee6986657"
      },
      "source": [
        "#We dont really need the age and fare columns now since we separated them into age groups and fare groups for better prediciting\n",
        "combine_with_features_df.drop(columns=['Age', 'Fare'], axis=1, inplace=True)\n",
        "\n",
        "#also looking at above we should change the value of the group numbers to int instead of float\n",
        "combine_with_features_df['Age Group Number'] = combine_with_features_df['Age Group Number'].astype('int')\n",
        "combine_with_features_df['Fare Group Number'] = combine_with_features_df['Fare Group Number'].astype('int')\n",
        "\n",
        "combine_with_features_df.head(10)"
      ],
      "execution_count": 45,
      "outputs": [
        {
          "output_type": "execute_result",
          "data": {
            "text/html": [
              "<div>\n",
              "<style scoped>\n",
              "    .dataframe tbody tr th:only-of-type {\n",
              "        vertical-align: middle;\n",
              "    }\n",
              "\n",
              "    .dataframe tbody tr th {\n",
              "        vertical-align: top;\n",
              "    }\n",
              "\n",
              "    .dataframe thead th {\n",
              "        text-align: right;\n",
              "    }\n",
              "</style>\n",
              "<table border=\"1\" class=\"dataframe\">\n",
              "  <thead>\n",
              "    <tr style=\"text-align: right;\">\n",
              "      <th></th>\n",
              "      <th>PassengerId</th>\n",
              "      <th>Survived</th>\n",
              "      <th>SibSp</th>\n",
              "      <th>Parch</th>\n",
              "      <th>Family Size</th>\n",
              "      <th>IsAlone</th>\n",
              "      <th>Age Group Number</th>\n",
              "      <th>Fare Group Number</th>\n",
              "      <th>Embarked_C</th>\n",
              "      <th>Embarked_Q</th>\n",
              "      <th>Embarked_S</th>\n",
              "      <th>Title Simplified_Master</th>\n",
              "      <th>Title Simplified_Miss</th>\n",
              "      <th>Title Simplified_Mr</th>\n",
              "      <th>Title Simplified_Mrs</th>\n",
              "      <th>Title Simplified_Rare</th>\n",
              "      <th>Sex_female</th>\n",
              "      <th>Sex_male</th>\n",
              "      <th>Pclass_1</th>\n",
              "      <th>Pclass_2</th>\n",
              "      <th>Pclass_3</th>\n",
              "    </tr>\n",
              "  </thead>\n",
              "  <tbody>\n",
              "    <tr>\n",
              "      <th>0</th>\n",
              "      <td>1</td>\n",
              "      <td>0.0</td>\n",
              "      <td>1</td>\n",
              "      <td>0</td>\n",
              "      <td>2</td>\n",
              "      <td>0</td>\n",
              "      <td>1</td>\n",
              "      <td>1</td>\n",
              "      <td>0</td>\n",
              "      <td>0</td>\n",
              "      <td>1</td>\n",
              "      <td>0</td>\n",
              "      <td>0</td>\n",
              "      <td>1</td>\n",
              "      <td>0</td>\n",
              "      <td>0</td>\n",
              "      <td>0</td>\n",
              "      <td>1</td>\n",
              "      <td>0</td>\n",
              "      <td>0</td>\n",
              "      <td>1</td>\n",
              "    </tr>\n",
              "    <tr>\n",
              "      <th>1</th>\n",
              "      <td>2</td>\n",
              "      <td>1.0</td>\n",
              "      <td>1</td>\n",
              "      <td>0</td>\n",
              "      <td>2</td>\n",
              "      <td>0</td>\n",
              "      <td>2</td>\n",
              "      <td>2</td>\n",
              "      <td>1</td>\n",
              "      <td>0</td>\n",
              "      <td>0</td>\n",
              "      <td>0</td>\n",
              "      <td>0</td>\n",
              "      <td>0</td>\n",
              "      <td>1</td>\n",
              "      <td>0</td>\n",
              "      <td>1</td>\n",
              "      <td>0</td>\n",
              "      <td>1</td>\n",
              "      <td>0</td>\n",
              "      <td>0</td>\n",
              "    </tr>\n",
              "    <tr>\n",
              "      <th>2</th>\n",
              "      <td>3</td>\n",
              "      <td>1.0</td>\n",
              "      <td>0</td>\n",
              "      <td>0</td>\n",
              "      <td>1</td>\n",
              "      <td>1</td>\n",
              "      <td>1</td>\n",
              "      <td>1</td>\n",
              "      <td>0</td>\n",
              "      <td>0</td>\n",
              "      <td>1</td>\n",
              "      <td>0</td>\n",
              "      <td>1</td>\n",
              "      <td>0</td>\n",
              "      <td>0</td>\n",
              "      <td>0</td>\n",
              "      <td>1</td>\n",
              "      <td>0</td>\n",
              "      <td>0</td>\n",
              "      <td>0</td>\n",
              "      <td>1</td>\n",
              "    </tr>\n",
              "    <tr>\n",
              "      <th>3</th>\n",
              "      <td>4</td>\n",
              "      <td>1.0</td>\n",
              "      <td>1</td>\n",
              "      <td>0</td>\n",
              "      <td>2</td>\n",
              "      <td>0</td>\n",
              "      <td>2</td>\n",
              "      <td>2</td>\n",
              "      <td>0</td>\n",
              "      <td>0</td>\n",
              "      <td>1</td>\n",
              "      <td>0</td>\n",
              "      <td>0</td>\n",
              "      <td>0</td>\n",
              "      <td>1</td>\n",
              "      <td>0</td>\n",
              "      <td>1</td>\n",
              "      <td>0</td>\n",
              "      <td>1</td>\n",
              "      <td>0</td>\n",
              "      <td>0</td>\n",
              "    </tr>\n",
              "    <tr>\n",
              "      <th>4</th>\n",
              "      <td>5</td>\n",
              "      <td>0.0</td>\n",
              "      <td>0</td>\n",
              "      <td>0</td>\n",
              "      <td>1</td>\n",
              "      <td>1</td>\n",
              "      <td>2</td>\n",
              "      <td>1</td>\n",
              "      <td>0</td>\n",
              "      <td>0</td>\n",
              "      <td>1</td>\n",
              "      <td>0</td>\n",
              "      <td>0</td>\n",
              "      <td>1</td>\n",
              "      <td>0</td>\n",
              "      <td>0</td>\n",
              "      <td>0</td>\n",
              "      <td>1</td>\n",
              "      <td>0</td>\n",
              "      <td>0</td>\n",
              "      <td>1</td>\n",
              "    </tr>\n",
              "    <tr>\n",
              "      <th>5</th>\n",
              "      <td>6</td>\n",
              "      <td>0.0</td>\n",
              "      <td>0</td>\n",
              "      <td>0</td>\n",
              "      <td>1</td>\n",
              "      <td>1</td>\n",
              "      <td>1</td>\n",
              "      <td>1</td>\n",
              "      <td>0</td>\n",
              "      <td>1</td>\n",
              "      <td>0</td>\n",
              "      <td>0</td>\n",
              "      <td>0</td>\n",
              "      <td>1</td>\n",
              "      <td>0</td>\n",
              "      <td>0</td>\n",
              "      <td>0</td>\n",
              "      <td>1</td>\n",
              "      <td>0</td>\n",
              "      <td>0</td>\n",
              "      <td>1</td>\n",
              "    </tr>\n",
              "    <tr>\n",
              "      <th>6</th>\n",
              "      <td>7</td>\n",
              "      <td>0.0</td>\n",
              "      <td>0</td>\n",
              "      <td>0</td>\n",
              "      <td>1</td>\n",
              "      <td>1</td>\n",
              "      <td>3</td>\n",
              "      <td>2</td>\n",
              "      <td>0</td>\n",
              "      <td>0</td>\n",
              "      <td>1</td>\n",
              "      <td>0</td>\n",
              "      <td>0</td>\n",
              "      <td>1</td>\n",
              "      <td>0</td>\n",
              "      <td>0</td>\n",
              "      <td>0</td>\n",
              "      <td>1</td>\n",
              "      <td>1</td>\n",
              "      <td>0</td>\n",
              "      <td>0</td>\n",
              "    </tr>\n",
              "    <tr>\n",
              "      <th>7</th>\n",
              "      <td>8</td>\n",
              "      <td>0.0</td>\n",
              "      <td>3</td>\n",
              "      <td>1</td>\n",
              "      <td>5</td>\n",
              "      <td>0</td>\n",
              "      <td>0</td>\n",
              "      <td>1</td>\n",
              "      <td>0</td>\n",
              "      <td>0</td>\n",
              "      <td>1</td>\n",
              "      <td>1</td>\n",
              "      <td>0</td>\n",
              "      <td>0</td>\n",
              "      <td>0</td>\n",
              "      <td>0</td>\n",
              "      <td>0</td>\n",
              "      <td>1</td>\n",
              "      <td>0</td>\n",
              "      <td>0</td>\n",
              "      <td>1</td>\n",
              "    </tr>\n",
              "    <tr>\n",
              "      <th>8</th>\n",
              "      <td>9</td>\n",
              "      <td>1.0</td>\n",
              "      <td>0</td>\n",
              "      <td>2</td>\n",
              "      <td>3</td>\n",
              "      <td>0</td>\n",
              "      <td>1</td>\n",
              "      <td>1</td>\n",
              "      <td>0</td>\n",
              "      <td>0</td>\n",
              "      <td>1</td>\n",
              "      <td>0</td>\n",
              "      <td>0</td>\n",
              "      <td>0</td>\n",
              "      <td>1</td>\n",
              "      <td>0</td>\n",
              "      <td>1</td>\n",
              "      <td>0</td>\n",
              "      <td>0</td>\n",
              "      <td>0</td>\n",
              "      <td>1</td>\n",
              "    </tr>\n",
              "    <tr>\n",
              "      <th>9</th>\n",
              "      <td>10</td>\n",
              "      <td>1.0</td>\n",
              "      <td>1</td>\n",
              "      <td>0</td>\n",
              "      <td>2</td>\n",
              "      <td>0</td>\n",
              "      <td>0</td>\n",
              "      <td>2</td>\n",
              "      <td>1</td>\n",
              "      <td>0</td>\n",
              "      <td>0</td>\n",
              "      <td>0</td>\n",
              "      <td>0</td>\n",
              "      <td>0</td>\n",
              "      <td>1</td>\n",
              "      <td>0</td>\n",
              "      <td>1</td>\n",
              "      <td>0</td>\n",
              "      <td>0</td>\n",
              "      <td>1</td>\n",
              "      <td>0</td>\n",
              "    </tr>\n",
              "  </tbody>\n",
              "</table>\n",
              "</div>"
            ],
            "text/plain": [
              "   PassengerId  Survived  SibSp  Parch  ...  Sex_male  Pclass_1  Pclass_2  Pclass_3\n",
              "0            1       0.0      1      0  ...         1         0         0         1\n",
              "1            2       1.0      1      0  ...         0         1         0         0\n",
              "2            3       1.0      0      0  ...         0         0         0         1\n",
              "3            4       1.0      1      0  ...         0         1         0         0\n",
              "4            5       0.0      0      0  ...         1         0         0         1\n",
              "5            6       0.0      0      0  ...         1         0         0         1\n",
              "6            7       0.0      0      0  ...         1         1         0         0\n",
              "7            8       0.0      3      1  ...         1         0         0         1\n",
              "8            9       1.0      0      2  ...         0         0         0         1\n",
              "9           10       1.0      1      0  ...         0         0         1         0\n",
              "\n",
              "[10 rows x 21 columns]"
            ]
          },
          "metadata": {},
          "execution_count": 45
        }
      ]
    },
    {
      "cell_type": "markdown",
      "metadata": {
        "id": "_JYYUD4l8jb2"
      },
      "source": [
        "####Split Combined Set Back Into Training and Testing Sets"
      ]
    },
    {
      "cell_type": "code",
      "metadata": {
        "colab": {
          "base_uri": "https://localhost:8080/"
        },
        "id": "98Pjc5sxqBTC",
        "outputId": "24aefafe-e772-441f-bc52-8be9b49a7071"
      },
      "source": [
        "#Now that we have all the parameters, we can separate the combined back into the train and test\n",
        "training_final_df = combine_with_features_df[:len(train_df)]\n",
        "testing_final_df  = combine_with_features_df[len(train_df):]\n",
        "\n",
        "print(\"Initial Final Set Length: \", len(train_df))\n",
        "print(\"Initial Final Set Length: \", len(test_df))\n",
        "print(\"\")\n",
        "print(\"Training Final Set Length: \", len(training_final_df), \" | Training Final Set Shape: \", training_final_df.shape)\n",
        "print(\"Testing Final Set Length: \", len(testing_final_df), \" | Testing Final Set Shape: \", testing_final_df.shape)\n"
      ],
      "execution_count": 46,
      "outputs": [
        {
          "output_type": "stream",
          "name": "stdout",
          "text": [
            "Initial Final Set Length:  881\n",
            "Initial Final Set Length:  418\n",
            "\n",
            "Training Final Set Length:  881  | Training Final Set Shape:  (881, 21)\n",
            "Testing Final Set Length:  418  | Testing Final Set Shape:  (418, 21)\n"
          ]
        }
      ]
    },
    {
      "cell_type": "markdown",
      "metadata": {
        "id": "LyKhn8DO8r_x"
      },
      "source": [
        "####Drop PassengerID from Training and Change Survived from Float to Int"
      ]
    },
    {
      "cell_type": "code",
      "metadata": {
        "colab": {
          "base_uri": "https://localhost:8080/",
          "height": 380
        },
        "id": "ccHnIcyYs6ih",
        "outputId": "b54c6eb4-ceee-4317-820d-36156b9e433e"
      },
      "source": [
        "#Training drops the passenger ID\n",
        "training_final_df = training_final_df.drop('PassengerId', axis = 1)\n",
        "\n",
        "#Training also fixes the Survived from float to int\n",
        "training_final_df['Survived'] = training_final_df['Survived'].astype('int')\n",
        "\n",
        "training_final_df.head(10)"
      ],
      "execution_count": 47,
      "outputs": [
        {
          "output_type": "execute_result",
          "data": {
            "text/html": [
              "<div>\n",
              "<style scoped>\n",
              "    .dataframe tbody tr th:only-of-type {\n",
              "        vertical-align: middle;\n",
              "    }\n",
              "\n",
              "    .dataframe tbody tr th {\n",
              "        vertical-align: top;\n",
              "    }\n",
              "\n",
              "    .dataframe thead th {\n",
              "        text-align: right;\n",
              "    }\n",
              "</style>\n",
              "<table border=\"1\" class=\"dataframe\">\n",
              "  <thead>\n",
              "    <tr style=\"text-align: right;\">\n",
              "      <th></th>\n",
              "      <th>Survived</th>\n",
              "      <th>SibSp</th>\n",
              "      <th>Parch</th>\n",
              "      <th>Family Size</th>\n",
              "      <th>IsAlone</th>\n",
              "      <th>Age Group Number</th>\n",
              "      <th>Fare Group Number</th>\n",
              "      <th>Embarked_C</th>\n",
              "      <th>Embarked_Q</th>\n",
              "      <th>Embarked_S</th>\n",
              "      <th>Title Simplified_Master</th>\n",
              "      <th>Title Simplified_Miss</th>\n",
              "      <th>Title Simplified_Mr</th>\n",
              "      <th>Title Simplified_Mrs</th>\n",
              "      <th>Title Simplified_Rare</th>\n",
              "      <th>Sex_female</th>\n",
              "      <th>Sex_male</th>\n",
              "      <th>Pclass_1</th>\n",
              "      <th>Pclass_2</th>\n",
              "      <th>Pclass_3</th>\n",
              "    </tr>\n",
              "  </thead>\n",
              "  <tbody>\n",
              "    <tr>\n",
              "      <th>0</th>\n",
              "      <td>0</td>\n",
              "      <td>1</td>\n",
              "      <td>0</td>\n",
              "      <td>2</td>\n",
              "      <td>0</td>\n",
              "      <td>1</td>\n",
              "      <td>1</td>\n",
              "      <td>0</td>\n",
              "      <td>0</td>\n",
              "      <td>1</td>\n",
              "      <td>0</td>\n",
              "      <td>0</td>\n",
              "      <td>1</td>\n",
              "      <td>0</td>\n",
              "      <td>0</td>\n",
              "      <td>0</td>\n",
              "      <td>1</td>\n",
              "      <td>0</td>\n",
              "      <td>0</td>\n",
              "      <td>1</td>\n",
              "    </tr>\n",
              "    <tr>\n",
              "      <th>1</th>\n",
              "      <td>1</td>\n",
              "      <td>1</td>\n",
              "      <td>0</td>\n",
              "      <td>2</td>\n",
              "      <td>0</td>\n",
              "      <td>2</td>\n",
              "      <td>2</td>\n",
              "      <td>1</td>\n",
              "      <td>0</td>\n",
              "      <td>0</td>\n",
              "      <td>0</td>\n",
              "      <td>0</td>\n",
              "      <td>0</td>\n",
              "      <td>1</td>\n",
              "      <td>0</td>\n",
              "      <td>1</td>\n",
              "      <td>0</td>\n",
              "      <td>1</td>\n",
              "      <td>0</td>\n",
              "      <td>0</td>\n",
              "    </tr>\n",
              "    <tr>\n",
              "      <th>2</th>\n",
              "      <td>1</td>\n",
              "      <td>0</td>\n",
              "      <td>0</td>\n",
              "      <td>1</td>\n",
              "      <td>1</td>\n",
              "      <td>1</td>\n",
              "      <td>1</td>\n",
              "      <td>0</td>\n",
              "      <td>0</td>\n",
              "      <td>1</td>\n",
              "      <td>0</td>\n",
              "      <td>1</td>\n",
              "      <td>0</td>\n",
              "      <td>0</td>\n",
              "      <td>0</td>\n",
              "      <td>1</td>\n",
              "      <td>0</td>\n",
              "      <td>0</td>\n",
              "      <td>0</td>\n",
              "      <td>1</td>\n",
              "    </tr>\n",
              "    <tr>\n",
              "      <th>3</th>\n",
              "      <td>1</td>\n",
              "      <td>1</td>\n",
              "      <td>0</td>\n",
              "      <td>2</td>\n",
              "      <td>0</td>\n",
              "      <td>2</td>\n",
              "      <td>2</td>\n",
              "      <td>0</td>\n",
              "      <td>0</td>\n",
              "      <td>1</td>\n",
              "      <td>0</td>\n",
              "      <td>0</td>\n",
              "      <td>0</td>\n",
              "      <td>1</td>\n",
              "      <td>0</td>\n",
              "      <td>1</td>\n",
              "      <td>0</td>\n",
              "      <td>1</td>\n",
              "      <td>0</td>\n",
              "      <td>0</td>\n",
              "    </tr>\n",
              "    <tr>\n",
              "      <th>4</th>\n",
              "      <td>0</td>\n",
              "      <td>0</td>\n",
              "      <td>0</td>\n",
              "      <td>1</td>\n",
              "      <td>1</td>\n",
              "      <td>2</td>\n",
              "      <td>1</td>\n",
              "      <td>0</td>\n",
              "      <td>0</td>\n",
              "      <td>1</td>\n",
              "      <td>0</td>\n",
              "      <td>0</td>\n",
              "      <td>1</td>\n",
              "      <td>0</td>\n",
              "      <td>0</td>\n",
              "      <td>0</td>\n",
              "      <td>1</td>\n",
              "      <td>0</td>\n",
              "      <td>0</td>\n",
              "      <td>1</td>\n",
              "    </tr>\n",
              "    <tr>\n",
              "      <th>5</th>\n",
              "      <td>0</td>\n",
              "      <td>0</td>\n",
              "      <td>0</td>\n",
              "      <td>1</td>\n",
              "      <td>1</td>\n",
              "      <td>1</td>\n",
              "      <td>1</td>\n",
              "      <td>0</td>\n",
              "      <td>1</td>\n",
              "      <td>0</td>\n",
              "      <td>0</td>\n",
              "      <td>0</td>\n",
              "      <td>1</td>\n",
              "      <td>0</td>\n",
              "      <td>0</td>\n",
              "      <td>0</td>\n",
              "      <td>1</td>\n",
              "      <td>0</td>\n",
              "      <td>0</td>\n",
              "      <td>1</td>\n",
              "    </tr>\n",
              "    <tr>\n",
              "      <th>6</th>\n",
              "      <td>0</td>\n",
              "      <td>0</td>\n",
              "      <td>0</td>\n",
              "      <td>1</td>\n",
              "      <td>1</td>\n",
              "      <td>3</td>\n",
              "      <td>2</td>\n",
              "      <td>0</td>\n",
              "      <td>0</td>\n",
              "      <td>1</td>\n",
              "      <td>0</td>\n",
              "      <td>0</td>\n",
              "      <td>1</td>\n",
              "      <td>0</td>\n",
              "      <td>0</td>\n",
              "      <td>0</td>\n",
              "      <td>1</td>\n",
              "      <td>1</td>\n",
              "      <td>0</td>\n",
              "      <td>0</td>\n",
              "    </tr>\n",
              "    <tr>\n",
              "      <th>7</th>\n",
              "      <td>0</td>\n",
              "      <td>3</td>\n",
              "      <td>1</td>\n",
              "      <td>5</td>\n",
              "      <td>0</td>\n",
              "      <td>0</td>\n",
              "      <td>1</td>\n",
              "      <td>0</td>\n",
              "      <td>0</td>\n",
              "      <td>1</td>\n",
              "      <td>1</td>\n",
              "      <td>0</td>\n",
              "      <td>0</td>\n",
              "      <td>0</td>\n",
              "      <td>0</td>\n",
              "      <td>0</td>\n",
              "      <td>1</td>\n",
              "      <td>0</td>\n",
              "      <td>0</td>\n",
              "      <td>1</td>\n",
              "    </tr>\n",
              "    <tr>\n",
              "      <th>8</th>\n",
              "      <td>1</td>\n",
              "      <td>0</td>\n",
              "      <td>2</td>\n",
              "      <td>3</td>\n",
              "      <td>0</td>\n",
              "      <td>1</td>\n",
              "      <td>1</td>\n",
              "      <td>0</td>\n",
              "      <td>0</td>\n",
              "      <td>1</td>\n",
              "      <td>0</td>\n",
              "      <td>0</td>\n",
              "      <td>0</td>\n",
              "      <td>1</td>\n",
              "      <td>0</td>\n",
              "      <td>1</td>\n",
              "      <td>0</td>\n",
              "      <td>0</td>\n",
              "      <td>0</td>\n",
              "      <td>1</td>\n",
              "    </tr>\n",
              "    <tr>\n",
              "      <th>9</th>\n",
              "      <td>1</td>\n",
              "      <td>1</td>\n",
              "      <td>0</td>\n",
              "      <td>2</td>\n",
              "      <td>0</td>\n",
              "      <td>0</td>\n",
              "      <td>2</td>\n",
              "      <td>1</td>\n",
              "      <td>0</td>\n",
              "      <td>0</td>\n",
              "      <td>0</td>\n",
              "      <td>0</td>\n",
              "      <td>0</td>\n",
              "      <td>1</td>\n",
              "      <td>0</td>\n",
              "      <td>1</td>\n",
              "      <td>0</td>\n",
              "      <td>0</td>\n",
              "      <td>1</td>\n",
              "      <td>0</td>\n",
              "    </tr>\n",
              "  </tbody>\n",
              "</table>\n",
              "</div>"
            ],
            "text/plain": [
              "   Survived  SibSp  Parch  Family Size  ...  Sex_male  Pclass_1  Pclass_2  Pclass_3\n",
              "0         0      1      0            2  ...         1         0         0         1\n",
              "1         1      1      0            2  ...         0         1         0         0\n",
              "2         1      0      0            1  ...         0         0         0         1\n",
              "3         1      1      0            2  ...         0         1         0         0\n",
              "4         0      0      0            1  ...         1         0         0         1\n",
              "5         0      0      0            1  ...         1         0         0         1\n",
              "6         0      0      0            1  ...         1         1         0         0\n",
              "7         0      3      1            5  ...         1         0         0         1\n",
              "8         1      0      2            3  ...         0         0         0         1\n",
              "9         1      1      0            2  ...         0         0         1         0\n",
              "\n",
              "[10 rows x 20 columns]"
            ]
          },
          "metadata": {},
          "execution_count": 47
        }
      ]
    },
    {
      "cell_type": "markdown",
      "metadata": {
        "id": "Uf1dELTt8zun"
      },
      "source": [
        "####Drop Survived from Testing Set (What we are Predicting)"
      ]
    },
    {
      "cell_type": "code",
      "metadata": {
        "colab": {
          "base_uri": "https://localhost:8080/",
          "height": 380
        },
        "id": "G223RU6AuCy3",
        "outputId": "ce900886-a7bc-473b-cd5f-df1ebeddc5e9"
      },
      "source": [
        "#Testing drops the Survived because we want to predict that\n",
        "testing_final_df = testing_final_df.drop('Survived', axis = 1)\n",
        "\n",
        "testing_final_df.head(10)"
      ],
      "execution_count": 48,
      "outputs": [
        {
          "output_type": "execute_result",
          "data": {
            "text/html": [
              "<div>\n",
              "<style scoped>\n",
              "    .dataframe tbody tr th:only-of-type {\n",
              "        vertical-align: middle;\n",
              "    }\n",
              "\n",
              "    .dataframe tbody tr th {\n",
              "        vertical-align: top;\n",
              "    }\n",
              "\n",
              "    .dataframe thead th {\n",
              "        text-align: right;\n",
              "    }\n",
              "</style>\n",
              "<table border=\"1\" class=\"dataframe\">\n",
              "  <thead>\n",
              "    <tr style=\"text-align: right;\">\n",
              "      <th></th>\n",
              "      <th>PassengerId</th>\n",
              "      <th>SibSp</th>\n",
              "      <th>Parch</th>\n",
              "      <th>Family Size</th>\n",
              "      <th>IsAlone</th>\n",
              "      <th>Age Group Number</th>\n",
              "      <th>Fare Group Number</th>\n",
              "      <th>Embarked_C</th>\n",
              "      <th>Embarked_Q</th>\n",
              "      <th>Embarked_S</th>\n",
              "      <th>Title Simplified_Master</th>\n",
              "      <th>Title Simplified_Miss</th>\n",
              "      <th>Title Simplified_Mr</th>\n",
              "      <th>Title Simplified_Mrs</th>\n",
              "      <th>Title Simplified_Rare</th>\n",
              "      <th>Sex_female</th>\n",
              "      <th>Sex_male</th>\n",
              "      <th>Pclass_1</th>\n",
              "      <th>Pclass_2</th>\n",
              "      <th>Pclass_3</th>\n",
              "    </tr>\n",
              "  </thead>\n",
              "  <tbody>\n",
              "    <tr>\n",
              "      <th>881</th>\n",
              "      <td>892</td>\n",
              "      <td>0</td>\n",
              "      <td>0</td>\n",
              "      <td>1</td>\n",
              "      <td>1</td>\n",
              "      <td>2</td>\n",
              "      <td>1</td>\n",
              "      <td>0</td>\n",
              "      <td>1</td>\n",
              "      <td>0</td>\n",
              "      <td>0</td>\n",
              "      <td>0</td>\n",
              "      <td>1</td>\n",
              "      <td>0</td>\n",
              "      <td>0</td>\n",
              "      <td>0</td>\n",
              "      <td>1</td>\n",
              "      <td>0</td>\n",
              "      <td>0</td>\n",
              "      <td>1</td>\n",
              "    </tr>\n",
              "    <tr>\n",
              "      <th>882</th>\n",
              "      <td>893</td>\n",
              "      <td>1</td>\n",
              "      <td>0</td>\n",
              "      <td>2</td>\n",
              "      <td>0</td>\n",
              "      <td>2</td>\n",
              "      <td>1</td>\n",
              "      <td>0</td>\n",
              "      <td>0</td>\n",
              "      <td>1</td>\n",
              "      <td>0</td>\n",
              "      <td>0</td>\n",
              "      <td>0</td>\n",
              "      <td>1</td>\n",
              "      <td>0</td>\n",
              "      <td>1</td>\n",
              "      <td>0</td>\n",
              "      <td>0</td>\n",
              "      <td>0</td>\n",
              "      <td>1</td>\n",
              "    </tr>\n",
              "    <tr>\n",
              "      <th>883</th>\n",
              "      <td>894</td>\n",
              "      <td>0</td>\n",
              "      <td>0</td>\n",
              "      <td>1</td>\n",
              "      <td>1</td>\n",
              "      <td>3</td>\n",
              "      <td>1</td>\n",
              "      <td>0</td>\n",
              "      <td>1</td>\n",
              "      <td>0</td>\n",
              "      <td>0</td>\n",
              "      <td>0</td>\n",
              "      <td>1</td>\n",
              "      <td>0</td>\n",
              "      <td>0</td>\n",
              "      <td>0</td>\n",
              "      <td>1</td>\n",
              "      <td>0</td>\n",
              "      <td>1</td>\n",
              "      <td>0</td>\n",
              "    </tr>\n",
              "    <tr>\n",
              "      <th>884</th>\n",
              "      <td>895</td>\n",
              "      <td>0</td>\n",
              "      <td>0</td>\n",
              "      <td>1</td>\n",
              "      <td>1</td>\n",
              "      <td>1</td>\n",
              "      <td>1</td>\n",
              "      <td>0</td>\n",
              "      <td>0</td>\n",
              "      <td>1</td>\n",
              "      <td>0</td>\n",
              "      <td>0</td>\n",
              "      <td>1</td>\n",
              "      <td>0</td>\n",
              "      <td>0</td>\n",
              "      <td>0</td>\n",
              "      <td>1</td>\n",
              "      <td>0</td>\n",
              "      <td>0</td>\n",
              "      <td>1</td>\n",
              "    </tr>\n",
              "    <tr>\n",
              "      <th>885</th>\n",
              "      <td>896</td>\n",
              "      <td>1</td>\n",
              "      <td>1</td>\n",
              "      <td>3</td>\n",
              "      <td>0</td>\n",
              "      <td>1</td>\n",
              "      <td>1</td>\n",
              "      <td>0</td>\n",
              "      <td>0</td>\n",
              "      <td>1</td>\n",
              "      <td>0</td>\n",
              "      <td>0</td>\n",
              "      <td>0</td>\n",
              "      <td>1</td>\n",
              "      <td>0</td>\n",
              "      <td>1</td>\n",
              "      <td>0</td>\n",
              "      <td>0</td>\n",
              "      <td>0</td>\n",
              "      <td>1</td>\n",
              "    </tr>\n",
              "    <tr>\n",
              "      <th>886</th>\n",
              "      <td>897</td>\n",
              "      <td>0</td>\n",
              "      <td>0</td>\n",
              "      <td>1</td>\n",
              "      <td>1</td>\n",
              "      <td>0</td>\n",
              "      <td>1</td>\n",
              "      <td>0</td>\n",
              "      <td>0</td>\n",
              "      <td>1</td>\n",
              "      <td>0</td>\n",
              "      <td>0</td>\n",
              "      <td>1</td>\n",
              "      <td>0</td>\n",
              "      <td>0</td>\n",
              "      <td>0</td>\n",
              "      <td>1</td>\n",
              "      <td>0</td>\n",
              "      <td>0</td>\n",
              "      <td>1</td>\n",
              "    </tr>\n",
              "    <tr>\n",
              "      <th>887</th>\n",
              "      <td>898</td>\n",
              "      <td>0</td>\n",
              "      <td>0</td>\n",
              "      <td>1</td>\n",
              "      <td>1</td>\n",
              "      <td>1</td>\n",
              "      <td>1</td>\n",
              "      <td>0</td>\n",
              "      <td>1</td>\n",
              "      <td>0</td>\n",
              "      <td>0</td>\n",
              "      <td>1</td>\n",
              "      <td>0</td>\n",
              "      <td>0</td>\n",
              "      <td>0</td>\n",
              "      <td>1</td>\n",
              "      <td>0</td>\n",
              "      <td>0</td>\n",
              "      <td>0</td>\n",
              "      <td>1</td>\n",
              "    </tr>\n",
              "    <tr>\n",
              "      <th>888</th>\n",
              "      <td>899</td>\n",
              "      <td>1</td>\n",
              "      <td>1</td>\n",
              "      <td>3</td>\n",
              "      <td>0</td>\n",
              "      <td>1</td>\n",
              "      <td>2</td>\n",
              "      <td>0</td>\n",
              "      <td>0</td>\n",
              "      <td>1</td>\n",
              "      <td>0</td>\n",
              "      <td>0</td>\n",
              "      <td>1</td>\n",
              "      <td>0</td>\n",
              "      <td>0</td>\n",
              "      <td>0</td>\n",
              "      <td>1</td>\n",
              "      <td>0</td>\n",
              "      <td>1</td>\n",
              "      <td>0</td>\n",
              "    </tr>\n",
              "    <tr>\n",
              "      <th>889</th>\n",
              "      <td>900</td>\n",
              "      <td>0</td>\n",
              "      <td>0</td>\n",
              "      <td>1</td>\n",
              "      <td>1</td>\n",
              "      <td>1</td>\n",
              "      <td>1</td>\n",
              "      <td>1</td>\n",
              "      <td>0</td>\n",
              "      <td>0</td>\n",
              "      <td>0</td>\n",
              "      <td>0</td>\n",
              "      <td>0</td>\n",
              "      <td>1</td>\n",
              "      <td>0</td>\n",
              "      <td>1</td>\n",
              "      <td>0</td>\n",
              "      <td>0</td>\n",
              "      <td>0</td>\n",
              "      <td>1</td>\n",
              "    </tr>\n",
              "    <tr>\n",
              "      <th>890</th>\n",
              "      <td>901</td>\n",
              "      <td>2</td>\n",
              "      <td>0</td>\n",
              "      <td>3</td>\n",
              "      <td>0</td>\n",
              "      <td>1</td>\n",
              "      <td>2</td>\n",
              "      <td>0</td>\n",
              "      <td>0</td>\n",
              "      <td>1</td>\n",
              "      <td>0</td>\n",
              "      <td>0</td>\n",
              "      <td>1</td>\n",
              "      <td>0</td>\n",
              "      <td>0</td>\n",
              "      <td>0</td>\n",
              "      <td>1</td>\n",
              "      <td>0</td>\n",
              "      <td>0</td>\n",
              "      <td>1</td>\n",
              "    </tr>\n",
              "  </tbody>\n",
              "</table>\n",
              "</div>"
            ],
            "text/plain": [
              "     PassengerId  SibSp  Parch  ...  Pclass_1  Pclass_2  Pclass_3\n",
              "881          892      0      0  ...         0         0         1\n",
              "882          893      1      0  ...         0         0         1\n",
              "883          894      0      0  ...         0         1         0\n",
              "884          895      0      0  ...         0         0         1\n",
              "885          896      1      1  ...         0         0         1\n",
              "886          897      0      0  ...         0         0         1\n",
              "887          898      0      0  ...         0         0         1\n",
              "888          899      1      1  ...         0         1         0\n",
              "889          900      0      0  ...         0         0         1\n",
              "890          901      2      0  ...         0         0         1\n",
              "\n",
              "[10 rows x 20 columns]"
            ]
          },
          "metadata": {},
          "execution_count": 48
        }
      ]
    },
    {
      "cell_type": "markdown",
      "metadata": {
        "id": "LN-oxUIRxJMf"
      },
      "source": [
        "###Predicting/Modelling"
      ]
    },
    {
      "cell_type": "markdown",
      "metadata": {
        "id": "BP8DY_eQ9Bvc"
      },
      "source": [
        "####Logistic Regression Model, Fit and Predict"
      ]
    },
    {
      "cell_type": "code",
      "metadata": {
        "colab": {
          "base_uri": "https://localhost:8080/"
        },
        "id": "hc_n4PgU4k8-",
        "outputId": "e1a23b7c-41c9-40bb-8e93-a8dc2e031e9b"
      },
      "source": [
        "#Logistic Regression\n",
        "clf1 = LogisticRegression(solver='lbfgs', max_iter=10000)\n",
        "clf1.fit(training_final_df.drop('Survived', axis = 1), training_final_df['Survived'] )\n",
        "\n",
        "LogRegPredY = clf1.predict(testing_final_df.drop('PassengerId', axis = 1).copy())\n",
        "print(\"Logistic Regression Y Predicted: \", LogRegPredY)\n",
        "print(\"Logistic Regression Y Predicted Accuracy: \", round(clf1.score(training_final_df.drop('Survived', axis = 1), training_final_df['Survived']) * 100, 2))"
      ],
      "execution_count": 55,
      "outputs": [
        {
          "output_type": "stream",
          "name": "stdout",
          "text": [
            "Logistic Regression Y Predicted:  [0 1 0 0 1 0 1 0 1 0 0 0 1 0 1 1 0 0 1 1 0 1 1 1 1 0 1 0 0 0 0 0 0 1 1 0 1\n",
            " 1 0 0 0 0 0 1 1 0 0 0 1 1 0 0 1 1 0 0 0 0 0 1 0 0 0 1 1 1 1 0 1 1 1 0 1 1\n",
            " 1 1 0 1 0 1 1 0 0 0 0 0 1 1 1 1 1 0 1 0 1 0 1 0 1 0 1 0 0 0 1 0 0 0 0 0 0\n",
            " 1 1 1 1 0 0 1 0 1 1 0 1 0 0 1 0 1 0 0 0 0 1 0 0 0 0 0 1 0 0 1 0 0 0 0 0 0\n",
            " 0 0 1 0 0 1 0 0 1 1 0 1 1 1 1 0 0 1 0 0 1 1 0 0 0 0 0 1 1 0 1 1 0 0 1 0 1\n",
            " 0 1 0 0 0 0 0 1 0 1 0 1 1 0 1 1 1 1 1 0 0 1 0 1 0 0 0 0 1 0 0 1 0 1 0 1 0\n",
            " 1 0 1 1 0 1 0 0 0 1 0 0 0 0 0 0 1 1 1 1 0 0 1 0 1 0 1 1 1 0 1 0 0 0 0 0 1\n",
            " 0 0 0 1 1 0 0 0 0 1 0 0 0 1 1 0 1 0 0 0 0 1 1 1 1 1 0 0 0 0 0 0 1 0 0 0 0\n",
            " 1 0 0 0 0 0 0 0 1 1 0 1 0 1 0 0 0 1 1 1 0 0 0 0 0 0 0 0 1 0 1 0 0 0 1 0 0\n",
            " 1 0 0 0 0 0 1 0 0 0 1 1 1 0 1 0 1 1 0 0 0 0 0 1 0 0 1 0 1 1 0 1 0 0 1 1 0\n",
            " 0 1 0 0 1 1 0 0 0 0 0 0 1 1 0 1 0 0 0 0 0 1 1 0 0 1 0 1 0 0 1 0 1 0 0 0 0\n",
            " 0 1 1 1 1 1 0 1 0 0 1]\n",
            "Logistic Regression Y Predicted Accuracy:  82.52\n"
          ]
        }
      ]
    },
    {
      "cell_type": "markdown",
      "metadata": {
        "id": "G50__ujD9DzK"
      },
      "source": [
        "####K-Nearest-Neighbors Model, Fit and Predict"
      ]
    },
    {
      "cell_type": "code",
      "metadata": {
        "colab": {
          "base_uri": "https://localhost:8080/"
        },
        "id": "X952on2s1YLO",
        "outputId": "f519e52c-8a1b-49b4-bda2-8ffefaa9d0cd"
      },
      "source": [
        "#KNN\n",
        "\n",
        "clf2 = KNeighborsClassifier(n_neighbors = 4)\n",
        "clf2.fit(training_final_df.drop('Survived', axis = 1), training_final_df['Survived'] )\n",
        "\n",
        "KNNPredY = clf2.predict(testing_final_df.drop('PassengerId', axis = 1).copy())\n",
        "print(\"KNN Y Predicted: \", KNNPredY)\n",
        "print(\"KNN Y Predicted Accuracy: \", round(clf2.score(training_final_df.drop('Survived', axis = 1), training_final_df['Survived']) * 100, 2))"
      ],
      "execution_count": 64,
      "outputs": [
        {
          "output_type": "stream",
          "name": "stdout",
          "text": [
            "KNN Y Predicted:  [0 0 0 0 0 0 1 0 1 0 0 0 1 0 1 1 0 0 0 1 0 1 1 0 0 0 1 0 0 0 0 0 0 0 1 0 1\n",
            " 1 0 1 0 0 0 1 1 0 0 0 1 1 0 0 1 0 0 0 0 0 0 1 0 0 0 1 1 1 1 0 0 0 1 0 1 0\n",
            " 1 0 0 1 0 1 1 0 0 0 0 0 1 1 1 1 0 0 1 0 0 0 1 0 1 0 1 0 0 0 1 0 0 0 0 0 0\n",
            " 1 1 1 1 0 0 1 0 1 1 0 1 0 0 0 0 1 0 0 0 0 0 0 0 0 0 0 1 0 0 1 0 0 0 0 0 0\n",
            " 0 0 1 0 0 1 0 0 1 1 0 1 1 1 1 0 0 0 0 0 1 1 0 0 0 0 0 1 1 0 1 1 0 0 1 0 1\n",
            " 0 1 0 0 0 0 0 1 0 1 0 1 1 0 0 1 1 1 1 0 0 1 0 1 0 0 0 0 1 0 0 1 0 1 0 0 0\n",
            " 1 0 1 1 0 1 0 0 0 1 0 0 1 0 0 0 1 1 1 1 0 0 1 0 1 0 1 0 1 0 0 0 0 0 0 0 1\n",
            " 0 0 0 1 1 0 0 0 0 1 0 0 0 1 1 0 1 0 0 0 0 1 1 1 1 1 0 0 0 0 0 0 1 0 0 0 0\n",
            " 1 0 0 0 0 0 0 0 1 1 1 1 0 0 0 0 0 1 1 1 0 0 0 0 0 0 0 0 1 0 1 0 0 0 1 0 0\n",
            " 0 0 0 0 0 0 0 0 0 0 1 1 0 0 1 0 1 1 0 0 0 1 0 1 0 0 0 0 1 1 0 1 0 0 0 1 0\n",
            " 0 1 0 0 1 1 0 0 0 0 0 0 0 0 0 1 0 0 0 0 0 1 1 0 0 1 0 1 0 0 1 0 1 0 1 0 0\n",
            " 0 1 1 1 1 1 0 1 0 0 1]\n",
            "KNN Y Predicted Accuracy:  84.45\n"
          ]
        }
      ]
    },
    {
      "cell_type": "markdown",
      "metadata": {
        "id": "tZmbrZA49SOa"
      },
      "source": [
        "####Support Vector Machines (SVC) Model, Fit and Predict"
      ]
    },
    {
      "cell_type": "code",
      "metadata": {
        "colab": {
          "base_uri": "https://localhost:8080/"
        },
        "id": "LNWOM-Dk10oO",
        "outputId": "6350a55b-45bf-48aa-c4c7-84fe88d48f85"
      },
      "source": [
        "#Support vector machine\n",
        "clf3 = SVC()\n",
        "clf3.fit(training_final_df.drop('Survived', axis = 1), training_final_df['Survived'])\n",
        "\n",
        "SVCPredY = clf3.predict(testing_final_df.drop('PassengerId', axis = 1).copy())\n",
        "print(\"SVC Y Predicted: \", SVCPredY)\n",
        "print(\"SVC Y Predicted Accuracy: \", round(clf3.score(training_final_df.drop('Survived', axis = 1), training_final_df['Survived']) * 100, 2))"
      ],
      "execution_count": 57,
      "outputs": [
        {
          "output_type": "stream",
          "name": "stdout",
          "text": [
            "SVC Y Predicted:  [0 1 0 0 1 0 1 0 1 0 0 0 1 0 1 1 0 0 1 1 0 1 1 0 1 0 1 0 0 0 0 0 1 1 0 0 1\n",
            " 1 0 0 0 0 0 1 1 0 0 0 1 1 0 0 1 1 0 0 0 0 0 1 0 0 0 1 1 1 1 0 0 0 1 0 1 0\n",
            " 1 0 0 1 0 1 1 0 0 0 0 0 1 1 1 1 1 0 1 0 0 0 1 0 1 0 1 0 0 0 1 0 0 0 0 0 0\n",
            " 1 1 1 1 0 0 1 0 1 1 0 1 0 0 1 0 1 0 0 0 0 0 0 0 0 0 0 1 0 0 1 0 0 0 0 0 0\n",
            " 0 0 1 0 0 1 0 0 1 1 0 1 1 1 1 0 0 1 0 0 1 1 0 0 0 0 0 1 1 0 1 1 0 0 1 0 1\n",
            " 0 1 0 0 0 0 0 1 0 1 0 1 1 0 1 1 1 0 1 0 0 1 0 1 0 0 0 0 1 0 0 1 0 1 0 1 0\n",
            " 1 0 1 1 0 1 0 0 0 1 0 0 0 0 0 0 1 1 1 1 0 0 1 0 1 0 1 1 1 0 0 0 0 0 0 0 1\n",
            " 0 0 0 1 1 0 0 0 0 1 0 0 0 1 1 0 1 0 0 0 0 1 1 1 1 1 0 0 0 0 0 0 1 0 0 0 0\n",
            " 1 0 0 0 0 0 0 0 1 1 0 1 0 1 0 0 0 1 1 1 0 0 0 0 0 0 0 0 1 0 1 0 0 0 1 0 0\n",
            " 1 0 0 0 0 0 1 0 0 0 1 1 1 0 1 0 1 1 0 0 0 1 0 1 0 0 1 0 1 1 0 1 0 0 1 1 0\n",
            " 0 1 0 0 1 1 1 0 0 0 0 0 1 1 0 1 0 0 0 0 0 1 1 0 0 1 0 1 0 0 1 0 1 0 0 0 0\n",
            " 0 1 1 1 1 1 0 1 0 0 1]\n",
            "SVC Y Predicted Accuracy:  83.31\n"
          ]
        }
      ]
    },
    {
      "cell_type": "markdown",
      "metadata": {
        "id": "DdMPsqVr9W8h"
      },
      "source": [
        "####Perceptron Model, Fit and Predict"
      ]
    },
    {
      "cell_type": "code",
      "metadata": {
        "colab": {
          "base_uri": "https://localhost:8080/"
        },
        "id": "V4daJzaEAO5r",
        "outputId": "e6d5d554-5195-4424-de84-f6b510efbc75"
      },
      "source": [
        "#Perceptron\n",
        "clf4 = Perceptron()\n",
        "clf4.fit(training_final_df.drop('Survived', axis = 1), training_final_df['Survived'])\n",
        "\n",
        "PerceptronPredY = clf4.predict(testing_final_df.drop('PassengerId', axis = 1).copy())\n",
        "print(\"Perceptron Y Predicted: \", PerceptronPredY)\n",
        "print(\"Perceptron Y Predicted Accuracy: \", round(clf4.score(training_final_df.drop('Survived', axis = 1), training_final_df['Survived']) * 100, 2))"
      ],
      "execution_count": 58,
      "outputs": [
        {
          "output_type": "stream",
          "name": "stdout",
          "text": [
            "Perceptron Y Predicted:  [0 1 0 0 1 0 1 1 1 0 0 0 1 0 1 1 0 0 1 1 0 1 1 1 1 0 1 0 0 0 0 1 1 1 1 0 1\n",
            " 1 0 0 0 0 0 1 1 0 0 0 1 1 1 0 1 1 0 1 0 0 0 1 0 0 0 1 1 1 1 0 1 1 1 0 1 1\n",
            " 1 0 0 1 0 1 1 0 0 0 0 0 1 1 1 1 1 0 1 0 1 0 1 0 1 0 1 1 0 0 1 0 0 0 0 0 0\n",
            " 1 1 1 1 0 0 1 0 1 1 0 1 0 0 1 0 1 0 0 0 0 1 0 0 0 0 0 1 0 1 1 0 0 0 1 0 0\n",
            " 0 0 1 0 0 1 1 0 1 1 0 1 1 1 1 0 0 1 0 0 1 1 0 0 0 0 0 1 1 0 1 1 0 1 1 0 1\n",
            " 0 1 0 1 0 0 0 1 0 1 0 1 1 0 1 1 1 1 1 0 0 1 0 1 0 0 0 0 1 1 0 1 0 1 0 1 0\n",
            " 1 0 1 1 0 1 0 0 1 1 0 0 1 0 0 0 1 1 1 1 1 0 1 1 1 0 1 1 1 0 1 0 0 0 0 0 1\n",
            " 0 0 0 1 1 0 0 0 0 1 0 0 0 1 1 0 1 0 0 1 0 1 1 1 1 1 0 0 1 0 0 0 1 0 0 0 0\n",
            " 1 0 1 0 0 0 0 0 1 1 1 1 0 1 0 0 0 1 1 1 1 0 0 1 0 0 0 0 1 0 1 0 1 0 1 0 0\n",
            " 1 0 1 0 0 0 1 0 0 0 1 1 1 0 1 0 1 1 0 0 0 1 0 1 0 0 1 1 1 1 0 1 0 0 1 1 0\n",
            " 1 1 0 0 1 1 1 0 0 1 0 0 1 1 0 1 0 0 0 1 1 1 1 0 0 1 0 1 0 0 1 0 1 1 1 0 1\n",
            " 0 1 1 1 1 1 0 1 0 0 1]\n",
            "Perceptron Y Predicted Accuracy:  78.09\n"
          ]
        }
      ]
    },
    {
      "cell_type": "markdown",
      "metadata": {
        "id": "h-o3JxMUEUpB"
      },
      "source": [
        "###Sending To CSV Our Predictions"
      ]
    },
    {
      "cell_type": "code",
      "metadata": {
        "id": "LofadleRBRed"
      },
      "source": [
        "TestFinalWithSurvivedPredicted1 = testing_final_df.copy()\n",
        "TestFinalWithSurvivedPredicted2 = testing_final_df.copy()\n",
        "TestFinalWithSurvivedPredicted3 = testing_final_df.copy()\n",
        "TestFinalWithSurvivedPredicted4 = testing_final_df.copy()\n",
        "\n",
        "TestFinalWithSurvivedPredicted1['Survived']= LogRegPredY\n",
        "TestFinalWithSurvivedPredicted2['Survived']= KNNPredY\n",
        "TestFinalWithSurvivedPredicted3['Survived']= SVCPredY\n",
        "TestFinalWithSurvivedPredicted4['Survived']= PerceptronPredY\n",
        "\n",
        "TestFinalWithSurvivedPredicted1[['PassengerId','Survived']].to_csv('TitanicTest_1.csv', index=False, header=True)\n",
        "TestFinalWithSurvivedPredicted2[['PassengerId','Survived']].to_csv('TitanicTest_2.csv', index=False, header=True)\n",
        "TestFinalWithSurvivedPredicted3[['PassengerId','Survived']].to_csv('TitanicTest_3.csv', index=False, header=True)\n",
        "TestFinalWithSurvivedPredicted4[['PassengerId','Survived']].to_csv('TitanicTest_4.csv', index=False, header=True)"
      ],
      "execution_count": 66,
      "outputs": []
    },
    {
      "cell_type": "markdown",
      "metadata": {
        "id": "bfGERaVPC_dV"
      },
      "source": [
        "### Results"
      ]
    },
    {
      "cell_type": "markdown",
      "metadata": {
        "id": "1AIJez-KER6I"
      },
      "source": [
        "![image.png](data:image/png;base64,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)"
      ]
    }
  ]
}