{
  "nbformat": 4,
  "nbformat_minor": 0,
  "metadata": {
    "colab": {
      "name": "KaggleTitanic.ipynb",
      "provenance": [],
      "collapsed_sections": [],
      "include_colab_link": true
    },
    "kernelspec": {
      "name": "python3",
      "display_name": "Python 3"
    },
    "language_info": {
      "name": "python"
    }
  },
  "cells": [
    {
      "cell_type": "markdown",
      "metadata": {
        "id": "view-in-github",
        "colab_type": "text"
      },
      "source": [
        "<a href=\"https://colab.research.google.com/github/DicheDiez10/CSCI-191-T-ML/blob/main/KaggleTitanic/KaggleTitanic.ipynb\" target=\"_parent\"><img src=\"https://colab.research.google.com/assets/colab-badge.svg\" alt=\"Open In Colab\"/></a>"
      ]
    },
    {
      "cell_type": "markdown",
      "metadata": {
        "id": "CXFJn2bgGQUy"
      },
      "source": [
        "Importing the libraries we will use"
      ]
    },
    {
      "cell_type": "code",
      "metadata": {
        "id": "-DJsGA5Nwh2E"
      },
      "source": [
        "import numpy as np \n",
        "import pandas as pd \n",
        "import seaborn as sns\n",
        "import matplotlib.pyplot as plt \n",
        "\n",
        "from sklearn.linear_model import LogisticRegression\n",
        "from sklearn.neighbors import KNeighborsClassifier\n",
        "from sklearn.neural_network import MLPClassifier\n",
        "\n",
        "#Hyperparameter tuning\n",
        "from sklearn.model_selection import GridSearchCV\n",
        "\n",
        "from sklearn.metrics import accuracy_score\n",
        "\n",
        "import warnings\n",
        "warnings.filterwarnings('ignore')"
      ],
      "execution_count": 1,
      "outputs": []
    },
    {
      "cell_type": "markdown",
      "metadata": {
        "id": "dbdZgvIUGCAz"
      },
      "source": [
        "Import the 3 data sets that are given via https://www.kaggle.com/c/titanic/data"
      ]
    },
    {
      "cell_type": "code",
      "metadata": {
        "id": "ufZYLMcnFqQL"
      },
      "source": [
        "#Reading the files given:\n",
        "train_df             = pd.read_csv(\"https://github.com/DicheDiez10/CSCI-191-T-ML/raw/main/KaggleTitanic/TitanicTrain.csv\")\n",
        "test_df              = pd.read_csv(\"https://github.com/DicheDiez10/CSCI-191-T-ML/raw/main/KaggleTitanic/TitanicTest.csv\")\n",
        "sample_submission_df = pd.read_csv(\"https://github.com/DicheDiez10/CSCI-191-T-ML/raw/main/KaggleTitanic/TitanicSampleSubmission.csv\")"
      ],
      "execution_count": 4,
      "outputs": []
    },
    {
      "cell_type": "code",
      "metadata": {
        "colab": {
          "base_uri": "https://localhost:8080/",
          "height": 363
        },
        "id": "QoBIYFyEGf3s",
        "outputId": "836529cd-96a2-42fe-fb8b-9bc8ee657e76"
      },
      "source": [
        "#Output verification of datasets imported and read\n",
        "train_df.head(10)"
      ],
      "execution_count": 17,
      "outputs": [
        {
          "output_type": "execute_result",
          "data": {
            "text/html": [
              "<div>\n",
              "<style scoped>\n",
              "    .dataframe tbody tr th:only-of-type {\n",
              "        vertical-align: middle;\n",
              "    }\n",
              "\n",
              "    .dataframe tbody tr th {\n",
              "        vertical-align: top;\n",
              "    }\n",
              "\n",
              "    .dataframe thead th {\n",
              "        text-align: right;\n",
              "    }\n",
              "</style>\n",
              "<table border=\"1\" class=\"dataframe\">\n",
              "  <thead>\n",
              "    <tr style=\"text-align: right;\">\n",
              "      <th></th>\n",
              "      <th>PassengerId</th>\n",
              "      <th>Survived</th>\n",
              "      <th>Pclass</th>\n",
              "      <th>Name</th>\n",
              "      <th>Sex</th>\n",
              "      <th>Age</th>\n",
              "      <th>SibSp</th>\n",
              "      <th>Parch</th>\n",
              "      <th>Ticket</th>\n",
              "      <th>Fare</th>\n",
              "      <th>Cabin</th>\n",
              "      <th>Embarked</th>\n",
              "    </tr>\n",
              "  </thead>\n",
              "  <tbody>\n",
              "    <tr>\n",
              "      <th>0</th>\n",
              "      <td>1</td>\n",
              "      <td>0</td>\n",
              "      <td>3</td>\n",
              "      <td>Braund, Mr. Owen Harris</td>\n",
              "      <td>male</td>\n",
              "      <td>22.0</td>\n",
              "      <td>1</td>\n",
              "      <td>0</td>\n",
              "      <td>A/5 21171</td>\n",
              "      <td>7.2500</td>\n",
              "      <td>NaN</td>\n",
              "      <td>S</td>\n",
              "    </tr>\n",
              "    <tr>\n",
              "      <th>1</th>\n",
              "      <td>2</td>\n",
              "      <td>1</td>\n",
              "      <td>1</td>\n",
              "      <td>Cumings, Mrs. John Bradley (Florence Briggs Th...</td>\n",
              "      <td>female</td>\n",
              "      <td>38.0</td>\n",
              "      <td>1</td>\n",
              "      <td>0</td>\n",
              "      <td>PC 17599</td>\n",
              "      <td>71.2833</td>\n",
              "      <td>C85</td>\n",
              "      <td>C</td>\n",
              "    </tr>\n",
              "    <tr>\n",
              "      <th>2</th>\n",
              "      <td>3</td>\n",
              "      <td>1</td>\n",
              "      <td>3</td>\n",
              "      <td>Heikkinen, Miss. Laina</td>\n",
              "      <td>female</td>\n",
              "      <td>26.0</td>\n",
              "      <td>0</td>\n",
              "      <td>0</td>\n",
              "      <td>STON/O2. 3101282</td>\n",
              "      <td>7.9250</td>\n",
              "      <td>NaN</td>\n",
              "      <td>S</td>\n",
              "    </tr>\n",
              "    <tr>\n",
              "      <th>3</th>\n",
              "      <td>4</td>\n",
              "      <td>1</td>\n",
              "      <td>1</td>\n",
              "      <td>Futrelle, Mrs. Jacques Heath (Lily May Peel)</td>\n",
              "      <td>female</td>\n",
              "      <td>35.0</td>\n",
              "      <td>1</td>\n",
              "      <td>0</td>\n",
              "      <td>113803</td>\n",
              "      <td>53.1000</td>\n",
              "      <td>C123</td>\n",
              "      <td>S</td>\n",
              "    </tr>\n",
              "    <tr>\n",
              "      <th>4</th>\n",
              "      <td>5</td>\n",
              "      <td>0</td>\n",
              "      <td>3</td>\n",
              "      <td>Allen, Mr. William Henry</td>\n",
              "      <td>male</td>\n",
              "      <td>35.0</td>\n",
              "      <td>0</td>\n",
              "      <td>0</td>\n",
              "      <td>373450</td>\n",
              "      <td>8.0500</td>\n",
              "      <td>NaN</td>\n",
              "      <td>S</td>\n",
              "    </tr>\n",
              "    <tr>\n",
              "      <th>5</th>\n",
              "      <td>6</td>\n",
              "      <td>0</td>\n",
              "      <td>3</td>\n",
              "      <td>Moran, Mr. James</td>\n",
              "      <td>male</td>\n",
              "      <td>NaN</td>\n",
              "      <td>0</td>\n",
              "      <td>0</td>\n",
              "      <td>330877</td>\n",
              "      <td>8.4583</td>\n",
              "      <td>NaN</td>\n",
              "      <td>Q</td>\n",
              "    </tr>\n",
              "    <tr>\n",
              "      <th>6</th>\n",
              "      <td>7</td>\n",
              "      <td>0</td>\n",
              "      <td>1</td>\n",
              "      <td>McCarthy, Mr. Timothy J</td>\n",
              "      <td>male</td>\n",
              "      <td>54.0</td>\n",
              "      <td>0</td>\n",
              "      <td>0</td>\n",
              "      <td>17463</td>\n",
              "      <td>51.8625</td>\n",
              "      <td>E46</td>\n",
              "      <td>S</td>\n",
              "    </tr>\n",
              "    <tr>\n",
              "      <th>7</th>\n",
              "      <td>8</td>\n",
              "      <td>0</td>\n",
              "      <td>3</td>\n",
              "      <td>Palsson, Master. Gosta Leonard</td>\n",
              "      <td>male</td>\n",
              "      <td>2.0</td>\n",
              "      <td>3</td>\n",
              "      <td>1</td>\n",
              "      <td>349909</td>\n",
              "      <td>21.0750</td>\n",
              "      <td>NaN</td>\n",
              "      <td>S</td>\n",
              "    </tr>\n",
              "    <tr>\n",
              "      <th>8</th>\n",
              "      <td>9</td>\n",
              "      <td>1</td>\n",
              "      <td>3</td>\n",
              "      <td>Johnson, Mrs. Oscar W (Elisabeth Vilhelmina Berg)</td>\n",
              "      <td>female</td>\n",
              "      <td>27.0</td>\n",
              "      <td>0</td>\n",
              "      <td>2</td>\n",
              "      <td>347742</td>\n",
              "      <td>11.1333</td>\n",
              "      <td>NaN</td>\n",
              "      <td>S</td>\n",
              "    </tr>\n",
              "    <tr>\n",
              "      <th>9</th>\n",
              "      <td>10</td>\n",
              "      <td>1</td>\n",
              "      <td>2</td>\n",
              "      <td>Nasser, Mrs. Nicholas (Adele Achem)</td>\n",
              "      <td>female</td>\n",
              "      <td>14.0</td>\n",
              "      <td>1</td>\n",
              "      <td>0</td>\n",
              "      <td>237736</td>\n",
              "      <td>30.0708</td>\n",
              "      <td>NaN</td>\n",
              "      <td>C</td>\n",
              "    </tr>\n",
              "  </tbody>\n",
              "</table>\n",
              "</div>"
            ],
            "text/plain": [
              "   PassengerId  Survived  Pclass  ...     Fare Cabin  Embarked\n",
              "0            1         0       3  ...   7.2500   NaN         S\n",
              "1            2         1       1  ...  71.2833   C85         C\n",
              "2            3         1       3  ...   7.9250   NaN         S\n",
              "3            4         1       1  ...  53.1000  C123         S\n",
              "4            5         0       3  ...   8.0500   NaN         S\n",
              "5            6         0       3  ...   8.4583   NaN         Q\n",
              "6            7         0       1  ...  51.8625   E46         S\n",
              "7            8         0       3  ...  21.0750   NaN         S\n",
              "8            9         1       3  ...  11.1333   NaN         S\n",
              "9           10         1       2  ...  30.0708   NaN         C\n",
              "\n",
              "[10 rows x 12 columns]"
            ]
          },
          "metadata": {},
          "execution_count": 17
        }
      ]
    },
    {
      "cell_type": "markdown",
      "metadata": {
        "id": "EUNGq52KHbZ6"
      },
      "source": [
        "Note that the 'Test' set is missing the 'Survived' Column as it is the target/response variable that is in question."
      ]
    },
    {
      "cell_type": "code",
      "metadata": {
        "colab": {
          "base_uri": "https://localhost:8080/",
          "height": 363
        },
        "id": "UA-WjC92HGVE",
        "outputId": "39f49c27-17e1-4777-8974-e0a6636511ce"
      },
      "source": [
        "test_df.head(10)"
      ],
      "execution_count": 18,
      "outputs": [
        {
          "output_type": "execute_result",
          "data": {
            "text/html": [
              "<div>\n",
              "<style scoped>\n",
              "    .dataframe tbody tr th:only-of-type {\n",
              "        vertical-align: middle;\n",
              "    }\n",
              "\n",
              "    .dataframe tbody tr th {\n",
              "        vertical-align: top;\n",
              "    }\n",
              "\n",
              "    .dataframe thead th {\n",
              "        text-align: right;\n",
              "    }\n",
              "</style>\n",
              "<table border=\"1\" class=\"dataframe\">\n",
              "  <thead>\n",
              "    <tr style=\"text-align: right;\">\n",
              "      <th></th>\n",
              "      <th>PassengerId</th>\n",
              "      <th>Pclass</th>\n",
              "      <th>Name</th>\n",
              "      <th>Sex</th>\n",
              "      <th>Age</th>\n",
              "      <th>SibSp</th>\n",
              "      <th>Parch</th>\n",
              "      <th>Ticket</th>\n",
              "      <th>Fare</th>\n",
              "      <th>Cabin</th>\n",
              "      <th>Embarked</th>\n",
              "    </tr>\n",
              "  </thead>\n",
              "  <tbody>\n",
              "    <tr>\n",
              "      <th>0</th>\n",
              "      <td>892</td>\n",
              "      <td>3</td>\n",
              "      <td>Kelly, Mr. James</td>\n",
              "      <td>male</td>\n",
              "      <td>34.5</td>\n",
              "      <td>0</td>\n",
              "      <td>0</td>\n",
              "      <td>330911</td>\n",
              "      <td>7.8292</td>\n",
              "      <td>NaN</td>\n",
              "      <td>Q</td>\n",
              "    </tr>\n",
              "    <tr>\n",
              "      <th>1</th>\n",
              "      <td>893</td>\n",
              "      <td>3</td>\n",
              "      <td>Wilkes, Mrs. James (Ellen Needs)</td>\n",
              "      <td>female</td>\n",
              "      <td>47.0</td>\n",
              "      <td>1</td>\n",
              "      <td>0</td>\n",
              "      <td>363272</td>\n",
              "      <td>7.0000</td>\n",
              "      <td>NaN</td>\n",
              "      <td>S</td>\n",
              "    </tr>\n",
              "    <tr>\n",
              "      <th>2</th>\n",
              "      <td>894</td>\n",
              "      <td>2</td>\n",
              "      <td>Myles, Mr. Thomas Francis</td>\n",
              "      <td>male</td>\n",
              "      <td>62.0</td>\n",
              "      <td>0</td>\n",
              "      <td>0</td>\n",
              "      <td>240276</td>\n",
              "      <td>9.6875</td>\n",
              "      <td>NaN</td>\n",
              "      <td>Q</td>\n",
              "    </tr>\n",
              "    <tr>\n",
              "      <th>3</th>\n",
              "      <td>895</td>\n",
              "      <td>3</td>\n",
              "      <td>Wirz, Mr. Albert</td>\n",
              "      <td>male</td>\n",
              "      <td>27.0</td>\n",
              "      <td>0</td>\n",
              "      <td>0</td>\n",
              "      <td>315154</td>\n",
              "      <td>8.6625</td>\n",
              "      <td>NaN</td>\n",
              "      <td>S</td>\n",
              "    </tr>\n",
              "    <tr>\n",
              "      <th>4</th>\n",
              "      <td>896</td>\n",
              "      <td>3</td>\n",
              "      <td>Hirvonen, Mrs. Alexander (Helga E Lindqvist)</td>\n",
              "      <td>female</td>\n",
              "      <td>22.0</td>\n",
              "      <td>1</td>\n",
              "      <td>1</td>\n",
              "      <td>3101298</td>\n",
              "      <td>12.2875</td>\n",
              "      <td>NaN</td>\n",
              "      <td>S</td>\n",
              "    </tr>\n",
              "    <tr>\n",
              "      <th>5</th>\n",
              "      <td>897</td>\n",
              "      <td>3</td>\n",
              "      <td>Svensson, Mr. Johan Cervin</td>\n",
              "      <td>male</td>\n",
              "      <td>14.0</td>\n",
              "      <td>0</td>\n",
              "      <td>0</td>\n",
              "      <td>7538</td>\n",
              "      <td>9.2250</td>\n",
              "      <td>NaN</td>\n",
              "      <td>S</td>\n",
              "    </tr>\n",
              "    <tr>\n",
              "      <th>6</th>\n",
              "      <td>898</td>\n",
              "      <td>3</td>\n",
              "      <td>Connolly, Miss. Kate</td>\n",
              "      <td>female</td>\n",
              "      <td>30.0</td>\n",
              "      <td>0</td>\n",
              "      <td>0</td>\n",
              "      <td>330972</td>\n",
              "      <td>7.6292</td>\n",
              "      <td>NaN</td>\n",
              "      <td>Q</td>\n",
              "    </tr>\n",
              "    <tr>\n",
              "      <th>7</th>\n",
              "      <td>899</td>\n",
              "      <td>2</td>\n",
              "      <td>Caldwell, Mr. Albert Francis</td>\n",
              "      <td>male</td>\n",
              "      <td>26.0</td>\n",
              "      <td>1</td>\n",
              "      <td>1</td>\n",
              "      <td>248738</td>\n",
              "      <td>29.0000</td>\n",
              "      <td>NaN</td>\n",
              "      <td>S</td>\n",
              "    </tr>\n",
              "    <tr>\n",
              "      <th>8</th>\n",
              "      <td>900</td>\n",
              "      <td>3</td>\n",
              "      <td>Abrahim, Mrs. Joseph (Sophie Halaut Easu)</td>\n",
              "      <td>female</td>\n",
              "      <td>18.0</td>\n",
              "      <td>0</td>\n",
              "      <td>0</td>\n",
              "      <td>2657</td>\n",
              "      <td>7.2292</td>\n",
              "      <td>NaN</td>\n",
              "      <td>C</td>\n",
              "    </tr>\n",
              "    <tr>\n",
              "      <th>9</th>\n",
              "      <td>901</td>\n",
              "      <td>3</td>\n",
              "      <td>Davies, Mr. John Samuel</td>\n",
              "      <td>male</td>\n",
              "      <td>21.0</td>\n",
              "      <td>2</td>\n",
              "      <td>0</td>\n",
              "      <td>A/4 48871</td>\n",
              "      <td>24.1500</td>\n",
              "      <td>NaN</td>\n",
              "      <td>S</td>\n",
              "    </tr>\n",
              "  </tbody>\n",
              "</table>\n",
              "</div>"
            ],
            "text/plain": [
              "   PassengerId  Pclass  ... Cabin Embarked\n",
              "0          892       3  ...   NaN        Q\n",
              "1          893       3  ...   NaN        S\n",
              "2          894       2  ...   NaN        Q\n",
              "3          895       3  ...   NaN        S\n",
              "4          896       3  ...   NaN        S\n",
              "5          897       3  ...   NaN        S\n",
              "6          898       3  ...   NaN        Q\n",
              "7          899       2  ...   NaN        S\n",
              "8          900       3  ...   NaN        C\n",
              "9          901       3  ...   NaN        S\n",
              "\n",
              "[10 rows x 11 columns]"
            ]
          },
          "metadata": {},
          "execution_count": 18
        }
      ]
    },
    {
      "cell_type": "code",
      "metadata": {
        "colab": {
          "base_uri": "https://localhost:8080/",
          "height": 363
        },
        "id": "MND5kPExHGbE",
        "outputId": "bbad6d35-9710-4d6c-bb61-3757f2b47b8c"
      },
      "source": [
        "#Shows the output form: 2 columns = PassengerId and Survived column, with test_df amount of rows.\n",
        "#The shape that is desired.\n",
        "sample_submission_df.head(10)"
      ],
      "execution_count": 20,
      "outputs": [
        {
          "output_type": "execute_result",
          "data": {
            "text/html": [
              "<div>\n",
              "<style scoped>\n",
              "    .dataframe tbody tr th:only-of-type {\n",
              "        vertical-align: middle;\n",
              "    }\n",
              "\n",
              "    .dataframe tbody tr th {\n",
              "        vertical-align: top;\n",
              "    }\n",
              "\n",
              "    .dataframe thead th {\n",
              "        text-align: right;\n",
              "    }\n",
              "</style>\n",
              "<table border=\"1\" class=\"dataframe\">\n",
              "  <thead>\n",
              "    <tr style=\"text-align: right;\">\n",
              "      <th></th>\n",
              "      <th>PassengerId</th>\n",
              "      <th>Survived</th>\n",
              "    </tr>\n",
              "  </thead>\n",
              "  <tbody>\n",
              "    <tr>\n",
              "      <th>0</th>\n",
              "      <td>892</td>\n",
              "      <td>0</td>\n",
              "    </tr>\n",
              "    <tr>\n",
              "      <th>1</th>\n",
              "      <td>893</td>\n",
              "      <td>1</td>\n",
              "    </tr>\n",
              "    <tr>\n",
              "      <th>2</th>\n",
              "      <td>894</td>\n",
              "      <td>0</td>\n",
              "    </tr>\n",
              "    <tr>\n",
              "      <th>3</th>\n",
              "      <td>895</td>\n",
              "      <td>0</td>\n",
              "    </tr>\n",
              "    <tr>\n",
              "      <th>4</th>\n",
              "      <td>896</td>\n",
              "      <td>1</td>\n",
              "    </tr>\n",
              "    <tr>\n",
              "      <th>5</th>\n",
              "      <td>897</td>\n",
              "      <td>0</td>\n",
              "    </tr>\n",
              "    <tr>\n",
              "      <th>6</th>\n",
              "      <td>898</td>\n",
              "      <td>1</td>\n",
              "    </tr>\n",
              "    <tr>\n",
              "      <th>7</th>\n",
              "      <td>899</td>\n",
              "      <td>0</td>\n",
              "    </tr>\n",
              "    <tr>\n",
              "      <th>8</th>\n",
              "      <td>900</td>\n",
              "      <td>1</td>\n",
              "    </tr>\n",
              "    <tr>\n",
              "      <th>9</th>\n",
              "      <td>901</td>\n",
              "      <td>0</td>\n",
              "    </tr>\n",
              "  </tbody>\n",
              "</table>\n",
              "</div>"
            ],
            "text/plain": [
              "   PassengerId  Survived\n",
              "0          892         0\n",
              "1          893         1\n",
              "2          894         0\n",
              "3          895         0\n",
              "4          896         1\n",
              "5          897         0\n",
              "6          898         1\n",
              "7          899         0\n",
              "8          900         1\n",
              "9          901         0"
            ]
          },
          "metadata": {},
          "execution_count": 20
        }
      ]
    },
    {
      "cell_type": "code",
      "metadata": {
        "id": "0umwC_-GKyzR"
      },
      "source": [
        "ad"
      ],
      "execution_count": null,
      "outputs": []
    },
    {
      "cell_type": "markdown",
      "metadata": {
        "id": "sQ4QLNaGITLI"
      },
      "source": [
        "\n",
        "\n",
        "---\n",
        "*Data Description found on* https://www.kaggle.com/c/titanic/data\n",
        "\n",
        "![Data Description.PNG](data:image/png;base64,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)\n",
        "\n",
        "---"
      ]
    },
    {
      "cell_type": "markdown",
      "metadata": {
        "id": "lGdfZmsYK7ES"
      },
      "source": [
        "Determine information about the data we are using"
      ]
    },
    {
      "cell_type": "code",
      "metadata": {
        "colab": {
          "base_uri": "https://localhost:8080/",
          "height": 651
        },
        "id": "MiBKmRvwxIJx",
        "outputId": "47bc778f-04eb-46fd-a249-37b1c68288c2"
      },
      "source": [
        "#train_df information/description:\n",
        "train_df.info()\n",
        "train_df.describe()"
      ],
      "execution_count": 14,
      "outputs": [
        {
          "output_type": "stream",
          "name": "stdout",
          "text": [
            "<class 'pandas.core.frame.DataFrame'>\n",
            "RangeIndex: 891 entries, 0 to 890\n",
            "Data columns (total 12 columns):\n",
            " #   Column       Non-Null Count  Dtype  \n",
            "---  ------       --------------  -----  \n",
            " 0   PassengerId  891 non-null    int64  \n",
            " 1   Survived     891 non-null    int64  \n",
            " 2   Pclass       891 non-null    int64  \n",
            " 3   Name         891 non-null    object \n",
            " 4   Sex          891 non-null    object \n",
            " 5   Age          714 non-null    float64\n",
            " 6   SibSp        891 non-null    int64  \n",
            " 7   Parch        891 non-null    int64  \n",
            " 8   Ticket       891 non-null    object \n",
            " 9   Fare         891 non-null    float64\n",
            " 10  Cabin        204 non-null    object \n",
            " 11  Embarked     889 non-null    object \n",
            "dtypes: float64(2), int64(5), object(5)\n",
            "memory usage: 83.7+ KB\n"
          ]
        },
        {
          "output_type": "execute_result",
          "data": {
            "text/html": [
              "<div>\n",
              "<style scoped>\n",
              "    .dataframe tbody tr th:only-of-type {\n",
              "        vertical-align: middle;\n",
              "    }\n",
              "\n",
              "    .dataframe tbody tr th {\n",
              "        vertical-align: top;\n",
              "    }\n",
              "\n",
              "    .dataframe thead th {\n",
              "        text-align: right;\n",
              "    }\n",
              "</style>\n",
              "<table border=\"1\" class=\"dataframe\">\n",
              "  <thead>\n",
              "    <tr style=\"text-align: right;\">\n",
              "      <th></th>\n",
              "      <th>PassengerId</th>\n",
              "      <th>Survived</th>\n",
              "      <th>Pclass</th>\n",
              "      <th>Age</th>\n",
              "      <th>SibSp</th>\n",
              "      <th>Parch</th>\n",
              "      <th>Fare</th>\n",
              "    </tr>\n",
              "  </thead>\n",
              "  <tbody>\n",
              "    <tr>\n",
              "      <th>count</th>\n",
              "      <td>891.000000</td>\n",
              "      <td>891.000000</td>\n",
              "      <td>891.000000</td>\n",
              "      <td>714.000000</td>\n",
              "      <td>891.000000</td>\n",
              "      <td>891.000000</td>\n",
              "      <td>891.000000</td>\n",
              "    </tr>\n",
              "    <tr>\n",
              "      <th>mean</th>\n",
              "      <td>446.000000</td>\n",
              "      <td>0.383838</td>\n",
              "      <td>2.308642</td>\n",
              "      <td>29.699118</td>\n",
              "      <td>0.523008</td>\n",
              "      <td>0.381594</td>\n",
              "      <td>32.204208</td>\n",
              "    </tr>\n",
              "    <tr>\n",
              "      <th>std</th>\n",
              "      <td>257.353842</td>\n",
              "      <td>0.486592</td>\n",
              "      <td>0.836071</td>\n",
              "      <td>14.526497</td>\n",
              "      <td>1.102743</td>\n",
              "      <td>0.806057</td>\n",
              "      <td>49.693429</td>\n",
              "    </tr>\n",
              "    <tr>\n",
              "      <th>min</th>\n",
              "      <td>1.000000</td>\n",
              "      <td>0.000000</td>\n",
              "      <td>1.000000</td>\n",
              "      <td>0.420000</td>\n",
              "      <td>0.000000</td>\n",
              "      <td>0.000000</td>\n",
              "      <td>0.000000</td>\n",
              "    </tr>\n",
              "    <tr>\n",
              "      <th>25%</th>\n",
              "      <td>223.500000</td>\n",
              "      <td>0.000000</td>\n",
              "      <td>2.000000</td>\n",
              "      <td>20.125000</td>\n",
              "      <td>0.000000</td>\n",
              "      <td>0.000000</td>\n",
              "      <td>7.910400</td>\n",
              "    </tr>\n",
              "    <tr>\n",
              "      <th>50%</th>\n",
              "      <td>446.000000</td>\n",
              "      <td>0.000000</td>\n",
              "      <td>3.000000</td>\n",
              "      <td>28.000000</td>\n",
              "      <td>0.000000</td>\n",
              "      <td>0.000000</td>\n",
              "      <td>14.454200</td>\n",
              "    </tr>\n",
              "    <tr>\n",
              "      <th>75%</th>\n",
              "      <td>668.500000</td>\n",
              "      <td>1.000000</td>\n",
              "      <td>3.000000</td>\n",
              "      <td>38.000000</td>\n",
              "      <td>1.000000</td>\n",
              "      <td>0.000000</td>\n",
              "      <td>31.000000</td>\n",
              "    </tr>\n",
              "    <tr>\n",
              "      <th>max</th>\n",
              "      <td>891.000000</td>\n",
              "      <td>1.000000</td>\n",
              "      <td>3.000000</td>\n",
              "      <td>80.000000</td>\n",
              "      <td>8.000000</td>\n",
              "      <td>6.000000</td>\n",
              "      <td>512.329200</td>\n",
              "    </tr>\n",
              "  </tbody>\n",
              "</table>\n",
              "</div>"
            ],
            "text/plain": [
              "       PassengerId    Survived      Pclass  ...       SibSp       Parch        Fare\n",
              "count   891.000000  891.000000  891.000000  ...  891.000000  891.000000  891.000000\n",
              "mean    446.000000    0.383838    2.308642  ...    0.523008    0.381594   32.204208\n",
              "std     257.353842    0.486592    0.836071  ...    1.102743    0.806057   49.693429\n",
              "min       1.000000    0.000000    1.000000  ...    0.000000    0.000000    0.000000\n",
              "25%     223.500000    0.000000    2.000000  ...    0.000000    0.000000    7.910400\n",
              "50%     446.000000    0.000000    3.000000  ...    0.000000    0.000000   14.454200\n",
              "75%     668.500000    1.000000    3.000000  ...    1.000000    0.000000   31.000000\n",
              "max     891.000000    1.000000    3.000000  ...    8.000000    6.000000  512.329200\n",
              "\n",
              "[8 rows x 7 columns]"
            ]
          },
          "metadata": {},
          "execution_count": 14
        }
      ]
    },
    {
      "cell_type": "code",
      "metadata": {
        "colab": {
          "base_uri": "https://localhost:8080/"
        },
        "id": "Oy-zGPXHxcm5",
        "outputId": "496055dd-a743-44b8-c002-dcba23067595"
      },
      "source": [
        "# check missing values in training data\n",
        "print(\"Missing Values: \")\n",
        "print(train_df.isnull().sum())"
      ],
      "execution_count": null,
      "outputs": [
        {
          "output_type": "stream",
          "name": "stdout",
          "text": [
            "Missing Values: \n",
            "PassengerId      0\n",
            "Survived         0\n",
            "Pclass           0\n",
            "Name             0\n",
            "Sex              0\n",
            "Age            177\n",
            "SibSp            0\n",
            "Parch            0\n",
            "Ticket           0\n",
            "Fare             0\n",
            "Cabin          687\n",
            "Embarked         2\n",
            "dtype: int64\n"
          ]
        }
      ]
    },
    {
      "cell_type": "markdown",
      "metadata": {
        "id": "337drpawh6BY"
      },
      "source": [
        "<font color='gray'>Here we can see that Age , Cabin, and Emabrked are the only columns with NULL/empty data. </font>"
      ]
    },
    {
      "cell_type": "code",
      "metadata": {
        "colab": {
          "base_uri": "https://localhost:8080/"
        },
        "id": "ZWTCvyRPd_7m",
        "outputId": "3c10cb31-f28a-46bd-d609-f06387a5def0"
      },
      "source": [
        "#Numerical and Categorical Values Separated Accordingly\n",
        "numericals_df = train_df[['Age', 'SibSp', 'Parch', 'Fare']] #PassengerId not needed #histograms\n",
        "categoricals_df = train_df[['Survived', 'Pclass', 'Sex', 'Ticket', 'Cabin', 'Embarked']] #value counts\n",
        "\n",
        "print(\"Numericals:\\n\" , numericals_df)\n",
        "print(\"\\nCategoricals: \\n\" , categoricals_df)"
      ],
      "execution_count": null,
      "outputs": [
        {
          "output_type": "stream",
          "name": "stdout",
          "text": [
            "Numericals:\n",
            "       Age  SibSp  Parch     Fare\n",
            "0    22.0      1      0   7.2500\n",
            "1    38.0      1      0  71.2833\n",
            "2    26.0      0      0   7.9250\n",
            "3    35.0      1      0  53.1000\n",
            "4    35.0      0      0   8.0500\n",
            "..    ...    ...    ...      ...\n",
            "886  27.0      0      0  13.0000\n",
            "887  19.0      0      0  30.0000\n",
            "888   NaN      1      2  23.4500\n",
            "889  26.0      0      0  30.0000\n",
            "890  32.0      0      0   7.7500\n",
            "\n",
            "[891 rows x 4 columns]\n",
            "\n",
            "Categoricals: \n",
            "      Survived  Pclass     Sex            Ticket Cabin Embarked\n",
            "0           0       3    male         A/5 21171   NaN        S\n",
            "1           1       1  female          PC 17599   C85        C\n",
            "2           1       3  female  STON/O2. 3101282   NaN        S\n",
            "3           1       1  female            113803  C123        S\n",
            "4           0       3    male            373450   NaN        S\n",
            "..        ...     ...     ...               ...   ...      ...\n",
            "886         0       2    male            211536   NaN        S\n",
            "887         1       1  female            112053   B42        S\n",
            "888         0       3  female        W./C. 6607   NaN        S\n",
            "889         1       1    male            111369  C148        C\n",
            "890         0       3    male            370376   NaN        Q\n",
            "\n",
            "[891 rows x 6 columns]\n"
          ]
        }
      ]
    },
    {
      "cell_type": "code",
      "metadata": {
        "colab": {
          "base_uri": "https://localhost:8080/",
          "height": 1000
        },
        "id": "CK4KQoibyRJz",
        "outputId": "beb67bef-7a28-4989-fbe2-ce8ddd5f44f0"
      },
      "source": [
        "#Histogram showing distribution of all '[Numerical Column Name]' with the density curve plotted against it\n",
        "for col in numericals_df.columns:\n",
        "  print( col, \"Distribution w/ Density Curve (Red):\")\n",
        "  print( col, \"Min: \", train_df[col].min())\n",
        "  print( col, \"Max: \", train_df[col].max())\n",
        "  ax = train_df[col].hist(bins=13, density=True, alpha=0.3) # Histogram\n",
        "  train_df[col].plot(kind='density', color='red') #Density curve\n",
        "  ax.set(xlabel= col) #X-Axis label\n",
        "  plt.xlim(train_df[col].min(),train_df[col].max()) # Limits of values for the X - Axis\n",
        "  plt.show()    "
      ],
      "execution_count": null,
      "outputs": [
        {
          "output_type": "stream",
          "name": "stdout",
          "text": [
            "Age Distribution w/ Density Curve (Red):\n",
            "Age Min:  0.42\n",
            "Age Max:  80.0\n"
          ]
        },
        {
          "output_type": "display_data",
          "data": {
            "image/png": "[encoded data removed]",
            "text/plain": [
              "<Figure size 432x288 with 1 Axes>"
            ]
          },
          "metadata": {
            "needs_background": "light"
          }
        },
        {
          "output_type": "stream",
          "name": "stdout",
          "text": [
            "SibSp Distribution w/ Density Curve (Red):\n",
            "SibSp Min:  0\n",
            "SibSp Max:  8\n"
          ]
        },
        {
          "output_type": "display_data",
          "data": {
            "image/png": "[encoded data removed]",
            "text/plain": [
              "<Figure size 432x288 with 1 Axes>"
            ]
          },
          "metadata": {
            "needs_background": "light"
          }
        },
        {
          "output_type": "stream",
          "name": "stdout",
          "text": [
            "Parch Distribution w/ Density Curve (Red):\n",
            "Parch Min:  0\n",
            "Parch Max:  6\n"
          ]
        },
        {
          "output_type": "display_data",
          "data": {
            "image/png": "[encoded data removed]",
            "text/plain": [
              "<Figure size 432x288 with 1 Axes>"
            ]
          },
          "metadata": {
            "needs_background": "light"
          }
        },
        {
          "output_type": "stream",
          "name": "stdout",
          "text": [
            "Fare Distribution w/ Density Curve (Red):\n",
            "Fare Min:  0.0\n",
            "Fare Max:  512.3292\n"
          ]
        },
        {
          "output_type": "display_data",
          "data": {
            "image/png": "[encoded data removed]",
            "text/plain": [
              "<Figure size 432x288 with 1 Axes>"
            ]
          },
          "metadata": {
            "needs_background": "light"
          }
        }
      ]
    },
    {
      "cell_type": "code",
      "metadata": {
        "colab": {
          "base_uri": "https://localhost:8080/",
          "height": 1000
        },
        "id": "chx8kurItZPR",
        "outputId": "7f2cb59c-9b97-4f05-bacd-151a776a0076"
      },
      "source": [
        "#Categoricals shown\n",
        "for col in categoricals_df.columns:\n",
        "  print( col, \"Bar Chart:\")\n",
        "  #barplot(column name info, column name counts)\n",
        "  sns.barplot(categoricals_df[col].value_counts().index , categoricals_df[col].value_counts())\n",
        "  plt.show()"
      ],
      "execution_count": null,
      "outputs": [
        {
          "output_type": "stream",
          "name": "stdout",
          "text": [
            "Survived Bar Chart:\n"
          ]
        },
        {
          "output_type": "stream",
          "name": "stderr",
          "text": [
            "/usr/local/lib/python3.7/dist-packages/seaborn/_decorators.py:43: FutureWarning: Pass the following variables as keyword args: x, y. From version 0.12, the only valid positional argument will be `data`, and passing other arguments without an explicit keyword will result in an error or misinterpretation.\n",
            "  FutureWarning\n"
          ]
        },
        {
          "output_type": "display_data",
          "data": {
            "image/png": "[encoded data removed]",
            "text/plain": [
              "<Figure size 432x288 with 1 Axes>"
            ]
          },
          "metadata": {
            "needs_background": "light"
          }
        },
        {
          "output_type": "stream",
          "name": "stdout",
          "text": [
            "Pclass Bar Chart:\n"
          ]
        },
        {
          "output_type": "stream",
          "name": "stderr",
          "text": [
            "/usr/local/lib/python3.7/dist-packages/seaborn/_decorators.py:43: FutureWarning: Pass the following variables as keyword args: x, y. From version 0.12, the only valid positional argument will be `data`, and passing other arguments without an explicit keyword will result in an error or misinterpretation.\n",
            "  FutureWarning\n"
          ]
        },
        {
          "output_type": "display_data",
          "data": {
            "image/png": "[encoded data removed]",
            "text/plain": [
              "<Figure size 432x288 with 1 Axes>"
            ]
          },
          "metadata": {
            "needs_background": "light"
          }
        },
        {
          "output_type": "stream",
          "name": "stdout",
          "text": [
            "Sex Bar Chart:\n"
          ]
        },
        {
          "output_type": "stream",
          "name": "stderr",
          "text": [
            "/usr/local/lib/python3.7/dist-packages/seaborn/_decorators.py:43: FutureWarning: Pass the following variables as keyword args: x, y. From version 0.12, the only valid positional argument will be `data`, and passing other arguments without an explicit keyword will result in an error or misinterpretation.\n",
            "  FutureWarning\n"
          ]
        },
        {
          "output_type": "display_data",
          "data": {
            "image/png": "[encoded data removed]",
            "text/plain": [
              "<Figure size 432x288 with 1 Axes>"
            ]
          },
          "metadata": {
            "needs_background": "light"
          }
        },
        {
          "output_type": "stream",
          "name": "stdout",
          "text": [
            "Ticket Bar Chart:\n"
          ]
        },
        {
          "output_type": "stream",
          "name": "stderr",
          "text": [
            "/usr/local/lib/python3.7/dist-packages/seaborn/_decorators.py:43: FutureWarning: Pass the following variables as keyword args: x, y. From version 0.12, the only valid positional argument will be `data`, and passing other arguments without an explicit keyword will result in an error or misinterpretation.\n",
            "  FutureWarning\n"
          ]
        },
        {
          "output_type": "display_data",
          "data": {
            "image/png": "[encoded data removed]",
            "text/plain": [
              "<Figure size 432x288 with 1 Axes>"
            ]
          },
          "metadata": {
            "needs_background": "light"
          }
        },
        {
          "output_type": "stream",
          "name": "stdout",
          "text": [
            "Cabin Bar Chart:\n"
          ]
        },
        {
          "output_type": "stream",
          "name": "stderr",
          "text": [
            "/usr/local/lib/python3.7/dist-packages/seaborn/_decorators.py:43: FutureWarning: Pass the following variables as keyword args: x, y. From version 0.12, the only valid positional argument will be `data`, and passing other arguments without an explicit keyword will result in an error or misinterpretation.\n",
            "  FutureWarning\n"
          ]
        },
        {
          "output_type": "display_data",
          "data": {
            "image/png": "[encoded data removed]",
            "text/plain": [
              "<Figure size 432x288 with 1 Axes>"
            ]
          },
          "metadata": {
            "needs_background": "light"
          }
        },
        {
          "output_type": "stream",
          "name": "stdout",
          "text": [
            "Embarked Bar Chart:\n"
          ]
        },
        {
          "output_type": "stream",
          "name": "stderr",
          "text": [
            "/usr/local/lib/python3.7/dist-packages/seaborn/_decorators.py:43: FutureWarning: Pass the following variables as keyword args: x, y. From version 0.12, the only valid positional argument will be `data`, and passing other arguments without an explicit keyword will result in an error or misinterpretation.\n",
            "  FutureWarning\n"
          ]
        },
        {
          "output_type": "display_data",
          "data": {
            "image/png": "[encoded data removed]",
            "text/plain": [
              "<Figure size 432x288 with 1 Axes>"
            ]
          },
          "metadata": {
            "needs_background": "light"
          }
        }
      ]
    },
    {
      "cell_type": "code",
      "metadata": {
        "colab": {
          "base_uri": "https://localhost:8080/",
          "height": 738
        },
        "id": "QAaC8JcQwflH",
        "outputId": "75184c5b-437d-4f18-bc1c-e5af51ad5836"
      },
      "source": [
        "#Did class affect the survival percentage by sex?\n",
        "\n",
        "print(\"Count Amount of Sex-By-Class:\")\n",
        "print(pd.pivot_table(train_df, values = \"Ticket\", index = \"Sex\", columns = \"Pclass\", aggfunc= \"count\"), \"\\n\\n\\nPercentage (Survival Rate) of Sex by Class Association:\")\n",
        "\n",
        "\n",
        "sns.barplot(x=\"Sex\", y=\"Survived\", hue=\"Pclass\", data= train_df)\n",
        "plt.show()\n",
        "\n",
        "print(\"\\n\\n\\nPivot Table Representing the Percentage Survived by Sex by Class:\")\n",
        "table = pd.pivot_table(train_df, values = \"Survived\", index = [\"Sex\", \"Pclass\"])\n",
        "table.style\n"
      ],
      "execution_count": null,
      "outputs": [
        {
          "output_type": "stream",
          "name": "stdout",
          "text": [
            "Count Amount of Sex-By-Class:\n",
            "Pclass    1    2    3\n",
            "Sex                  \n",
            "female   94   76  144\n",
            "male    122  108  347 \n",
            "\n",
            "\n",
            "Percentage (Survival Rate) of Sex by Class Association:\n"
          ]
        },
        {
          "output_type": "display_data",
          "data": {
            "image/png": "[encoded data removed]",
            "text/plain": [
              "<Figure size 432x288 with 1 Axes>"
            ]
          },
          "metadata": {
            "needs_background": "light"
          }
        },
        {
          "output_type": "stream",
          "name": "stdout",
          "text": [
            "\n",
            "\n",
            "\n",
            "Pivot Table Representing the Percentage Survived by Sex by Class:\n"
          ]
        },
        {
          "output_type": "execute_result",
          "data": {
            "text/html": [
              "<style  type=\"text/css\" >\n",
              "</style><table id=\"T_fc76c7a4_4e9d_11ec_bec6_0242ac1c0002\" class=\"dataframe\"><thead>    <tr>        <th class=\"blank\" ></th>        <th class=\"blank level0\" ></th>        <th class=\"col_heading level0 col0\" >Survived</th>    </tr>    <tr>        <th class=\"index_name level0\" >Sex</th>        <th class=\"index_name level1\" >Pclass</th>        <th class=\"blank\" ></th>    </tr></thead><tbody>\n",
              "                <tr>\n",
              "                        <th id=\"T_fc76c7a4_4e9d_11ec_bec6_0242ac1c0002level0_row0\" class=\"row_heading level0 row0\" rowspan=3>female</th>\n",
              "                        <th id=\"T_fc76c7a4_4e9d_11ec_bec6_0242ac1c0002level1_row0\" class=\"row_heading level1 row0\" >1</th>\n",
              "                        <td id=\"T_fc76c7a4_4e9d_11ec_bec6_0242ac1c0002row0_col0\" class=\"data row0 col0\" >0.968085</td>\n",
              "            </tr>\n",
              "            <tr>\n",
              "                                <th id=\"T_fc76c7a4_4e9d_11ec_bec6_0242ac1c0002level1_row1\" class=\"row_heading level1 row1\" >2</th>\n",
              "                        <td id=\"T_fc76c7a4_4e9d_11ec_bec6_0242ac1c0002row1_col0\" class=\"data row1 col0\" >0.921053</td>\n",
              "            </tr>\n",
              "            <tr>\n",
              "                                <th id=\"T_fc76c7a4_4e9d_11ec_bec6_0242ac1c0002level1_row2\" class=\"row_heading level1 row2\" >3</th>\n",
              "                        <td id=\"T_fc76c7a4_4e9d_11ec_bec6_0242ac1c0002row2_col0\" class=\"data row2 col0\" >0.500000</td>\n",
              "            </tr>\n",
              "            <tr>\n",
              "                        <th id=\"T_fc76c7a4_4e9d_11ec_bec6_0242ac1c0002level0_row3\" class=\"row_heading level0 row3\" rowspan=3>male</th>\n",
              "                        <th id=\"T_fc76c7a4_4e9d_11ec_bec6_0242ac1c0002level1_row3\" class=\"row_heading level1 row3\" >1</th>\n",
              "                        <td id=\"T_fc76c7a4_4e9d_11ec_bec6_0242ac1c0002row3_col0\" class=\"data row3 col0\" >0.368852</td>\n",
              "            </tr>\n",
              "            <tr>\n",
              "                                <th id=\"T_fc76c7a4_4e9d_11ec_bec6_0242ac1c0002level1_row4\" class=\"row_heading level1 row4\" >2</th>\n",
              "                        <td id=\"T_fc76c7a4_4e9d_11ec_bec6_0242ac1c0002row4_col0\" class=\"data row4 col0\" >0.157407</td>\n",
              "            </tr>\n",
              "            <tr>\n",
              "                                <th id=\"T_fc76c7a4_4e9d_11ec_bec6_0242ac1c0002level1_row5\" class=\"row_heading level1 row5\" >3</th>\n",
              "                        <td id=\"T_fc76c7a4_4e9d_11ec_bec6_0242ac1c0002row5_col0\" class=\"data row5 col0\" >0.135447</td>\n",
              "            </tr>\n",
              "    </tbody></table>"
            ],
            "text/plain": [
              "<pandas.io.formats.style.Styler at 0x7f2ba56b0b10>"
            ]
          },
          "metadata": {},
          "execution_count": 171
        }
      ]
    },
    {
      "cell_type": "code",
      "metadata": {
        "colab": {
          "base_uri": "https://localhost:8080/",
          "height": 756
        },
        "id": "z1PTHPWLG814",
        "outputId": "87b620ea-8243-4316-a056-9d5d0debe309"
      },
      "source": [
        "#Did embarking-from location affect the survival percentage by sex?\n",
        "\n",
        "print(\"Count Amount of Sex-By-Embarked:\")\n",
        "print(pd.pivot_table(train_df, values = \"Ticket\", index = \"Sex\", columns = \"Embarked\", aggfunc= \"count\"), \"\\n\\n\\nPercentage (Survival Rate) of Sex by Class Association:\")\n",
        "\n",
        "\n",
        "sns.barplot(x=\"Sex\", y=\"Survived\", hue=\"Embarked\", data= train_df)\n",
        "plt.show()\n",
        "\n",
        "print(\"\\n\\n\\nPivot Table Representing the Percentage Survived by Sex by Embarked:\\nlocations: C = Cherbourg, Q = Queenstown, S = Southampton\")\n",
        "table = pd.pivot_table(train_df, values = \"Survived\", index = [\"Sex\", \"Embarked\"])\n",
        "table.style\n"
      ],
      "execution_count": null,
      "outputs": [
        {
          "output_type": "stream",
          "name": "stdout",
          "text": [
            "Count Amount of Sex-By-Embarked:\n",
            "Embarked   C   Q    S\n",
            "Sex                  \n",
            "female    73  36  203\n",
            "male      95  41  441 \n",
            "\n",
            "\n",
            "Percentage (Survival Rate) of Sex by Class Association:\n"
          ]
        },
        {
          "output_type": "display_data",
          "data": {
            "image/png": "[encoded data removed]",
            "text/plain": [
              "<Figure size 432x288 with 1 Axes>"
            ]
          },
          "metadata": {
            "needs_background": "light"
          }
        },
        {
          "output_type": "stream",
          "name": "stdout",
          "text": [
            "\n",
            "\n",
            "\n",
            "Pivot Table Representing the Percentage Survived by Sex by Embarked:\n",
            "locations: C = Cherbourg, Q = Queenstown, S = Southampton\n"
          ]
        },
        {
          "output_type": "execute_result",
          "data": {
            "text/html": [
              "<style  type=\"text/css\" >\n",
              "</style><table id=\"T_fcacbac6_4e9d_11ec_bec6_0242ac1c0002\" class=\"dataframe\"><thead>    <tr>        <th class=\"blank\" ></th>        <th class=\"blank level0\" ></th>        <th class=\"col_heading level0 col0\" >Survived</th>    </tr>    <tr>        <th class=\"index_name level0\" >Sex</th>        <th class=\"index_name level1\" >Embarked</th>        <th class=\"blank\" ></th>    </tr></thead><tbody>\n",
              "                <tr>\n",
              "                        <th id=\"T_fcacbac6_4e9d_11ec_bec6_0242ac1c0002level0_row0\" class=\"row_heading level0 row0\" rowspan=3>female</th>\n",
              "                        <th id=\"T_fcacbac6_4e9d_11ec_bec6_0242ac1c0002level1_row0\" class=\"row_heading level1 row0\" >C</th>\n",
              "                        <td id=\"T_fcacbac6_4e9d_11ec_bec6_0242ac1c0002row0_col0\" class=\"data row0 col0\" >0.876712</td>\n",
              "            </tr>\n",
              "            <tr>\n",
              "                                <th id=\"T_fcacbac6_4e9d_11ec_bec6_0242ac1c0002level1_row1\" class=\"row_heading level1 row1\" >Q</th>\n",
              "                        <td id=\"T_fcacbac6_4e9d_11ec_bec6_0242ac1c0002row1_col0\" class=\"data row1 col0\" >0.750000</td>\n",
              "            </tr>\n",
              "            <tr>\n",
              "                                <th id=\"T_fcacbac6_4e9d_11ec_bec6_0242ac1c0002level1_row2\" class=\"row_heading level1 row2\" >S</th>\n",
              "                        <td id=\"T_fcacbac6_4e9d_11ec_bec6_0242ac1c0002row2_col0\" class=\"data row2 col0\" >0.689655</td>\n",
              "            </tr>\n",
              "            <tr>\n",
              "                        <th id=\"T_fcacbac6_4e9d_11ec_bec6_0242ac1c0002level0_row3\" class=\"row_heading level0 row3\" rowspan=3>male</th>\n",
              "                        <th id=\"T_fcacbac6_4e9d_11ec_bec6_0242ac1c0002level1_row3\" class=\"row_heading level1 row3\" >C</th>\n",
              "                        <td id=\"T_fcacbac6_4e9d_11ec_bec6_0242ac1c0002row3_col0\" class=\"data row3 col0\" >0.305263</td>\n",
              "            </tr>\n",
              "            <tr>\n",
              "                                <th id=\"T_fcacbac6_4e9d_11ec_bec6_0242ac1c0002level1_row4\" class=\"row_heading level1 row4\" >Q</th>\n",
              "                        <td id=\"T_fcacbac6_4e9d_11ec_bec6_0242ac1c0002row4_col0\" class=\"data row4 col0\" >0.073171</td>\n",
              "            </tr>\n",
              "            <tr>\n",
              "                                <th id=\"T_fcacbac6_4e9d_11ec_bec6_0242ac1c0002level1_row5\" class=\"row_heading level1 row5\" >S</th>\n",
              "                        <td id=\"T_fcacbac6_4e9d_11ec_bec6_0242ac1c0002row5_col0\" class=\"data row5 col0\" >0.174603</td>\n",
              "            </tr>\n",
              "    </tbody></table>"
            ],
            "text/plain": [
              "<pandas.io.formats.style.Styler at 0x7f2ba48dd610>"
            ]
          },
          "metadata": {},
          "execution_count": 172
        }
      ]
    },
    {
      "cell_type": "code",
      "metadata": {
        "colab": {
          "base_uri": "https://localhost:8080/"
        },
        "id": "D0FYS5SIio7Q",
        "outputId": "e14495a1-c942-4e52-bdf0-821a98c241d5"
      },
      "source": [
        "#Data Preprocessing\n",
        "#Start by checking the values that are null\n",
        "# check missing values in training data\n",
        "print(\"Missing Values: \")\n",
        "print(train_df.isnull().sum())\n",
        "\n",
        "#create copy of train_df\n",
        "training_dataframe = train_df.copy()"
      ],
      "execution_count": null,
      "outputs": [
        {
          "output_type": "stream",
          "name": "stdout",
          "text": [
            "Missing Values: \n",
            "PassengerId      0\n",
            "Survived         0\n",
            "Pclass           0\n",
            "Name             0\n",
            "Sex              0\n",
            "Age            177\n",
            "SibSp            0\n",
            "Parch            0\n",
            "Ticket           0\n",
            "Fare             0\n",
            "Cabin          687\n",
            "Embarked         2\n",
            "dtype: int64\n"
          ]
        }
      ]
    },
    {
      "cell_type": "code",
      "metadata": {
        "colab": {
          "base_uri": "https://localhost:8080/"
        },
        "id": "pIYa0XRjiuyG",
        "outputId": "60f7ba43-b1ac-463b-dc87-5e6e28d5285e"
      },
      "source": [
        "#First we will fill in the Embarked Nulls with the mode of the rest of the data for that column\n",
        "#1. Determine the mode\n",
        "mode_embarked = training_dataframe['Embarked'].dropna().mode()[0]\n",
        "\n",
        "#2. Fill in the Nulls with the 'Determined Mode'\n",
        "training_dataframe['Embarked'].fillna(mode_embarked, inplace = True)\n",
        "\n",
        "#3. Show the output of null values remaining:\n",
        "print(\"Missing Values: \")\n",
        "print(training_dataframe.isnull().sum())"
      ],
      "execution_count": null,
      "outputs": [
        {
          "output_type": "stream",
          "name": "stdout",
          "text": [
            "Missing Values: \n",
            "PassengerId      0\n",
            "Survived         0\n",
            "Pclass           0\n",
            "Name             0\n",
            "Sex              0\n",
            "Age            177\n",
            "SibSp            0\n",
            "Parch            0\n",
            "Ticket           0\n",
            "Fare             0\n",
            "Cabin          687\n",
            "Embarked         0\n",
            "dtype: int64\n"
          ]
        }
      ]
    },
    {
      "cell_type": "code",
      "metadata": {
        "colab": {
          "base_uri": "https://localhost:8080/"
        },
        "id": "Cx0PbryZorE-",
        "outputId": "6d3088f9-00db-42be-a250-3fccca2b9475"
      },
      "source": [
        "#Might not need to do this just yet...\n",
        "\n",
        "#First we will fill in the Age Nulls with the median of the rest of the data for that column\n",
        "#1. Determine the median\n",
        "training_dataframe[\"Age\"].fillna(training_dataframe[\"Age\"].median(skipna=True), inplace=True)\n",
        "\n",
        "#2. Show the output of null values remaining:\n",
        "print(\"Missing Values: \")\n",
        "print(training_dataframe.isnull().sum())"
      ],
      "execution_count": null,
      "outputs": [
        {
          "output_type": "stream",
          "name": "stdout",
          "text": [
            "Missing Values: \n",
            "PassengerId      0\n",
            "Survived         0\n",
            "Pclass           0\n",
            "Name             0\n",
            "Sex              0\n",
            "Age              0\n",
            "SibSp            0\n",
            "Parch            0\n",
            "Ticket           0\n",
            "Fare             0\n",
            "Cabin          687\n",
            "Embarked         0\n",
            "dtype: int64\n"
          ]
        }
      ]
    },
    {
      "cell_type": "code",
      "metadata": {
        "colab": {
          "base_uri": "https://localhost:8080/"
        },
        "id": "H8QVf1Nf04aQ",
        "outputId": "3ff1b902-66da-4476-f4fb-cf0c316db371"
      },
      "source": [
        "#Changing Embarked -> Embarked_C , Embarked_Q, and Embarked_S\n",
        "\n",
        "training_dataframe =pd.get_dummies(train_data, columns=[\"Embarked\"])\n",
        "print(training_dataframe.info())\n",
        "print(training_dataframe.head())"
      ],
      "execution_count": null,
      "outputs": [
        {
          "output_type": "stream",
          "name": "stdout",
          "text": [
            "<class 'pandas.core.frame.DataFrame'>\n",
            "RangeIndex: 891 entries, 0 to 890\n",
            "Data columns (total 14 columns):\n",
            " #   Column       Non-Null Count  Dtype  \n",
            "---  ------       --------------  -----  \n",
            " 0   PassengerId  891 non-null    int64  \n",
            " 1   Survived     891 non-null    int64  \n",
            " 2   Pclass       891 non-null    int64  \n",
            " 3   Name         891 non-null    object \n",
            " 4   Sex          891 non-null    object \n",
            " 5   Age          891 non-null    float64\n",
            " 6   SibSp        891 non-null    int64  \n",
            " 7   Parch        891 non-null    int64  \n",
            " 8   Ticket       891 non-null    object \n",
            " 9   Fare         891 non-null    float64\n",
            " 10  Cabin        204 non-null    object \n",
            " 11  Embarked_C   891 non-null    uint8  \n",
            " 12  Embarked_Q   891 non-null    uint8  \n",
            " 13  Embarked_S   891 non-null    uint8  \n",
            "dtypes: float64(2), int64(5), object(4), uint8(3)\n",
            "memory usage: 79.3+ KB\n",
            "None\n",
            "   PassengerId  Survived  Pclass  ... Embarked_C Embarked_Q  Embarked_S\n",
            "0            1         0       3  ...          0          0           1\n",
            "1            2         1       1  ...          1          0           0\n",
            "2            3         1       3  ...          0          0           1\n",
            "3            4         1       1  ...          0          0           1\n",
            "4            5         0       3  ...          0          0           1\n",
            "\n",
            "[5 rows x 14 columns]\n"
          ]
        }
      ]
    },
    {
      "cell_type": "code",
      "metadata": {
        "colab": {
          "base_uri": "https://localhost:8080/"
        },
        "id": "hc_n4PgU4k8-",
        "outputId": "54a602f1-c4e5-4506-ae15-3af61f65b392"
      },
      "source": [
        "clf1 = LogisticRegression(solver='lbfgs', max_iter=10000)\n",
        "clf1.fit(training, train_df['Survived'] )"
      ],
      "execution_count": null,
      "outputs": [
        {
          "output_type": "execute_result",
          "data": {
            "text/plain": [
              "LogisticRegression(max_iter=10000)"
            ]
          },
          "metadata": {},
          "execution_count": 32
        }
      ]
    },
    {
      "cell_type": "markdown",
      "metadata": {
        "id": "2gZJeG22uKqg"
      },
      "source": [
        "# Mapping Values to 0/1"
      ]
    },
    {
      "cell_type": "code",
      "metadata": {
        "colab": {
          "base_uri": "https://localhost:8080/",
          "height": 284
        },
        "id": "RKzCSNNWswER",
        "outputId": "d303501d-b3a2-4a5b-8092-68763a63e6b6"
      },
      "source": [
        "testing = train_data.copy()\n",
        "testing['Sex'] = testing['Sex'].apply({'male':0, 'female':1}.get)\n",
        "testing['Sex'].hist()"
      ],
      "execution_count": null,
      "outputs": [
        {
          "output_type": "execute_result",
          "data": {
            "text/plain": [
              "<matplotlib.axes._subplots.AxesSubplot at 0x7f2ba927bad0>"
            ]
          },
          "metadata": {},
          "execution_count": 33
        },
        {
          "output_type": "display_data",
          "data": {
            "image/png": "[encoded data removed]",
            "text/plain": [
              "<Figure size 432x288 with 1 Axes>"
            ]
          },
          "metadata": {
            "needs_background": "light"
          }
        }
      ]
    },
    {
      "cell_type": "code",
      "metadata": {
        "colab": {
          "base_uri": "https://localhost:8080/",
          "height": 284
        },
        "id": "75xX5ga3tMA2",
        "outputId": "2c9f1de9-27b6-4c15-81dd-de8f6359f97f"
      },
      "source": [
        "testing = train_data.copy()\n",
        "testing['Sex']=testing['Sex'].map({'female':0,'male':1})\n",
        "testing['Sex'].hist()"
      ],
      "execution_count": null,
      "outputs": [
        {
          "output_type": "execute_result",
          "data": {
            "text/plain": [
              "<matplotlib.axes._subplots.AxesSubplot at 0x7f2ba9387650>"
            ]
          },
          "metadata": {},
          "execution_count": 34
        },
        {
          "output_type": "display_data",
          "data": {
            "image/png": "[encoded data removed]",
            "text/plain": [
              "<Figure size 432x288 with 1 Axes>"
            ]
          },
          "metadata": {
            "needs_background": "light"
          }
        }
      ]
    },
    {
      "cell_type": "code",
      "metadata": {
        "colab": {
          "base_uri": "https://localhost:8080/",
          "height": 284
        },
        "id": "RW0rwDI6pVUH",
        "outputId": "1215e5c6-3e76-421f-b27e-a0642d751e1b"
      },
      "source": [
        "testing = train_data.copy()\n",
        "testing['Sex'].replace(['male', 'female'], [0,1],inplace=True)\n",
        "testing['Sex'].hist()"
      ],
      "execution_count": null,
      "outputs": [
        {
          "output_type": "execute_result",
          "data": {
            "text/plain": [
              "<matplotlib.axes._subplots.AxesSubplot at 0x7f2ba97663d0>"
            ]
          },
          "metadata": {},
          "execution_count": 35
        },
        {
          "output_type": "display_data",
          "data": {
            "image/png": "[encoded data removed]",
            "text/plain": [
              "<Figure size 432x288 with 1 Axes>"
            ]
          },
          "metadata": {
            "needs_background": "light"
          }
        }
      ]
    },
    {
      "cell_type": "markdown",
      "metadata": {
        "id": "5Br0ibtWuDNU"
      },
      "source": [
        "## Test Data"
      ]
    },
    {
      "cell_type": "code",
      "metadata": {
        "id": "YKdG5tn95Utn"
      },
      "source": [
        "TitanicTest = pd.read_csv('TitanicTest.csv')"
      ],
      "execution_count": null,
      "outputs": []
    },
    {
      "cell_type": "code",
      "metadata": {
        "colab": {
          "base_uri": "https://localhost:8080/"
        },
        "id": "XwS25lJg88CO",
        "outputId": "186f1415-ca29-4169-f575-9feb9671af9b"
      },
      "source": [
        "print(\"Missing Values: \")\n",
        "print(TitanicTest.isnull().sum())"
      ],
      "execution_count": null,
      "outputs": [
        {
          "output_type": "stream",
          "name": "stdout",
          "text": [
            "Missing Values: \n",
            "PassengerId      0\n",
            "Pclass           0\n",
            "Name             0\n",
            "Sex              0\n",
            "Age             86\n",
            "SibSp            0\n",
            "Parch            0\n",
            "Ticket           0\n",
            "Fare             1\n",
            "Cabin          327\n",
            "Embarked         0\n",
            "dtype: int64\n"
          ]
        }
      ]
    },
    {
      "cell_type": "code",
      "metadata": {
        "colab": {
          "base_uri": "https://localhost:8080/"
        },
        "id": "PVj0u71d5fSf",
        "outputId": "b74a665d-630a-46e1-cd27-bb3de87a35ee"
      },
      "source": [
        "test_data = TitanicTest.copy()\n",
        "test_data[\"Age\"].fillna(train_df[\"Age\"].median(skipna=True), inplace=True)\n",
        "testing=pd.get_dummies(test_data, columns=[\"Embarked\"])\n",
        "testing.drop(columns=['PassengerId', 'Pclass', 'Name',  'SibSp', 'Parch', 'Ticket', 'Fare', 'Cabin', 'PassengerId'], axis=1, inplace=True)\n",
        "print(testing.info())\n",
        "print(testing.head())"
      ],
      "execution_count": null,
      "outputs": [
        {
          "output_type": "stream",
          "name": "stdout",
          "text": [
            "<class 'pandas.core.frame.DataFrame'>\n",
            "RangeIndex: 418 entries, 0 to 417\n",
            "Data columns (total 5 columns):\n",
            " #   Column      Non-Null Count  Dtype  \n",
            "---  ------      --------------  -----  \n",
            " 0   Sex         418 non-null    object \n",
            " 1   Age         418 non-null    float64\n",
            " 2   Embarked_C  418 non-null    uint8  \n",
            " 3   Embarked_Q  418 non-null    uint8  \n",
            " 4   Embarked_S  418 non-null    uint8  \n",
            "dtypes: float64(1), object(1), uint8(3)\n",
            "memory usage: 7.9+ KB\n",
            "None\n",
            "      Sex   Age  Embarked_C  Embarked_Q  Embarked_S\n",
            "0    male  34.5           0           1           0\n",
            "1  female  47.0           0           0           1\n",
            "2    male  62.0           0           1           0\n",
            "3    male  27.0           0           0           1\n",
            "4  female  22.0           0           0           1\n"
          ]
        }
      ]
    },
    {
      "cell_type": "code",
      "metadata": {
        "id": "0xk4hyx-6BZh"
      },
      "source": [
        "predict = clf1.predict(testing)"
      ],
      "execution_count": null,
      "outputs": []
    },
    {
      "cell_type": "code",
      "metadata": {
        "id": "R-B-Lj1N6IB4"
      },
      "source": [
        "TitanicTest['Survived']=predict\n",
        "\n",
        "TitanicTest[['PassengerId','Survived']].to_csv('Titanic2.csv', index=False, header=True)"
      ],
      "execution_count": null,
      "outputs": []
    },
    {
      "cell_type": "markdown",
      "metadata": {
        "id": "6c8Q_4_-w6KQ"
      },
      "source": [
        ""
      ]
    }
  ]
}