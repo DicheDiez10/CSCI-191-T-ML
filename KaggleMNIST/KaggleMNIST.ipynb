{
  "nbformat": 4,
  "nbformat_minor": 0,
  "metadata": {
    "colab": {
      "name": "KaggleMNIST.ipynb",
      "provenance": [],
      "include_colab_link": true
    },
    "kernelspec": {
      "name": "python3",
      "display_name": "Python 3"
    },
    "language_info": {
      "name": "python"
    }
  },
  "cells": [
    {
      "cell_type": "markdown",
      "metadata": {
        "id": "view-in-github",
        "colab_type": "text"
      },
      "source": [
        "<a href=\"https://colab.research.google.com/github/DicheDiez10/CSCI-191-T-ML/blob/main/KaggleMNIST/KaggleMNIST.ipynb\" target=\"_parent\"><img src=\"https://colab.research.google.com/assets/colab-badge.svg\" alt=\"Open In Colab\"/></a>"
      ]
    },
    {
      "cell_type": "markdown",
      "metadata": {
        "id": "T0I0TvzissyN"
      },
      "source": [
        "# Digit Recognizer"
      ]
    },
    {
      "cell_type": "code",
      "metadata": {
        "id": "UPQF35SAspYQ"
      },
      "source": [
        "import numpy as np\n",
        "import matplotlib.pyplot as plt\n",
        "import pandas as pd\n",
        "import seaborn as sns\n",
        "\n",
        "from sklearn.decomposition import PCA\n",
        "from sklearn import datasets\n",
        "from sklearn.linear_model import LogisticRegression\n",
        "from sklearn.metrics import accuracy_score\n",
        "from sklearn.neural_network import MLPClassifier"
      ],
      "execution_count": 16,
      "outputs": []
    },
    {
      "cell_type": "code",
      "metadata": {
        "id": "JYP4jyDK88os"
      },
      "source": [
        "#Importing the data: train, test, samplesubmission\n",
        "train_df = pd.read_csv('https://github.com/DicheDiez10/CSCI-191-T-ML/raw/main/KaggleMNIST/MNIST_Train.csv')\n",
        "test_df = pd.read_csv('https://github.com/DicheDiez10/CSCI-191-T-ML/raw/main/KaggleMNIST/MNIST_Test.csv')\n",
        "ss_df = pd.read_csv('https://github.com/DicheDiez10/CSCI-191-T-ML/raw/main/KaggleMNIST/MNIST_Sample_Submission.csv')"
      ],
      "execution_count": 5,
      "outputs": []
    },
    {
      "cell_type": "code",
      "metadata": {
        "id": "6JPCGTIs-TzD",
        "outputId": "f2d99464-4b31-4b8b-81a1-f34b398f6cbc",
        "colab": {
          "base_uri": "https://localhost:8080/"
        }
      },
      "source": [
        "#Visualizing the data we pulled (TRAINING)\n",
        "print(\"Training Data Set Shape : \",train_df.values.shape, \"\\n\")\n",
        "print(train_df.values[1,1:])"
      ],
      "execution_count": 17,
      "outputs": [
        {
          "output_type": "stream",
          "name": "stdout",
          "text": [
            "Training Data Set Shape :  (42000, 785) \n",
            "\n",
            "[  0   0   0   0   0   0   0   0   0   0   0   0   0   0   0   0   0   0\n",
            "   0   0   0   0   0   0   0   0   0   0   0   0   0   0   0   0   0   0\n",
            "   0   0   0   0   0   0   0   0   0   0   0   0   0   0   0   0   0   0\n",
            "   0   0   0   0   0   0   0   0   0   0   0   0   0   0   0   0   0   0\n",
            "   0   0   0   0   0   0   0   0   0   0   0   0   0   0   0   0   0   0\n",
            "   0   0   0   0   0   0   0   0   0   0   0   0   0   0   0   0   0   0\n",
            "   0   0   0   0   0   0   0   0   0   0   0   0   0   0  18  30 137 137\n",
            " 192  86  72   1   0   0   0   0   0   0   0   0   0   0   0   0   0   0\n",
            "   0   0   0   0  13  86 250 254 254 254 254 217 246 151  32   0   0   0\n",
            "   0   0   0   0   0   0   0   0   0   0   0   0   0  16 179 254 254 254\n",
            " 254 254 254 254 254 254 231  54  15   0   0   0   0   0   0   0   0   0\n",
            "   0   0   0   0   0  72 254 254 254 254 254 254 254 254 254 254 254 254\n",
            " 104   0   0   0   0   0   0   0   0   0   0   0   0   0  61 191 254 254\n",
            " 254 254 254 109  83 199 254 254 254 254 243  85   0   0   0   0   0   0\n",
            "   0   0   0   0   0   0 172 254 254 254 202 147 147  45   0  11  29 200\n",
            " 254 254 254 171   0   0   0   0   0   0   0   0   0   0   0   1 174 254\n",
            " 254  89  67   0   0   0   0   0   0 128 252 254 254 212  76   0   0   0\n",
            "   0   0   0   0   0   0   0  47 254 254 254  29   0   0   0   0   0   0\n",
            "   0   0  83 254 254 254 153   0   0   0   0   0   0   0   0   0   0  80\n",
            " 254 254 240  24   0   0   0   0   0   0   0   0  25 240 254 254 153   0\n",
            "   0   0   0   0   0   0   0   0   0  64 254 254 186   7   0   0   0   0\n",
            "   0   0   0   0   0 166 254 254 224  12   0   0   0   0   0   0   0   0\n",
            "  14 232 254 254 254  29   0   0   0   0   0   0   0   0   0  75 254 254\n",
            " 254  17   0   0   0   0   0   0   0   0  18 254 254 254 254  29   0   0\n",
            "   0   0   0   0   0   0   0  48 254 254 254  17   0   0   0   0   0   0\n",
            "   0   0   2 163 254 254 254  29   0   0   0   0   0   0   0   0   0  48\n",
            " 254 254 254  17   0   0   0   0   0   0   0   0   0  94 254 254 254 200\n",
            "  12   0   0   0   0   0   0   0  16 209 254 254 150   1   0   0   0   0\n",
            "   0   0   0   0   0  15 206 254 254 254 202  66   0   0   0   0   0  21\n",
            " 161 254 254 245  31   0   0   0   0   0   0   0   0   0   0   0  60 212\n",
            " 254 254 254 194  48  48  34  41  48 209 254 254 254 171   0   0   0   0\n",
            "   0   0   0   0   0   0   0   0   0  86 243 254 254 254 254 254 233 243\n",
            " 254 254 254 254 254  86   0   0   0   0   0   0   0   0   0   0   0   0\n",
            "   0   0 114 254 254 254 254 254 254 254 254 254 254 239  86  11   0   0\n",
            "   0   0   0   0   0   0   0   0   0   0   0   0  13 182 254 254 254 254\n",
            " 254 254 254 254 243  70   0   0   0   0   0   0   0   0   0   0   0   0\n",
            "   0   0   0   0   0   8  76 146 254 255 254 255 146  19  15   0   0   0\n",
            "   0   0   0   0   0   0   0   0   0   0   0   0   0   0   0   0   0   0\n",
            "   0   0   0   0   0   0   0   0   0   0   0   0   0   0   0   0   0   0\n",
            "   0   0   0   0   0   0   0   0   0   0   0   0   0   0   0   0   0   0\n",
            "   0   0   0   0   0   0   0   0   0   0   0   0   0   0   0   0   0   0\n",
            "   0   0   0   0   0   0   0   0   0   0   0   0   0   0   0   0   0   0\n",
            "   0   0   0   0   0   0   0   0   0   0   0   0   0   0   0   0   0   0\n",
            "   0   0   0   0   0   0   0   0   0   0]\n"
          ]
        }
      ]
    },
    {
      "cell_type": "markdown",
      "metadata": {
        "id": "8n9ENShu--B7"
      },
      "source": [
        "Training Data  --▶  <font color = \"gray\"> 42,000 Rows, 785 Columns </font>"
      ]
    },
    {
      "cell_type": "code",
      "metadata": {
        "id": "q6ODVtgJDV4g",
        "outputId": "5f91d5a7-dcb3-405a-e78f-f61b9e8abcd5",
        "colab": {
          "base_uri": "https://localhost:8080/"
        }
      },
      "source": [
        "#Visualizing the data we pulled (TESTING)\n",
        "print(\"Testing Data Set Shape : \",test_df.values.shape, \"\\n\")\n",
        "print(test_df.values[1,1:])"
      ],
      "execution_count": 18,
      "outputs": [
        {
          "output_type": "stream",
          "name": "stdout",
          "text": [
            "Testing Data Set Shape :  (28000, 784) \n",
            "\n",
            "[  0   0   0   0   0   0   0   0   0   0   0   0   0   0   0   0   0   0\n",
            "   0   0   0   0   0   0   0   0   0   0   0   0   0   0   0   0   0   0\n",
            "   0   0   0   0   0   0   0   0   0   0   0   0   0   0   0   0   0   0\n",
            "   0   0   0   0   0   0   0   0   0   0   0   0   0   0   0   0   0   0\n",
            "   0   0   0   0   0   0   0   0   0   0   0   0   0   0   0   0   0   0\n",
            "   0   0   0   0   0   0   0   0   0   0   0   0   0   0   0   0   0   0\n",
            "   0   0   0   0   0   0   0   0   0   0   0   0   0   0   0   0   0   0\n",
            "   0   0   0   0   0   0   0   0   0   0   0   0   0   0   0   0   0   0\n",
            "   0   0   0   0   0   0   0   0   0   0   0   0   0   0   0   0   0   0\n",
            "   0   0   0   0   0   0   0   0   0   0   0   0   0   0   0   0  29  85\n",
            "  85  85  85  85  85  85  85  71   0   0   0   0   0   0   0   0   0   0\n",
            "   0   0   0   0   0   0 107 128 168 250 250 250 252 250 250 250 250 231\n",
            " 127  63   0   0   0   0   0   0   0   0   0   0   0   0  85 168 237 252\n",
            " 250 250 250 250 252 250 250 250 250 252 250 209  56   0   0   0   0   0\n",
            "   0   0   0   0   0   0 127 250 250 252 250 250 250 250 252 250 250 250\n",
            " 250 252 250 250  83   0   0   0   0   0   0   0   0   0   8 113 252 252\n",
            " 252 247 210 210 210 210 177   0   0   0   0  43 252 252  83   0   0   0\n",
            "   0   0   0   0   0   0  43 250 250 250 250 210   0   0   0   0   0   0\n",
            "   0   0   0  28 194 250 138  14   0   0   0   0   0   0   0   0  43 250\n",
            " 250 250 250 210   0   0   0   0   0   0   0   0   0   0  85 250 250  41\n",
            "   0   0   0   0   0   0   0   0  43 250 250 137  83  70   0   0   0   0\n",
            "   0   0   0   0   0   0  28 167 250  41   0   0   0   0   0   0   0   0\n",
            " 219 250 144  14   0   0   0   0   0   0   0   0   0   0   0   0   0 127\n",
            " 250 217   0   0   0   0   0   0   0   0 254 238 105   0   0   0   0   0\n",
            "   0   0   0   0   0   0   0   0  15 148 252 252   0   0   0   0   0   0\n",
            "   0   0 252 166   0   0   0   0   0   0   0   0   0   0   0   0   0  85\n",
            " 140 250 250 179   0   0   0   0   0   0   0   0 252 208  63   0   0   0\n",
            "   0   0   0   0   0   0   0  85 127 252 250 250 250  41   0   0   0   0\n",
            "   0   0   0   0 252 250 209  56   0   0   0   0   0 141 170 168 168 223\n",
            " 250 252 250 250 137  14   0   0   0   0   0   0   0   0 252 250 250 223\n",
            " 210 212 210 210 210 244 252 250 250 250 250 252 250 144  14   0   0   0\n",
            "   0   0   0   0   0   0  43 252 252 252 252 254 252 252 252 252 255 252\n",
            " 252 252 217 177   0   0   0   0   0   0   0   0   0   0   0   0  28 166\n",
            " 208 250 250 252 250 250 250 250 238 166 166 166  27   0   0   0   0   0\n",
            "   0   0   0   0   0   0   0   0   0   0  63 125 125 146 250 250 165 125\n",
            " 105   0   0   0   0   0   0   0   0   0   0   0   0   0   0   0   0   0\n",
            "   0   0   0   0   0  14  83  83  27   0   0   0   0   0   0   0   0   0\n",
            "   0   0   0   0   0   0   0   0   0   0   0   0   0   0   0   0   0   0\n",
            "   0   0   0   0   0   0   0   0   0   0   0   0   0   0   0   0   0   0\n",
            "   0   0   0   0   0   0   0   0   0   0   0   0   0   0   0   0   0   0\n",
            "   0   0   0   0   0   0   0   0   0   0   0   0   0   0   0   0   0   0\n",
            "   0   0   0   0   0   0   0   0   0   0   0   0   0   0   0   0   0   0\n",
            "   0   0   0   0   0   0   0   0   0   0   0   0   0   0   0   0   0   0\n",
            "   0   0   0   0   0   0   0   0   0]\n"
          ]
        }
      ]
    },
    {
      "cell_type": "markdown",
      "metadata": {
        "id": "fPEIcPNMDgkS"
      },
      "source": [
        "Testing Data  --▶  <font color = \"gray\"> 28,000 Rows, 784 Columns (Missing the label column) </font>"
      ]
    },
    {
      "cell_type": "code",
      "metadata": {
        "id": "-Wt0EO4UDwJh",
        "outputId": "ab746312-0aa7-4e46-e77a-22c58da2ff16",
        "colab": {
          "base_uri": "https://localhost:8080/"
        }
      },
      "source": [
        "#Visualizing the data we pulled (SAMPLE SUBMISSION)\n",
        "print(\"Testing Data Set Shape : \",ss_df.values.shape, \"\\n\")\n",
        "\n",
        "#should be 28,000 rows as that is how many rows we see in the test set\n",
        "#should be two columns, ImageId and Label"
      ],
      "execution_count": 19,
      "outputs": [
        {
          "output_type": "stream",
          "name": "stdout",
          "text": [
            "Testing Data Set Shape :  (28000, 2) \n",
            "\n"
          ]
        }
      ]
    },
    {
      "cell_type": "code",
      "metadata": {
        "colab": {
          "base_uri": "https://localhost:8080/",
          "height": 1000
        },
        "id": "yx-af5MRtz9D",
        "outputId": "17809460-bd78-465c-9b46-1106885f0398"
      },
      "source": [
        "#Representing the first 10 rows in the training data set to \n",
        "#visualize the numbers and types of numbers we are working with\n",
        "\n",
        "for row in range(1,11):\n",
        "\n",
        "  #row number 'row' and 'everything after the label' columns\n",
        "  myNumber = train_df.values[row,1:]\n",
        "\n",
        "  #28x28 pixel grid\n",
        "  myNumber=myNumber.reshape((28,28))\n",
        "  plt.imshow(myNumber, cmap = plt.cm.binary,interpolation=\"nearest\")\n",
        "  plt.axis(\"off\")\n",
        "  plt.show()"
      ],
      "execution_count": 35,
      "outputs": [
        {
          "output_type": "display_data",
          "data": {
            "image/png": "[encoded data removed]",
            "text/plain": [
              "<Figure size 432x288 with 1 Axes>"
            ]
          },
          "metadata": {
            "needs_background": "light"
          }
        },
        {
          "output_type": "display_data",
          "data": {
            "image/png": "[encoded data removed]",
            "text/plain": [
              "<Figure size 432x288 with 1 Axes>"
            ]
          },
          "metadata": {
            "needs_background": "light"
          }
        },
        {
          "output_type": "display_data",
          "data": {
            "image/png": "[encoded data removed]",
            "text/plain": [
              "<Figure size 432x288 with 1 Axes>"
            ]
          },
          "metadata": {
            "needs_background": "light"
          }
        },
        {
          "output_type": "display_data",
          "data": {
            "image/png": "[encoded data removed]",
            "text/plain": [
              "<Figure size 432x288 with 1 Axes>"
            ]
          },
          "metadata": {
            "needs_background": "light"
          }
        },
        {
          "output_type": "display_data",
          "data": {
            "image/png": "[encoded data removed]",
            "text/plain": [
              "<Figure size 432x288 with 1 Axes>"
            ]
          },
          "metadata": {
            "needs_background": "light"
          }
        },
        {
          "output_type": "display_data",
          "data": {
            "image/png": "[encoded data removed]",
            "text/plain": [
              "<Figure size 432x288 with 1 Axes>"
            ]
          },
          "metadata": {
            "needs_background": "light"
          }
        },
        {
          "output_type": "display_data",
          "data": {
            "image/png": "[encoded data removed]",
            "text/plain": [
              "<Figure size 432x288 with 1 Axes>"
            ]
          },
          "metadata": {
            "needs_background": "light"
          }
        },
        {
          "output_type": "display_data",
          "data": {
            "image/png": "[encoded data removed]",
            "text/plain": [
              "<Figure size 432x288 with 1 Axes>"
            ]
          },
          "metadata": {
            "needs_background": "light"
          }
        },
        {
          "output_type": "display_data",
          "data": {
            "image/png": "[encoded data removed]",
            "text/plain": [
              "<Figure size 432x288 with 1 Axes>"
            ]
          },
          "metadata": {
            "needs_background": "light"
          }
        },
        {
          "output_type": "display_data",
          "data": {
            "image/png": "[encoded data removed]",
            "text/plain": [
              "<Figure size 432x288 with 1 Axes>"
            ]
          },
          "metadata": {
            "needs_background": "light"
          }
        }
      ]
    },
    {
      "cell_type": "code",
      "metadata": {
        "id": "DIcpwtXyJarG",
        "outputId": "7ea167b3-0a97-4745-f4af-f45febbf44a4",
        "colab": {
          "base_uri": "https://localhost:8080/",
          "height": 392
        }
      },
      "source": [
        "#histogram showing distribution of the labels we have in the training set\n",
        "print(\"Distribution Counts by Label Number in Training Set:\\n\\n\")\n",
        "\n",
        "sns.set_theme(style=\"whitegrid\")\n",
        "sns.barplot(train_df['label'].value_counts().index , train_df['label'].value_counts())\n",
        "plt.ylabel('Label Counts')\n",
        "plt.xlabel('Label Number')\n",
        "plt.show()"
      ],
      "execution_count": 51,
      "outputs": [
        {
          "output_type": "stream",
          "name": "stdout",
          "text": [
            "Distribution Counts by Label Number in Training Set:\n",
            "\n",
            "\n"
          ]
        },
        {
          "output_type": "stream",
          "name": "stderr",
          "text": [
            "/usr/local/lib/python3.7/dist-packages/seaborn/_decorators.py:43: FutureWarning: Pass the following variables as keyword args: x, y. From version 0.12, the only valid positional argument will be `data`, and passing other arguments without an explicit keyword will result in an error or misinterpretation.\n",
            "  FutureWarning\n"
          ]
        },
        {
          "output_type": "display_data",
          "data": {
            "image/png": "[encoded data removed]",
            "text/plain": [
              "<Figure size 432x288 with 1 Axes>"
            ]
          },
          "metadata": {}
        }
      ]
    },
    {
      "cell_type": "code",
      "metadata": {
        "colab": {
          "base_uri": "https://localhost:8080/"
        },
        "id": "cJqoh8wt3_Pp",
        "outputId": "dd804757-64b6-4753-fb86-3a9d7600921b"
      },
      "source": [
        "#rnd_pca = PCA(n_components=154)\n",
        "#rnd_pca = PCA(n_components=169)\n",
        "\n",
        "#Set multiple n_components for testing\n",
        "rnd_pca1 = PCA(n_components=1)\n",
        "rnd_pca2 = PCA(n_components=2)\n",
        "rnd_pca3 = PCA(n_components=3)\n",
        "rnd_pca4 = PCA(n_components=4)\n",
        "rnd_pca5 = PCA(n_components=5)\n",
        "rnd_pca10 = PCA(n_components=10)\n",
        "rnd_pca25 = PCA(n_components=25)\n",
        "rnd_pca50 = PCA(n_components=50)\n",
        "rnd_pca75 = PCA(n_components=75)\n",
        "rnd_pca100 = PCA(n_components=100)\n",
        "rnd_pca150 = PCA(n_components=150)\n",
        "rnd_pca200 = PCA(n_components=200)\n",
        "\n",
        "rnd_pca1.fit(train_df.values[:,1:])\n",
        "rnd_pca2.fit(train_df.values[:,1:])\n",
        "rnd_pca3.fit(train_df.values[:,1:])\n",
        "rnd_pca4.fit(train_df.values[:,1:])\n",
        "rnd_pca5.fit(train_df.values[:,1:])\n",
        "rnd_pca10.fit(train_df.values[:,1:])\n",
        "rnd_pca25.fit(train_df.values[:,1:])\n",
        "rnd_pca50.fit(train_df.values[:,1:])\n",
        "rnd_pca75.fit(train_df.values[:,1:])\n",
        "rnd_pca100.fit(train_df.values[:,1:])\n",
        "rnd_pca150.fit(train_df.values[:,1:])\n",
        "rnd_pca200.fit(train_df.values[:,1:])\n",
        "\n",
        "X_reduced1 = rnd_pca1.transform(train_df.values[:,1:])\n",
        "X_reduced2 = rnd_pca2.transform(train_df.values[:,1:])\n",
        "X_reduced3 = rnd_pca3.transform(train_df.values[:,1:])\n",
        "X_reduced4 = rnd_pca4.transform(train_df.values[:,1:])\n",
        "X_reduced5 = rnd_pca5.transform(train_df.values[:,1:])\n",
        "X_reduced10 = rnd_pca10.transform(train_df.values[:,1:])\n",
        "X_reduced25 = rnd_pca25.transform(train_df.values[:,1:])\n",
        "X_reduced50 = rnd_pca50.transform(train_df.values[:,1:])\n",
        "X_reduced75 = rnd_pca75.transform(train_df.values[:,1:])\n",
        "X_reduced100 = rnd_pca100.transform(train_df.values[:,1:])\n",
        "X_reduced150 = rnd_pca150.transform(train_df.values[:,1:])\n",
        "X_reduced200 = rnd_pca200.transform(train_df.values[:,1:])\n",
        "\n",
        "print (X_reduced1.shape)\n",
        "print (X_reduced2.shape)\n",
        "print (X_reduced3.shape)\n",
        "print (X_reduced4.shape)\n",
        "print (X_reduced5.shape)\n",
        "print (X_reduced10.shape)\n",
        "print (X_reduced25.shape)\n",
        "print (X_reduced50.shape)\n",
        "print (X_reduced75.shape)\n",
        "print (X_reduced100.shape)\n",
        "print (X_reduced150.shape)\n",
        "print (X_reduced200.shape)"
      ],
      "execution_count": 61,
      "outputs": [
        {
          "output_type": "stream",
          "name": "stdout",
          "text": [
            "(42000, 1)\n",
            "(42000, 2)\n",
            "(42000, 3)\n",
            "(42000, 4)\n",
            "(42000, 5)\n",
            "(42000, 10)\n",
            "(42000, 25)\n",
            "(42000, 50)\n",
            "(42000, 75)\n",
            "(42000, 100)\n",
            "(42000, 150)\n",
            "(42000, 200)\n"
          ]
        }
      ]
    },
    {
      "cell_type": "code",
      "metadata": {
        "colab": {
          "base_uri": "https://localhost:8080/",
          "height": 727
        },
        "id": "mJ87PVNN4RuG",
        "outputId": "4e276af8-5a77-4452-a804-daad33517618"
      },
      "source": [
        "#eigennumbers = rnd_pca.components_.reshape((154,28,28))\n",
        "#eigennumbers = rnd_pca.components_.reshape((169,28,28))\n",
        "eigennumbers = rnd_pca.components_.reshape((4,28,28))\n",
        "myNumber = eigennumbers[0]\n",
        "print (len(myNumber))\n",
        "myNumber=myNumber.reshape((28,28))\n",
        "plt.imshow(myNumber, cmap = plt.cm.binary,\n",
        "           interpolation=\"nearest\")\n",
        "plt.axis(\"off\")\n",
        "plt.show()\n",
        "myNumber = eigennumbers[1]\n",
        "myNumber=myNumber.reshape((28,28))\n",
        "plt.imshow(myNumber, cmap = plt.cm.binary,\n",
        "           interpolation=\"nearest\")\n",
        "plt.axis(\"off\")\n",
        "plt.show()\n",
        "myNumber = eigennumbers[2]\n",
        "myNumber=myNumber.reshape((28,28))\n",
        "plt.imshow(myNumber, cmap = plt.cm.binary,\n",
        "           interpolation=\"nearest\")\n",
        "plt.axis(\"off\")\n",
        "plt.show()"
      ],
      "execution_count": null,
      "outputs": [
        {
          "output_type": "stream",
          "name": "stdout",
          "text": [
            "28\n"
          ]
        },
        {
          "output_type": "display_data",
          "data": {
            "image/png": "[encoded data removed]",
            "text/plain": [
              "<Figure size 432x288 with 1 Axes>"
            ]
          },
          "metadata": {
            "needs_background": "light"
          }
        },
        {
          "output_type": "display_data",
          "data": {
            "image/png": "[encoded data removed]",
            "text/plain": [
              "<Figure size 432x288 with 1 Axes>"
            ]
          },
          "metadata": {
            "needs_background": "light"
          }
        },
        {
          "output_type": "display_data",
          "data": {
            "image/png": "[encoded data removed]",
            "text/plain": [
              "<Figure size 432x288 with 1 Axes>"
            ]
          },
          "metadata": {
            "needs_background": "light"
          }
        }
      ]
    },
    {
      "cell_type": "code",
      "metadata": {
        "colab": {
          "base_uri": "https://localhost:8080/",
          "height": 269
        },
        "id": "D8Mbx4QH5U7z",
        "outputId": "cd32e5b9-7827-456c-c4bf-82d49e3719aa"
      },
      "source": [
        "import math\n",
        "myNumber = X_reduced[0,:]\n",
        "myNumber=myNumber.reshape((2,2))\n",
        "plt.imshow(myNumber, cmap = plt.cm.binary,\n",
        "           interpolation=\"nearest\")\n",
        "plt.show()"
      ],
      "execution_count": null,
      "outputs": [
        {
          "output_type": "display_data",
          "data": {
            "image/png": "[encoded data removed]",
            "text/plain": [
              "<Figure size 432x288 with 1 Axes>"
            ]
          },
          "metadata": {
            "needs_background": "light"
          }
        }
      ]
    },
    {
      "cell_type": "code",
      "metadata": {
        "id": "9881-p8S7v6_"
      },
      "source": [
        "#clf1 = LogisticRegression(max_iter=10000, solver='saga',)\n",
        "\n",
        "clf1.fit(data[:,1:], data[:, 0] )"
      ],
      "execution_count": null,
      "outputs": []
    },
    {
      "cell_type": "code",
      "metadata": {
        "colab": {
          "base_uri": "https://localhost:8080/"
        },
        "id": "LMxirjAvG8Zi",
        "outputId": "77d2e66f-294f-457f-9aa1-a5f7d4dbbb7a"
      },
      "source": [
        "clf1 = LogisticRegression(solver='saga', max_iter=10000)\n",
        "clf2 = LogisticRegression(solver='saga', max_iter=10000)\n",
        "clf3 = LogisticRegression(solver='saga', max_iter=10000)\n",
        "clf4 = LogisticRegression(solver='saga', max_iter=10000)\n",
        "clf5 = LogisticRegression(solver='saga', max_iter=10000)\n",
        "clf10 = LogisticRegression(solver='saga', max_iter=10000)\n",
        "clf25 = LogisticRegression(solver='saga', max_iter=10000)\n",
        "clf50 = LogisticRegression(solver='saga', max_iter=10000)\n",
        "clf75 = LogisticRegression(solver='saga', max_iter=10000)\n",
        "clf100 = LogisticRegression(solver='saga', max_iter=10000)\n",
        "clf150 = LogisticRegression(solver='saga', max_iter=10000)\n",
        "clf200 = LogisticRegression(solver='saga', max_iter=10000)\n",
        "\n",
        "clf1.fit(X_reduced1, train_df.values[:, 0] )\n",
        "clf2.fit(X_reduced2, train_df.values[:, 0] )\n",
        "clf3.fit(X_reduced3, train_df.values[:, 0] )\n",
        "clf4.fit(X_reduced4, train_df.values[:, 0] )\n",
        "clf5.fit(X_reduced5, train_df.values[:, 0] )\n",
        "clf10.fit(X_reduced10, train_df.values[:, 0] )\n",
        "clf25.fit(X_reduced25, train_df.values[:, 0] )\n",
        "clf50.fit(X_reduced50, train_df.values[:, 0] )\n",
        "clf75.fit(X_reduced75, train_df.values[:, 0] )\n",
        "clf100.fit(X_reduced100, train_df.values[:, 0] )\n",
        "clf150.fit(X_reduced150, train_df.values[:, 0] )\n",
        "clf200.fit(X_reduced200, train_df.values[:, 0] )"
      ],
      "execution_count": 62,
      "outputs": [
        {
          "output_type": "execute_result",
          "data": {
            "text/plain": [
              "LogisticRegression(max_iter=10000, solver='saga')"
            ]
          },
          "metadata": {},
          "execution_count": 62
        }
      ]
    },
    {
      "cell_type": "code",
      "metadata": {
        "colab": {
          "base_uri": "https://localhost:8080/"
        },
        "id": "Xnn3d2PrHTai",
        "outputId": "b3467fa2-bd84-4caa-a8a5-7a8e7e47f9ed"
      },
      "source": [
        "predict1 = clf1.predict(X_reduced1)\n",
        "print(\"Accuracy 1 = \", accuracy_score(predict1, train_df.values[:, 0]))\n",
        "\n",
        "predict2 = clf2.predict(X_reduced2)\n",
        "print(\"Accuracy 2 = \", accuracy_score(predict2, train_df.values[:, 0]))\n",
        "\n",
        "predict3 = clf3.predict(X_reduced3)\n",
        "print(\"Accuracy 3 = \", accuracy_score(predict3, train_df.values[:, 0]))\n",
        "\n",
        "predict4 = clf4.predict(X_reduced4)\n",
        "print(\"Accuracy 4 = \", accuracy_score(predict4, train_df.values[:, 0]))\n",
        "\n",
        "predict5 = clf5.predict(X_reduced5)\n",
        "print(\"Accuracy 5 = \", accuracy_score(predict5, train_df.values[:, 0]))\n",
        "\n",
        "predict10 = clf10.predict(X_reduced10)\n",
        "print(\"Accuracy 10 = \", accuracy_score(predict10, train_df.values[:, 0]))\n",
        "\n",
        "predict25 = clf25.predict(X_reduced25)\n",
        "print(\"Accuracy 25 = \", accuracy_score(predict25, train_df.values[:, 0]))\n",
        "\n",
        "predict50 = clf50.predict(X_reduced50)\n",
        "print(\"Accuracy 50 = \", accuracy_score(predict50, train_df.values[:, 0]))\n",
        "\n",
        "predict75 = clf75.predict(X_reduced75)\n",
        "print(\"Accuracy 75 = \", accuracy_score(predict75, train_df.values[:, 0]))\n",
        "\n",
        "predict100 = clf100.predict(X_reduced100)\n",
        "print(\"Accuracy 100 = \", accuracy_score(predict100, train_df.values[:, 0]))\n",
        "\n",
        "predict150 = clf150.predict(X_reduced150)\n",
        "print(\"Accuracy 150 = \", accuracy_score(predict150, train_df.values[:, 0]))\n",
        "\n",
        "predict200 = clf200.predict(X_reduced200)\n",
        "print(\"Accuracy 200 = \", accuracy_score(predict200, train_df.values[:, 0]))\n"
      ],
      "execution_count": 63,
      "outputs": [
        {
          "output_type": "stream",
          "name": "stdout",
          "text": [
            "Accuracy 1 =  0.2882857142857143\n",
            "Accuracy 2 =  0.4175714285714286\n",
            "Accuracy 3 =  0.4414047619047619\n",
            "Accuracy 4 =  0.5606904761904762\n",
            "Accuracy 5 =  0.6554047619047619\n",
            "Accuracy 10 =  0.7865952380952381\n",
            "Accuracy 25 =  0.8766666666666667\n",
            "Accuracy 50 =  0.9032142857142857\n",
            "Accuracy 75 =  0.9133333333333333\n",
            "Accuracy 100 =  0.9182380952380952\n",
            "Accuracy 150 =  0.9245238095238095\n",
            "Accuracy 200 =  0.9283095238095238\n"
          ]
        }
      ]
    },
    {
      "cell_type": "code",
      "metadata": {
        "colab": {
          "base_uri": "https://localhost:8080/"
        },
        "id": "C9BAU0xeHooL",
        "outputId": "f193364d-bcb2-4d94-9907-da30554bd92c"
      },
      "source": [
        "mnistTest = pd.read_csv('MnistTest.csv')\n",
        "test = mnistTest.values\n",
        "XTest_reduced = rnd_pca.transform(test)\n",
        "print(XTest_reduced.shape)\n",
        "predict = clf1.predict(XTest_reduced)"
      ],
      "execution_count": null,
      "outputs": [
        {
          "output_type": "stream",
          "name": "stdout",
          "text": [
            "(28000, 4)\n"
          ]
        }
      ]
    },
    {
      "cell_type": "code",
      "metadata": {
        "colab": {
          "base_uri": "https://localhost:8080/"
        },
        "id": "318tPC6bHtFc",
        "outputId": "c6c41a06-5aac-4069-d117-1a85fb848a45"
      },
      "source": [
        "mnistTest.info()\n",
        "mnistTest.index.name='ImageId'\n",
        "\n",
        "mnistTest['label']=predict\n",
        "\n",
        "mnistTest.index+=1\n",
        "mnistTest['label'].to_csv('Mnist2x2.csv', index=True, header=True)"
      ],
      "execution_count": null,
      "outputs": [
        {
          "output_type": "stream",
          "name": "stdout",
          "text": [
            "<class 'pandas.core.frame.DataFrame'>\n",
            "RangeIndex: 28000 entries, 0 to 27999\n",
            "Columns: 784 entries, pixel0 to pixel783\n",
            "dtypes: int64(784)\n",
            "memory usage: 167.5 MB\n"
          ]
        }
      ]
    },
    {
      "cell_type": "markdown",
      "metadata": {
        "id": "Bw9Hg1J0tI6B"
      },
      "source": [
        ""
      ]
    }
  ]
}