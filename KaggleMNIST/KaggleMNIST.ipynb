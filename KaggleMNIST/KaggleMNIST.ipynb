{
  "nbformat": 4,
  "nbformat_minor": 0,
  "metadata": {
    "colab": {
      "name": "KaggleMNIST.ipynb",
      "provenance": [],
      "include_colab_link": true
    },
    "kernelspec": {
      "name": "python3",
      "display_name": "Python 3"
    },
    "language_info": {
      "name": "python"
    }
  },
  "cells": [
    {
      "cell_type": "markdown",
      "metadata": {
        "id": "view-in-github",
        "colab_type": "text"
      },
      "source": [
        "<a href=\"https://colab.research.google.com/github/DicheDiez10/CSCI-191-T-ML/blob/main/KaggleMNIST/KaggleMNIST.ipynb\" target=\"_parent\"><img src=\"https://colab.research.google.com/assets/colab-badge.svg\" alt=\"Open In Colab\"/></a>"
      ]
    },
    {
      "cell_type": "markdown",
      "metadata": {
        "id": "T0I0TvzissyN"
      },
      "source": [
        "# Digit Recognizer"
      ]
    },
    {
      "cell_type": "code",
      "metadata": {
        "id": "UPQF35SAspYQ"
      },
      "source": [
        "import numpy as np\n",
        "import matplotlib.pyplot as plt\n",
        "import pandas as pd\n",
        "import seaborn as sns\n",
        "\n",
        "from sklearn.decomposition import PCA\n",
        "from sklearn import datasets\n",
        "from sklearn.linear_model import LogisticRegression\n",
        "from sklearn.metrics import accuracy_score\n",
        "from sklearn.neural_network import MLPClassifier"
      ],
      "execution_count": null,
      "outputs": []
    },
    {
      "cell_type": "code",
      "metadata": {
        "id": "JYP4jyDK88os"
      },
      "source": [
        "#Importing the data: train, test, samplesubmission\n",
        "train_df = pd.read_csv('https://github.com/DicheDiez10/CSCI-191-T-ML/raw/main/KaggleMNIST/MNIST_Train.csv')\n",
        "test_df = pd.read_csv('https://github.com/DicheDiez10/CSCI-191-T-ML/raw/main/KaggleMNIST/MNIST_Test.csv')\n",
        "ss_df = pd.read_csv('https://github.com/DicheDiez10/CSCI-191-T-ML/raw/main/KaggleMNIST/MNIST_Sample_Submission.csv')"
      ],
      "execution_count": null,
      "outputs": []
    },
    {
      "cell_type": "code",
      "metadata": {
        "colab": {
          "base_uri": "https://localhost:8080/"
        },
        "id": "6JPCGTIs-TzD",
        "outputId": "5a14980d-503b-4505-e10f-f8ac59cfd93b"
      },
      "source": [
        "#Visualizing the data we pulled (TRAINING)\n",
        "print(\"Training Data Set Shape : \",train_df.values.shape, \"\\n\")\n",
        "print(train_df.values[1,1:])"
      ],
      "execution_count": null,
      "outputs": [
        {
          "output_type": "stream",
          "name": "stdout",
          "text": [
            "Training Data Set Shape :  (42000, 785) \n",
            "\n",
            "[  0   0   0   0   0   0   0   0   0   0   0   0   0   0   0   0   0   0\n",
            "   0   0   0   0   0   0   0   0   0   0   0   0   0   0   0   0   0   0\n",
            "   0   0   0   0   0   0   0   0   0   0   0   0   0   0   0   0   0   0\n",
            "   0   0   0   0   0   0   0   0   0   0   0   0   0   0   0   0   0   0\n",
            "   0   0   0   0   0   0   0   0   0   0   0   0   0   0   0   0   0   0\n",
            "   0   0   0   0   0   0   0   0   0   0   0   0   0   0   0   0   0   0\n",
            "   0   0   0   0   0   0   0   0   0   0   0   0   0   0  18  30 137 137\n",
            " 192  86  72   1   0   0   0   0   0   0   0   0   0   0   0   0   0   0\n",
            "   0   0   0   0  13  86 250 254 254 254 254 217 246 151  32   0   0   0\n",
            "   0   0   0   0   0   0   0   0   0   0   0   0   0  16 179 254 254 254\n",
            " 254 254 254 254 254 254 231  54  15   0   0   0   0   0   0   0   0   0\n",
            "   0   0   0   0   0  72 254 254 254 254 254 254 254 254 254 254 254 254\n",
            " 104   0   0   0   0   0   0   0   0   0   0   0   0   0  61 191 254 254\n",
            " 254 254 254 109  83 199 254 254 254 254 243  85   0   0   0   0   0   0\n",
            "   0   0   0   0   0   0 172 254 254 254 202 147 147  45   0  11  29 200\n",
            " 254 254 254 171   0   0   0   0   0   0   0   0   0   0   0   1 174 254\n",
            " 254  89  67   0   0   0   0   0   0 128 252 254 254 212  76   0   0   0\n",
            "   0   0   0   0   0   0   0  47 254 254 254  29   0   0   0   0   0   0\n",
            "   0   0  83 254 254 254 153   0   0   0   0   0   0   0   0   0   0  80\n",
            " 254 254 240  24   0   0   0   0   0   0   0   0  25 240 254 254 153   0\n",
            "   0   0   0   0   0   0   0   0   0  64 254 254 186   7   0   0   0   0\n",
            "   0   0   0   0   0 166 254 254 224  12   0   0   0   0   0   0   0   0\n",
            "  14 232 254 254 254  29   0   0   0   0   0   0   0   0   0  75 254 254\n",
            " 254  17   0   0   0   0   0   0   0   0  18 254 254 254 254  29   0   0\n",
            "   0   0   0   0   0   0   0  48 254 254 254  17   0   0   0   0   0   0\n",
            "   0   0   2 163 254 254 254  29   0   0   0   0   0   0   0   0   0  48\n",
            " 254 254 254  17   0   0   0   0   0   0   0   0   0  94 254 254 254 200\n",
            "  12   0   0   0   0   0   0   0  16 209 254 254 150   1   0   0   0   0\n",
            "   0   0   0   0   0  15 206 254 254 254 202  66   0   0   0   0   0  21\n",
            " 161 254 254 245  31   0   0   0   0   0   0   0   0   0   0   0  60 212\n",
            " 254 254 254 194  48  48  34  41  48 209 254 254 254 171   0   0   0   0\n",
            "   0   0   0   0   0   0   0   0   0  86 243 254 254 254 254 254 233 243\n",
            " 254 254 254 254 254  86   0   0   0   0   0   0   0   0   0   0   0   0\n",
            "   0   0 114 254 254 254 254 254 254 254 254 254 254 239  86  11   0   0\n",
            "   0   0   0   0   0   0   0   0   0   0   0   0  13 182 254 254 254 254\n",
            " 254 254 254 254 243  70   0   0   0   0   0   0   0   0   0   0   0   0\n",
            "   0   0   0   0   0   8  76 146 254 255 254 255 146  19  15   0   0   0\n",
            "   0   0   0   0   0   0   0   0   0   0   0   0   0   0   0   0   0   0\n",
            "   0   0   0   0   0   0   0   0   0   0   0   0   0   0   0   0   0   0\n",
            "   0   0   0   0   0   0   0   0   0   0   0   0   0   0   0   0   0   0\n",
            "   0   0   0   0   0   0   0   0   0   0   0   0   0   0   0   0   0   0\n",
            "   0   0   0   0   0   0   0   0   0   0   0   0   0   0   0   0   0   0\n",
            "   0   0   0   0   0   0   0   0   0   0   0   0   0   0   0   0   0   0\n",
            "   0   0   0   0   0   0   0   0   0   0]\n"
          ]
        }
      ]
    },
    {
      "cell_type": "markdown",
      "metadata": {
        "id": "8n9ENShu--B7"
      },
      "source": [
        "Training Data  --▶  <font color = \"gray\"> 42,000 Rows, 785 Columns </font>"
      ]
    },
    {
      "cell_type": "code",
      "metadata": {
        "colab": {
          "base_uri": "https://localhost:8080/"
        },
        "id": "q6ODVtgJDV4g",
        "outputId": "6e6b90a3-5f8d-4f7e-aca1-ebedddf1a508"
      },
      "source": [
        "#Visualizing the data we pulled (TESTING)\n",
        "print(\"Testing Data Set Shape : \",test_df.values.shape, \"\\n\")\n",
        "print(test_df.values[1,1:])"
      ],
      "execution_count": null,
      "outputs": [
        {
          "output_type": "stream",
          "name": "stdout",
          "text": [
            "Testing Data Set Shape :  (28000, 784) \n",
            "\n",
            "[  0   0   0   0   0   0   0   0   0   0   0   0   0   0   0   0   0   0\n",
            "   0   0   0   0   0   0   0   0   0   0   0   0   0   0   0   0   0   0\n",
            "   0   0   0   0   0   0   0   0   0   0   0   0   0   0   0   0   0   0\n",
            "   0   0   0   0   0   0   0   0   0   0   0   0   0   0   0   0   0   0\n",
            "   0   0   0   0   0   0   0   0   0   0   0   0   0   0   0   0   0   0\n",
            "   0   0   0   0   0   0   0   0   0   0   0   0   0   0   0   0   0   0\n",
            "   0   0   0   0   0   0   0   0   0   0   0   0   0   0   0   0   0   0\n",
            "   0   0   0   0   0   0   0   0   0   0   0   0   0   0   0   0   0   0\n",
            "   0   0   0   0   0   0   0   0   0   0   0   0   0   0   0   0   0   0\n",
            "   0   0   0   0   0   0   0   0   0   0   0   0   0   0   0   0  29  85\n",
            "  85  85  85  85  85  85  85  71   0   0   0   0   0   0   0   0   0   0\n",
            "   0   0   0   0   0   0 107 128 168 250 250 250 252 250 250 250 250 231\n",
            " 127  63   0   0   0   0   0   0   0   0   0   0   0   0  85 168 237 252\n",
            " 250 250 250 250 252 250 250 250 250 252 250 209  56   0   0   0   0   0\n",
            "   0   0   0   0   0   0 127 250 250 252 250 250 250 250 252 250 250 250\n",
            " 250 252 250 250  83   0   0   0   0   0   0   0   0   0   8 113 252 252\n",
            " 252 247 210 210 210 210 177   0   0   0   0  43 252 252  83   0   0   0\n",
            "   0   0   0   0   0   0  43 250 250 250 250 210   0   0   0   0   0   0\n",
            "   0   0   0  28 194 250 138  14   0   0   0   0   0   0   0   0  43 250\n",
            " 250 250 250 210   0   0   0   0   0   0   0   0   0   0  85 250 250  41\n",
            "   0   0   0   0   0   0   0   0  43 250 250 137  83  70   0   0   0   0\n",
            "   0   0   0   0   0   0  28 167 250  41   0   0   0   0   0   0   0   0\n",
            " 219 250 144  14   0   0   0   0   0   0   0   0   0   0   0   0   0 127\n",
            " 250 217   0   0   0   0   0   0   0   0 254 238 105   0   0   0   0   0\n",
            "   0   0   0   0   0   0   0   0  15 148 252 252   0   0   0   0   0   0\n",
            "   0   0 252 166   0   0   0   0   0   0   0   0   0   0   0   0   0  85\n",
            " 140 250 250 179   0   0   0   0   0   0   0   0 252 208  63   0   0   0\n",
            "   0   0   0   0   0   0   0  85 127 252 250 250 250  41   0   0   0   0\n",
            "   0   0   0   0 252 250 209  56   0   0   0   0   0 141 170 168 168 223\n",
            " 250 252 250 250 137  14   0   0   0   0   0   0   0   0 252 250 250 223\n",
            " 210 212 210 210 210 244 252 250 250 250 250 252 250 144  14   0   0   0\n",
            "   0   0   0   0   0   0  43 252 252 252 252 254 252 252 252 252 255 252\n",
            " 252 252 217 177   0   0   0   0   0   0   0   0   0   0   0   0  28 166\n",
            " 208 250 250 252 250 250 250 250 238 166 166 166  27   0   0   0   0   0\n",
            "   0   0   0   0   0   0   0   0   0   0  63 125 125 146 250 250 165 125\n",
            " 105   0   0   0   0   0   0   0   0   0   0   0   0   0   0   0   0   0\n",
            "   0   0   0   0   0  14  83  83  27   0   0   0   0   0   0   0   0   0\n",
            "   0   0   0   0   0   0   0   0   0   0   0   0   0   0   0   0   0   0\n",
            "   0   0   0   0   0   0   0   0   0   0   0   0   0   0   0   0   0   0\n",
            "   0   0   0   0   0   0   0   0   0   0   0   0   0   0   0   0   0   0\n",
            "   0   0   0   0   0   0   0   0   0   0   0   0   0   0   0   0   0   0\n",
            "   0   0   0   0   0   0   0   0   0   0   0   0   0   0   0   0   0   0\n",
            "   0   0   0   0   0   0   0   0   0   0   0   0   0   0   0   0   0   0\n",
            "   0   0   0   0   0   0   0   0   0]\n"
          ]
        }
      ]
    },
    {
      "cell_type": "markdown",
      "metadata": {
        "id": "fPEIcPNMDgkS"
      },
      "source": [
        "Testing Data  --▶  <font color = \"gray\"> 28,000 Rows, 784 Columns (Missing the label column) </font>"
      ]
    },
    {
      "cell_type": "code",
      "metadata": {
        "colab": {
          "base_uri": "https://localhost:8080/"
        },
        "id": "-Wt0EO4UDwJh",
        "outputId": "8f748388-a33a-445a-d715-bcf6488448e6"
      },
      "source": [
        "#Visualizing the data we pulled (SAMPLE SUBMISSION)\n",
        "print(\"Testing Data Set Shape : \",ss_df.values.shape, \"\\n\")\n",
        "\n",
        "#should be 28,000 rows as that is how many rows we see in the test set\n",
        "#should be two columns, ImageId and Label"
      ],
      "execution_count": null,
      "outputs": [
        {
          "output_type": "stream",
          "name": "stdout",
          "text": [
            "Testing Data Set Shape :  (28000, 2) \n",
            "\n"
          ]
        }
      ]
    },
    {
      "cell_type": "code",
      "metadata": {
        "colab": {
          "base_uri": "https://localhost:8080/",
          "height": 1000
        },
        "id": "yx-af5MRtz9D",
        "outputId": "0516e97e-0065-4319-efd5-929dc9935709"
      },
      "source": [
        "#Representing the first 10 rows in the training data set to \n",
        "#visualize the numbers and types of numbers we are working with\n",
        "for row in range(1,11):\n",
        "\n",
        "  #row number 'row' and 'everything after the label' columns\n",
        "  myNumber = train_df.values[row,1:]\n",
        "\n",
        "  #28x28 pixel grid\n",
        "  myNumber=myNumber.reshape((28,28))\n",
        "  plt.imshow(myNumber, cmap = plt.cm.binary,interpolation=\"nearest\")\n",
        "  plt.axis(\"off\")\n",
        "  plt.show()"
      ],
      "execution_count": null,
      "outputs": [
        {
          "output_type": "display_data",
          "data": {
            "image/png": "[encoded data removed]",
            "text/plain": [
              "<Figure size 432x288 with 1 Axes>"
            ]
          },
          "metadata": {}
        },
        {
          "output_type": "display_data",
          "data": {
            "image/png": "[encoded data removed]",
            "text/plain": [
              "<Figure size 432x288 with 1 Axes>"
            ]
          },
          "metadata": {}
        },
        {
          "output_type": "display_data",
          "data": {
            "image/png": "[encoded data removed]",
            "text/plain": [
              "<Figure size 432x288 with 1 Axes>"
            ]
          },
          "metadata": {}
        },
        {
          "output_type": "display_data",
          "data": {
            "image/png": "[encoded data removed]",
            "text/plain": [
              "<Figure size 432x288 with 1 Axes>"
            ]
          },
          "metadata": {}
        },
        {
          "output_type": "display_data",
          "data": {
            "image/png": "[encoded data removed]",
            "text/plain": [
              "<Figure size 432x288 with 1 Axes>"
            ]
          },
          "metadata": {}
        },
        {
          "output_type": "display_data",
          "data": {
            "image/png": "[encoded data removed]",
            "text/plain": [
              "<Figure size 432x288 with 1 Axes>"
            ]
          },
          "metadata": {}
        },
        {
          "output_type": "display_data",
          "data": {
            "image/png": "[encoded data removed]",
            "text/plain": [
              "<Figure size 432x288 with 1 Axes>"
            ]
          },
          "metadata": {}
        },
        {
          "output_type": "display_data",
          "data": {
            "image/png": "[encoded data removed]",
            "text/plain": [
              "<Figure size 432x288 with 1 Axes>"
            ]
          },
          "metadata": {}
        },
        {
          "output_type": "display_data",
          "data": {
            "image/png": "[encoded data removed]",
            "text/plain": [
              "<Figure size 432x288 with 1 Axes>"
            ]
          },
          "metadata": {}
        },
        {
          "output_type": "display_data",
          "data": {
            "image/png": "[encoded data removed]",
            "text/plain": [
              "<Figure size 432x288 with 1 Axes>"
            ]
          },
          "metadata": {}
        }
      ]
    },
    {
      "cell_type": "code",
      "metadata": {
        "colab": {
          "base_uri": "https://localhost:8080/",
          "height": 392
        },
        "id": "DIcpwtXyJarG",
        "outputId": "5fa188ed-82fe-45ff-c16d-3942e61ec9e6"
      },
      "source": [
        "#histogram showing distribution of the labels we have in the training set\n",
        "print(\"Distribution Counts by Label Number in Training Set:\\n\\n\")\n",
        "\n",
        "sns.set_theme(style=\"whitegrid\")\n",
        "sns.barplot(train_df['label'].value_counts().index , train_df['label'].value_counts())\n",
        "plt.ylabel('Label Counts')\n",
        "plt.xlabel('Label Number')\n",
        "plt.show()"
      ],
      "execution_count": null,
      "outputs": [
        {
          "output_type": "stream",
          "name": "stdout",
          "text": [
            "Distribution Counts by Label Number in Training Set:\n",
            "\n",
            "\n"
          ]
        },
        {
          "output_type": "stream",
          "name": "stderr",
          "text": [
            "/usr/local/lib/python3.7/dist-packages/seaborn/_decorators.py:43: FutureWarning: Pass the following variables as keyword args: x, y. From version 0.12, the only valid positional argument will be `data`, and passing other arguments without an explicit keyword will result in an error or misinterpretation.\n",
            "  FutureWarning\n"
          ]
        },
        {
          "output_type": "display_data",
          "data": {
            "image/png": "[encoded data removed]",
            "text/plain": [
              "<Figure size 432x288 with 1 Axes>"
            ]
          },
          "metadata": {}
        }
      ]
    },
    {
      "cell_type": "code",
      "metadata": {
        "colab": {
          "base_uri": "https://localhost:8080/"
        },
        "id": "cJqoh8wt3_Pp",
        "outputId": "2cbeff36-fbd8-43ae-8090-c2e3caea9fc5"
      },
      "source": [
        "#rnd_pca = PCA(n_components=154)\n",
        "#rnd_pca = PCA(n_components=169)\n",
        "\n",
        "#Set multiple n_components for testing\n",
        "rnd_pca1 = PCA(n_components=1)\n",
        "rnd_pca2 = PCA(n_components=2)\n",
        "rnd_pca3 = PCA(n_components=3)\n",
        "rnd_pca4 = PCA(n_components=4)\n",
        "rnd_pca5 = PCA(n_components=5)\n",
        "rnd_pca10 = PCA(n_components=10)\n",
        "rnd_pca25 = PCA(n_components=25)\n",
        "rnd_pca50 = PCA(n_components=50)\n",
        "rnd_pca75 = PCA(n_components=75)\n",
        "rnd_pca100 = PCA(n_components=100)\n",
        "rnd_pca150 = PCA(n_components=150)\n",
        "rnd_pca200 = PCA(n_components=200)\n",
        "\n",
        "rnd_pca1.fit(train_df.values[:,1:])\n",
        "rnd_pca2.fit(train_df.values[:,1:])\n",
        "rnd_pca3.fit(train_df.values[:,1:])\n",
        "rnd_pca4.fit(train_df.values[:,1:])\n",
        "rnd_pca5.fit(train_df.values[:,1:])\n",
        "rnd_pca10.fit(train_df.values[:,1:])\n",
        "rnd_pca25.fit(train_df.values[:,1:])\n",
        "rnd_pca50.fit(train_df.values[:,1:])\n",
        "rnd_pca75.fit(train_df.values[:,1:])\n",
        "rnd_pca100.fit(train_df.values[:,1:])\n",
        "rnd_pca150.fit(train_df.values[:,1:])\n",
        "rnd_pca200.fit(train_df.values[:,1:])\n",
        "\n",
        "X_reduced1 = rnd_pca1.transform(train_df.values[:,1:])\n",
        "X_reduced2 = rnd_pca2.transform(train_df.values[:,1:])\n",
        "X_reduced3 = rnd_pca3.transform(train_df.values[:,1:])\n",
        "X_reduced4 = rnd_pca4.transform(train_df.values[:,1:])\n",
        "X_reduced5 = rnd_pca5.transform(train_df.values[:,1:])\n",
        "X_reduced10 = rnd_pca10.transform(train_df.values[:,1:])\n",
        "X_reduced25 = rnd_pca25.transform(train_df.values[:,1:])\n",
        "X_reduced50 = rnd_pca50.transform(train_df.values[:,1:])\n",
        "X_reduced75 = rnd_pca75.transform(train_df.values[:,1:])\n",
        "X_reduced100 = rnd_pca100.transform(train_df.values[:,1:])\n",
        "X_reduced150 = rnd_pca150.transform(train_df.values[:,1:])\n",
        "X_reduced200 = rnd_pca200.transform(train_df.values[:,1:])\n",
        "\n",
        "print (X_reduced1.shape)\n",
        "print (X_reduced2.shape)\n",
        "print (X_reduced3.shape)\n",
        "print (X_reduced4.shape)\n",
        "print (X_reduced5.shape)\n",
        "print (X_reduced10.shape)\n",
        "print (X_reduced25.shape)\n",
        "print (X_reduced50.shape)\n",
        "print (X_reduced75.shape)\n",
        "print (X_reduced100.shape)\n",
        "print (X_reduced150.shape)\n",
        "print (X_reduced200.shape)"
      ],
      "execution_count": null,
      "outputs": [
        {
          "output_type": "stream",
          "name": "stdout",
          "text": [
            "(42000, 1)\n",
            "(42000, 2)\n",
            "(42000, 3)\n",
            "(42000, 4)\n",
            "(42000, 5)\n",
            "(42000, 10)\n",
            "(42000, 25)\n",
            "(42000, 50)\n",
            "(42000, 75)\n",
            "(42000, 100)\n",
            "(42000, 150)\n",
            "(42000, 200)\n"
          ]
        }
      ]
    },
    {
      "cell_type": "code",
      "metadata": {
        "colab": {
          "base_uri": "https://localhost:8080/",
          "height": 727
        },
        "id": "mJ87PVNN4RuG",
        "outputId": "71f5fa09-b96b-4ef0-b3f4-48e12c4b4455"
      },
      "source": [
        "#eigennumbers = rnd_pca.components_.reshape((154,28,28))\n",
        "#eigennumbers = rnd_pca.components_.reshape((169,28,28))\n",
        "\n",
        "#All would look the same so we just output with components = 4 to show what the numbers look like\n",
        "eigennumbers = rnd_pca4.components_.reshape((4,28,28))\n",
        "myNumber = eigennumbers[0]\n",
        "print (len(myNumber))\n",
        "myNumber=myNumber.reshape((28,28))\n",
        "plt.imshow(myNumber, cmap = plt.cm.binary,\n",
        "           interpolation=\"nearest\")\n",
        "plt.axis(\"off\")\n",
        "plt.show()\n",
        "\n",
        "myNumber = eigennumbers[1]\n",
        "myNumber=myNumber.reshape((28,28))\n",
        "plt.imshow(myNumber, cmap = plt.cm.binary,\n",
        "           interpolation=\"nearest\")\n",
        "plt.axis(\"off\")\n",
        "plt.show()\n",
        "\n",
        "myNumber = eigennumbers[2]\n",
        "myNumber=myNumber.reshape((28,28))\n",
        "plt.imshow(myNumber, cmap = plt.cm.binary,\n",
        "           interpolation=\"nearest\")\n",
        "plt.axis(\"off\")\n",
        "plt.show()"
      ],
      "execution_count": null,
      "outputs": [
        {
          "output_type": "stream",
          "name": "stdout",
          "text": [
            "28\n"
          ]
        },
        {
          "output_type": "display_data",
          "data": {
            "image/png": "[encoded data removed]",
            "text/plain": [
              "<Figure size 432x288 with 1 Axes>"
            ]
          },
          "metadata": {}
        },
        {
          "output_type": "display_data",
          "data": {
            "image/png": "[encoded data removed]",
            "text/plain": [
              "<Figure size 432x288 with 1 Axes>"
            ]
          },
          "metadata": {}
        },
        {
          "output_type": "display_data",
          "data": {
            "image/png": "[encoded data removed]",
            "text/plain": [
              "<Figure size 432x288 with 1 Axes>"
            ]
          },
          "metadata": {}
        }
      ]
    },
    {
      "cell_type": "code",
      "metadata": {
        "colab": {
          "base_uri": "https://localhost:8080/"
        },
        "id": "LMxirjAvG8Zi",
        "outputId": "962d85e8-00af-4b7c-820a-f551cbc3ad08"
      },
      "source": [
        "clf1 = LogisticRegression(solver='saga', max_iter=10000)\n",
        "clf2 = LogisticRegression(solver='saga', max_iter=10000)\n",
        "clf3 = LogisticRegression(solver='saga', max_iter=10000)\n",
        "clf4 = LogisticRegression(solver='saga', max_iter=10000)\n",
        "clf5 = LogisticRegression(solver='saga', max_iter=10000)\n",
        "clf10 = LogisticRegression(solver='saga', max_iter=10000)\n",
        "clf25 = LogisticRegression(solver='saga', max_iter=10000)\n",
        "clf50 = LogisticRegression(solver='saga', max_iter=10000)\n",
        "clf75 = LogisticRegression(solver='saga', max_iter=10000)\n",
        "clf100 = LogisticRegression(solver='saga', max_iter=10000)\n",
        "clf150 = LogisticRegression(solver='saga', max_iter=10000)\n",
        "clf200 = LogisticRegression(solver='saga', max_iter=10000)\n",
        "\n",
        "clf1.fit(X_reduced1, train_df.values[:, 0] )\n",
        "clf2.fit(X_reduced2, train_df.values[:, 0] )\n",
        "clf3.fit(X_reduced3, train_df.values[:, 0] )\n",
        "clf4.fit(X_reduced4, train_df.values[:, 0] )\n",
        "clf5.fit(X_reduced5, train_df.values[:, 0] )\n",
        "clf10.fit(X_reduced10, train_df.values[:, 0] )\n",
        "clf25.fit(X_reduced25, train_df.values[:, 0] )\n",
        "clf50.fit(X_reduced50, train_df.values[:, 0] )\n",
        "clf75.fit(X_reduced75, train_df.values[:, 0] )\n",
        "clf100.fit(X_reduced100, train_df.values[:, 0] )\n",
        "clf150.fit(X_reduced150, train_df.values[:, 0] )\n",
        "clf200.fit(X_reduced200, train_df.values[:, 0] )"
      ],
      "execution_count": null,
      "outputs": [
        {
          "output_type": "execute_result",
          "data": {
            "text/plain": [
              "LogisticRegression(max_iter=10000, solver='saga')"
            ]
          },
          "metadata": {},
          "execution_count": 26
        }
      ]
    },
    {
      "cell_type": "code",
      "metadata": {
        "colab": {
          "base_uri": "https://localhost:8080/"
        },
        "id": "Xnn3d2PrHTai",
        "outputId": "b87ceb5e-7663-4e03-c6f4-f7fdad229cc6"
      },
      "source": [
        "predict1 = clf1.predict(X_reduced1)\n",
        "print(\"Accuracy 1 = \", accuracy_score(predict1, train_df.values[:, 0]))\n",
        "\n",
        "predict2 = clf2.predict(X_reduced2)\n",
        "print(\"Accuracy 2 = \", accuracy_score(predict2, train_df.values[:, 0]))\n",
        "\n",
        "predict3 = clf3.predict(X_reduced3)\n",
        "print(\"Accuracy 3 = \", accuracy_score(predict3, train_df.values[:, 0]))\n",
        "\n",
        "predict4 = clf4.predict(X_reduced4)\n",
        "print(\"Accuracy 4 = \", accuracy_score(predict4, train_df.values[:, 0]))\n",
        "\n",
        "predict5 = clf5.predict(X_reduced5)\n",
        "print(\"Accuracy 5 = \", accuracy_score(predict5, train_df.values[:, 0]))\n",
        "\n",
        "predict10 = clf10.predict(X_reduced10)\n",
        "print(\"Accuracy 10 = \", accuracy_score(predict10, train_df.values[:, 0]))\n",
        "\n",
        "predict25 = clf25.predict(X_reduced25)\n",
        "print(\"Accuracy 25 = \", accuracy_score(predict25, train_df.values[:, 0]))\n",
        "\n",
        "predict50 = clf50.predict(X_reduced50)\n",
        "print(\"Accuracy 50 = \", accuracy_score(predict50, train_df.values[:, 0]))\n",
        "\n",
        "predict75 = clf75.predict(X_reduced75)\n",
        "print(\"Accuracy 75 = \", accuracy_score(predict75, train_df.values[:, 0]))\n",
        "\n",
        "predict100 = clf100.predict(X_reduced100)\n",
        "print(\"Accuracy 100 = \", accuracy_score(predict100, train_df.values[:, 0]))\n",
        "\n",
        "predict150 = clf150.predict(X_reduced150)\n",
        "print(\"Accuracy 150 = \", accuracy_score(predict150, train_df.values[:, 0]))\n",
        "\n",
        "predict200 = clf200.predict(X_reduced200)\n",
        "print(\"Accuracy 200 = \", accuracy_score(predict200, train_df.values[:, 0]))\n"
      ],
      "execution_count": null,
      "outputs": [
        {
          "output_type": "stream",
          "name": "stdout",
          "text": [
            "Accuracy 1 =  0.2884047619047619\n",
            "Accuracy 2 =  0.41595238095238096\n",
            "Accuracy 3 =  0.44066666666666665\n",
            "Accuracy 4 =  0.5606904761904762\n",
            "Accuracy 5 =  0.6553809523809524\n",
            "Accuracy 10 =  0.7866428571428571\n",
            "Accuracy 25 =  0.8765952380952381\n",
            "Accuracy 50 =  0.9027857142857143\n",
            "Accuracy 75 =  0.912952380952381\n",
            "Accuracy 100 =  0.9176904761904762\n",
            "Accuracy 150 =  0.9245952380952381\n",
            "Accuracy 200 =  0.9279285714285714\n"
          ]
        }
      ]
    },
    {
      "cell_type": "code",
      "metadata": {
        "colab": {
          "base_uri": "https://localhost:8080/"
        },
        "id": "C9BAU0xeHooL",
        "outputId": "7bc7c42e-151d-4d3f-9a4b-c40fd5ec92b6"
      },
      "source": [
        "XTest_reduced1 = rnd_pca1.transform(test_df.values)\n",
        "XTest_reduced2 = rnd_pca2.transform(test_df.values)\n",
        "XTest_reduced3 = rnd_pca3.transform(test_df.values)\n",
        "XTest_reduced4 = rnd_pca4.transform(test_df.values)\n",
        "XTest_reduced5 = rnd_pca5.transform(test_df.values)\n",
        "XTest_reduced10 = rnd_pca10.transform(test_df.values)\n",
        "XTest_reduced25 = rnd_pca25.transform(test_df.values)\n",
        "XTest_reduced50 = rnd_pca50.transform(test_df.values)\n",
        "XTest_reduced75 = rnd_pca75.transform(test_df.values)\n",
        "XTest_reduced100 = rnd_pca100.transform(test_df.values)\n",
        "XTest_reduced150 = rnd_pca150.transform(test_df.values)\n",
        "XTest_reduced200 = rnd_pca200.transform(test_df.values)\n",
        "#print(\"Test Reduced Shape : \", (XTest_reduced.shape)\n",
        "\n",
        "Test_predict1 = clf1.predict(XTest_reduced1)\n",
        "Test_predict2 = clf2.predict(XTest_reduced2)\n",
        "Test_predict3 = clf3.predict(XTest_reduced3)\n",
        "Test_predict4 = clf4.predict(XTest_reduced4)\n",
        "Test_predict5 = clf5.predict(XTest_reduced5)\n",
        "Test_predict10 = clf10.predict(XTest_reduced10)\n",
        "Test_predict25 = clf25.predict(XTest_reduced25)\n",
        "Test_predict50 = clf50.predict(XTest_reduced50)\n",
        "Test_predict75 = clf75.predict(XTest_reduced75)\n",
        "Test_predict100 = clf100.predict(XTest_reduced100)\n",
        "Test_predict150 = clf150.predict(XTest_reduced150)\n",
        "Test_predict200 = clf200.predict(XTest_reduced200)\n",
        "\n",
        "print(\"Predict Test 1 : \", Test_predict1)\n",
        "print(\"Predict Test 2 : \", Test_predict2)\n",
        "print(\"Predict Test 3 : \", Test_predict3)\n",
        "print(\"Predict Test 4 : \", Test_predict4)\n",
        "print(\"Predict Test 5 : \", Test_predict5)\n",
        "print(\"Predict Test 10 : \", Test_predict10)\n",
        "print(\"Predict Test 25 : \", Test_predict25)\n",
        "print(\"Predict Test 50 : \", Test_predict50)\n",
        "print(\"Predict Test 75 : \", Test_predict75)\n",
        "print(\"Predict Test 100 : \", Test_predict100)\n",
        "print(\"Predict Test 150 : \", Test_predict150)\n",
        "print(\"Predict Test 200 : \", Test_predict200)"
      ],
      "execution_count": null,
      "outputs": [
        {
          "output_type": "stream",
          "name": "stdout",
          "text": [
            "Predict Test 1 :  [0 0 1 ... 9 3 0]\n",
            "Predict Test 2 :  [0 0 7 ... 3 7 0]\n",
            "Predict Test 3 :  [0 0 7 ... 3 9 6]\n",
            "Predict Test 4 :  [6 0 7 ... 3 7 6]\n",
            "Predict Test 5 :  [6 0 7 ... 3 9 6]\n",
            "Predict Test 10 :  [2 0 4 ... 3 9 2]\n",
            "Predict Test 25 :  [2 0 9 ... 3 9 2]\n",
            "Predict Test 50 :  [2 0 9 ... 3 9 2]\n",
            "Predict Test 75 :  [2 0 9 ... 3 9 2]\n",
            "Predict Test 100 :  [2 0 9 ... 3 9 2]\n",
            "Predict Test 150 :  [2 0 9 ... 3 9 2]\n",
            "Predict Test 200 :  [2 0 9 ... 3 9 2]\n"
          ]
        }
      ]
    },
    {
      "cell_type": "code",
      "metadata": {
        "id": "sctQt7Y8Bt2u"
      },
      "source": [
        "#Changing the index column name\n",
        "test_df.index.name='ImageId'\n",
        "test_df.index+=1"
      ],
      "execution_count": null,
      "outputs": []
    },
    {
      "cell_type": "code",
      "metadata": {
        "id": "318tPC6bHtFc"
      },
      "source": [
        "test_df['label']= Test_predict1\n",
        "test_df['label'].to_csv('MNISTLogReg_components_1.csv', index=True, header=True)\n",
        "\n",
        "test_df['label']= Test_predict2\n",
        "test_df['label'].to_csv('MNISTLogReg_components_2.csv', index=True, header=True)\n",
        "\n",
        "test_df['label']= Test_predict3\n",
        "test_df['label'].to_csv('MNISTLogReg_components_3.csv', index=True, header=True)\n",
        "\n",
        "test_df['label']= Test_predict4\n",
        "test_df['label'].to_csv('MNISTLogReg_components_4.csv', index=True, header=True)\n",
        "\n",
        "test_df['label']= Test_predict5\n",
        "test_df['label'].to_csv('MNISTLogReg_components_5.csv', index=True, header=True)\n",
        "\n",
        "test_df['label']= Test_predict10\n",
        "test_df['label'].to_csv('MNISTLogReg_components_10.csv', index=True, header=True)\n",
        "\n",
        "test_df['label']= Test_predict25\n",
        "test_df['label'].to_csv('MNISTLogReg_components_25.csv', index=True, header=True)\n",
        "\n",
        "test_df['label']= Test_predict50\n",
        "test_df['label'].to_csv('MNISTLogReg_components_50.csv', index=True, header=True)\n",
        "\n",
        "test_df['label']= Test_predict75\n",
        "test_df['label'].to_csv('MNISTLogReg_components_75.csv', index=True, header=True)\n",
        "\n",
        "test_df['label']= Test_predict100\n",
        "test_df['label'].to_csv('MNISTLogReg_components_100.csv', index=True, header=True)\n",
        "\n",
        "test_df['label']= Test_predict150\n",
        "test_df['label'].to_csv('MNISTLogReg_components_150.csv', index=True, header=True)\n",
        "\n",
        "test_df['label']= Test_predict200\n",
        "test_df['label'].to_csv('MNISTLogReg_components_200.csv', index=True, header=True)"
      ],
      "execution_count": null,
      "outputs": []
    },
    {
      "cell_type": "markdown",
      "metadata": {
        "id": "Bw9Hg1J0tI6B"
      },
      "source": [
        "You can submit any of the Logistic Regression CSV files, but seeing that accuracy was most prevalent in 75+ components, we will try the last 4 and see the output results:"
      ]
    },
    {
      "cell_type": "markdown",
      "metadata": {
        "id": "U-BE6oT_Fi5s"
      },
      "source": [
        "![image.png](data:image/png;base64,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)"
      ]
    },
    {
      "cell_type": "markdown",
      "metadata": {
        "id": "jN3akUIQFpLu"
      },
      "source": [
        "These results show that these four, although separated by 125 components (most - least) are around the ~ 90-92% accurate."
      ]
    },
    {
      "cell_type": "markdown",
      "metadata": {
        "id": "a_OBW-QogC6E"
      },
      "source": [
        "#Other Methods?"
      ]
    },
    {
      "cell_type": "markdown",
      "metadata": {
        "id": "xKGeG-RzgSyf"
      },
      "source": [
        "##Because we see that 100 and 200 seem to be a good spot for the number of components we will test those two with other different methods: K-Nearest-Neighbors, SVC, Perceptron modelling, MLP Classifcation (FIXXXXXXX)"
      ]
    },
    {
      "cell_type": "code",
      "metadata": {
        "id": "2RxqevGnF4Er"
      },
      "source": [
        "#K Nearest Neighbors\n",
        "from sklearn.neighbors import KNeighborsClassifier\n",
        "\n",
        "#components = 100 testing on\n",
        "#using 4 as neighbors amount\n",
        "KNN_100 = KNeighborsClassifier(n_neighbors = 4)\n",
        "KNN_100.fit(X_reduced100, train_df.values[:, 0])\n",
        "Pred_KNN_100 = KNN_100.predict(X_reduced100)\n",
        "\n",
        "#replacing the label column with Pred_KNN_100\n",
        "test_df['label']= Pred_KNN_100\n",
        "test_df['label'].to_csv('MNISTKNN_components_100.csv', index=True, header=True)\n",
        "#--------------------------------------------------------------------------------------\n",
        "#components = 200 testing on\n",
        "KNN_200 = KNeighborsClassifier(n_neighbors = 4)\n",
        "KNN_200.fit(X_reduced200, train_df.values[:, 0])\n",
        "Pred_KNN_200 = KNN_200.predict(X_reduced200)\n",
        "\n",
        "#replacing the label column with Pred_KNN_200\n",
        "test_df['label']= Pred_KNN_200\n",
        "test_df['label'].to_csv('MNISTKNN_components_200.csv', index=True, header=True)"
      ],
      "execution_count": 1,
      "outputs": []
    },
    {
      "cell_type": "code",
      "metadata": {
        "id": "QPvM8t3VgGUz"
      },
      "source": [
        "#SVC support vector machine\n",
        "from sklearn.svm import SVC, LinearSVC\n",
        "\n",
        "#components = 100 testing on\n",
        "SVC_100 = SVC()\n",
        "SVC_100.fit(X_reduced100, train_df.values[:, 0])\n",
        "Pred_SVC_100 = SVC_100.predict(X_reduced100)\n",
        "\n",
        "#replacing the label column with Pred_SVC_100\n",
        "test_df['label']= Pred_SVC_100\n",
        "test_df['label'].to_csv('MNISTSVC_components_100.csv', index=True, header=True)\n",
        "#--------------------------------------------------------------------------------------\n",
        "#components = 200 testing on\n",
        "SVC_200 = SVC()\n",
        "SVC_200.fit(X_reduced200, train_df.values[:, 0])\n",
        "Pred_SVC_200 = SVC_200.predict(X_reduced200)\n",
        "\n",
        "#replacing the label column with Pred_SVC_200\n",
        "test_df['label']= Pred_SVC_200\n",
        "test_df['label'].to_csv('MNISTSVC_components_200.csv', index=True, header=True)"
      ],
      "execution_count": 2,
      "outputs": []
    },
    {
      "cell_type": "code",
      "metadata": {
        "id": "X4BHwt0fgKZe"
      },
      "source": [
        "#Perceptron\n",
        "from sklearn.linear_model import Perceptron\n",
        "\n",
        "#components = 100 testing on\n",
        "Perceptron_100 = Perceptron()\n",
        "Perceptron_100.fit(X_reduced100, train_df.values[:, 0])\n",
        "Pred_Perceptron_100 = Perceptron_100.predict(X_reduced100)\n",
        "\n",
        "#replacing the label column with Pred_Perceptron_100\n",
        "test_df['label']= Pred_Perceptron_100\n",
        "test_df['label'].to_csv('MNISTPerceptron_components_100.csv', index=True, header=True)\n",
        "#--------------------------------------------------------------------------------------\n",
        "#components = 200 testing on\n",
        "Perceptron_200 = Perceptron()\n",
        "Perceptron_200.fit(X_reduced200, train_df.values[:, 0])\n",
        "Pred_Perceptron_200 = Perceptron_200.predict(X_reduced200)\n",
        "\n",
        "#replacing the label column with Pred_Perceptron_200\n",
        "test_df['label']= Pred_Perceptron_200\n",
        "test_df['label'].to_csv('MNISTPerceptron_components_200.csv', index=True, header=True)"
      ],
      "execution_count": 3,
      "outputs": []
    },
    {
      "cell_type": "code",
      "metadata": {
        "id": "0RHOv4BxgLiK"
      },
      "source": [
        "#MLP Classification\n",
        "from sklearn.neural_network import MLPClassifier\n",
        "\n",
        "#components = 100 testing on\n",
        "MLP_100 = MLPClassifier()\n",
        "MLP_100.fit(X_reduced100, train_df.values[:, 0])\n",
        "Pred_MLP_100 = MLP_100.predict(X_reduced100)\n",
        "\n",
        "#replacing the label column with Pred_MLP_100\n",
        "test_df['label']= Pred_MLP_100\n",
        "test_df['label'].to_csv('MNISTMLP_components_100.csv', index=True, header=True)\n",
        "#--------------------------------------------------------------------------------------\n",
        "#components = 200 testing on\n",
        "MLP_200 = MLPClassifier()\n",
        "MLP_200.fit(X_reduced200, train_df.values[:, 0])\n",
        "Pred_MLP_200 = MLP_200.predict(X_reduced200)\n",
        "\n",
        "#replacing the label column with Pred_MLP_200\n",
        "test_df['label']= Pred_MLP_200\n",
        "test_df['label'].to_csv('MNISTMLP_components_200.csv', index=True, header=True)"
      ],
      "execution_count": 4,
      "outputs": []
    },
    {
      "cell_type": "code",
      "metadata": {
        "id": "-hbnSp_6gNJu"
      },
      "source": [
        ""
      ],
      "execution_count": null,
      "outputs": []
    }
  ]
}