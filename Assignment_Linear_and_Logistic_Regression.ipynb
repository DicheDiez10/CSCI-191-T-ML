{
  "nbformat": 4,
  "nbformat_minor": 0,
  "metadata": {
    "colab": {
      "name": "Assignment Linear and Logistic Regression",
      "provenance": [],
      "include_colab_link": true
    },
    "kernelspec": {
      "name": "python3",
      "display_name": "Python 3"
    }
  },
  "cells": [
    {
      "cell_type": "markdown",
      "metadata": {
        "id": "view-in-github",
        "colab_type": "text"
      },
      "source": [
        "<a href=\"https://colab.research.google.com/github/DicheDiez10/CSCI-191-T-ML/blob/main/Assignment_Linear_and_Logistic_Regression.ipynb\" target=\"_parent\"><img src=\"https://colab.research.google.com/assets/colab-badge.svg\" alt=\"Open In Colab\"/></a>"
      ]
    },
    {
      "cell_type": "markdown",
      "metadata": {
        "id": "VuSRSUHVC5Zq"
      },
      "source": [
        "#Background:"
      ]
    },
    {
      "cell_type": "markdown",
      "metadata": {
        "id": "G6icgxduCPBn"
      },
      "source": [
        "In this assignment we will combine our work with Linear Regression and Logistic regression into a single notebook illustrating both algorithms and their connections.  Illustrate __<font color='red'>Logistic Regression</font>__ with both the __<font color='red'>Squared Error derived gradient and the Cross-Entropy derived gradient</font>__.  Use all the existing datasets, and also use your own algorithm to learn to classify the attached full IRIS dataset with features:\n",
        "<br>\n",
        "1. sepal length in cm <br>\n",
        "2. sepal width in cm <br>\n",
        "3. petal length in cm <br>\n",
        "4. petal width in cm <br>\n",
        "5. class: <br>\n",
        "  -- Iris Setosa <br>\n",
        "  -- Iris Versicolour <br>\n",
        "  -- Iris Virginica <br>"
      ]
    },
    {
      "cell_type": "markdown",
      "metadata": {
        "id": "DNT4_pFyDlbb"
      },
      "source": [
        "####**First we need to import the data from the csv file we were given**\n"
      ]
    },
    {
      "cell_type": "code",
      "metadata": {
        "colab": {
          "base_uri": "https://localhost:8080/",
          "height": 217
        },
        "id": "RBzCsRB6Dmvy",
        "outputId": "e087e335-a917-4b1c-f21d-0ad82889c034"
      },
      "source": [
        "import random\n",
        "import numpy as np\n",
        "import pandas as pd\n",
        "from sklearn import datasets\n",
        "\n",
        "iris_data_file = pd.read_csv('iris.data.csv', column_names = ['sepal_length_cm', 'sepal_width_cm', 'petal_length_cm', 'petal_width_cm', 'classification_number'])"
      ],
      "execution_count": 6,
      "outputs": [
        {
          "output_type": "error",
          "ename": "TypeError",
          "evalue": "ignored",
          "traceback": [
            "\u001b[0;31m---------------------------------------------------------------------------\u001b[0m",
            "\u001b[0;31mTypeError\u001b[0m                                 Traceback (most recent call last)",
            "\u001b[0;32m<ipython-input-6-7ac60a8b5816>\u001b[0m in \u001b[0;36m<module>\u001b[0;34m()\u001b[0m\n\u001b[1;32m      4\u001b[0m \u001b[0;32mfrom\u001b[0m \u001b[0msklearn\u001b[0m \u001b[0;32mimport\u001b[0m \u001b[0mdatasets\u001b[0m\u001b[0;34m\u001b[0m\u001b[0;34m\u001b[0m\u001b[0m\n\u001b[1;32m      5\u001b[0m \u001b[0;34m\u001b[0m\u001b[0m\n\u001b[0;32m----> 6\u001b[0;31m \u001b[0miris_data_file\u001b[0m \u001b[0;34m=\u001b[0m \u001b[0mpd\u001b[0m\u001b[0;34m.\u001b[0m\u001b[0mread_csv\u001b[0m\u001b[0;34m(\u001b[0m\u001b[0;34m'iris.data.csv'\u001b[0m\u001b[0;34m,\u001b[0m \u001b[0mcolumn_names\u001b[0m \u001b[0;34m=\u001b[0m \u001b[0;34m[\u001b[0m\u001b[0;34m'sepal_length_cm'\u001b[0m\u001b[0;34m,\u001b[0m \u001b[0;34m'sepal_width_cm'\u001b[0m\u001b[0;34m,\u001b[0m \u001b[0;34m'petal_length_cm'\u001b[0m\u001b[0;34m,\u001b[0m \u001b[0;34m'petal_width_cm'\u001b[0m\u001b[0;34m,\u001b[0m \u001b[0;34m'classification_number'\u001b[0m\u001b[0;34m]\u001b[0m\u001b[0;34m)\u001b[0m\u001b[0;34m\u001b[0m\u001b[0;34m\u001b[0m\u001b[0m\n\u001b[0m",
            "\u001b[0;31mTypeError\u001b[0m: read_csv() got an unexpected keyword argument 'column_names'"
          ]
        }
      ]
    },
    {
      "cell_type": "code",
      "metadata": {
        "id": "wGQMLqmDD3LC"
      },
      "source": [
        ""
      ],
      "execution_count": null,
      "outputs": []
    }
  ]
}